{
 "cells": [
  {
   "cell_type": "code",
   "execution_count": 8,
   "metadata": {},
   "outputs": [
    {
     "name": "stdout",
     "output_type": "stream",
     "text": [
      "['SWBF', 'HAnL', 'ht']\n"
     ]
    }
   ],
   "source": [
    "import pandas as pd\n",
    "import numpy as np\n",
    "import random\n",
    "import string\n",
    "\n",
    "def chunks(l, n):\n",
    "    \"\"\"Yield successive n-sized chunks from l.\"\"\"\n",
    "    for i in range(0, len(l), n):\n",
    "        yield l[i:i + n]\n",
    "\n",
    "def randomString(stringLength=10):\n",
    "    \"\"\"Generate a random string of fixed length \"\"\"\n",
    "    letters = string.ascii_letters+string.digits\n",
    "    rand_int = random.randint(1,4)\n",
    "#     print(rand_int)\n",
    "    string_random = [random.choice(letters) for i in range(stringLength)]\n",
    "    chunk_array = []\n",
    "    for chunk in chunks(string_random,rand_int):\n",
    "        chunk_array.append(\"\".join(chunk))\n",
    "#     for i in range(rand_int+1):\n",
    "    \n",
    "#         string_random = string_random +\" \" + ''.join(random.choice(letters) for i in range(stringLength))\n",
    "    \n",
    "    return chunk_array\n",
    "\n",
    "print(randomString())"
   ]
  },
  {
   "cell_type": "code",
   "execution_count": 9,
   "metadata": {},
   "outputs": [
    {
     "name": "stdout",
     "output_type": "stream",
     "text": [
      "['Q3', 'Vr', 'yX', 'rs', 'OS']\n"
     ]
    }
   ],
   "source": [
    "print(randomString())"
   ]
  },
  {
   "cell_type": "code",
   "execution_count": 10,
   "metadata": {},
   "outputs": [],
   "source": [
    "data = open(\"dummyData.txt\").readlines()"
   ]
  },
  {
   "cell_type": "code",
   "execution_count": 11,
   "metadata": {},
   "outputs": [],
   "source": [
    "import spacy\n",
    "\n",
    "nlp = spacy.load(\"en_core_web_sm\")\n"
   ]
  },
  {
   "cell_type": "code",
   "execution_count": 12,
   "metadata": {},
   "outputs": [],
   "source": [
    "array = []\n",
    "for textindex,text in enumerate(data):\n",
    "    doc = nlp(text.strip())\n",
    "    for token in doc:\n",
    "        #print(token.text, token.lemma_, token.pos_, token.tag_, token.dep_,\n",
    "        #        token.shape_, token.is_alpha, token.is_stop)\n",
    "        text_items = [token.text]\n",
    "        if token.text == \"XYYZ\":\n",
    "            tag = \"Destination\"\n",
    "            rand_int = random.randint(1,4)\n",
    "            if rand_int==3:\n",
    "                text_items = [\"Unknown\"]\n",
    "            else:\n",
    "                text_items = randomString()\n",
    "        else:\n",
    "            tag = \"\"\n",
    "            rand_int = random.randint(1,10)\n",
    "            if rand_int==3:\n",
    "                text_items = [\"Unknown\"]\n",
    "        for item in text_items:\n",
    "            array.append(dict(Sentence=textindex,Word=item,POS=token.pos_,Tag=tag))"
   ]
  },
  {
   "cell_type": "code",
   "execution_count": 13,
   "metadata": {},
   "outputs": [],
   "source": [
    "df = pd.DataFrame(array)  "
   ]
  },
  {
   "cell_type": "code",
   "execution_count": 14,
   "metadata": {},
   "outputs": [
    {
     "data": {
      "text/html": [
       "<div>\n",
       "<style scoped>\n",
       "    .dataframe tbody tr th:only-of-type {\n",
       "        vertical-align: middle;\n",
       "    }\n",
       "\n",
       "    .dataframe tbody tr th {\n",
       "        vertical-align: top;\n",
       "    }\n",
       "\n",
       "    .dataframe thead th {\n",
       "        text-align: right;\n",
       "    }\n",
       "</style>\n",
       "<table border=\"1\" class=\"dataframe\">\n",
       "  <thead>\n",
       "    <tr style=\"text-align: right;\">\n",
       "      <th></th>\n",
       "      <th>POS</th>\n",
       "      <th>Sentence</th>\n",
       "      <th>Tag</th>\n",
       "      <th>Word</th>\n",
       "    </tr>\n",
       "  </thead>\n",
       "  <tbody>\n",
       "    <tr>\n",
       "      <th>1107</th>\n",
       "      <td>ADV</td>\n",
       "      <td>121</td>\n",
       "      <td></td>\n",
       "      <td>home</td>\n",
       "    </tr>\n",
       "    <tr>\n",
       "      <th>1108</th>\n",
       "      <td>PRON</td>\n",
       "      <td>122</td>\n",
       "      <td></td>\n",
       "      <td>I</td>\n",
       "    </tr>\n",
       "    <tr>\n",
       "      <th>1109</th>\n",
       "      <td>VERB</td>\n",
       "      <td>122</td>\n",
       "      <td></td>\n",
       "      <td>got</td>\n",
       "    </tr>\n",
       "    <tr>\n",
       "      <th>1110</th>\n",
       "      <td>PART</td>\n",
       "      <td>122</td>\n",
       "      <td></td>\n",
       "      <td>to</td>\n",
       "    </tr>\n",
       "    <tr>\n",
       "      <th>1111</th>\n",
       "      <td>AUX</td>\n",
       "      <td>122</td>\n",
       "      <td></td>\n",
       "      <td>get</td>\n",
       "    </tr>\n",
       "    <tr>\n",
       "      <th>1112</th>\n",
       "      <td>NOUN</td>\n",
       "      <td>122</td>\n",
       "      <td></td>\n",
       "      <td>directions</td>\n",
       "    </tr>\n",
       "    <tr>\n",
       "      <th>1113</th>\n",
       "      <td>ADP</td>\n",
       "      <td>122</td>\n",
       "      <td></td>\n",
       "      <td>to</td>\n",
       "    </tr>\n",
       "    <tr>\n",
       "      <th>1114</th>\n",
       "      <td>PROPN</td>\n",
       "      <td>122</td>\n",
       "      <td>Destination</td>\n",
       "      <td>t1kI</td>\n",
       "    </tr>\n",
       "    <tr>\n",
       "      <th>1115</th>\n",
       "      <td>PROPN</td>\n",
       "      <td>122</td>\n",
       "      <td>Destination</td>\n",
       "      <td>jGza</td>\n",
       "    </tr>\n",
       "    <tr>\n",
       "      <th>1116</th>\n",
       "      <td>PROPN</td>\n",
       "      <td>122</td>\n",
       "      <td>Destination</td>\n",
       "      <td>Xn</td>\n",
       "    </tr>\n",
       "  </tbody>\n",
       "</table>\n",
       "</div>"
      ],
      "text/plain": [
       "        POS  Sentence          Tag        Word\n",
       "1107    ADV       121                     home\n",
       "1108   PRON       122                        I\n",
       "1109   VERB       122                      got\n",
       "1110   PART       122                       to\n",
       "1111    AUX       122                      get\n",
       "1112   NOUN       122               directions\n",
       "1113    ADP       122                       to\n",
       "1114  PROPN       122  Destination        t1kI\n",
       "1115  PROPN       122  Destination        jGza\n",
       "1116  PROPN       122  Destination          Xn"
      ]
     },
     "execution_count": 14,
     "metadata": {},
     "output_type": "execute_result"
    }
   ],
   "source": [
    "df.tail(10)"
   ]
  },
  {
   "cell_type": "code",
   "execution_count": 15,
   "metadata": {},
   "outputs": [
    {
     "data": {
      "text/plain": [
       "318"
      ]
     },
     "execution_count": 15,
     "metadata": {},
     "output_type": "execute_result"
    }
   ],
   "source": [
    "words = list(set(df[\"Word\"].values))\n",
    "words.append(\"ENDPAD\")\n",
    "words.append(\"Unknown\")\n",
    "n_words = len(words); n_words"
   ]
  },
  {
   "cell_type": "code",
   "execution_count": 16,
   "metadata": {},
   "outputs": [
    {
     "name": "stdout",
     "output_type": "stream",
     "text": [
      "2 13\n"
     ]
    }
   ],
   "source": [
    "tags = list(set(df[\"Tag\"].values))\n",
    "n_tags = len(tags); n_tags\n",
    "\n",
    "pos = list(set(df[\"POS\"].values))\n",
    "pos.append(\"BLANK\")\n",
    "pos_tags = len(pos)\n",
    "print(n_tags,pos_tags)"
   ]
  },
  {
   "cell_type": "code",
   "execution_count": 17,
   "metadata": {},
   "outputs": [],
   "source": [
    "agg_func = lambda s: [(w, p, t) for w, p, t in zip(s[\"Word\"].values.tolist(),\n",
    "                                                   s[\"POS\"].values.tolist(),\n",
    "                                                   s[\"Tag\"].values.tolist())]\n",
    "grouped = df.groupby(\"Sentence\").apply(agg_func)"
   ]
  },
  {
   "cell_type": "code",
   "execution_count": 18,
   "metadata": {},
   "outputs": [],
   "source": [
    "sentences = [s for s in grouped]"
   ]
  },
  {
   "cell_type": "code",
   "execution_count": 19,
   "metadata": {},
   "outputs": [
    {
     "name": "stdout",
     "output_type": "stream",
     "text": [
      "[('directions', 'NOUN', ''), ('to', 'ADP', ''), ('xeof', 'PROPN', 'Destination'), ('Vrhu', 'PROPN', 'Destination'), ('oq', 'PROPN', 'Destination')]\n"
     ]
    }
   ],
   "source": [
    "print(sentences[0])"
   ]
  },
  {
   "cell_type": "code",
   "execution_count": 20,
   "metadata": {},
   "outputs": [],
   "source": [
    "def yield_sentence():\n",
    "    for group in grouped:\n",
    "        yield group\n",
    "    yield None"
   ]
  },
  {
   "cell_type": "code",
   "execution_count": 21,
   "metadata": {},
   "outputs": [
    {
     "name": "stdout",
     "output_type": "stream",
     "text": [
      "[('directions', 'NOUN', ''), ('to', 'ADP', ''), ('xeof', 'PROPN', 'Destination'), ('Vrhu', 'PROPN', 'Destination'), ('oq', 'PROPN', 'Destination')]\n",
      "-------\n",
      "[('directions', 'NOUN', ''), ('to', 'ADP', ''), ('Unknown', 'PROPN', 'Destination'), ('home', 'ADV', '')]\n",
      "-------\n",
      "[('directions', 'NOUN', ''), ('to', 'ADP', ''), ('Unknown', 'PROPN', 'Destination'), ('work', 'NOUN', '')]\n",
      "-------\n",
      "[('directions', 'NOUN', ''), ('to', 'ADP', ''), ('the', 'DET', ''), ('closest', 'ADJ', ''), ('Unknown', 'PROPN', 'Destination')]\n",
      "-------\n",
      "[('directions', 'NOUN', ''), ('to', 'ADP', ''), ('the', 'DET', ''), ('nearest', 'ADJ', ''), ('Unknown', 'PROPN', 'Destination')]\n",
      "-------\n",
      "[('directions', 'NOUN', ''), ('to', 'PART', ''), ('go', 'VERB', ''), ('home', 'ADV', '')]\n",
      "-------\n",
      "[('directions', 'NOUN', ''), ('to', 'PART', ''), ('Unknown', 'VERB', ''), ('to', 'ADP', ''), ('Unknown', 'PROPN', 'Destination')]\n",
      "-------\n",
      "[('directions', 'NOUN', ''), ('to', 'PART', ''), ('go', 'VERB', ''), ('Unknown', 'ADP', ''), ('P', 'PROPN', 'Destination'), ('h', 'PROPN', 'Destination'), ('I', 'PROPN', 'Destination'), ('x', 'PROPN', 'Destination'), ('S', 'PROPN', 'Destination'), ('J', 'PROPN', 'Destination'), ('f', 'PROPN', 'Destination'), ('q', 'PROPN', 'Destination'), ('H', 'PROPN', 'Destination'), ('F', 'PROPN', 'Destination'), ('home', 'ADV', '')]\n",
      "-------\n",
      "[('directions', 'NOUN', ''), ('to', 'PART', ''), ('Unknown', 'VERB', ''), ('to', 'ADP', ''), ('Unknown', 'PROPN', 'Destination'), ('work', 'NOUN', '')]\n",
      "-------\n",
      "[('directions', 'NOUN', ''), ('to', 'PART', ''), ('go', 'VERB', ''), ('to', 'ADP', ''), ('the', 'DET', ''), ('closest', 'ADJ', ''), ('Unknown', 'PROPN', 'Destination')]\n",
      "-------\n",
      "[('directions', 'NOUN', ''), ('to', 'PART', ''), ('go', 'VERB', ''), ('to', 'ADP', ''), ('the', 'DET', ''), ('nearest', 'ADJ', ''), ('Unknown', 'PROPN', 'Destination')]\n",
      "-------\n",
      "[('I', 'PRON', ''), ('got', 'VERB', ''), ('to', 'PART', ''), ('navigate', 'VERB', ''), ('to', 'ADP', ''), ('5', 'PROPN', 'Destination'), ('r', 'PROPN', 'Destination'), ('Y', 'PROPN', 'Destination'), ('S', 'PROPN', 'Destination'), ('3', 'PROPN', 'Destination'), ('X', 'PROPN', 'Destination'), ('i', 'PROPN', 'Destination'), ('v', 'PROPN', 'Destination'), ('C', 'PROPN', 'Destination'), ('1', 'PROPN', 'Destination')]\n",
      "-------\n",
      "[('I', 'PRON', ''), ('got', 'VERB', ''), ('to', 'PART', ''), ('navigate', 'VERB', ''), ('to', 'ADP', ''), ('7j', 'PROPN', 'Destination'), ('fi', 'PROPN', 'Destination'), ('Ee', 'PROPN', 'Destination'), ('Bn', 'PROPN', 'Destination'), ('dm', 'PROPN', 'Destination'), ('home', 'ADV', '')]\n",
      "-------\n",
      "[('I', 'PRON', ''), ('got', 'VERB', ''), ('to', 'PART', ''), ('navigate', 'VERB', ''), ('to', 'ADP', ''), ('Unknown', 'PROPN', 'Destination'), ('work', 'NOUN', '')]\n",
      "-------\n",
      "[('Unknown', 'PRON', ''), ('got', 'VERB', ''), ('to', 'PART', ''), ('navigate', 'VERB', ''), ('to', 'ADP', ''), ('the', 'DET', ''), ('nearest', 'ADJ', ''), ('7', 'PROPN', 'Destination'), ('o', 'PROPN', 'Destination'), ('q', 'PROPN', 'Destination'), ('w', 'PROPN', 'Destination'), ('A', 'PROPN', 'Destination'), ('D', 'PROPN', 'Destination'), ('H', 'PROPN', 'Destination'), ('I', 'PROPN', 'Destination'), ('9', 'PROPN', 'Destination'), ('3', 'PROPN', 'Destination')]\n",
      "-------\n",
      "[('I', 'PRON', ''), ('Unknown', 'AUX', ''), ('to', 'PART', ''), ('navigate', 'VERB', ''), ('to', 'ADP', ''), ('P', 'PROPN', 'Destination'), ('I', 'PROPN', 'Destination'), ('H', 'PROPN', 'Destination'), ('u', 'PROPN', 'Destination'), ('d', 'PROPN', 'Destination'), ('T', 'PROPN', 'Destination'), ('t', 'PROPN', 'Destination'), ('t', 'PROPN', 'Destination'), ('J', 'PROPN', 'Destination'), ('5', 'PROPN', 'Destination')]\n",
      "-------\n",
      "[('I', 'PRON', ''), ('have', 'AUX', ''), ('to', 'PART', ''), ('navigate', 'VERB', ''), ('Unknown', 'ADP', ''), ('Unknown', 'PROPN', 'Destination'), ('home', 'ADV', '')]\n",
      "-------\n",
      "[('Unknown', 'PRON', ''), ('have', 'AUX', ''), ('to', 'PART', ''), ('navigate', 'VERB', ''), ('to', 'ADP', ''), ('bOG', 'PROPN', 'Destination'), ('v5f', 'PROPN', 'Destination'), ('7Ct', 'PROPN', 'Destination'), ('q', 'PROPN', 'Destination'), ('work', 'NOUN', '')]\n",
      "-------\n",
      "[('I', 'PRON', ''), ('have', 'AUX', ''), ('to', 'PART', ''), ('navigate', 'VERB', ''), ('to', 'ADP', ''), ('the', 'DET', ''), ('nearest', 'ADJ', ''), ('zj', 'PROPN', 'Destination'), ('Rw', 'PROPN', 'Destination'), ('Qj', 'PROPN', 'Destination'), ('QB', 'PROPN', 'Destination'), ('vv', 'PROPN', 'Destination')]\n",
      "-------\n",
      "[('I', 'PRON', ''), ('need', 'VERB', ''), ('to', 'PART', ''), ('navigate', 'VERB', ''), ('to', 'ADP', ''), ('C', 'PROPN', 'Destination'), ('C', 'PROPN', 'Destination'), ('5', 'PROPN', 'Destination'), ('5', 'PROPN', 'Destination'), ('p', 'PROPN', 'Destination'), ('z', 'PROPN', 'Destination'), ('F', 'PROPN', 'Destination'), ('P', 'PROPN', 'Destination'), ('O', 'PROPN', 'Destination'), ('l', 'PROPN', 'Destination')]\n",
      "-------\n",
      "[('I', 'PRON', ''), ('Unknown', 'VERB', ''), ('to', 'PART', ''), ('navigate', 'VERB', ''), ('to', 'ADP', ''), ('Z', 'PROPN', 'Destination'), ('I', 'PROPN', 'Destination'), ('M', 'PROPN', 'Destination'), ('f', 'PROPN', 'Destination'), ('b', 'PROPN', 'Destination'), ('b', 'PROPN', 'Destination'), ('O', 'PROPN', 'Destination'), ('w', 'PROPN', 'Destination'), ('t', 'PROPN', 'Destination'), ('q', 'PROPN', 'Destination'), ('home', 'ADV', '')]\n",
      "-------\n",
      "[('Unknown', 'PRON', ''), ('need', 'VERB', ''), ('to', 'PART', ''), ('Unknown', 'VERB', ''), ('to', 'ADP', ''), ('MKY2', 'PROPN', 'Destination'), ('4Qc7', 'PROPN', 'Destination'), ('ET', 'PROPN', 'Destination'), ('work', 'NOUN', '')]\n",
      "-------\n",
      "[('I', 'PRON', ''), ('need', 'VERB', ''), ('to', 'PART', ''), ('navigate', 'VERB', ''), ('to', 'ADP', ''), ('the', 'DET', ''), ('nearest', 'ADJ', ''), ('Gd', 'PROPN', 'Destination'), ('Pw', 'PROPN', 'Destination'), ('9f', 'PROPN', 'Destination'), ('hk', 'PROPN', 'Destination'), ('3Q', 'PROPN', 'Destination')]\n",
      "-------\n",
      "[('I', 'PRON', ''), ('want', 'VERB', ''), ('to', 'PART', ''), ('navigate', 'VERB', ''), ('to', 'ADP', ''), ('nx', 'PROPN', 'Destination'), ('oE', 'PROPN', 'Destination'), ('Sw', 'PROPN', 'Destination'), ('hC', 'PROPN', 'Destination'), ('Iy', 'PROPN', 'Destination')]\n",
      "-------\n",
      "[('I', 'PRON', ''), ('want', 'VERB', ''), ('to', 'PART', ''), ('navigate', 'VERB', ''), ('to', 'ADP', ''), ('X', 'PROPN', 'Destination'), ('d', 'PROPN', 'Destination'), ('c', 'PROPN', 'Destination'), ('4', 'PROPN', 'Destination'), ('h', 'PROPN', 'Destination'), ('5', 'PROPN', 'Destination'), ('v', 'PROPN', 'Destination'), ('m', 'PROPN', 'Destination'), ('5', 'PROPN', 'Destination'), ('A', 'PROPN', 'Destination'), ('home', 'ADV', '')]\n",
      "-------\n",
      "[('I', 'PRON', ''), ('want', 'VERB', ''), ('to', 'PART', ''), ('navigate', 'VERB', ''), ('to', 'ADP', ''), ('3', 'PROPN', 'Destination'), ('f', 'PROPN', 'Destination'), ('4', 'PROPN', 'Destination'), ('w', 'PROPN', 'Destination'), ('j', 'PROPN', 'Destination'), ('K', 'PROPN', 'Destination'), ('L', 'PROPN', 'Destination'), ('9', 'PROPN', 'Destination'), ('F', 'PROPN', 'Destination'), ('W', 'PROPN', 'Destination'), ('work', 'NOUN', '')]\n",
      "-------\n",
      "[('I', 'PRON', ''), ('want', 'VERB', ''), ('to', 'PART', ''), ('navigate', 'VERB', ''), ('to', 'ADP', ''), ('the', 'DET', ''), ('nearest', 'ADJ', ''), ('wN', 'PROPN', 'Destination'), ('qw', 'PROPN', 'Destination'), ('nz', 'PROPN', 'Destination'), ('Td', 'PROPN', 'Destination'), ('MG', 'PROPN', 'Destination')]\n",
      "-------\n",
      "[('Unknown', 'PRON', ''), ('got', 'VERB', ''), ('to', 'PART', ''), ('navigate', 'VERB', ''), ('home', 'NOUN', '')]\n",
      "-------\n",
      "[('I', 'PRON', ''), ('have', 'AUX', ''), ('to', 'PART', ''), ('navigate', 'VERB', ''), ('home', 'NOUN', '')]\n",
      "-------\n",
      "[('I', 'PRON', ''), ('need', 'VERB', ''), ('to', 'PART', ''), ('navigate', 'VERB', ''), ('home', 'NOUN', '')]\n",
      "-------\n",
      "[('I', 'PRON', ''), ('want', 'VERB', ''), ('Unknown', 'PART', ''), ('Unknown', 'VERB', ''), ('Unknown', 'NOUN', '')]\n",
      "-------\n",
      "[('navigate', 'VERB', ''), ('to', 'ADP', ''), ('Unknown', 'PROPN', 'Destination')]\n",
      "-------\n",
      "[('navigate', 'VERB', ''), ('to', 'ADP', ''), ('Ts2L', 'PROPN', 'Destination'), ('WDbq', 'PROPN', 'Destination'), ('DS', 'PROPN', 'Destination'), ('home', 'ADV', '')]\n",
      "-------\n",
      "[('Unknown', 'VERB', ''), ('Unknown', 'ADP', ''), ('Qknl', 'PROPN', 'Destination'), ('Eq7J', 'PROPN', 'Destination'), ('Ir', 'PROPN', 'Destination'), ('work', 'NOUN', '')]\n",
      "-------\n",
      "[('navigate', 'VERB', ''), ('to', 'ADP', ''), ('the', 'DET', ''), ('nearest', 'ADJ', ''), ('Unknown', 'PROPN', 'Destination')]\n",
      "-------\n",
      "[('navigate', 'PROPN', ''), ('home', 'PROPN', '')]\n",
      "-------\n",
      "[('I', 'PRON', ''), ('need', 'VERB', ''), ('to', 'PART', ''), ('go', 'VERB', ''), ('to', 'ADP', ''), ('a', 'DET', ''), ('aiRF', 'PROPN', 'Destination'), ('1Rne', 'PROPN', 'Destination'), ('LU', 'PROPN', 'Destination'), (',', 'PUNCT', ''), ('navigate', 'VERB', ''), ('to', 'ADP', ''), ('the', 'DET', ''), ('nearest', 'ADJ', ''), ('one', 'NUM', '')]\n",
      "-------\n",
      "[('I', 'PRON', ''), ('want', 'VERB', ''), ('to', 'PART', ''), ('Unknown', 'VERB', ''), ('to', 'ADP', ''), ('a', 'DET', ''), ('n', 'PROPN', 'Destination'), ('0', 'PROPN', 'Destination'), ('q', 'PROPN', 'Destination'), ('k', 'PROPN', 'Destination'), ('v', 'PROPN', 'Destination'), ('m', 'PROPN', 'Destination'), ('z', 'PROPN', 'Destination'), ('B', 'PROPN', 'Destination'), ('z', 'PROPN', 'Destination'), ('U', 'PROPN', 'Destination'), (',', 'PUNCT', ''), ('navigate', 'VERB', ''), ('to', 'ADP', ''), ('the', 'DET', ''), ('nearest', 'ADJ', ''), ('one', 'NUM', '')]\n",
      "-------\n",
      "[('I', 'PRON', ''), ('need', 'VERB', ''), ('to', 'PART', ''), ('go', 'VERB', ''), ('to', 'ADP', ''), ('a', 'DET', ''), ('ysg', 'PROPN', 'Destination'), ('ByH', 'PROPN', 'Destination'), ('inq', 'PROPN', 'Destination'), ('V', 'PROPN', 'Destination'), (',', 'PUNCT', ''), ('go', 'VERB', ''), ('directions', 'NOUN', ''), ('to', 'ADP', ''), ('the', 'DET', ''), ('nearest', 'ADJ', ''), ('one', 'NUM', '')]\n",
      "-------\n",
      "[('I', 'PRON', ''), ('want', 'VERB', ''), ('to', 'PART', ''), ('go', 'VERB', ''), ('to', 'ADP', ''), ('a', 'DET', ''), ('f0t', 'PROPN', 'Destination'), ('2LO', 'PROPN', 'Destination'), ('KJQ', 'PROPN', 'Destination'), ('T', 'PROPN', 'Destination'), (',', 'PUNCT', ''), ('go', 'VERB', ''), ('directions', 'NOUN', ''), ('to', 'ADP', ''), ('the', 'DET', ''), ('Unknown', 'ADJ', ''), ('Unknown', 'NUM', '')]\n",
      "-------\n",
      "[('I', 'PRON', ''), ('need', 'VERB', ''), ('to', 'PART', ''), ('go', 'VERB', ''), ('to', 'ADP', ''), ('a', 'DET', ''), ('Rm', 'PROPN', 'Destination'), ('Bp', 'PROPN', 'Destination'), ('9Q', 'PROPN', 'Destination'), ('90', 'PROPN', 'Destination'), ('mJ', 'PROPN', 'Destination'), (',', 'PUNCT', ''), ('navigate', 'VERB', ''), ('to', 'ADP', ''), ('Unknown', 'DET', ''), ('closest', 'ADJ', ''), ('one', 'NUM', '')]\n",
      "-------\n",
      "[('I', 'PRON', ''), ('want', 'VERB', ''), ('to', 'PART', ''), ('Unknown', 'VERB', ''), ('to', 'ADP', ''), ('a', 'DET', ''), ('j', 'PROPN', 'Destination'), ('V', 'PROPN', 'Destination'), ('j', 'PROPN', 'Destination'), ('m', 'PROPN', 'Destination'), ('M', 'PROPN', 'Destination'), ('Y', 'PROPN', 'Destination'), ('c', 'PROPN', 'Destination'), ('k', 'PROPN', 'Destination'), ('L', 'PROPN', 'Destination'), ('m', 'PROPN', 'Destination'), (',', 'PUNCT', ''), ('navigate', 'VERB', ''), ('to', 'ADP', ''), ('the', 'DET', ''), ('closest', 'ADJ', ''), ('one', 'NUM', '')]\n",
      "-------\n",
      "[('I', 'PRON', ''), ('need', 'VERB', ''), ('to', 'PART', ''), ('go', 'VERB', ''), ('to', 'ADP', ''), ('a', 'DET', ''), ('Unknown', 'PROPN', 'Destination'), ('Unknown', 'PUNCT', ''), ('go', 'VERB', ''), ('directions', 'NOUN', ''), ('to', 'ADP', ''), ('the', 'DET', ''), ('Unknown', 'ADJ', ''), ('one', 'NUM', '')]\n",
      "-------\n",
      "[('I', 'PRON', ''), ('want', 'VERB', ''), ('to', 'PART', ''), ('go', 'VERB', ''), ('to', 'ADP', ''), ('a', 'DET', ''), ('9qTa', 'PROPN', 'Destination'), ('fAu0', 'PROPN', 'Destination'), ('dM', 'PROPN', 'Destination'), (',', 'PUNCT', ''), ('go', 'VERB', ''), ('Unknown', 'NOUN', ''), ('to', 'ADP', ''), ('the', 'DET', ''), ('closest', 'ADJ', ''), ('Unknown', 'NUM', '')]\n",
      "-------\n",
      "[('I', 'PRON', ''), ('need', 'VERB', ''), ('Unknown', 'PART', ''), ('go', 'VERB', ''), ('to', 'ADP', ''), ('Unknown', 'DET', ''), ('Unknown', 'PROPN', 'Destination'), (',', 'PUNCT', ''), ('drive', 'VERB', ''), ('me', 'PRON', ''), ('to', 'ADP', ''), ('the', 'DET', ''), ('closest', 'ADJ', ''), ('one', 'NUM', '')]\n",
      "-------\n",
      "[('I', 'PRON', ''), ('need', 'VERB', ''), ('Unknown', 'PART', ''), ('go', 'VERB', ''), ('to', 'ADP', ''), ('a', 'DET', ''), ('2w', 'PROPN', 'Destination'), ('tM', 'PROPN', 'Destination'), ('Vd', 'PROPN', 'Destination'), ('TO', 'PROPN', 'Destination'), ('AE', 'PROPN', 'Destination'), (',', 'PUNCT', ''), ('drive', 'VERB', ''), ('me', 'PRON', ''), ('to', 'ADP', ''), ('the', 'DET', ''), ('nearest', 'ADJ', ''), ('one', 'NUM', '')]\n",
      "-------\n",
      "[('I', 'PRON', ''), ('Unknown', 'VERB', ''), ('to', 'PART', ''), ('go', 'VERB', ''), ('to', 'ADP', ''), ('a', 'DET', ''), ('Q', 'PROPN', 'Destination'), ('l', 'PROPN', 'Destination'), ('e', 'PROPN', 'Destination'), ('Q', 'PROPN', 'Destination'), ('i', 'PROPN', 'Destination'), ('I', 'PROPN', 'Destination'), ('9', 'PROPN', 'Destination'), ('8', 'PROPN', 'Destination'), ('D', 'PROPN', 'Destination'), ('Q', 'PROPN', 'Destination'), (',', 'PUNCT', ''), ('get', 'AUX', ''), ('me', 'PRON', ''), ('to', 'ADP', ''), ('the', 'DET', ''), ('closest', 'ADJ', ''), ('one', 'NUM', '')]\n",
      "-------\n",
      "[('drive', 'VERB', ''), ('to', 'ADP', ''), ('mNXJ', 'PROPN', 'Destination'), ('Vo9y', 'PROPN', 'Destination'), ('0W', 'PROPN', 'Destination')]\n",
      "-------\n",
      "[('drive', 'VERB', ''), ('to', 'ADP', ''), ('Unknown', 'PROPN', 'Destination'), ('home', 'ADV', '')]\n",
      "-------\n",
      "[('drive', 'VERB', ''), ('to', 'ADP', ''), ('qz', 'PROPN', 'Destination'), ('Da', 'PROPN', 'Destination'), ('z2', 'PROPN', 'Destination'), ('kg', 'PROPN', 'Destination'), ('tI', 'PROPN', 'Destination'), ('office', 'NOUN', '')]\n",
      "-------\n",
      "[('drive', 'VERB', ''), ('to', 'ADP', ''), ('8cP', 'PROPN', 'Destination'), ('LiB', 'PROPN', 'Destination'), ('v65', 'PROPN', 'Destination'), ('D', 'PROPN', 'Destination'), ('work', 'NOUN', '')]\n",
      "-------\n",
      "[('drive', 'VERB', ''), ('to', 'ADP', ''), ('Unknown', 'DET', ''), ('closest', 'ADJ', ''), ('E9', 'PROPN', 'Destination'), ('eV', 'PROPN', 'Destination'), ('Ac', 'PROPN', 'Destination'), ('qD', 'PROPN', 'Destination'), ('ZS', 'PROPN', 'Destination')]\n",
      "-------\n",
      "[('Unknown', 'VERB', ''), ('to', 'ADP', ''), ('the', 'DET', ''), ('nearest', 'ADJ', ''), ('S', 'PROPN', 'Destination'), ('k', 'PROPN', 'Destination'), ('h', 'PROPN', 'Destination'), ('e', 'PROPN', 'Destination'), ('d', 'PROPN', 'Destination'), ('f', 'PROPN', 'Destination'), ('x', 'PROPN', 'Destination'), ('4', 'PROPN', 'Destination'), ('N', 'PROPN', 'Destination'), ('N', 'PROPN', 'Destination')]\n",
      "-------\n",
      "[('get', 'AUX', ''), ('to', 'ADP', ''), ('5je', 'PROPN', 'Destination'), ('pmL', 'PROPN', 'Destination'), ('79v', 'PROPN', 'Destination'), ('g', 'PROPN', 'Destination')]\n",
      "-------\n",
      "[('get', 'AUX', ''), ('to', 'ADP', ''), ('htQW', 'PROPN', 'Destination'), ('XGmP', 'PROPN', 'Destination'), ('Fy', 'PROPN', 'Destination'), ('home', 'ADV', '')]\n",
      "-------\n",
      "[('Unknown', 'AUX', ''), ('to', 'ADP', ''), ('5', 'PROPN', 'Destination'), ('G', 'PROPN', 'Destination'), ('S', 'PROPN', 'Destination'), ('B', 'PROPN', 'Destination'), ('S', 'PROPN', 'Destination'), ('O', 'PROPN', 'Destination'), ('p', 'PROPN', 'Destination'), ('a', 'PROPN', 'Destination'), ('h', 'PROPN', 'Destination'), ('y', 'PROPN', 'Destination'), ('office', 'NOUN', '')]\n",
      "-------\n",
      "[('get', 'AUX', ''), ('to', 'ADP', ''), ('wMg', 'PROPN', 'Destination'), ('OLg', 'PROPN', 'Destination'), ('tD0', 'PROPN', 'Destination'), ('1', 'PROPN', 'Destination'), ('work', 'NOUN', '')]\n",
      "-------\n",
      "[('get', 'AUX', ''), ('to', 'ADP', ''), ('the', 'DET', ''), ('closest', 'ADJ', ''), ('3i4A', 'PROPN', 'Destination'), ('20wc', 'PROPN', 'Destination'), ('mD', 'PROPN', 'Destination')]\n",
      "-------\n",
      "[('get', 'AUX', ''), ('Unknown', 'ADP', ''), ('the', 'DET', ''), ('nearest', 'ADJ', ''), ('K', 'NOUN', 'Destination'), ('c', 'NOUN', 'Destination'), ('a', 'NOUN', 'Destination'), ('i', 'NOUN', 'Destination'), ('w', 'NOUN', 'Destination'), ('w', 'NOUN', 'Destination'), ('V', 'NOUN', 'Destination'), ('V', 'NOUN', 'Destination'), ('E', 'NOUN', 'Destination'), ('r', 'NOUN', 'Destination')]\n",
      "-------\n",
      "[('go', 'VERB', ''), ('to', 'ADP', ''), ('do6', 'PROPN', 'Destination'), ('qeM', 'PROPN', 'Destination'), ('269', 'PROPN', 'Destination'), ('w', 'PROPN', 'Destination')]\n",
      "-------\n",
      "[('go', 'VERB', ''), ('to', 'ADP', ''), ('1XIA', 'PROPN', 'Destination'), ('MPDj', 'PROPN', 'Destination'), ('2c', 'PROPN', 'Destination'), ('home', 'ADV', '')]\n",
      "-------\n",
      "[('go', 'VERB', ''), ('to', 'ADP', ''), ('Ij01', 'PROPN', 'Destination'), ('MMK5', 'PROPN', 'Destination'), ('KB', 'PROPN', 'Destination'), ('office', 'NOUN', '')]\n",
      "-------\n",
      "[('go', 'VERB', ''), ('to', 'ADP', ''), ('2WsS', 'PROPN', 'Destination'), ('3l7i', 'PROPN', 'Destination'), ('3z', 'PROPN', 'Destination'), ('work', 'NOUN', '')]\n",
      "-------\n",
      "[('go', 'VERB', ''), ('to', 'ADP', ''), ('Unknown', 'DET', ''), ('closest', 'ADJ', ''), ('Unknown', 'PROPN', 'Destination')]\n",
      "-------\n",
      "[('go', 'VERB', ''), ('to', 'ADP', ''), ('the', 'DET', ''), ('nearest', 'ADJ', ''), ('BXSe', 'PROPN', 'Destination'), ('egtK', 'PROPN', 'Destination'), ('m5', 'PROPN', 'Destination')]\n",
      "-------\n",
      "[('Unknown', 'VERB', ''), (\"'s\", 'PRON', ''), ('go', 'VERB', ''), ('to', 'ADP', ''), ('cGU', 'PROPN', 'Destination'), ('2E1', 'PROPN', 'Destination'), ('MAI', 'PROPN', 'Destination'), ('l', 'PROPN', 'Destination')]\n",
      "-------\n",
      "[('let', 'VERB', ''), (\"'s\", 'PRON', ''), ('go', 'VERB', ''), ('to', 'ADP', ''), ('YJjg', 'PROPN', 'Destination'), ('FNqu', 'PROPN', 'Destination'), ('Jk', 'PROPN', 'Destination'), ('home', 'ADV', '')]\n",
      "-------\n",
      "[('let', 'VERB', ''), (\"'s\", 'PRON', ''), ('go', 'VERB', ''), ('to', 'ADP', ''), ('2R', 'PROPN', 'Destination'), ('ae', 'PROPN', 'Destination'), ('F0', 'PROPN', 'Destination'), ('Fh', 'PROPN', 'Destination'), ('wP', 'PROPN', 'Destination'), ('office', 'NOUN', '')]\n",
      "-------\n",
      "[('let', 'VERB', ''), (\"'s\", 'PRON', ''), ('go', 'VERB', ''), ('to', 'ADP', ''), ('Unknown', 'PROPN', 'Destination'), ('Unknown', 'NOUN', '')]\n",
      "-------\n",
      "[('let', 'VERB', ''), (\"'s\", 'PRON', ''), ('go', 'VERB', ''), ('Unknown', 'ADP', ''), ('the', 'DET', ''), ('Unknown', 'ADJ', ''), ('XYYZlet', 'PROPN', ''), (\"'s\", 'PART', ''), ('go', 'NOUN', ''), ('Unknown', 'ADP', ''), ('the', 'DET', ''), ('nearest', 'ADJ', ''), ('jw', 'PROPN', 'Destination'), ('NT', 'PROPN', 'Destination'), ('KB', 'PROPN', 'Destination'), ('TL', 'PROPN', 'Destination'), ('FE', 'PROPN', 'Destination')]\n",
      "-------\n",
      "[('navigate', 'VERB', ''), ('Unknown', 'ADP', ''), ('ys', 'PROPN', 'Destination'), ('HM', 'PROPN', 'Destination'), ('vO', 'PROPN', 'Destination'), ('0x', 'PROPN', 'Destination'), ('3o', 'PROPN', 'Destination'), ('office', 'NOUN', '')]\n",
      "-------\n",
      "[('get', 'AUX', ''), ('directions', 'NOUN', ''), ('home', 'ADV', '')]\n",
      "-------\n",
      "[('get', 'AUX', ''), ('Unknown', 'NOUN', ''), ('to', 'ADP', ''), ('hx', 'PROPN', 'Destination'), ('cL', 'PROPN', 'Destination'), ('LS', 'PROPN', 'Destination'), ('NV', 'PROPN', 'Destination'), ('0z', 'PROPN', 'Destination')]\n",
      "-------\n",
      "[('get', 'AUX', ''), ('directions', 'NOUN', ''), ('to', 'ADP', ''), ('VRL', 'PROPN', 'Destination'), ('HaK', 'PROPN', 'Destination'), ('6hZ', 'PROPN', 'Destination'), ('r', 'PROPN', 'Destination'), ('home', 'ADV', '')]\n",
      "-------\n",
      "[('get', 'AUX', ''), ('directions', 'NOUN', ''), ('to', 'ADP', ''), ('su4q', 'PROPN', 'Destination'), ('vZrE', 'PROPN', 'Destination'), ('IQ', 'PROPN', 'Destination'), ('office', 'NOUN', '')]\n",
      "-------\n",
      "[('get', 'AUX', ''), ('directions', 'NOUN', ''), ('Unknown', 'ADP', ''), ('2O', 'PROPN', 'Destination'), ('Bd', 'PROPN', 'Destination'), ('yJ', 'PROPN', 'Destination'), ('3e', 'PROPN', 'Destination'), ('ZM', 'PROPN', 'Destination'), ('work', 'NOUN', '')]\n",
      "-------\n",
      "[('get', 'AUX', ''), ('directions', 'NOUN', ''), ('to', 'ADP', ''), ('the', 'DET', ''), ('closest', 'ADJ', ''), ('ILB', 'PROPN', 'Destination'), ('sBb', 'PROPN', 'Destination'), ('imQ', 'PROPN', 'Destination'), ('M', 'PROPN', 'Destination')]\n",
      "-------\n",
      "[('get', 'AUX', ''), ('directions', 'NOUN', ''), ('to', 'ADP', ''), ('Unknown', 'DET', ''), ('Unknown', 'ADJ', ''), ('XhN', 'PROPN', 'Destination'), ('n0O', 'PROPN', 'Destination'), ('8xN', 'PROPN', 'Destination'), ('A', 'PROPN', 'Destination')]\n",
      "-------\n",
      "[('get', 'AUX', ''), ('directions', 'NOUN', ''), ('to', 'PART', ''), ('go', 'VERB', ''), ('home', 'ADV', '')]\n",
      "-------\n",
      "[('get', 'AUX', ''), ('directions', 'NOUN', ''), ('to', 'PART', ''), ('Unknown', 'VERB', ''), ('home', 'ADV', '')]\n",
      "-------\n",
      "[('get', 'AUX', ''), ('directions', 'NOUN', ''), ('to', 'PART', ''), ('Unknown', 'VERB', ''), ('to', 'ADP', ''), ('A', 'PROPN', 'Destination'), ('D', 'PROPN', 'Destination'), ('u', 'PROPN', 'Destination'), ('a', 'PROPN', 'Destination'), ('O', 'PROPN', 'Destination'), ('J', 'PROPN', 'Destination'), ('E', 'PROPN', 'Destination'), ('p', 'PROPN', 'Destination'), ('y', 'PROPN', 'Destination'), ('O', 'PROPN', 'Destination')]\n",
      "-------\n",
      "[('get', 'AUX', ''), ('directions', 'NOUN', ''), ('to', 'PART', ''), ('go', 'VERB', ''), ('to', 'ADP', ''), ('bxoz', 'PROPN', 'Destination'), ('cEu4', 'PROPN', 'Destination'), ('jx', 'PROPN', 'Destination'), ('home', 'ADV', '')]\n",
      "-------\n",
      "[('get', 'AUX', ''), ('directions', 'NOUN', ''), ('to', 'PART', ''), ('go', 'VERB', ''), ('to', 'ADP', ''), ('9X', 'PROPN', 'Destination'), ('iL', 'PROPN', 'Destination'), ('Yw', 'PROPN', 'Destination'), ('GP', 'PROPN', 'Destination'), ('8B', 'PROPN', 'Destination'), ('Unknown', 'NOUN', '')]\n",
      "-------\n",
      "[('get', 'AUX', ''), ('directions', 'NOUN', ''), ('to', 'PART', ''), ('go', 'VERB', ''), ('to', 'ADP', ''), ('ZI2', 'PROPN', 'Destination'), ('wzh', 'PROPN', 'Destination'), ('bNb', 'PROPN', 'Destination'), ('4', 'PROPN', 'Destination'), ('work', 'NOUN', '')]\n",
      "-------\n",
      "[('get', 'AUX', ''), ('directions', 'NOUN', ''), ('to', 'PART', ''), ('go', 'VERB', ''), ('to', 'ADP', ''), ('the', 'DET', ''), ('Unknown', 'ADJ', ''), ('Unknown', 'PROPN', 'Destination')]\n",
      "-------\n",
      "[('get', 'AUX', ''), ('directions', 'NOUN', ''), ('to', 'PART', ''), ('Unknown', 'VERB', ''), ('to', 'ADP', ''), ('the', 'DET', ''), ('nearest', 'ADJ', ''), ('6G', 'PROPN', 'Destination'), ('cN', 'PROPN', 'Destination'), ('OW', 'PROPN', 'Destination'), ('au', 'PROPN', 'Destination'), ('Dw', 'PROPN', 'Destination')]\n",
      "-------\n",
      "[('drive', 'VERB', ''), ('home', 'ADV', '')]\n",
      "-------\n",
      "[('get', 'AUX', ''), ('home', 'ADV', '')]\n",
      "-------\n",
      "[('go', 'VERB', ''), ('home', 'ADV', '')]\n",
      "-------\n",
      "[('let', 'VERB', ''), (\"'s\", 'PRON', ''), ('go', 'VERB', ''), ('home', 'ADV', '')]\n",
      "-------\n",
      "[('drive', 'VERB', ''), ('me', 'PRON', ''), ('to', 'ADP', ''), ('E8', 'PROPN', 'Destination'), ('0z', 'PROPN', 'Destination'), ('aG', 'PROPN', 'Destination'), ('Q8', 'PROPN', 'Destination'), ('8O', 'PROPN', 'Destination')]\n",
      "-------\n",
      "[('drive', 'VERB', ''), ('me', 'PRON', ''), ('to', 'ADP', ''), ('Unknown', 'PROPN', 'Destination'), ('home', 'ADV', '')]\n",
      "-------\n",
      "[('drive', 'VERB', ''), ('me', 'PRON', ''), ('to', 'ADP', ''), ('kbL', 'PROPN', 'Destination'), ('Fv8', 'PROPN', 'Destination'), ('KWe', 'PROPN', 'Destination'), ('5', 'PROPN', 'Destination'), ('office', 'NOUN', '')]\n",
      "-------\n",
      "[('drive', 'VERB', ''), ('me', 'PRON', ''), ('to', 'ADP', ''), ('Ao1', 'PROPN', 'Destination'), ('vEm', 'PROPN', 'Destination'), ('jPL', 'PROPN', 'Destination'), ('b', 'PROPN', 'Destination'), ('work', 'NOUN', '')]\n",
      "-------\n",
      "[('Unknown', 'VERB', ''), ('me', 'PRON', ''), ('to', 'ADP', ''), ('the', 'DET', ''), ('Unknown', 'ADJ', ''), ('AEA', 'PROPN', 'Destination'), ('D41', 'PROPN', 'Destination'), ('Unl', 'PROPN', 'Destination'), ('W', 'PROPN', 'Destination')]\n",
      "-------\n",
      "[('drive', 'VERB', ''), ('me', 'PRON', ''), ('to', 'ADP', ''), ('the', 'DET', ''), ('nearest', 'ADJ', ''), ('Os', 'PROPN', 'Destination'), ('tk', 'PROPN', 'Destination'), ('sO', 'PROPN', 'Destination'), ('6m', 'PROPN', 'Destination'), ('WS', 'PROPN', 'Destination')]\n",
      "-------\n",
      "[('get', 'AUX', ''), ('me', 'PRON', ''), ('to', 'ADP', ''), ('te', 'PROPN', 'Destination'), ('bS', 'PROPN', 'Destination'), ('IV', 'PROPN', 'Destination'), ('ju', 'PROPN', 'Destination'), ('sh', 'PROPN', 'Destination')]\n",
      "-------\n",
      "[('get', 'AUX', ''), ('me', 'PRON', ''), ('Unknown', 'ADP', ''), ('Unknown', 'PROPN', 'Destination'), ('home', 'ADV', '')]\n",
      "-------\n",
      "[('get', 'AUX', ''), ('me', 'PRON', ''), ('to', 'ADP', ''), ('B', 'PROPN', 'Destination'), ('H', 'PROPN', 'Destination'), ('G', 'PROPN', 'Destination'), ('1', 'PROPN', 'Destination'), ('f', 'PROPN', 'Destination'), ('P', 'PROPN', 'Destination'), ('R', 'PROPN', 'Destination'), ('Q', 'PROPN', 'Destination'), ('g', 'PROPN', 'Destination'), ('d', 'PROPN', 'Destination'), ('Unknown', 'NOUN', '')]\n",
      "-------\n",
      "[('get', 'AUX', ''), ('me', 'PRON', ''), ('to', 'ADP', ''), ('Bbi5', 'PROPN', 'Destination'), ('ONFb', 'PROPN', 'Destination'), ('A6', 'PROPN', 'Destination'), ('work', 'NOUN', '')]\n",
      "-------\n",
      "[('get', 'AUX', ''), ('me', 'PRON', ''), ('to', 'ADP', ''), ('the', 'DET', ''), ('closest', 'ADJ', ''), ('uR', 'PROPN', 'Destination'), ('8K', 'PROPN', 'Destination'), ('us', 'PROPN', 'Destination'), ('Pm', 'PROPN', 'Destination'), ('ZQ', 'PROPN', 'Destination')]\n",
      "-------\n",
      "[('get', 'AUX', ''), ('me', 'PRON', ''), ('to', 'ADP', ''), ('the', 'DET', ''), ('nearest', 'ADJ', ''), ('hma', 'PROPN', 'Destination'), ('xy8', 'PROPN', 'Destination'), ('ToM', 'PROPN', 'Destination'), ('z', 'PROPN', 'Destination')]\n",
      "-------\n",
      "[('Unknown', 'VERB', ''), ('me', 'PRON', ''), ('to', 'ADP', ''), ('Z', 'PROPN', 'Destination'), ('C', 'PROPN', 'Destination'), ('N', 'PROPN', 'Destination'), ('6', 'PROPN', 'Destination'), ('z', 'PROPN', 'Destination'), ('H', 'PROPN', 'Destination'), ('D', 'PROPN', 'Destination'), ('i', 'PROPN', 'Destination'), ('a', 'PROPN', 'Destination'), ('O', 'PROPN', 'Destination')]\n",
      "-------\n",
      "[('navigate', 'VERB', ''), ('me', 'PRON', ''), ('to', 'ADP', ''), ('3M', 'PROPN', 'Destination'), ('H3', 'PROPN', 'Destination'), ('MT', 'PROPN', 'Destination'), ('6f', 'PROPN', 'Destination'), ('XT', 'PROPN', 'Destination'), ('home', 'ADV', '')]\n",
      "-------\n",
      "[('navigate', 'VERB', ''), ('me', 'PRON', ''), ('to', 'ADP', ''), ('Xi', 'PROPN', 'Destination'), ('UC', 'PROPN', 'Destination'), ('ph', 'PROPN', 'Destination'), ('XI', 'PROPN', 'Destination'), ('ut', 'PROPN', 'Destination'), ('office', 'NOUN', '')]\n",
      "-------\n",
      "[('navigate', 'VERB', ''), ('me', 'PRON', ''), ('to', 'ADP', ''), ('zvLC', 'PROPN', 'Destination'), ('ASHa', 'PROPN', 'Destination'), ('wR', 'PROPN', 'Destination'), ('work', 'NOUN', '')]\n",
      "-------\n",
      "[('I', 'PRON', ''), ('want', 'VERB', ''), ('to', 'PART', ''), ('go', 'VERB', ''), ('to', 'ADP', ''), ('my', 'PRON', ''), ('parents', 'NOUN', ''), (\"'\", 'PART', ''), ('home', 'NOUN', '')]\n",
      "-------\n",
      "[('Unknown', 'PRON', ''), ('want', 'VERB', ''), ('to', 'PART', ''), ('go', 'VERB', ''), ('to', 'ADP', ''), ('my', 'PRON', ''), ('parents', 'NOUN', ''), (\"'\", 'PART', ''), ('place', 'NOUN', '')]\n",
      "-------\n",
      "[('I', 'PRON', ''), ('want', 'VERB', ''), ('to', 'PART', ''), ('go', 'VERB', ''), ('to', 'ADP', ''), ('my', 'PRON', ''), ('place', 'NOUN', '')]\n",
      "-------\n",
      "[('I', 'PRON', ''), ('want', 'VERB', ''), ('to', 'PART', ''), ('go', 'VERB', ''), ('to', 'ADP', ''), ('the', 'DET', ''), ('closest', 'ADJ', ''), ('iJN', 'PROPN', 'Destination'), ('Rd1', 'PROPN', 'Destination'), ('Xru', 'PROPN', 'Destination'), ('V', 'PROPN', 'Destination')]\n",
      "-------\n",
      "[('Unknown', 'PRON', ''), ('want', 'VERB', ''), ('to', 'PART', ''), ('go', 'VERB', ''), ('to', 'ADP', ''), ('the', 'DET', ''), ('nearest', 'ADJ', ''), ('Unknown', 'PROPN', 'Destination')]\n",
      "-------\n",
      "[('I', 'PRON', ''), ('want', 'VERB', ''), ('to', 'PART', ''), ('go', 'VERB', ''), ('to', 'ADP', ''), ('work', 'NOUN', '')]\n",
      "-------\n",
      "[('I', 'PRON', ''), ('want', 'VERB', ''), ('to', 'PART', ''), ('navigate', 'VERB', ''), ('to', 'ADP', ''), ('XMaI', 'PROPN', 'Destination'), ('NAca', 'PROPN', 'Destination'), ('0Z', 'PROPN', 'Destination'), ('Unknown', 'NOUN', '')]\n",
      "-------\n",
      "[('I', 'PRON', ''), ('want', 'VERB', ''), ('to', 'PART', ''), ('navigate', 'VERB', ''), ('to', 'ADP', ''), ('ryA3', 'PROPN', 'Destination'), ('Xsj4', 'PROPN', 'Destination'), ('R5', 'PROPN', 'Destination')]\n",
      "-------\n",
      "[('I', 'PRON', ''), ('want', 'VERB', ''), ('to', 'PART', ''), ('navigate', 'VERB', ''), ('to', 'ADP', ''), ('my', 'PRON', ''), ('children', 'NOUN', ''), (\"'s\", 'PART', ''), ('school', 'NOUN', '')]\n",
      "-------\n",
      "[('I', 'PRON', ''), ('want', 'VERB', ''), ('Unknown', 'PART', ''), ('navigate', 'VERB', ''), ('to', 'ADP', ''), ('Unknown', 'PRON', ''), ('kid', 'NOUN', ''), (\"'s\", 'PART', ''), ('school', 'NOUN', '')]\n",
      "-------\n",
      "[('I', 'PRON', ''), ('want', 'VERB', ''), ('Unknown', 'PART', ''), ('navigate', 'VERB', ''), ('to', 'ADP', ''), ('my', 'PRON', ''), ('kids', 'NOUN', ''), (\"'\", 'PART', ''), ('school', 'NOUN', '')]\n",
      "-------\n",
      "[('I', 'PRON', ''), ('want', 'VERB', ''), ('to', 'PART', ''), ('navigate', 'VERB', ''), ('to', 'ADP', ''), ('my', 'PRON', ''), ('office', 'NOUN', '')]\n",
      "-------\n",
      "[('I', 'PRON', ''), ('want', 'VERB', ''), ('to', 'PART', ''), ('navigate', 'VERB', ''), ('to', 'ADP', ''), ('Unknown', 'PRON', ''), ('Unknown', 'NOUN', ''), (\"'\", 'PART', ''), ('place', 'NOUN', '')]\n",
      "-------\n",
      "[('I', 'PRON', ''), ('want', 'VERB', ''), ('to', 'PART', ''), ('navigate', 'VERB', ''), ('to', 'ADP', ''), ('my', 'PRON', ''), ('place', 'NOUN', '')]\n",
      "-------\n",
      "[('I', 'PRON', ''), ('want', 'VERB', ''), ('to', 'PART', ''), ('Unknown', 'VERB', ''), ('to', 'ADP', ''), ('Unknown', 'DET', ''), ('closest', 'ADJ', ''), ('CDM', 'PROPN', 'Destination'), ('0A0', 'PROPN', 'Destination'), ('9nm', 'PROPN', 'Destination'), ('a', 'PROPN', 'Destination')]\n",
      "-------\n",
      "[('I', 'PRON', ''), ('got', 'VERB', ''), ('to', 'PART', ''), ('Unknown', 'AUX', ''), ('directions', 'NOUN', ''), ('home', 'ADV', '')]\n",
      "-------\n",
      "[('I', 'PRON', ''), ('got', 'VERB', ''), ('to', 'PART', ''), ('get', 'AUX', ''), ('directions', 'NOUN', ''), ('to', 'ADP', ''), ('t1kI', 'PROPN', 'Destination'), ('jGza', 'PROPN', 'Destination'), ('Xn', 'PROPN', 'Destination')]\n",
      "-------\n",
      "None\n",
      "-------\n"
     ]
    }
   ],
   "source": [
    "for group in yield_sentence():\n",
    "    print(group)\n",
    "    print(\"-------\")"
   ]
  },
  {
   "cell_type": "code",
   "execution_count": 22,
   "metadata": {},
   "outputs": [],
   "source": [
    "max_len = 75\n",
    "word2idx = {w: i + 1 for i, w in enumerate(words)}\n",
    "tag2idx = {t: i for i, t in enumerate(tags)}\n",
    "pos2idx = {p: i for i, p in enumerate(pos)}\n"
   ]
  },
  {
   "cell_type": "code",
   "execution_count": 23,
   "metadata": {},
   "outputs": [
    {
     "data": {
      "text/plain": [
       "137"
      ]
     },
     "execution_count": 23,
     "metadata": {},
     "output_type": "execute_result"
    }
   ],
   "source": [
    "word2idx[\"directions\"]"
   ]
  },
  {
   "cell_type": "code",
   "execution_count": 24,
   "metadata": {},
   "outputs": [
    {
     "data": {
      "text/plain": [
       "{'PUNCT': 0,\n",
       " 'NUM': 1,\n",
       " 'PRON': 2,\n",
       " 'VERB': 3,\n",
       " 'ADV': 4,\n",
       " 'NOUN': 5,\n",
       " 'PROPN': 6,\n",
       " 'ADP': 7,\n",
       " 'PART': 8,\n",
       " 'DET': 9,\n",
       " 'AUX': 10,\n",
       " 'ADJ': 11,\n",
       " 'BLANK': 12}"
      ]
     },
     "execution_count": 24,
     "metadata": {},
     "output_type": "execute_result"
    }
   ],
   "source": [
    "tag2idx[\"\"]\n",
    "pos2idx"
   ]
  },
  {
   "cell_type": "code",
   "execution_count": 25,
   "metadata": {},
   "outputs": [
    {
     "name": "stderr",
     "output_type": "stream",
     "text": [
      "Using TensorFlow backend.\n"
     ]
    }
   ],
   "source": [
    "from keras.preprocessing.sequence import pad_sequences\n",
    "X = [[word2idx.get(w[0],word2idx[\"Unknown\"]) for w in s] for s in sentences]\n",
    "X_pos = [[pos2idx.get(w[1]) for w in s] for s in sentences]"
   ]
  },
  {
   "cell_type": "code",
   "execution_count": 26,
   "metadata": {},
   "outputs": [],
   "source": [
    "X = pad_sequences(maxlen=max_len, sequences=X, padding=\"post\", value=n_words-1)\n",
    "X_pos = pad_sequences(maxlen=max_len, sequences=X_pos, padding=\"post\", value=pos2idx[\"BLANK\"])\n",
    "# print(X.shape)\n",
    "# print(X_pos.shape)\n",
    "\n",
    "# X = np.stack((X,X_pos))\n",
    "# print(X.shape)\n",
    "# X = np.reshape(X,[123,2,75])\n",
    "# print(X.shape)"
   ]
  },
  {
   "cell_type": "code",
   "execution_count": 27,
   "metadata": {},
   "outputs": [],
   "source": [
    "y = [[tag2idx[w[2]] for w in s] for s in sentences]"
   ]
  },
  {
   "cell_type": "code",
   "execution_count": 28,
   "metadata": {},
   "outputs": [],
   "source": [
    "y = pad_sequences(maxlen=max_len, sequences=y, padding=\"post\", value=tag2idx[\"\"])\n"
   ]
  },
  {
   "cell_type": "code",
   "execution_count": 29,
   "metadata": {},
   "outputs": [],
   "source": [
    "from keras.utils import to_categorical"
   ]
  },
  {
   "cell_type": "code",
   "execution_count": 30,
   "metadata": {},
   "outputs": [],
   "source": [
    "y = [to_categorical(i, num_classes=n_tags) for i in y]"
   ]
  },
  {
   "cell_type": "code",
   "execution_count": 31,
   "metadata": {},
   "outputs": [],
   "source": [
    "from sklearn.model_selection import train_test_split"
   ]
  },
  {
   "cell_type": "code",
   "execution_count": 32,
   "metadata": {},
   "outputs": [],
   "source": [
    "X_tr, X_te, y_tr, y_te, X_pos_tr, X_pos_te = train_test_split(X, y, X_pos, test_size=0.1)"
   ]
  },
  {
   "cell_type": "code",
   "execution_count": 33,
   "metadata": {},
   "outputs": [],
   "source": [
    "from keras.models import Model, Input\n",
    "from keras.layers import LSTM, Embedding, Dense, TimeDistributed, Dropout, Bidirectional\n",
    "from keras_contrib.layers import CRF\n",
    "import keras"
   ]
  },
  {
   "cell_type": "code",
   "execution_count": 36,
   "metadata": {},
   "outputs": [
    {
     "name": "stdout",
     "output_type": "stream",
     "text": [
      "Loaded 400001 word vectors.\n"
     ]
    }
   ],
   "source": [
    "GLOVE_DIR = \"glove.6B.50d.txt\"\n",
    "def load_glove():\n",
    "    # load the whole embedding into memory\n",
    "    embeddings_index = dict()\n",
    "    f = open(GLOVE_DIR, encoding=\"utf8\")\n",
    "    words = []\n",
    "    for line in f:\n",
    "        values = line.split()\n",
    "        word = values[0]\n",
    "        words.append(word)\n",
    "        coefs = np.asarray(values[1:], dtype='float32')\n",
    "        embeddings_index[word] = coefs\n",
    "    f.close()\n",
    "\n",
    "    # create a weight matrix for words\n",
    "    embedding_matrix = np.zeros((len(embeddings_index)+1, 50))\n",
    "    for i in range(len(words)):\n",
    "        embedding_vector = embeddings_index.get(words[i])\n",
    "        if embedding_vector is not None:\n",
    "            embedding_matrix[i] = embedding_vector\n",
    "\n",
    "\n",
    "    print('Loaded %s word vectors.' % len(embedding_matrix))\n",
    "    return words, embedding_matrix\n",
    "\n",
    "words_list, embedding_matrix = load_glove()"
   ]
  },
  {
   "cell_type": "code",
   "execution_count": 38,
   "metadata": {},
   "outputs": [],
   "source": [
    "# input = Input(shape=(max_len,))\n",
    "# model = Embedding(input_dim=n_words + 1, output_dim=20,\n",
    "#                   input_length=max_len)(input)  # 20-dim embedding\n",
    "# model = Bidirectional(LSTM(units=50, return_sequences=True,\n",
    "#                            recurrent_dropout=0.1))(model)  # variational biLSTM\n",
    "# model = TimeDistributed(Dense(50, activation=\"relu\"))(model)  # a dense layer as suggested by neuralNer\n",
    "# crf = CRF(n_tags)  # CRF layer\n",
    "# out = crf(model)  # output\n",
    "\n",
    "\n",
    "input = Input(shape=(75,))\n",
    "glove_emb = Embedding(len(words_list) + 1, 50, weights=[embedding_matrix], trainable=False)(input)\n",
    "\n",
    "\n",
    "# input = Input(shape=(max_len,))\n",
    "# word_emb = Embedding(input_dim=n_words + 1, output_dim=20,\n",
    "# input_length=max_len)(input) # 20-dim embedding\n",
    "\n",
    "pos_input = Input(shape=(max_len,))\n",
    "pos_emb = Embedding(input_dim= len(pos) , output_dim=10,\n",
    "input_length=max_len)(pos_input)\n",
    "\n",
    "modified_input = keras.layers.concatenate([glove_emb, pos_emb])\n",
    "\n",
    "model_1 = Bidirectional(LSTM(units=50, return_sequences=True,\n",
    "recurrent_dropout=0.1))(modified_input)\n",
    "\n",
    "model = TimeDistributed(Dense(50, activation=\"relu\"))(model_1)  # a dense layer as suggested by neuralNer\n",
    "crf = CRF(n_tags)  # CRF layer\n",
    "out = crf(model)  # output\n",
    "\n"
   ]
  },
  {
   "cell_type": "code",
   "execution_count": 39,
   "metadata": {},
   "outputs": [],
   "source": [
    "model = Model([input,pos_input], out)"
   ]
  },
  {
   "cell_type": "code",
   "execution_count": 40,
   "metadata": {},
   "outputs": [
    {
     "name": "stderr",
     "output_type": "stream",
     "text": [
      "/home/premraj/anaconda3/lib/python3.7/site-packages/keras_contrib/layers/crf.py:346: UserWarning: CRF.loss_function is deprecated and it might be removed in the future. Please use losses.crf_loss instead.\n",
      "  warnings.warn('CRF.loss_function is deprecated '\n",
      "/home/premraj/anaconda3/lib/python3.7/site-packages/keras_contrib/layers/crf.py:353: UserWarning: CRF.accuracy is deprecated and it might be removed in the future. Please use metrics.crf_accuracy\n",
      "  warnings.warn('CRF.accuracy is deprecated and it '\n"
     ]
    }
   ],
   "source": [
    "model.compile(optimizer=\"rmsprop\", loss=crf.loss_function, metrics=[crf.accuracy])"
   ]
  },
  {
   "cell_type": "code",
   "execution_count": 41,
   "metadata": {},
   "outputs": [
    {
     "name": "stdout",
     "output_type": "stream",
     "text": [
      "Model: \"model_1\"\n",
      "__________________________________________________________________________________________________\n",
      "Layer (type)                    Output Shape         Param #     Connected to                     \n",
      "==================================================================================================\n",
      "input_4 (InputLayer)            (None, 75)           0                                            \n",
      "__________________________________________________________________________________________________\n",
      "input_5 (InputLayer)            (None, 75)           0                                            \n",
      "__________________________________________________________________________________________________\n",
      "embedding_3 (Embedding)         (None, 75, 50)       20000050    input_4[0][0]                    \n",
      "__________________________________________________________________________________________________\n",
      "embedding_4 (Embedding)         (None, 75, 10)       130         input_5[0][0]                    \n",
      "__________________________________________________________________________________________________\n",
      "concatenate_2 (Concatenate)     (None, 75, 60)       0           embedding_3[0][0]                \n",
      "                                                                 embedding_4[0][0]                \n",
      "__________________________________________________________________________________________________\n",
      "bidirectional_1 (Bidirectional) (None, 75, 100)      44400       concatenate_2[0][0]              \n",
      "__________________________________________________________________________________________________\n",
      "time_distributed_1 (TimeDistrib (None, 75, 50)       5050        bidirectional_1[0][0]            \n",
      "__________________________________________________________________________________________________\n",
      "crf_1 (CRF)                     (None, 75, 2)        110         time_distributed_1[0][0]         \n",
      "==================================================================================================\n",
      "Total params: 20,049,740\n",
      "Trainable params: 49,690\n",
      "Non-trainable params: 20,000,050\n",
      "__________________________________________________________________________________________________\n"
     ]
    }
   ],
   "source": [
    "model.summary()"
   ]
  },
  {
   "cell_type": "code",
   "execution_count": 42,
   "metadata": {},
   "outputs": [
    {
     "name": "stdout",
     "output_type": "stream",
     "text": [
      "(75,)\n"
     ]
    }
   ],
   "source": [
    "print(X_tr[0].shape)"
   ]
  },
  {
   "cell_type": "code",
   "execution_count": 43,
   "metadata": {},
   "outputs": [
    {
     "name": "stderr",
     "output_type": "stream",
     "text": [
      "/home/premraj/anaconda3/lib/python3.7/site-packages/tensorflow_core/python/framework/indexed_slices.py:424: UserWarning: Converting sparse IndexedSlices to a dense Tensor of unknown shape. This may consume a large amount of memory.\n",
      "  \"Converting sparse IndexedSlices to a dense Tensor of unknown shape. \"\n"
     ]
    },
    {
     "name": "stdout",
     "output_type": "stream",
     "text": [
      "Train on 99 samples, validate on 11 samples\n",
      "Epoch 1/60\n",
      "99/99 [==============================] - 2s 25ms/step - loss: 0.1423 - crf_viterbi_accuracy: 0.9541 - val_loss: 0.1015 - val_crf_viterbi_accuracy: 0.9479\n",
      "Epoch 2/60\n",
      "99/99 [==============================] - 0s 4ms/step - loss: 0.0935 - crf_viterbi_accuracy: 0.9582 - val_loss: 0.0780 - val_crf_viterbi_accuracy: 0.9479\n",
      "Epoch 3/60\n",
      "99/99 [==============================] - 0s 4ms/step - loss: 0.0779 - crf_viterbi_accuracy: 0.9493 - val_loss: 0.0755 - val_crf_viterbi_accuracy: 0.9479\n",
      "Epoch 4/60\n",
      "99/99 [==============================] - 0s 4ms/step - loss: 0.0722 - crf_viterbi_accuracy: 0.9577 - val_loss: 0.0671 - val_crf_viterbi_accuracy: 0.9673\n",
      "Epoch 5/60\n",
      "99/99 [==============================] - 0s 3ms/step - loss: 0.0640 - crf_viterbi_accuracy: 0.9662 - val_loss: 0.0818 - val_crf_viterbi_accuracy: 0.9491\n",
      "Epoch 6/60\n",
      "99/99 [==============================] - 0s 4ms/step - loss: 0.0637 - crf_viterbi_accuracy: 0.9717 - val_loss: 0.0595 - val_crf_viterbi_accuracy: 0.9552\n",
      "Epoch 7/60\n",
      "99/99 [==============================] - 0s 4ms/step - loss: 0.0571 - crf_viterbi_accuracy: 0.9761 - val_loss: 0.0750 - val_crf_viterbi_accuracy: 0.9709\n",
      "Epoch 8/60\n",
      "99/99 [==============================] - 0s 4ms/step - loss: 0.0573 - crf_viterbi_accuracy: 0.9716 - val_loss: 0.0554 - val_crf_viterbi_accuracy: 0.9612\n",
      "Epoch 9/60\n",
      "99/99 [==============================] - 0s 3ms/step - loss: 0.0523 - crf_viterbi_accuracy: 0.9748 - val_loss: 0.0571 - val_crf_viterbi_accuracy: 0.9758\n",
      "Epoch 10/60\n",
      "99/99 [==============================] - 0s 4ms/step - loss: 0.0497 - crf_viterbi_accuracy: 0.9831 - val_loss: 0.0481 - val_crf_viterbi_accuracy: 0.9770\n",
      "Epoch 11/60\n",
      "99/99 [==============================] - 0s 3ms/step - loss: 0.0465 - crf_viterbi_accuracy: 0.9748 - val_loss: 0.0574 - val_crf_viterbi_accuracy: 0.9588\n",
      "Epoch 12/60\n",
      "99/99 [==============================] - 0s 4ms/step - loss: 0.0492 - crf_viterbi_accuracy: 0.9783 - val_loss: 0.0441 - val_crf_viterbi_accuracy: 0.9818\n",
      "Epoch 13/60\n",
      "99/99 [==============================] - 0s 3ms/step - loss: 0.0418 - crf_viterbi_accuracy: 0.9821 - val_loss: 0.0401 - val_crf_viterbi_accuracy: 0.9818\n",
      "Epoch 14/60\n",
      "99/99 [==============================] - 0s 3ms/step - loss: 0.0404 - crf_viterbi_accuracy: 0.9831 - val_loss: 0.0373 - val_crf_viterbi_accuracy: 0.9927\n",
      "Epoch 15/60\n",
      "99/99 [==============================] - 0s 3ms/step - loss: 0.0405 - crf_viterbi_accuracy: 0.9823 - val_loss: 0.0345 - val_crf_viterbi_accuracy: 0.9915\n",
      "Epoch 16/60\n",
      "99/99 [==============================] - 0s 3ms/step - loss: 0.0362 - crf_viterbi_accuracy: 0.9847 - val_loss: 0.0333 - val_crf_viterbi_accuracy: 0.9915\n",
      "Epoch 17/60\n",
      "99/99 [==============================] - 0s 4ms/step - loss: 0.0344 - crf_viterbi_accuracy: 0.9887 - val_loss: 0.0322 - val_crf_viterbi_accuracy: 0.9927\n",
      "Epoch 18/60\n",
      "99/99 [==============================] - 0s 4ms/step - loss: 0.0310 - crf_viterbi_accuracy: 0.9906 - val_loss: 0.0427 - val_crf_viterbi_accuracy: 0.9758\n",
      "Epoch 19/60\n",
      "99/99 [==============================] - 0s 4ms/step - loss: 0.0358 - crf_viterbi_accuracy: 0.9813 - val_loss: 0.0364 - val_crf_viterbi_accuracy: 0.9830\n",
      "Epoch 20/60\n",
      "99/99 [==============================] - 0s 4ms/step - loss: 0.0285 - crf_viterbi_accuracy: 0.9941 - val_loss: 0.0270 - val_crf_viterbi_accuracy: 0.9927\n",
      "Epoch 21/60\n",
      "99/99 [==============================] - 0s 3ms/step - loss: 0.0260 - crf_viterbi_accuracy: 0.9922 - val_loss: 0.0511 - val_crf_viterbi_accuracy: 0.9661\n",
      "Epoch 22/60\n",
      "99/99 [==============================] - 0s 4ms/step - loss: 0.0303 - crf_viterbi_accuracy: 0.9903 - val_loss: 0.0243 - val_crf_viterbi_accuracy: 0.9939\n",
      "Epoch 23/60\n",
      "99/99 [==============================] - 0s 3ms/step - loss: 0.0233 - crf_viterbi_accuracy: 0.9954 - val_loss: 0.0259 - val_crf_viterbi_accuracy: 0.9842\n",
      "Epoch 24/60\n",
      "99/99 [==============================] - 0s 4ms/step - loss: 0.0235 - crf_viterbi_accuracy: 0.9937 - val_loss: 0.0216 - val_crf_viterbi_accuracy: 0.9952\n",
      "Epoch 25/60\n",
      "99/99 [==============================] - 0s 3ms/step - loss: 0.0211 - crf_viterbi_accuracy: 0.9949 - val_loss: 0.0407 - val_crf_viterbi_accuracy: 0.9818\n",
      "Epoch 26/60\n",
      "99/99 [==============================] - 0s 3ms/step - loss: 0.0237 - crf_viterbi_accuracy: 0.9951 - val_loss: 0.0217 - val_crf_viterbi_accuracy: 0.9952\n",
      "Epoch 27/60\n",
      "99/99 [==============================] - 0s 3ms/step - loss: 0.0189 - crf_viterbi_accuracy: 0.9952 - val_loss: 0.0200 - val_crf_viterbi_accuracy: 0.9952\n",
      "Epoch 28/60\n",
      "99/99 [==============================] - 0s 3ms/step - loss: 0.0178 - crf_viterbi_accuracy: 0.9982 - val_loss: 0.0186 - val_crf_viterbi_accuracy: 0.9988\n",
      "Epoch 29/60\n",
      "99/99 [==============================] - 0s 3ms/step - loss: 0.0166 - crf_viterbi_accuracy: 0.9987 - val_loss: 0.0171 - val_crf_viterbi_accuracy: 0.9988\n",
      "Epoch 30/60\n",
      "99/99 [==============================] - 0s 3ms/step - loss: 0.0158 - crf_viterbi_accuracy: 0.9987 - val_loss: 0.0248 - val_crf_viterbi_accuracy: 0.9842\n",
      "Epoch 31/60\n",
      "99/99 [==============================] - 0s 3ms/step - loss: 0.0170 - crf_viterbi_accuracy: 0.9976 - val_loss: 0.0151 - val_crf_viterbi_accuracy: 0.9988\n",
      "Epoch 32/60\n",
      "99/99 [==============================] - 0s 3ms/step - loss: 0.0139 - crf_viterbi_accuracy: 0.9990 - val_loss: 0.0151 - val_crf_viterbi_accuracy: 0.9964\n",
      "Epoch 33/60\n",
      "99/99 [==============================] - 0s 3ms/step - loss: 0.0140 - crf_viterbi_accuracy: 0.9986 - val_loss: 0.0136 - val_crf_viterbi_accuracy: 0.9988\n",
      "Epoch 34/60\n",
      "99/99 [==============================] - 0s 3ms/step - loss: 0.0134 - crf_viterbi_accuracy: 0.9989 - val_loss: 0.0147 - val_crf_viterbi_accuracy: 0.9988\n",
      "Epoch 35/60\n",
      "99/99 [==============================] - 0s 4ms/step - loss: 0.0136 - crf_viterbi_accuracy: 0.9990 - val_loss: 0.0124 - val_crf_viterbi_accuracy: 0.9988\n",
      "Epoch 36/60\n",
      "99/99 [==============================] - 0s 4ms/step - loss: 0.0114 - crf_viterbi_accuracy: 0.9993 - val_loss: 0.0119 - val_crf_viterbi_accuracy: 0.9988\n",
      "Epoch 37/60\n",
      "99/99 [==============================] - 0s 3ms/step - loss: 0.0113 - crf_viterbi_accuracy: 0.9981 - val_loss: 0.0115 - val_crf_viterbi_accuracy: 1.0000\n",
      "Epoch 38/60\n",
      "99/99 [==============================] - 0s 3ms/step - loss: 0.0114 - crf_viterbi_accuracy: 0.9993 - val_loss: 0.0106 - val_crf_viterbi_accuracy: 0.9988\n",
      "Epoch 39/60\n",
      "99/99 [==============================] - 0s 3ms/step - loss: 0.0102 - crf_viterbi_accuracy: 0.9993 - val_loss: 0.0102 - val_crf_viterbi_accuracy: 0.9988\n",
      "Epoch 40/60\n",
      "99/99 [==============================] - 0s 4ms/step - loss: 0.0102 - crf_viterbi_accuracy: 0.9993 - val_loss: 0.0096 - val_crf_viterbi_accuracy: 1.0000\n",
      "Epoch 41/60\n",
      "99/99 [==============================] - 0s 3ms/step - loss: 0.0098 - crf_viterbi_accuracy: 0.9993 - val_loss: 0.0100 - val_crf_viterbi_accuracy: 0.9988\n",
      "Epoch 42/60\n",
      "99/99 [==============================] - 0s 4ms/step - loss: 0.0091 - crf_viterbi_accuracy: 0.9996 - val_loss: 0.0105 - val_crf_viterbi_accuracy: 0.9988\n",
      "Epoch 43/60\n",
      "99/99 [==============================] - 0s 4ms/step - loss: 0.0094 - crf_viterbi_accuracy: 0.9983 - val_loss: 0.0085 - val_crf_viterbi_accuracy: 1.0000\n",
      "Epoch 44/60\n",
      "99/99 [==============================] - 0s 3ms/step - loss: 0.0084 - crf_viterbi_accuracy: 0.9998 - val_loss: 0.0097 - val_crf_viterbi_accuracy: 0.9988\n",
      "Epoch 45/60\n",
      "99/99 [==============================] - 0s 3ms/step - loss: 0.0098 - crf_viterbi_accuracy: 0.9994 - val_loss: 0.0089 - val_crf_viterbi_accuracy: 0.9988\n",
      "Epoch 46/60\n",
      "99/99 [==============================] - 0s 4ms/step - loss: 0.0081 - crf_viterbi_accuracy: 0.9998 - val_loss: 0.0088 - val_crf_viterbi_accuracy: 0.9988\n",
      "Epoch 47/60\n",
      "99/99 [==============================] - 0s 4ms/step - loss: 0.0084 - crf_viterbi_accuracy: 0.9997 - val_loss: 0.0073 - val_crf_viterbi_accuracy: 1.0000\n",
      "Epoch 48/60\n",
      "99/99 [==============================] - 0s 4ms/step - loss: 0.0075 - crf_viterbi_accuracy: 0.9999 - val_loss: 0.0071 - val_crf_viterbi_accuracy: 1.0000\n",
      "Epoch 49/60\n",
      "99/99 [==============================] - 0s 3ms/step - loss: 0.0072 - crf_viterbi_accuracy: 0.9999 - val_loss: 0.0070 - val_crf_viterbi_accuracy: 1.0000\n",
      "Epoch 50/60\n"
     ]
    },
    {
     "name": "stdout",
     "output_type": "stream",
     "text": [
      "99/99 [==============================] - 0s 4ms/step - loss: 0.0070 - crf_viterbi_accuracy: 1.0000 - val_loss: 0.0069 - val_crf_viterbi_accuracy: 1.0000\n",
      "Epoch 51/60\n",
      "99/99 [==============================] - 0s 3ms/step - loss: 0.0069 - crf_viterbi_accuracy: 1.0000 - val_loss: 0.0070 - val_crf_viterbi_accuracy: 1.0000\n",
      "Epoch 52/60\n",
      "99/99 [==============================] - 0s 3ms/step - loss: 0.0069 - crf_viterbi_accuracy: 1.0000 - val_loss: 0.0067 - val_crf_viterbi_accuracy: 1.0000\n",
      "Epoch 53/60\n",
      "99/99 [==============================] - 0s 3ms/step - loss: 0.0081 - crf_viterbi_accuracy: 0.9995 - val_loss: 0.0065 - val_crf_viterbi_accuracy: 1.0000\n",
      "Epoch 54/60\n",
      "99/99 [==============================] - 0s 4ms/step - loss: 0.0066 - crf_viterbi_accuracy: 0.9999 - val_loss: 0.0064 - val_crf_viterbi_accuracy: 1.0000\n",
      "Epoch 55/60\n",
      "99/99 [==============================] - 0s 4ms/step - loss: 0.0064 - crf_viterbi_accuracy: 1.0000 - val_loss: 0.0063 - val_crf_viterbi_accuracy: 1.0000\n",
      "Epoch 56/60\n",
      "99/99 [==============================] - 0s 3ms/step - loss: 0.0064 - crf_viterbi_accuracy: 1.0000 - val_loss: 0.0062 - val_crf_viterbi_accuracy: 1.0000\n",
      "Epoch 57/60\n",
      "99/99 [==============================] - 0s 3ms/step - loss: 0.0062 - crf_viterbi_accuracy: 1.0000 - val_loss: 0.0062 - val_crf_viterbi_accuracy: 1.0000\n",
      "Epoch 58/60\n",
      "99/99 [==============================] - 0s 4ms/step - loss: 0.0065 - crf_viterbi_accuracy: 0.9999 - val_loss: 0.0061 - val_crf_viterbi_accuracy: 1.0000\n",
      "Epoch 59/60\n",
      "99/99 [==============================] - 0s 3ms/step - loss: 0.0061 - crf_viterbi_accuracy: 1.0000 - val_loss: 0.0060 - val_crf_viterbi_accuracy: 1.0000\n",
      "Epoch 60/60\n",
      "99/99 [==============================] - 0s 4ms/step - loss: 0.0060 - crf_viterbi_accuracy: 1.0000 - val_loss: 0.0059 - val_crf_viterbi_accuracy: 1.0000\n"
     ]
    }
   ],
   "source": [
    "history = model.fit([X_tr,X_pos_tr], np.array(y_tr), batch_size=32, epochs=60,\n",
    "                    validation_split=0.1, verbose=1)"
   ]
  },
  {
   "cell_type": "code",
   "execution_count": null,
   "metadata": {},
   "outputs": [],
   "source": [
    "from seqeval.metrics import precision_score, recall_score, f1_score, classification_report\n"
   ]
  },
  {
   "cell_type": "code",
   "execution_count": 116,
   "metadata": {},
   "outputs": [
    {
     "ename": "NameError",
     "evalue": "name 'X_te' is not defined",
     "output_type": "error",
     "traceback": [
      "\u001b[0;31m---------------------------------------------------------------------------\u001b[0m",
      "\u001b[0;31mNameError\u001b[0m                                 Traceback (most recent call last)",
      "\u001b[0;32m<ipython-input-116-7bdf1de780c3>\u001b[0m in \u001b[0;36m<module>\u001b[0;34m\u001b[0m\n\u001b[0;32m----> 1\u001b[0;31m \u001b[0mtest_pred\u001b[0m \u001b[0;34m=\u001b[0m \u001b[0mmodel\u001b[0m\u001b[0;34m.\u001b[0m\u001b[0mpredict\u001b[0m\u001b[0;34m(\u001b[0m\u001b[0mX_te\u001b[0m\u001b[0;34m,\u001b[0m \u001b[0mverbose\u001b[0m\u001b[0;34m=\u001b[0m\u001b[0;36m1\u001b[0m\u001b[0;34m)\u001b[0m\u001b[0;34m\u001b[0m\u001b[0;34m\u001b[0m\u001b[0m\n\u001b[0m",
      "\u001b[0;31mNameError\u001b[0m: name 'X_te' is not defined"
     ]
    }
   ],
   "source": [
    "test_pred = model.predict(X_te, verbose=1)"
   ]
  },
  {
   "cell_type": "code",
   "execution_count": null,
   "metadata": {},
   "outputs": [],
   "source": [
    "idx2tag = {i: w for w, i in tag2idx.items()}\n",
    "\n",
    "def pred2label(pred):\n",
    "    out = []\n",
    "    for pred_i in pred:\n",
    "        out_i = []\n",
    "        for p in pred_i:\n",
    "            p_i = np.argmax(p)\n",
    "            out_i.append(idx2tag[p_i].replace(\"PAD\", \"\"))\n",
    "        out.append(out_i)\n",
    "    return out\n",
    "    \n",
    "pred_labels = pred2label(test_pred)\n",
    "test_labels = pred2label(y_te)"
   ]
  },
  {
   "cell_type": "code",
   "execution_count": null,
   "metadata": {},
   "outputs": [],
   "source": [
    "print(test_labels)\n",
    "print(\"-----\")\n",
    "print(pred_labels)\n",
    "print(\"F1-score: {:.1%}\".format(f1_score(test_labels, pred_labels)))"
   ]
  },
  {
   "cell_type": "code",
   "execution_count": null,
   "metadata": {
    "scrolled": true
   },
   "outputs": [],
   "source": [
    "sentence = \"Take me to police station, quickly!\"\n",
    "entities_words = [\"police\",\"station\"]\n",
    "array = []\n",
    "doc = nlp(sentence)\n",
    "for token in doc:\n",
    "    text = token.text\n",
    "    print(text)\n",
    "    if token.text in entities_words:\n",
    "        tag = \"Destination\"\n",
    "    else:\n",
    "        tag = \"\"\n",
    "\n",
    "    array.append(tuple([token.text,token.pos_,tag]))\n",
    "print(array)\n",
    "X = [[word2idx.get(w[0],word2idx[\"Unknown\"]) for w in s] for s in [array]]\n",
    "print(X)\n",
    "X = pad_sequences(maxlen=max_len, sequences=X, padding=\"post\", value=n_words-1)\n",
    "y = [[tag2idx[w[2]] for w in s] for s in [array]]\n",
    "y = pad_sequences(maxlen=max_len, sequences=y, padding=\"post\", value=tag2idx[\"\"])\n",
    "y = [to_categorical(i, num_classes=n_tags) for i in y]\n",
    "#print(y)\n",
    "test_pred = model.predict(X, verbose=1)\n",
    "pred_labels = pred2label(test_pred)\n",
    "test_labels = pred2label(y)\n",
    "print(test_labels,pred_labels)\n",
    "#print(pred_labels)"
   ]
  },
  {
   "cell_type": "code",
   "execution_count": null,
   "metadata": {},
   "outputs": [],
   "source": [
    "print(word2idx)"
   ]
  },
  {
   "cell_type": "code",
   "execution_count": null,
   "metadata": {},
   "outputs": [],
   "source": []
  },
  {
   "cell_type": "code",
   "execution_count": null,
   "metadata": {},
   "outputs": [],
   "source": []
  },
  {
   "cell_type": "code",
   "execution_count": null,
   "metadata": {},
   "outputs": [],
   "source": []
  },
  {
   "cell_type": "code",
   "execution_count": null,
   "metadata": {},
   "outputs": [],
   "source": []
  }
 ],
 "metadata": {
  "kernelspec": {
   "display_name": "Python 3",
   "language": "python",
   "name": "python3"
  },
  "language_info": {
   "codemirror_mode": {
    "name": "ipython",
    "version": 3
   },
   "file_extension": ".py",
   "mimetype": "text/x-python",
   "name": "python",
   "nbconvert_exporter": "python",
   "pygments_lexer": "ipython3",
   "version": "3.7.3"
  }
 },
 "nbformat": 4,
 "nbformat_minor": 2
}
