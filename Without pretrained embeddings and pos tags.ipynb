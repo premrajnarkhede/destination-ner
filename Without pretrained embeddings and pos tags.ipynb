{
 "cells": [
  {
   "cell_type": "code",
   "execution_count": 253,
   "metadata": {},
   "outputs": [
    {
     "name": "stdout",
     "output_type": "stream",
     "text": [
      "Destination_fpfshfijtv\n"
     ]
    }
   ],
   "source": [
    "import pandas as pd\n",
    "import numpy as np\n",
    "import random\n",
    "import string\n",
    "\n",
    "def randomString(stringLength=10):\n",
    "    \"\"\"Generate a random string of fixed length \"\"\"\n",
    "    letters = string.ascii_lowercase\n",
    "    rand_int = random.randint(0,2)\n",
    "#     print(rand_int)\n",
    "    string_random = ''.join(random.choice(letters) for i in range(stringLength))\n",
    "#     for i in range(rand_int+1):\n",
    "    \n",
    "#         string_random = string_random +\" \" + ''.join(random.choice(letters) for i in range(stringLength))\n",
    "    \n",
    "    return \"Destination_\"+string_random\n",
    "\n",
    "print(randomString())"
   ]
  },
  {
   "cell_type": "code",
   "execution_count": 254,
   "metadata": {},
   "outputs": [
    {
     "name": "stdout",
     "output_type": "stream",
     "text": [
      "Destination_carzefrffm\n"
     ]
    }
   ],
   "source": [
    "print(randomString())"
   ]
  },
  {
   "cell_type": "code",
   "execution_count": 255,
   "metadata": {},
   "outputs": [],
   "source": [
    "data = open(\"dummyData.txt\").readlines()"
   ]
  },
  {
   "cell_type": "code",
   "execution_count": 256,
   "metadata": {},
   "outputs": [],
   "source": [
    "import spacy\n",
    "\n",
    "nlp = spacy.load(\"en_core_web_sm\")\n"
   ]
  },
  {
   "cell_type": "code",
   "execution_count": 257,
   "metadata": {},
   "outputs": [],
   "source": [
    "array = []\n",
    "for textindex,text in enumerate(data):\n",
    "    doc = nlp(text.strip())\n",
    "    for token in doc:\n",
    "        #print(token.text, token.lemma_, token.pos_, token.tag_, token.dep_,\n",
    "        #        token.shape_, token.is_alpha, token.is_stop)\n",
    "        text = token.text\n",
    "        if token.text == \"XYYZ\":\n",
    "            tag = \"Destination\"\n",
    "            text = randomString()\n",
    "        else:\n",
    "            tag = \"\"\n",
    "        \n",
    "        array.append(dict(Sentence=textindex,Word=text,POS=token.pos_,Tag=tag))"
   ]
  },
  {
   "cell_type": "code",
   "execution_count": 258,
   "metadata": {},
   "outputs": [],
   "source": [
    "df = pd.DataFrame(array)  "
   ]
  },
  {
   "cell_type": "code",
   "execution_count": 259,
   "metadata": {},
   "outputs": [
    {
     "data": {
      "text/html": [
       "<div>\n",
       "<style scoped>\n",
       "    .dataframe tbody tr th:only-of-type {\n",
       "        vertical-align: middle;\n",
       "    }\n",
       "\n",
       "    .dataframe tbody tr th {\n",
       "        vertical-align: top;\n",
       "    }\n",
       "\n",
       "    .dataframe thead th {\n",
       "        text-align: right;\n",
       "    }\n",
       "</style>\n",
       "<table border=\"1\" class=\"dataframe\">\n",
       "  <thead>\n",
       "    <tr style=\"text-align: right;\">\n",
       "      <th></th>\n",
       "      <th>POS</th>\n",
       "      <th>Sentence</th>\n",
       "      <th>Tag</th>\n",
       "      <th>Word</th>\n",
       "    </tr>\n",
       "  </thead>\n",
       "  <tbody>\n",
       "    <tr>\n",
       "      <th>770</th>\n",
       "      <td>AUX</td>\n",
       "      <td>121</td>\n",
       "      <td></td>\n",
       "      <td>get</td>\n",
       "    </tr>\n",
       "    <tr>\n",
       "      <th>771</th>\n",
       "      <td>NOUN</td>\n",
       "      <td>121</td>\n",
       "      <td></td>\n",
       "      <td>directions</td>\n",
       "    </tr>\n",
       "    <tr>\n",
       "      <th>772</th>\n",
       "      <td>ADV</td>\n",
       "      <td>121</td>\n",
       "      <td></td>\n",
       "      <td>home</td>\n",
       "    </tr>\n",
       "    <tr>\n",
       "      <th>773</th>\n",
       "      <td>PRON</td>\n",
       "      <td>122</td>\n",
       "      <td></td>\n",
       "      <td>I</td>\n",
       "    </tr>\n",
       "    <tr>\n",
       "      <th>774</th>\n",
       "      <td>VERB</td>\n",
       "      <td>122</td>\n",
       "      <td></td>\n",
       "      <td>got</td>\n",
       "    </tr>\n",
       "    <tr>\n",
       "      <th>775</th>\n",
       "      <td>PART</td>\n",
       "      <td>122</td>\n",
       "      <td></td>\n",
       "      <td>to</td>\n",
       "    </tr>\n",
       "    <tr>\n",
       "      <th>776</th>\n",
       "      <td>AUX</td>\n",
       "      <td>122</td>\n",
       "      <td></td>\n",
       "      <td>get</td>\n",
       "    </tr>\n",
       "    <tr>\n",
       "      <th>777</th>\n",
       "      <td>NOUN</td>\n",
       "      <td>122</td>\n",
       "      <td></td>\n",
       "      <td>directions</td>\n",
       "    </tr>\n",
       "    <tr>\n",
       "      <th>778</th>\n",
       "      <td>ADP</td>\n",
       "      <td>122</td>\n",
       "      <td></td>\n",
       "      <td>to</td>\n",
       "    </tr>\n",
       "    <tr>\n",
       "      <th>779</th>\n",
       "      <td>PROPN</td>\n",
       "      <td>122</td>\n",
       "      <td>Destination</td>\n",
       "      <td>Destination_lekhjrjydy</td>\n",
       "    </tr>\n",
       "  </tbody>\n",
       "</table>\n",
       "</div>"
      ],
      "text/plain": [
       "       POS  Sentence          Tag                    Word\n",
       "770    AUX       121                                  get\n",
       "771   NOUN       121                           directions\n",
       "772    ADV       121                                 home\n",
       "773   PRON       122                                    I\n",
       "774   VERB       122                                  got\n",
       "775   PART       122                                   to\n",
       "776    AUX       122                                  get\n",
       "777   NOUN       122                           directions\n",
       "778    ADP       122                                   to\n",
       "779  PROPN       122  Destination  Destination_lekhjrjydy"
      ]
     },
     "execution_count": 259,
     "metadata": {},
     "output_type": "execute_result"
    }
   ],
   "source": [
    "df.tail(10)"
   ]
  },
  {
   "cell_type": "code",
   "execution_count": 260,
   "metadata": {},
   "outputs": [
    {
     "data": {
      "text/plain": [
       "133"
      ]
     },
     "execution_count": 260,
     "metadata": {},
     "output_type": "execute_result"
    }
   ],
   "source": [
    "words = list(set(df[\"Word\"].values))\n",
    "words.append(\"ENDPAD\")\n",
    "words.append(\"Unknown\")\n",
    "n_words = len(words); n_words"
   ]
  },
  {
   "cell_type": "code",
   "execution_count": 261,
   "metadata": {},
   "outputs": [],
   "source": [
    "tags = list(set(df[\"Tag\"].values))\n",
    "n_tags = len(tags); n_tags\n",
    "\n",
    "pos = list(set(df[\"POS\"].values))\n",
    "pos_tags = len(pos)"
   ]
  },
  {
   "cell_type": "code",
   "execution_count": 262,
   "metadata": {},
   "outputs": [],
   "source": [
    "agg_func = lambda s: [(w, p, t) for w, p, t in zip(s[\"Word\"].values.tolist(),\n",
    "                                                   s[\"POS\"].values.tolist(),\n",
    "                                                   s[\"Tag\"].values.tolist())]\n",
    "grouped = df.groupby(\"Sentence\").apply(agg_func)"
   ]
  },
  {
   "cell_type": "code",
   "execution_count": 263,
   "metadata": {},
   "outputs": [],
   "source": [
    "sentences = [s for s in grouped]"
   ]
  },
  {
   "cell_type": "code",
   "execution_count": 264,
   "metadata": {},
   "outputs": [
    {
     "name": "stdout",
     "output_type": "stream",
     "text": [
      "[('directions', 'NOUN', ''), ('to', 'ADP', ''), ('Destination_lvjvwfmxhg', 'PROPN', 'Destination')]\n"
     ]
    }
   ],
   "source": [
    "print(sentences[0])"
   ]
  },
  {
   "cell_type": "code",
   "execution_count": 265,
   "metadata": {},
   "outputs": [],
   "source": [
    "def yield_sentence():\n",
    "    for group in grouped:\n",
    "        yield group\n",
    "    yield None"
   ]
  },
  {
   "cell_type": "code",
   "execution_count": 266,
   "metadata": {},
   "outputs": [
    {
     "name": "stdout",
     "output_type": "stream",
     "text": [
      "[('directions', 'NOUN', ''), ('to', 'ADP', ''), ('Destination_lvjvwfmxhg', 'PROPN', 'Destination')]\n",
      "-------\n",
      "[('directions', 'NOUN', ''), ('to', 'ADP', ''), ('Destination_icdhfauyhd', 'PROPN', 'Destination'), ('home', 'ADV', '')]\n",
      "-------\n",
      "[('directions', 'NOUN', ''), ('to', 'ADP', ''), ('Destination_kqmboocojq', 'PROPN', 'Destination'), ('work', 'NOUN', '')]\n",
      "-------\n",
      "[('directions', 'NOUN', ''), ('to', 'ADP', ''), ('the', 'DET', ''), ('closest', 'ADJ', ''), ('Destination_yunpiumlsg', 'PROPN', 'Destination')]\n",
      "-------\n",
      "[('directions', 'NOUN', ''), ('to', 'ADP', ''), ('the', 'DET', ''), ('nearest', 'ADJ', ''), ('Destination_ubmxibjijg', 'PROPN', 'Destination')]\n",
      "-------\n",
      "[('directions', 'NOUN', ''), ('to', 'PART', ''), ('go', 'VERB', ''), ('home', 'ADV', '')]\n",
      "-------\n",
      "[('directions', 'NOUN', ''), ('to', 'PART', ''), ('go', 'VERB', ''), ('to', 'ADP', ''), ('Destination_twftmbmnuo', 'PROPN', 'Destination')]\n",
      "-------\n",
      "[('directions', 'NOUN', ''), ('to', 'PART', ''), ('go', 'VERB', ''), ('to', 'ADP', ''), ('Destination_dhqmphyvdv', 'PROPN', 'Destination'), ('home', 'ADV', '')]\n",
      "-------\n",
      "[('directions', 'NOUN', ''), ('to', 'PART', ''), ('go', 'VERB', ''), ('to', 'ADP', ''), ('Destination_bwxfqauhsd', 'PROPN', 'Destination'), ('work', 'NOUN', '')]\n",
      "-------\n",
      "[('directions', 'NOUN', ''), ('to', 'PART', ''), ('go', 'VERB', ''), ('to', 'ADP', ''), ('the', 'DET', ''), ('closest', 'ADJ', ''), ('Destination_udybxvqysk', 'PROPN', 'Destination')]\n",
      "-------\n",
      "[('directions', 'NOUN', ''), ('to', 'PART', ''), ('go', 'VERB', ''), ('to', 'ADP', ''), ('the', 'DET', ''), ('nearest', 'ADJ', ''), ('Destination_fmwjjgqwgb', 'PROPN', 'Destination')]\n",
      "-------\n",
      "[('I', 'PRON', ''), ('got', 'VERB', ''), ('to', 'PART', ''), ('navigate', 'VERB', ''), ('to', 'ADP', ''), ('Destination_yepewwqnvy', 'PROPN', 'Destination')]\n",
      "-------\n",
      "[('I', 'PRON', ''), ('got', 'VERB', ''), ('to', 'PART', ''), ('navigate', 'VERB', ''), ('to', 'ADP', ''), ('Destination_frqyrzgsnx', 'PROPN', 'Destination'), ('home', 'ADV', '')]\n",
      "-------\n",
      "[('I', 'PRON', ''), ('got', 'VERB', ''), ('to', 'PART', ''), ('navigate', 'VERB', ''), ('to', 'ADP', ''), ('Destination_lduuudeqga', 'PROPN', 'Destination'), ('work', 'NOUN', '')]\n",
      "-------\n",
      "[('I', 'PRON', ''), ('got', 'VERB', ''), ('to', 'PART', ''), ('navigate', 'VERB', ''), ('to', 'ADP', ''), ('the', 'DET', ''), ('nearest', 'ADJ', ''), ('Destination_iwxfucpldd', 'PROPN', 'Destination')]\n",
      "-------\n",
      "[('I', 'PRON', ''), ('have', 'AUX', ''), ('to', 'PART', ''), ('navigate', 'VERB', ''), ('to', 'ADP', ''), ('Destination_xbdcwnxhed', 'PROPN', 'Destination')]\n",
      "-------\n",
      "[('I', 'PRON', ''), ('have', 'AUX', ''), ('to', 'PART', ''), ('navigate', 'VERB', ''), ('to', 'ADP', ''), ('Destination_jjixijiwtl', 'PROPN', 'Destination'), ('home', 'ADV', '')]\n",
      "-------\n",
      "[('I', 'PRON', ''), ('have', 'AUX', ''), ('to', 'PART', ''), ('navigate', 'VERB', ''), ('to', 'ADP', ''), ('Destination_lmfnuwyjro', 'PROPN', 'Destination'), ('work', 'NOUN', '')]\n",
      "-------\n",
      "[('I', 'PRON', ''), ('have', 'AUX', ''), ('to', 'PART', ''), ('navigate', 'VERB', ''), ('to', 'ADP', ''), ('the', 'DET', ''), ('nearest', 'ADJ', ''), ('Destination_rbhzinkfod', 'PROPN', 'Destination')]\n",
      "-------\n",
      "[('I', 'PRON', ''), ('need', 'VERB', ''), ('to', 'PART', ''), ('navigate', 'VERB', ''), ('to', 'ADP', ''), ('Destination_ojrdqejpvy', 'PROPN', 'Destination')]\n",
      "-------\n",
      "[('I', 'PRON', ''), ('need', 'VERB', ''), ('to', 'PART', ''), ('navigate', 'VERB', ''), ('to', 'ADP', ''), ('Destination_givxlwztmb', 'PROPN', 'Destination'), ('home', 'ADV', '')]\n",
      "-------\n",
      "[('I', 'PRON', ''), ('need', 'VERB', ''), ('to', 'PART', ''), ('navigate', 'VERB', ''), ('to', 'ADP', ''), ('Destination_xfehcjsfdk', 'PROPN', 'Destination'), ('work', 'NOUN', '')]\n",
      "-------\n",
      "[('I', 'PRON', ''), ('need', 'VERB', ''), ('to', 'PART', ''), ('navigate', 'VERB', ''), ('to', 'ADP', ''), ('the', 'DET', ''), ('nearest', 'ADJ', ''), ('Destination_gwgyjypieo', 'PROPN', 'Destination')]\n",
      "-------\n",
      "[('I', 'PRON', ''), ('want', 'VERB', ''), ('to', 'PART', ''), ('navigate', 'VERB', ''), ('to', 'ADP', ''), ('Destination_uwuzwlevxt', 'PROPN', 'Destination')]\n",
      "-------\n",
      "[('I', 'PRON', ''), ('want', 'VERB', ''), ('to', 'PART', ''), ('navigate', 'VERB', ''), ('to', 'ADP', ''), ('Destination_aovkngqhrg', 'PROPN', 'Destination'), ('home', 'ADV', '')]\n",
      "-------\n",
      "[('I', 'PRON', ''), ('want', 'VERB', ''), ('to', 'PART', ''), ('navigate', 'VERB', ''), ('to', 'ADP', ''), ('Destination_ltlrbvzsmc', 'PROPN', 'Destination'), ('work', 'NOUN', '')]\n",
      "-------\n",
      "[('I', 'PRON', ''), ('want', 'VERB', ''), ('to', 'PART', ''), ('navigate', 'VERB', ''), ('to', 'ADP', ''), ('the', 'DET', ''), ('nearest', 'ADJ', ''), ('Destination_jyocczcmot', 'PROPN', 'Destination')]\n",
      "-------\n",
      "[('I', 'PRON', ''), ('got', 'VERB', ''), ('to', 'PART', ''), ('navigate', 'VERB', ''), ('home', 'NOUN', '')]\n",
      "-------\n",
      "[('I', 'PRON', ''), ('have', 'AUX', ''), ('to', 'PART', ''), ('navigate', 'VERB', ''), ('home', 'NOUN', '')]\n",
      "-------\n",
      "[('I', 'PRON', ''), ('need', 'VERB', ''), ('to', 'PART', ''), ('navigate', 'VERB', ''), ('home', 'NOUN', '')]\n",
      "-------\n",
      "[('I', 'PRON', ''), ('want', 'VERB', ''), ('to', 'PART', ''), ('navigate', 'VERB', ''), ('home', 'NOUN', '')]\n",
      "-------\n",
      "[('navigate', 'VERB', ''), ('to', 'ADP', ''), ('Destination_bxtsdnwuqd', 'PROPN', 'Destination')]\n",
      "-------\n",
      "[('navigate', 'VERB', ''), ('to', 'ADP', ''), ('Destination_kmgpubbrtl', 'PROPN', 'Destination'), ('home', 'ADV', '')]\n",
      "-------\n",
      "[('navigate', 'VERB', ''), ('to', 'ADP', ''), ('Destination_ijtxmtojle', 'PROPN', 'Destination'), ('work', 'NOUN', '')]\n",
      "-------\n",
      "[('navigate', 'VERB', ''), ('to', 'ADP', ''), ('the', 'DET', ''), ('nearest', 'ADJ', ''), ('Destination_ffumqongub', 'PROPN', 'Destination')]\n",
      "-------\n",
      "[('navigate', 'PROPN', ''), ('home', 'PROPN', '')]\n",
      "-------\n",
      "[('I', 'PRON', ''), ('need', 'VERB', ''), ('to', 'PART', ''), ('go', 'VERB', ''), ('to', 'ADP', ''), ('a', 'DET', ''), ('Destination_ouhpgefngy', 'PROPN', 'Destination'), (',', 'PUNCT', ''), ('navigate', 'VERB', ''), ('to', 'ADP', ''), ('the', 'DET', ''), ('nearest', 'ADJ', ''), ('one', 'NUM', '')]\n",
      "-------\n",
      "[('I', 'PRON', ''), ('want', 'VERB', ''), ('to', 'PART', ''), ('go', 'VERB', ''), ('to', 'ADP', ''), ('a', 'DET', ''), ('Destination_ibkvvzypoa', 'PROPN', 'Destination'), (',', 'PUNCT', ''), ('navigate', 'VERB', ''), ('to', 'ADP', ''), ('the', 'DET', ''), ('nearest', 'ADJ', ''), ('one', 'NUM', '')]\n",
      "-------\n",
      "[('I', 'PRON', ''), ('need', 'VERB', ''), ('to', 'PART', ''), ('go', 'VERB', ''), ('to', 'ADP', ''), ('a', 'DET', ''), ('Destination_ngpbaislqr', 'PROPN', 'Destination'), (',', 'PUNCT', ''), ('go', 'VERB', ''), ('directions', 'NOUN', ''), ('to', 'ADP', ''), ('the', 'DET', ''), ('nearest', 'ADJ', ''), ('one', 'NUM', '')]\n",
      "-------\n",
      "[('I', 'PRON', ''), ('want', 'VERB', ''), ('to', 'PART', ''), ('go', 'VERB', ''), ('to', 'ADP', ''), ('a', 'DET', ''), ('Destination_lhaartdgjj', 'PROPN', 'Destination'), (',', 'PUNCT', ''), ('go', 'VERB', ''), ('directions', 'NOUN', ''), ('to', 'ADP', ''), ('the', 'DET', ''), ('nearest', 'ADJ', ''), ('one', 'NUM', '')]\n",
      "-------\n",
      "[('I', 'PRON', ''), ('need', 'VERB', ''), ('to', 'PART', ''), ('go', 'VERB', ''), ('to', 'ADP', ''), ('a', 'DET', ''), ('Destination_tyxayjpqyd', 'PROPN', 'Destination'), (',', 'PUNCT', ''), ('navigate', 'VERB', ''), ('to', 'ADP', ''), ('the', 'DET', ''), ('closest', 'ADJ', ''), ('one', 'NUM', '')]\n",
      "-------\n",
      "[('I', 'PRON', ''), ('want', 'VERB', ''), ('to', 'PART', ''), ('go', 'VERB', ''), ('to', 'ADP', ''), ('a', 'DET', ''), ('Destination_twjhuhmaou', 'PROPN', 'Destination'), (',', 'PUNCT', ''), ('navigate', 'VERB', ''), ('to', 'ADP', ''), ('the', 'DET', ''), ('closest', 'ADJ', ''), ('one', 'NUM', '')]\n",
      "-------\n",
      "[('I', 'PRON', ''), ('need', 'VERB', ''), ('to', 'PART', ''), ('go', 'VERB', ''), ('to', 'ADP', ''), ('a', 'DET', ''), ('Destination_oxrwuzmipw', 'PROPN', 'Destination'), (',', 'PUNCT', ''), ('go', 'VERB', ''), ('directions', 'NOUN', ''), ('to', 'ADP', ''), ('the', 'DET', ''), ('closest', 'ADJ', ''), ('one', 'NUM', '')]\n",
      "-------\n",
      "[('I', 'PRON', ''), ('want', 'VERB', ''), ('to', 'PART', ''), ('go', 'VERB', ''), ('to', 'ADP', ''), ('a', 'DET', ''), ('Destination_bnslfllfae', 'PROPN', 'Destination'), (',', 'PUNCT', ''), ('go', 'VERB', ''), ('directions', 'NOUN', ''), ('to', 'ADP', ''), ('the', 'DET', ''), ('closest', 'ADJ', ''), ('one', 'NUM', '')]\n",
      "-------\n",
      "[('I', 'PRON', ''), ('need', 'VERB', ''), ('to', 'PART', ''), ('go', 'VERB', ''), ('to', 'ADP', ''), ('a', 'DET', ''), ('Destination_moimtqkvff', 'PROPN', 'Destination'), (',', 'PUNCT', ''), ('drive', 'VERB', ''), ('me', 'PRON', ''), ('to', 'ADP', ''), ('the', 'DET', ''), ('closest', 'ADJ', ''), ('one', 'NUM', '')]\n",
      "-------\n",
      "[('I', 'PRON', ''), ('need', 'VERB', ''), ('to', 'PART', ''), ('go', 'VERB', ''), ('to', 'ADP', ''), ('a', 'DET', ''), ('Destination_fextrthzpn', 'PROPN', 'Destination'), (',', 'PUNCT', ''), ('drive', 'VERB', ''), ('me', 'PRON', ''), ('to', 'ADP', ''), ('the', 'DET', ''), ('nearest', 'ADJ', ''), ('one', 'NUM', '')]\n",
      "-------\n",
      "[('I', 'PRON', ''), ('need', 'VERB', ''), ('to', 'PART', ''), ('go', 'VERB', ''), ('to', 'ADP', ''), ('a', 'DET', ''), ('Destination_vmcelqqapv', 'PROPN', 'Destination'), (',', 'PUNCT', ''), ('get', 'AUX', ''), ('me', 'PRON', ''), ('to', 'ADP', ''), ('the', 'DET', ''), ('closest', 'ADJ', ''), ('one', 'NUM', '')]\n",
      "-------\n",
      "[('drive', 'VERB', ''), ('to', 'ADP', ''), ('Destination_qkvewvnsrm', 'PROPN', 'Destination')]\n",
      "-------\n",
      "[('drive', 'VERB', ''), ('to', 'ADP', ''), ('Destination_sodlflljdw', 'PROPN', 'Destination'), ('home', 'ADV', '')]\n",
      "-------\n",
      "[('drive', 'VERB', ''), ('to', 'ADP', ''), ('Destination_oakyqcsazj', 'PROPN', 'Destination'), ('office', 'NOUN', '')]\n",
      "-------\n",
      "[('drive', 'VERB', ''), ('to', 'ADP', ''), ('Destination_ejpwadiwbd', 'PROPN', 'Destination'), ('work', 'NOUN', '')]\n",
      "-------\n",
      "[('drive', 'VERB', ''), ('to', 'ADP', ''), ('the', 'DET', ''), ('closest', 'ADJ', ''), ('Destination_tcafnkxwel', 'PROPN', 'Destination')]\n",
      "-------\n",
      "[('drive', 'VERB', ''), ('to', 'ADP', ''), ('the', 'DET', ''), ('nearest', 'ADJ', ''), ('Destination_uihmodtvkm', 'PROPN', 'Destination')]\n",
      "-------\n",
      "[('get', 'AUX', ''), ('to', 'ADP', ''), ('Destination_irwzikcjwp', 'PROPN', 'Destination')]\n",
      "-------\n",
      "[('get', 'AUX', ''), ('to', 'ADP', ''), ('Destination_menzsoucdo', 'PROPN', 'Destination'), ('home', 'ADV', '')]\n",
      "-------\n",
      "[('get', 'AUX', ''), ('to', 'ADP', ''), ('Destination_hhopjnqgls', 'PROPN', 'Destination'), ('office', 'NOUN', '')]\n",
      "-------\n",
      "[('get', 'AUX', ''), ('to', 'ADP', ''), ('Destination_vbjhbvhhvc', 'PROPN', 'Destination'), ('work', 'NOUN', '')]\n",
      "-------\n",
      "[('get', 'AUX', ''), ('to', 'ADP', ''), ('the', 'DET', ''), ('closest', 'ADJ', ''), ('Destination_jiqyzqmgwl', 'PROPN', 'Destination')]\n",
      "-------\n",
      "[('get', 'AUX', ''), ('to', 'ADP', ''), ('the', 'DET', ''), ('nearest', 'ADJ', ''), ('Destination_zwkplrrpnt', 'NOUN', 'Destination')]\n",
      "-------\n",
      "[('go', 'VERB', ''), ('to', 'ADP', ''), ('Destination_awnumqazni', 'PROPN', 'Destination')]\n",
      "-------\n",
      "[('go', 'VERB', ''), ('to', 'ADP', ''), ('Destination_cggmzmnosk', 'PROPN', 'Destination'), ('home', 'ADV', '')]\n",
      "-------\n",
      "[('go', 'VERB', ''), ('to', 'ADP', ''), ('Destination_askvbvojqf', 'PROPN', 'Destination'), ('office', 'NOUN', '')]\n",
      "-------\n",
      "[('go', 'VERB', ''), ('to', 'ADP', ''), ('Destination_ugrwuccomy', 'PROPN', 'Destination'), ('work', 'NOUN', '')]\n",
      "-------\n",
      "[('go', 'VERB', ''), ('to', 'ADP', ''), ('the', 'DET', ''), ('closest', 'ADJ', ''), ('Destination_dsqeoptcof', 'PROPN', 'Destination')]\n",
      "-------\n",
      "[('go', 'VERB', ''), ('to', 'ADP', ''), ('the', 'DET', ''), ('nearest', 'ADJ', ''), ('Destination_rhinrvawbq', 'PROPN', 'Destination')]\n",
      "-------\n",
      "[('let', 'VERB', ''), (\"'s\", 'PRON', ''), ('go', 'VERB', ''), ('to', 'ADP', ''), ('Destination_rcgpsbhuaa', 'PROPN', 'Destination')]\n",
      "-------\n",
      "[('let', 'VERB', ''), (\"'s\", 'PRON', ''), ('go', 'VERB', ''), ('to', 'ADP', ''), ('Destination_lylvivreei', 'PROPN', 'Destination'), ('home', 'ADV', '')]\n",
      "-------\n",
      "[('let', 'VERB', ''), (\"'s\", 'PRON', ''), ('go', 'VERB', ''), ('to', 'ADP', ''), ('Destination_ixhemfwdsp', 'PROPN', 'Destination'), ('office', 'NOUN', '')]\n",
      "-------\n",
      "[('let', 'VERB', ''), (\"'s\", 'PRON', ''), ('go', 'VERB', ''), ('to', 'ADP', ''), ('Destination_zgbhwqiyvw', 'PROPN', 'Destination'), ('work', 'NOUN', '')]\n",
      "-------\n",
      "[('let', 'VERB', ''), (\"'s\", 'PRON', ''), ('go', 'VERB', ''), ('to', 'ADP', ''), ('the', 'DET', ''), ('closest', 'ADJ', ''), ('XYYZlet', 'PROPN', ''), (\"'s\", 'PART', ''), ('go', 'NOUN', ''), ('to', 'ADP', ''), ('the', 'DET', ''), ('nearest', 'ADJ', ''), ('Destination_ordbhjpqtc', 'PROPN', 'Destination')]\n",
      "-------\n",
      "[('navigate', 'VERB', ''), ('to', 'ADP', ''), ('Destination_wkbcxtkktf', 'PROPN', 'Destination'), ('office', 'NOUN', '')]\n",
      "-------\n",
      "[('get', 'AUX', ''), ('directions', 'NOUN', ''), ('home', 'ADV', '')]\n",
      "-------\n",
      "[('get', 'AUX', ''), ('directions', 'NOUN', ''), ('to', 'ADP', ''), ('Destination_qynohlumqk', 'PROPN', 'Destination')]\n",
      "-------\n",
      "[('get', 'AUX', ''), ('directions', 'NOUN', ''), ('to', 'ADP', ''), ('Destination_icvkzobsun', 'PROPN', 'Destination'), ('home', 'ADV', '')]\n",
      "-------\n",
      "[('get', 'AUX', ''), ('directions', 'NOUN', ''), ('to', 'ADP', ''), ('Destination_rheknhsppw', 'PROPN', 'Destination'), ('office', 'NOUN', '')]\n",
      "-------\n",
      "[('get', 'AUX', ''), ('directions', 'NOUN', ''), ('to', 'ADP', ''), ('Destination_aehsdflepk', 'PROPN', 'Destination'), ('work', 'NOUN', '')]\n",
      "-------\n",
      "[('get', 'AUX', ''), ('directions', 'NOUN', ''), ('to', 'ADP', ''), ('the', 'DET', ''), ('closest', 'ADJ', ''), ('Destination_eqrlsxwhaw', 'PROPN', 'Destination')]\n",
      "-------\n",
      "[('get', 'AUX', ''), ('directions', 'NOUN', ''), ('to', 'ADP', ''), ('the', 'DET', ''), ('nearest', 'ADJ', ''), ('Destination_fthtaqnuny', 'PROPN', 'Destination')]\n",
      "-------\n",
      "[('get', 'AUX', ''), ('directions', 'NOUN', ''), ('to', 'PART', ''), ('go', 'VERB', ''), ('home', 'ADV', '')]\n",
      "-------\n",
      "[('get', 'AUX', ''), ('directions', 'NOUN', ''), ('to', 'PART', ''), ('go', 'VERB', ''), ('home', 'ADV', '')]\n",
      "-------\n",
      "[('get', 'AUX', ''), ('directions', 'NOUN', ''), ('to', 'PART', ''), ('go', 'VERB', ''), ('to', 'ADP', ''), ('Destination_plgnlkprcg', 'PROPN', 'Destination')]\n",
      "-------\n",
      "[('get', 'AUX', ''), ('directions', 'NOUN', ''), ('to', 'PART', ''), ('go', 'VERB', ''), ('to', 'ADP', ''), ('Destination_yipjkgmsgj', 'PROPN', 'Destination'), ('home', 'ADV', '')]\n",
      "-------\n",
      "[('get', 'AUX', ''), ('directions', 'NOUN', ''), ('to', 'PART', ''), ('go', 'VERB', ''), ('to', 'ADP', ''), ('Destination_bqkgildqlu', 'PROPN', 'Destination'), ('office', 'NOUN', '')]\n",
      "-------\n",
      "[('get', 'AUX', ''), ('directions', 'NOUN', ''), ('to', 'PART', ''), ('go', 'VERB', ''), ('to', 'ADP', ''), ('Destination_pqcqwuxaay', 'PROPN', 'Destination'), ('work', 'NOUN', '')]\n",
      "-------\n",
      "[('get', 'AUX', ''), ('directions', 'NOUN', ''), ('to', 'PART', ''), ('go', 'VERB', ''), ('to', 'ADP', ''), ('the', 'DET', ''), ('closest', 'ADJ', ''), ('Destination_tchuzcuwjl', 'PROPN', 'Destination')]\n",
      "-------\n",
      "[('get', 'AUX', ''), ('directions', 'NOUN', ''), ('to', 'PART', ''), ('go', 'VERB', ''), ('to', 'ADP', ''), ('the', 'DET', ''), ('nearest', 'ADJ', ''), ('Destination_brfeofvjxt', 'PROPN', 'Destination')]\n",
      "-------\n",
      "[('drive', 'VERB', ''), ('home', 'ADV', '')]\n",
      "-------\n",
      "[('get', 'AUX', ''), ('home', 'ADV', '')]\n",
      "-------\n",
      "[('go', 'VERB', ''), ('home', 'ADV', '')]\n",
      "-------\n",
      "[('let', 'VERB', ''), (\"'s\", 'PRON', ''), ('go', 'VERB', ''), ('home', 'ADV', '')]\n",
      "-------\n",
      "[('drive', 'VERB', ''), ('me', 'PRON', ''), ('to', 'ADP', ''), ('Destination_cpxkmmkvwi', 'PROPN', 'Destination')]\n",
      "-------\n",
      "[('drive', 'VERB', ''), ('me', 'PRON', ''), ('to', 'ADP', ''), ('Destination_ndlwlgdeec', 'PROPN', 'Destination'), ('home', 'ADV', '')]\n",
      "-------\n",
      "[('drive', 'VERB', ''), ('me', 'PRON', ''), ('to', 'ADP', ''), ('Destination_qwrqmsovok', 'PROPN', 'Destination'), ('office', 'NOUN', '')]\n",
      "-------\n",
      "[('drive', 'VERB', ''), ('me', 'PRON', ''), ('to', 'ADP', ''), ('Destination_nwbtoljomg', 'PROPN', 'Destination'), ('work', 'NOUN', '')]\n",
      "-------\n",
      "[('drive', 'VERB', ''), ('me', 'PRON', ''), ('to', 'ADP', ''), ('the', 'DET', ''), ('closest', 'ADJ', ''), ('Destination_bjnopfuxgf', 'PROPN', 'Destination')]\n",
      "-------\n",
      "[('drive', 'VERB', ''), ('me', 'PRON', ''), ('to', 'ADP', ''), ('the', 'DET', ''), ('nearest', 'ADJ', ''), ('Destination_amlhslfgnr', 'PROPN', 'Destination')]\n",
      "-------\n",
      "[('get', 'AUX', ''), ('me', 'PRON', ''), ('to', 'ADP', ''), ('Destination_zsacgyqcjz', 'PROPN', 'Destination')]\n",
      "-------\n",
      "[('get', 'AUX', ''), ('me', 'PRON', ''), ('to', 'ADP', ''), ('Destination_clhnbeghcu', 'PROPN', 'Destination'), ('home', 'ADV', '')]\n",
      "-------\n",
      "[('get', 'AUX', ''), ('me', 'PRON', ''), ('to', 'ADP', ''), ('Destination_piszhwxztr', 'PROPN', 'Destination'), ('office', 'NOUN', '')]\n",
      "-------\n",
      "[('get', 'AUX', ''), ('me', 'PRON', ''), ('to', 'ADP', ''), ('Destination_gbvostknbt', 'PROPN', 'Destination'), ('work', 'NOUN', '')]\n",
      "-------\n",
      "[('get', 'AUX', ''), ('me', 'PRON', ''), ('to', 'ADP', ''), ('the', 'DET', ''), ('closest', 'ADJ', ''), ('Destination_ljegtsfijv', 'PROPN', 'Destination')]\n",
      "-------\n",
      "[('get', 'AUX', ''), ('me', 'PRON', ''), ('to', 'ADP', ''), ('the', 'DET', ''), ('nearest', 'ADJ', ''), ('Destination_gyjpvkxaaw', 'PROPN', 'Destination')]\n",
      "-------\n",
      "[('navigate', 'VERB', ''), ('me', 'PRON', ''), ('to', 'ADP', ''), ('Destination_qmmawwzsmv', 'PROPN', 'Destination')]\n",
      "-------\n",
      "[('navigate', 'VERB', ''), ('me', 'PRON', ''), ('to', 'ADP', ''), ('Destination_sparfqetlr', 'PROPN', 'Destination'), ('home', 'ADV', '')]\n",
      "-------\n",
      "[('navigate', 'VERB', ''), ('me', 'PRON', ''), ('to', 'ADP', ''), ('Destination_axjpuabbuz', 'PROPN', 'Destination'), ('office', 'NOUN', '')]\n",
      "-------\n",
      "[('navigate', 'VERB', ''), ('me', 'PRON', ''), ('to', 'ADP', ''), ('Destination_kyptgscqpf', 'PROPN', 'Destination'), ('work', 'NOUN', '')]\n",
      "-------\n",
      "[('I', 'PRON', ''), ('want', 'VERB', ''), ('to', 'PART', ''), ('go', 'VERB', ''), ('to', 'ADP', ''), ('my', 'PRON', ''), ('parents', 'NOUN', ''), (\"'\", 'PART', ''), ('home', 'NOUN', '')]\n",
      "-------\n",
      "[('I', 'PRON', ''), ('want', 'VERB', ''), ('to', 'PART', ''), ('go', 'VERB', ''), ('to', 'ADP', ''), ('my', 'PRON', ''), ('parents', 'NOUN', ''), (\"'\", 'PART', ''), ('place', 'NOUN', '')]\n",
      "-------\n",
      "[('I', 'PRON', ''), ('want', 'VERB', ''), ('to', 'PART', ''), ('go', 'VERB', ''), ('to', 'ADP', ''), ('my', 'PRON', ''), ('place', 'NOUN', '')]\n",
      "-------\n",
      "[('I', 'PRON', ''), ('want', 'VERB', ''), ('to', 'PART', ''), ('go', 'VERB', ''), ('to', 'ADP', ''), ('the', 'DET', ''), ('closest', 'ADJ', ''), ('Destination_ntxqbnzqmn', 'PROPN', 'Destination')]\n",
      "-------\n",
      "[('I', 'PRON', ''), ('want', 'VERB', ''), ('to', 'PART', ''), ('go', 'VERB', ''), ('to', 'ADP', ''), ('the', 'DET', ''), ('nearest', 'ADJ', ''), ('Destination_ynmonlxfux', 'PROPN', 'Destination')]\n",
      "-------\n",
      "[('I', 'PRON', ''), ('want', 'VERB', ''), ('to', 'PART', ''), ('go', 'VERB', ''), ('to', 'ADP', ''), ('work', 'NOUN', '')]\n",
      "-------\n",
      "[('I', 'PRON', ''), ('want', 'VERB', ''), ('to', 'PART', ''), ('navigate', 'VERB', ''), ('to', 'ADP', ''), ('Destination_cxuxedltuf', 'PROPN', 'Destination'), ('office', 'NOUN', '')]\n",
      "-------\n",
      "[('I', 'PRON', ''), ('want', 'VERB', ''), ('to', 'PART', ''), ('navigate', 'VERB', ''), ('to', 'ADP', ''), ('Destination_vkaffmibik', 'PROPN', 'Destination')]\n",
      "-------\n",
      "[('I', 'PRON', ''), ('want', 'VERB', ''), ('to', 'PART', ''), ('navigate', 'VERB', ''), ('to', 'ADP', ''), ('my', 'PRON', ''), ('children', 'NOUN', ''), (\"'s\", 'PART', ''), ('school', 'NOUN', '')]\n",
      "-------\n",
      "[('I', 'PRON', ''), ('want', 'VERB', ''), ('to', 'PART', ''), ('navigate', 'VERB', ''), ('to', 'ADP', ''), ('my', 'PRON', ''), ('kid', 'NOUN', ''), (\"'s\", 'PART', ''), ('school', 'NOUN', '')]\n",
      "-------\n",
      "[('I', 'PRON', ''), ('want', 'VERB', ''), ('to', 'PART', ''), ('navigate', 'VERB', ''), ('to', 'ADP', ''), ('my', 'PRON', ''), ('kids', 'NOUN', ''), (\"'\", 'PART', ''), ('school', 'NOUN', '')]\n",
      "-------\n",
      "[('I', 'PRON', ''), ('want', 'VERB', ''), ('to', 'PART', ''), ('navigate', 'VERB', ''), ('to', 'ADP', ''), ('my', 'PRON', ''), ('office', 'NOUN', '')]\n",
      "-------\n",
      "[('I', 'PRON', ''), ('want', 'VERB', ''), ('to', 'PART', ''), ('navigate', 'VERB', ''), ('to', 'ADP', ''), ('my', 'PRON', ''), ('parents', 'NOUN', ''), (\"'\", 'PART', ''), ('place', 'NOUN', '')]\n",
      "-------\n",
      "[('I', 'PRON', ''), ('want', 'VERB', ''), ('to', 'PART', ''), ('navigate', 'VERB', ''), ('to', 'ADP', ''), ('my', 'PRON', ''), ('place', 'NOUN', '')]\n",
      "-------\n",
      "[('I', 'PRON', ''), ('want', 'VERB', ''), ('to', 'PART', ''), ('navigate', 'VERB', ''), ('to', 'ADP', ''), ('the', 'DET', ''), ('closest', 'ADJ', ''), ('Destination_lyptkaawxl', 'PROPN', 'Destination')]\n",
      "-------\n",
      "[('I', 'PRON', ''), ('got', 'VERB', ''), ('to', 'PART', ''), ('get', 'AUX', ''), ('directions', 'NOUN', ''), ('home', 'ADV', '')]\n",
      "-------\n",
      "[('I', 'PRON', ''), ('got', 'VERB', ''), ('to', 'PART', ''), ('get', 'AUX', ''), ('directions', 'NOUN', ''), ('to', 'ADP', ''), ('Destination_lekhjrjydy', 'PROPN', 'Destination')]\n",
      "-------\n",
      "None\n",
      "-------\n"
     ]
    }
   ],
   "source": [
    "for group in yield_sentence():\n",
    "    print(group)\n",
    "    print(\"-------\")"
   ]
  },
  {
   "cell_type": "code",
   "execution_count": 267,
   "metadata": {},
   "outputs": [],
   "source": [
    "max_len = 75\n",
    "word2idx = {w: i + 1 for i, w in enumerate(words) if \"Destination_\" not in w}\n",
    "tag2idx = {t: i for i, t in enumerate(tags)}\n"
   ]
  },
  {
   "cell_type": "code",
   "execution_count": 268,
   "metadata": {},
   "outputs": [
    {
     "data": {
      "text/plain": [
       "121"
      ]
     },
     "execution_count": 268,
     "metadata": {},
     "output_type": "execute_result"
    }
   ],
   "source": [
    "word2idx[\"directions\"]"
   ]
  },
  {
   "cell_type": "code",
   "execution_count": 269,
   "metadata": {},
   "outputs": [
    {
     "data": {
      "text/plain": [
       "0"
      ]
     },
     "execution_count": 269,
     "metadata": {},
     "output_type": "execute_result"
    }
   ],
   "source": [
    "tag2idx[\"\"]"
   ]
  },
  {
   "cell_type": "code",
   "execution_count": 270,
   "metadata": {},
   "outputs": [],
   "source": [
    "from keras.preprocessing.sequence import pad_sequences\n",
    "X = [[word2idx.get(w[0],word2idx[\"Unknown\"]) for w in s] for s in sentences]"
   ]
  },
  {
   "cell_type": "code",
   "execution_count": 271,
   "metadata": {},
   "outputs": [],
   "source": [
    "X = pad_sequences(maxlen=max_len, sequences=X, padding=\"post\", value=n_words-1)\n"
   ]
  },
  {
   "cell_type": "code",
   "execution_count": 272,
   "metadata": {},
   "outputs": [],
   "source": [
    "y = [[tag2idx[w[2]] for w in s] for s in sentences]"
   ]
  },
  {
   "cell_type": "code",
   "execution_count": 273,
   "metadata": {},
   "outputs": [],
   "source": [
    "y = pad_sequences(maxlen=max_len, sequences=y, padding=\"post\", value=tag2idx[\"\"])\n"
   ]
  },
  {
   "cell_type": "code",
   "execution_count": 274,
   "metadata": {},
   "outputs": [],
   "source": [
    "from keras.utils import to_categorical"
   ]
  },
  {
   "cell_type": "code",
   "execution_count": 275,
   "metadata": {},
   "outputs": [],
   "source": [
    "y = [to_categorical(i, num_classes=n_tags) for i in y]"
   ]
  },
  {
   "cell_type": "code",
   "execution_count": 276,
   "metadata": {},
   "outputs": [],
   "source": [
    "from sklearn.model_selection import train_test_split"
   ]
  },
  {
   "cell_type": "code",
   "execution_count": 277,
   "metadata": {},
   "outputs": [],
   "source": [
    "X_tr, X_te, y_tr, y_te = train_test_split(X, y, test_size=0.1)"
   ]
  },
  {
   "cell_type": "code",
   "execution_count": 278,
   "metadata": {},
   "outputs": [],
   "source": [
    "from keras.models import Model, Input\n",
    "from keras.layers import LSTM, Embedding, Dense, TimeDistributed, Dropout, Bidirectional\n",
    "from keras_contrib.layers import CRF\n",
    "import keras"
   ]
  },
  {
   "cell_type": "code",
   "execution_count": 279,
   "metadata": {},
   "outputs": [],
   "source": [
    "input = Input(shape=(max_len,))\n",
    "model = Embedding(input_dim=n_words + 1, output_dim=20,\n",
    "                  input_length=max_len)(input)  # 20-dim embedding\n",
    "model = Bidirectional(LSTM(units=50, return_sequences=True,\n",
    "                           recurrent_dropout=0.1))(model)  # variational biLSTM\n",
    "model = TimeDistributed(Dense(50, activation=\"relu\"))(model)  # a dense layer as suggested by neuralNer\n",
    "crf = CRF(n_tags)  # CRF layer\n",
    "out = crf(model)  # output"
   ]
  },
  {
   "cell_type": "code",
   "execution_count": 280,
   "metadata": {},
   "outputs": [],
   "source": [
    "model = Model(input, out)"
   ]
  },
  {
   "cell_type": "code",
   "execution_count": 281,
   "metadata": {},
   "outputs": [
    {
     "name": "stderr",
     "output_type": "stream",
     "text": [
      "/home/premraj/anaconda3/lib/python3.7/site-packages/keras_contrib/layers/crf.py:346: UserWarning: CRF.loss_function is deprecated and it might be removed in the future. Please use losses.crf_loss instead.\n",
      "  warnings.warn('CRF.loss_function is deprecated '\n",
      "/home/premraj/anaconda3/lib/python3.7/site-packages/keras_contrib/layers/crf.py:353: UserWarning: CRF.accuracy is deprecated and it might be removed in the future. Please use metrics.crf_accuracy\n",
      "  warnings.warn('CRF.accuracy is deprecated and it '\n"
     ]
    }
   ],
   "source": [
    "model.compile(optimizer=\"rmsprop\", loss=crf.loss_function, metrics=[crf.accuracy])"
   ]
  },
  {
   "cell_type": "code",
   "execution_count": 282,
   "metadata": {},
   "outputs": [
    {
     "name": "stdout",
     "output_type": "stream",
     "text": [
      "Model: \"model_7\"\n",
      "_________________________________________________________________\n",
      "Layer (type)                 Output Shape              Param #   \n",
      "=================================================================\n",
      "input_18 (InputLayer)        (None, 75)                0         \n",
      "_________________________________________________________________\n",
      "embedding_16 (Embedding)     (None, 75, 20)            2680      \n",
      "_________________________________________________________________\n",
      "bidirectional_9 (Bidirection (None, 75, 100)           28400     \n",
      "_________________________________________________________________\n",
      "time_distributed_9 (TimeDist (None, 75, 50)            5050      \n",
      "_________________________________________________________________\n",
      "crf_9 (CRF)                  (None, 75, 2)             110       \n",
      "=================================================================\n",
      "Total params: 36,240\n",
      "Trainable params: 36,240\n",
      "Non-trainable params: 0\n",
      "_________________________________________________________________\n"
     ]
    }
   ],
   "source": [
    "model.summary()"
   ]
  },
  {
   "cell_type": "code",
   "execution_count": 283,
   "metadata": {},
   "outputs": [
    {
     "name": "stderr",
     "output_type": "stream",
     "text": [
      "/home/premraj/anaconda3/lib/python3.7/site-packages/tensorflow_core/python/framework/indexed_slices.py:424: UserWarning: Converting sparse IndexedSlices to a dense Tensor of unknown shape. This may consume a large amount of memory.\n",
      "  \"Converting sparse IndexedSlices to a dense Tensor of unknown shape. \"\n"
     ]
    },
    {
     "name": "stdout",
     "output_type": "stream",
     "text": [
      "Train on 99 samples, validate on 11 samples\n",
      "Epoch 1/60\n",
      "99/99 [==============================] - 2s 24ms/step - loss: 1.5149 - crf_viterbi_accuracy: 0.0100 - val_loss: 0.8754 - val_crf_viterbi_accuracy: 0.0109\n",
      "Epoch 2/60\n",
      "99/99 [==============================] - 0s 4ms/step - loss: 0.4114 - crf_viterbi_accuracy: 0.6895 - val_loss: 0.0396 - val_crf_viterbi_accuracy: 0.9891\n",
      "Epoch 3/60\n",
      "99/99 [==============================] - 0s 4ms/step - loss: 0.0387 - crf_viterbi_accuracy: 0.9890 - val_loss: 0.0372 - val_crf_viterbi_accuracy: 0.9891\n",
      "Epoch 4/60\n",
      "99/99 [==============================] - 0s 4ms/step - loss: 0.0361 - crf_viterbi_accuracy: 0.9900 - val_loss: 0.0365 - val_crf_viterbi_accuracy: 0.9891\n",
      "Epoch 5/60\n",
      "99/99 [==============================] - 0s 4ms/step - loss: 0.0339 - crf_viterbi_accuracy: 0.9900 - val_loss: 0.0340 - val_crf_viterbi_accuracy: 0.9891\n",
      "Epoch 6/60\n",
      "99/99 [==============================] - 0s 4ms/step - loss: 0.0329 - crf_viterbi_accuracy: 0.9892 - val_loss: 0.0328 - val_crf_viterbi_accuracy: 0.9891\n",
      "Epoch 7/60\n",
      "99/99 [==============================] - 0s 4ms/step - loss: 0.0312 - crf_viterbi_accuracy: 0.9900 - val_loss: 0.0320 - val_crf_viterbi_accuracy: 0.9891\n",
      "Epoch 8/60\n",
      "99/99 [==============================] - 0s 4ms/step - loss: 0.0303 - crf_viterbi_accuracy: 0.9900 - val_loss: 0.0313 - val_crf_viterbi_accuracy: 0.9891\n",
      "Epoch 9/60\n",
      "99/99 [==============================] - 0s 4ms/step - loss: 0.0293 - crf_viterbi_accuracy: 0.9900 - val_loss: 0.0312 - val_crf_viterbi_accuracy: 0.9891\n",
      "Epoch 10/60\n",
      "99/99 [==============================] - 0s 4ms/step - loss: 0.0290 - crf_viterbi_accuracy: 0.9900 - val_loss: 0.0304 - val_crf_viterbi_accuracy: 0.9891\n",
      "Epoch 11/60\n",
      "99/99 [==============================] - 0s 3ms/step - loss: 0.0286 - crf_viterbi_accuracy: 0.9890 - val_loss: 0.0298 - val_crf_viterbi_accuracy: 0.9891\n",
      "Epoch 12/60\n",
      "99/99 [==============================] - 0s 4ms/step - loss: 0.0278 - crf_viterbi_accuracy: 0.9900 - val_loss: 0.0291 - val_crf_viterbi_accuracy: 0.9891\n",
      "Epoch 13/60\n",
      "99/99 [==============================] - 0s 4ms/step - loss: 0.0273 - crf_viterbi_accuracy: 0.9910 - val_loss: 0.0303 - val_crf_viterbi_accuracy: 0.9891\n",
      "Epoch 14/60\n",
      "99/99 [==============================] - 0s 4ms/step - loss: 0.0272 - crf_viterbi_accuracy: 0.9900 - val_loss: 0.0281 - val_crf_viterbi_accuracy: 0.9891\n",
      "Epoch 15/60\n",
      "99/99 [==============================] - 0s 4ms/step - loss: 0.0262 - crf_viterbi_accuracy: 0.9900 - val_loss: 0.0280 - val_crf_viterbi_accuracy: 0.9891\n",
      "Epoch 16/60\n",
      "99/99 [==============================] - 0s 4ms/step - loss: 0.0258 - crf_viterbi_accuracy: 0.9910 - val_loss: 0.0286 - val_crf_viterbi_accuracy: 0.9891\n",
      "Epoch 17/60\n",
      "99/99 [==============================] - 0s 4ms/step - loss: 0.0255 - crf_viterbi_accuracy: 0.9900 - val_loss: 0.0272 - val_crf_viterbi_accuracy: 0.9891\n",
      "Epoch 18/60\n",
      "99/99 [==============================] - 0s 4ms/step - loss: 0.0250 - crf_viterbi_accuracy: 0.9900 - val_loss: 0.0260 - val_crf_viterbi_accuracy: 0.9891\n",
      "Epoch 19/60\n",
      "99/99 [==============================] - 0s 4ms/step - loss: 0.0241 - crf_viterbi_accuracy: 0.9900 - val_loss: 0.0255 - val_crf_viterbi_accuracy: 0.9891\n",
      "Epoch 20/60\n",
      "99/99 [==============================] - 0s 4ms/step - loss: 0.0234 - crf_viterbi_accuracy: 0.9900 - val_loss: 0.0247 - val_crf_viterbi_accuracy: 0.9891\n",
      "Epoch 21/60\n",
      "99/99 [==============================] - 0s 4ms/step - loss: 0.0226 - crf_viterbi_accuracy: 0.9900 - val_loss: 0.0244 - val_crf_viterbi_accuracy: 0.9891\n",
      "Epoch 22/60\n",
      "99/99 [==============================] - 0s 3ms/step - loss: 0.0225 - crf_viterbi_accuracy: 0.9890 - val_loss: 0.0244 - val_crf_viterbi_accuracy: 0.9891\n",
      "Epoch 23/60\n",
      "99/99 [==============================] - 0s 4ms/step - loss: 0.0215 - crf_viterbi_accuracy: 0.9900 - val_loss: 0.0220 - val_crf_viterbi_accuracy: 0.9891\n",
      "Epoch 24/60\n",
      "99/99 [==============================] - 0s 4ms/step - loss: 0.0197 - crf_viterbi_accuracy: 0.9900 - val_loss: 0.0206 - val_crf_viterbi_accuracy: 0.9891\n",
      "Epoch 25/60\n",
      "99/99 [==============================] - 0s 4ms/step - loss: 0.0185 - crf_viterbi_accuracy: 0.9900 - val_loss: 0.0195 - val_crf_viterbi_accuracy: 0.9891\n",
      "Epoch 26/60\n",
      "99/99 [==============================] - 0s 4ms/step - loss: 0.0171 - crf_viterbi_accuracy: 0.9900 - val_loss: 0.0178 - val_crf_viterbi_accuracy: 0.9891\n",
      "Epoch 27/60\n",
      "99/99 [==============================] - 0s 4ms/step - loss: 0.0164 - crf_viterbi_accuracy: 0.9890 - val_loss: 0.0161 - val_crf_viterbi_accuracy: 0.9891\n",
      "Epoch 28/60\n",
      "99/99 [==============================] - 0s 4ms/step - loss: 0.0140 - crf_viterbi_accuracy: 0.9900 - val_loss: 0.0143 - val_crf_viterbi_accuracy: 0.9891\n",
      "Epoch 29/60\n",
      "99/99 [==============================] - 0s 4ms/step - loss: 0.0129 - crf_viterbi_accuracy: 0.9890 - val_loss: 0.0129 - val_crf_viterbi_accuracy: 0.9891\n",
      "Epoch 30/60\n",
      "99/99 [==============================] - 0s 4ms/step - loss: 0.0107 - crf_viterbi_accuracy: 0.9890 - val_loss: 0.0116 - val_crf_viterbi_accuracy: 0.9891\n",
      "Epoch 31/60\n",
      "99/99 [==============================] - 0s 3ms/step - loss: 0.0089 - crf_viterbi_accuracy: 0.9900 - val_loss: 0.0083 - val_crf_viterbi_accuracy: 0.9891\n",
      "Epoch 32/60\n",
      "99/99 [==============================] - 0s 4ms/step - loss: 0.0065 - crf_viterbi_accuracy: 0.9890 - val_loss: 0.0060 - val_crf_viterbi_accuracy: 0.9891\n",
      "Epoch 33/60\n",
      "99/99 [==============================] - 0s 4ms/step - loss: 0.0046 - crf_viterbi_accuracy: 0.9914 - val_loss: 0.0042 - val_crf_viterbi_accuracy: 0.9891\n",
      "Epoch 34/60\n",
      "99/99 [==============================] - 0s 4ms/step - loss: 0.0022 - crf_viterbi_accuracy: 0.9920 - val_loss: 0.0017 - val_crf_viterbi_accuracy: 0.9952\n",
      "Epoch 35/60\n",
      "99/99 [==============================] - 0s 4ms/step - loss: 2.3292e-04 - crf_viterbi_accuracy: 0.9957 - val_loss: -1.2133e-05 - val_crf_viterbi_accuracy: 1.0000\n",
      "Epoch 36/60\n",
      "99/99 [==============================] - 0s 3ms/step - loss: -0.0018 - crf_viterbi_accuracy: 0.9977 - val_loss: -0.0019 - val_crf_viterbi_accuracy: 1.0000\n",
      "Epoch 37/60\n",
      "99/99 [==============================] - 0s 4ms/step - loss: -0.0037 - crf_viterbi_accuracy: 0.9998 - val_loss: -0.0043 - val_crf_viterbi_accuracy: 1.0000\n",
      "Epoch 38/60\n",
      "99/99 [==============================] - 0s 4ms/step - loss: -0.0053 - crf_viterbi_accuracy: 1.0000 - val_loss: -0.0059 - val_crf_viterbi_accuracy: 1.0000\n",
      "Epoch 39/60\n",
      "99/99 [==============================] - 0s 4ms/step - loss: -0.0065 - crf_viterbi_accuracy: 1.0000 - val_loss: -0.0071 - val_crf_viterbi_accuracy: 1.0000\n",
      "Epoch 40/60\n",
      "99/99 [==============================] - 0s 4ms/step - loss: -0.0079 - crf_viterbi_accuracy: 1.0000 - val_loss: -0.0082 - val_crf_viterbi_accuracy: 1.0000\n",
      "Epoch 41/60\n",
      "99/99 [==============================] - 0s 4ms/step - loss: -0.0087 - crf_viterbi_accuracy: 1.0000 - val_loss: -0.0094 - val_crf_viterbi_accuracy: 1.0000\n",
      "Epoch 42/60\n",
      "99/99 [==============================] - 0s 4ms/step - loss: -0.0097 - crf_viterbi_accuracy: 1.0000 - val_loss: -0.0100 - val_crf_viterbi_accuracy: 1.0000\n",
      "Epoch 43/60\n",
      "99/99 [==============================] - 0s 4ms/step - loss: -0.0103 - crf_viterbi_accuracy: 1.0000 - val_loss: -0.0107 - val_crf_viterbi_accuracy: 1.0000\n",
      "Epoch 44/60\n",
      "99/99 [==============================] - 0s 4ms/step - loss: -0.0108 - crf_viterbi_accuracy: 1.0000 - val_loss: -0.0111 - val_crf_viterbi_accuracy: 1.0000\n",
      "Epoch 45/60\n",
      "99/99 [==============================] - 0s 4ms/step - loss: -0.0112 - crf_viterbi_accuracy: 1.0000 - val_loss: -0.0114 - val_crf_viterbi_accuracy: 1.0000\n",
      "Epoch 46/60\n",
      "99/99 [==============================] - 0s 4ms/step - loss: -0.0115 - crf_viterbi_accuracy: 1.0000 - val_loss: -0.0117 - val_crf_viterbi_accuracy: 1.0000\n",
      "Epoch 47/60\n",
      "99/99 [==============================] - 0s 4ms/step - loss: -0.0117 - crf_viterbi_accuracy: 1.0000 - val_loss: -0.0119 - val_crf_viterbi_accuracy: 1.0000\n",
      "Epoch 48/60\n",
      "99/99 [==============================] - 0s 3ms/step - loss: -0.0119 - crf_viterbi_accuracy: 1.0000 - val_loss: -0.0120 - val_crf_viterbi_accuracy: 1.0000\n",
      "Epoch 49/60\n",
      "99/99 [==============================] - 0s 4ms/step - loss: -0.0121 - crf_viterbi_accuracy: 1.0000 - val_loss: -0.0122 - val_crf_viterbi_accuracy: 1.0000\n",
      "Epoch 50/60\n"
     ]
    },
    {
     "name": "stdout",
     "output_type": "stream",
     "text": [
      "99/99 [==============================] - 0s 3ms/step - loss: -0.0122 - crf_viterbi_accuracy: 1.0000 - val_loss: -0.0121 - val_crf_viterbi_accuracy: 1.0000\n",
      "Epoch 51/60\n",
      "99/99 [==============================] - 0s 3ms/step - loss: -0.0122 - crf_viterbi_accuracy: 1.0000 - val_loss: -0.0124 - val_crf_viterbi_accuracy: 1.0000\n",
      "Epoch 52/60\n",
      "99/99 [==============================] - 0s 4ms/step - loss: -0.0124 - crf_viterbi_accuracy: 1.0000 - val_loss: -0.0124 - val_crf_viterbi_accuracy: 1.0000\n",
      "Epoch 53/60\n",
      "99/99 [==============================] - 0s 4ms/step - loss: -0.0125 - crf_viterbi_accuracy: 1.0000 - val_loss: -0.0125 - val_crf_viterbi_accuracy: 1.0000\n",
      "Epoch 54/60\n",
      "99/99 [==============================] - 0s 3ms/step - loss: -0.0125 - crf_viterbi_accuracy: 1.0000 - val_loss: -0.0126 - val_crf_viterbi_accuracy: 1.0000\n",
      "Epoch 55/60\n",
      "99/99 [==============================] - 0s 4ms/step - loss: -0.0126 - crf_viterbi_accuracy: 1.0000 - val_loss: -0.0126 - val_crf_viterbi_accuracy: 1.0000\n",
      "Epoch 56/60\n",
      "99/99 [==============================] - 0s 4ms/step - loss: -0.0127 - crf_viterbi_accuracy: 1.0000 - val_loss: -0.0127 - val_crf_viterbi_accuracy: 1.0000\n",
      "Epoch 57/60\n",
      "99/99 [==============================] - 0s 3ms/step - loss: -0.0127 - crf_viterbi_accuracy: 1.0000 - val_loss: -0.0128 - val_crf_viterbi_accuracy: 1.0000\n",
      "Epoch 58/60\n",
      "99/99 [==============================] - 0s 4ms/step - loss: -0.0128 - crf_viterbi_accuracy: 1.0000 - val_loss: -0.0128 - val_crf_viterbi_accuracy: 1.0000\n",
      "Epoch 59/60\n",
      "99/99 [==============================] - 0s 3ms/step - loss: -0.0129 - crf_viterbi_accuracy: 1.0000 - val_loss: -0.0129 - val_crf_viterbi_accuracy: 1.0000\n",
      "Epoch 60/60\n",
      "99/99 [==============================] - 0s 3ms/step - loss: -0.0129 - crf_viterbi_accuracy: 1.0000 - val_loss: -0.0130 - val_crf_viterbi_accuracy: 1.0000\n"
     ]
    }
   ],
   "source": [
    "history = model.fit(X_tr, np.array(y_tr), batch_size=32, epochs=60,\n",
    "                    validation_split=0.1, verbose=1)"
   ]
  },
  {
   "cell_type": "code",
   "execution_count": 284,
   "metadata": {},
   "outputs": [],
   "source": [
    "from seqeval.metrics import precision_score, recall_score, f1_score, classification_report\n"
   ]
  },
  {
   "cell_type": "code",
   "execution_count": 285,
   "metadata": {},
   "outputs": [
    {
     "name": "stdout",
     "output_type": "stream",
     "text": [
      "\r",
      "13/13 [==============================] - 0s 22ms/step\n"
     ]
    }
   ],
   "source": [
    "test_pred = model.predict(X_te, verbose=1)"
   ]
  },
  {
   "cell_type": "code",
   "execution_count": 248,
   "metadata": {},
   "outputs": [],
   "source": [
    "idx2tag = {i: w for w, i in tag2idx.items()}\n",
    "\n",
    "def pred2label(pred):\n",
    "    out = []\n",
    "    for pred_i in pred:\n",
    "        out_i = []\n",
    "        for p in pred_i:\n",
    "            p_i = np.argmax(p)\n",
    "            out_i.append(idx2tag[p_i].replace(\"PAD\", \"\"))\n",
    "        out.append(out_i)\n",
    "    return out\n",
    "    \n",
    "pred_labels = pred2label(test_pred)\n",
    "test_labels = pred2label(y_te)"
   ]
  },
  {
   "cell_type": "code",
   "execution_count": 250,
   "metadata": {},
   "outputs": [
    {
     "name": "stdout",
     "output_type": "stream",
     "text": [
      "[['', '', '', '', 'Destination', '', '', '', '', '', '', '', '', '', '', '', '', '', '', '', '', '', '', '', '', '', '', '', '', '', '', '', '', '', '', '', '', '', '', '', '', '', '', '', '', '', '', '', '', '', '', '', '', '', '', '', '', '', '', '', '', '', '', '', '', '', '', '', '', '', '', '', '', '', ''], ['', '', '', '', '', 'Destination', '', '', '', '', '', '', '', '', '', '', '', '', '', '', '', '', '', '', '', '', '', '', '', '', '', '', '', '', '', '', '', '', '', '', '', '', '', '', '', '', '', '', '', '', '', '', '', '', '', '', '', '', '', '', '', '', '', '', '', '', '', '', '', '', '', '', '', '', ''], ['', '', '', 'Destination', '', '', '', '', '', '', '', '', '', '', '', '', '', '', '', '', '', '', '', '', '', '', '', '', '', '', '', '', '', '', '', '', '', '', '', '', '', '', '', '', '', '', '', '', '', '', '', '', '', '', '', '', '', '', '', '', '', '', '', '', '', '', '', '', '', '', '', '', '', '', ''], ['', '', '', '', 'Destination', '', '', '', '', '', '', '', '', '', '', '', '', '', '', '', '', '', '', '', '', '', '', '', '', '', '', '', '', '', '', '', '', '', '', '', '', '', '', '', '', '', '', '', '', '', '', '', '', '', '', '', '', '', '', '', '', '', '', '', '', '', '', '', '', '', '', '', '', '', ''], ['', '', 'Destination', '', '', '', '', '', '', '', '', '', '', '', '', '', '', '', '', '', '', '', '', '', '', '', '', '', '', '', '', '', '', '', '', '', '', '', '', '', '', '', '', '', '', '', '', '', '', '', '', '', '', '', '', '', '', '', '', '', '', '', '', '', '', '', '', '', '', '', '', '', '', '', ''], ['', '', '', '', '', '', 'Destination', '', '', '', '', '', '', '', '', '', '', '', '', '', '', '', '', '', '', '', '', '', '', '', '', '', '', '', '', '', '', '', '', '', '', '', '', '', '', '', '', '', '', '', '', '', '', '', '', '', '', '', '', '', '', '', '', '', '', '', '', '', '', '', '', '', '', '', ''], ['', '', '', '', 'Destination', '', '', '', '', '', '', '', '', '', '', '', '', '', '', '', '', '', '', '', '', '', '', '', '', '', '', '', '', '', '', '', '', '', '', '', '', '', '', '', '', '', '', '', '', '', '', '', '', '', '', '', '', '', '', '', '', '', '', '', '', '', '', '', '', '', '', '', '', '', ''], ['', '', 'Destination', '', '', '', '', '', '', '', '', '', '', '', '', '', '', '', '', '', '', '', '', '', '', '', '', '', '', '', '', '', '', '', '', '', '', '', '', '', '', '', '', '', '', '', '', '', '', '', '', '', '', '', '', '', '', '', '', '', '', '', '', '', '', '', '', '', '', '', '', '', '', '', ''], ['', '', '', 'Destination', '', '', '', '', '', '', '', '', '', '', '', '', '', '', '', '', '', '', '', '', '', '', '', '', '', '', '', '', '', '', '', '', '', '', '', '', '', '', '', '', '', '', '', '', '', '', '', '', '', '', '', '', '', '', '', '', '', '', '', '', '', '', '', '', '', '', '', '', '', '', ''], ['', '', 'Destination', '', '', '', '', '', '', '', '', '', '', '', '', '', '', '', '', '', '', '', '', '', '', '', '', '', '', '', '', '', '', '', '', '', '', '', '', '', '', '', '', '', '', '', '', '', '', '', '', '', '', '', '', '', '', '', '', '', '', '', '', '', '', '', '', '', '', '', '', '', '', '', ''], ['', '', '', '', 'Destination', '', '', '', '', '', '', '', '', '', '', '', '', '', '', '', '', '', '', '', '', '', '', '', '', '', '', '', '', '', '', '', '', '', '', '', '', '', '', '', '', '', '', '', '', '', '', '', '', '', '', '', '', '', '', '', '', '', '', '', '', '', '', '', '', '', '', '', '', '', ''], ['', '', '', '', '', '', '', '', '', '', '', '', '', '', '', '', '', '', '', '', '', '', '', '', '', '', '', '', '', '', '', '', '', '', '', '', '', '', '', '', '', '', '', '', '', '', '', '', '', '', '', '', '', '', '', '', '', '', '', '', '', '', '', '', '', '', '', '', '', '', '', '', '', '', ''], ['', '', 'Destination', '', '', '', '', '', '', '', '', '', '', '', '', '', '', '', '', '', '', '', '', '', '', '', '', '', '', '', '', '', '', '', '', '', '', '', '', '', '', '', '', '', '', '', '', '', '', '', '', '', '', '', '', '', '', '', '', '', '', '', '', '', '', '', '', '', '', '', '', '', '', '', '']]\n",
      "-----\n",
      "[['', '', '', '', 'Destination', '', '', '', '', '', '', '', '', '', '', '', '', '', '', '', '', '', '', '', '', '', '', '', '', '', '', '', '', '', '', '', '', '', '', '', '', '', '', '', '', '', '', '', '', '', '', '', '', '', '', '', '', '', '', '', '', '', '', '', '', '', '', '', '', '', '', '', '', '', ''], ['', '', '', '', '', 'Destination', '', '', '', '', '', '', '', '', '', '', '', '', '', '', '', '', '', '', '', '', '', '', '', '', '', '', '', '', '', '', '', '', '', '', '', '', '', '', '', '', '', '', '', '', '', '', '', '', '', '', '', '', '', '', '', '', '', '', '', '', '', '', '', '', '', '', '', '', ''], ['', '', '', 'Destination', '', '', '', '', '', '', '', '', '', '', '', '', '', '', '', '', '', '', '', '', '', '', '', '', '', '', '', '', '', '', '', '', '', '', '', '', '', '', '', '', '', '', '', '', '', '', '', '', '', '', '', '', '', '', '', '', '', '', '', '', '', '', '', '', '', '', '', '', '', '', ''], ['', '', '', '', 'Destination', '', '', '', '', '', '', '', '', '', '', '', '', '', '', '', '', '', '', '', '', '', '', '', '', '', '', '', '', '', '', '', '', '', '', '', '', '', '', '', '', '', '', '', '', '', '', '', '', '', '', '', '', '', '', '', '', '', '', '', '', '', '', '', '', '', '', '', '', '', ''], ['', '', 'Destination', '', '', '', '', '', '', '', '', '', '', '', '', '', '', '', '', '', '', '', '', '', '', '', '', '', '', '', '', '', '', '', '', '', '', '', '', '', '', '', '', '', '', '', '', '', '', '', '', '', '', '', '', '', '', '', '', '', '', '', '', '', '', '', '', '', '', '', '', '', '', '', ''], ['', '', '', '', '', '', 'Destination', '', '', '', '', '', '', '', '', '', '', '', '', '', '', '', '', '', '', '', '', '', '', '', '', '', '', '', '', '', '', '', '', '', '', '', '', '', '', '', '', '', '', '', '', '', '', '', '', '', '', '', '', '', '', '', '', '', '', '', '', '', '', '', '', '', '', '', ''], ['', '', '', '', 'Destination', '', '', '', '', '', '', '', '', '', '', '', '', '', '', '', '', '', '', '', '', '', '', '', '', '', '', '', '', '', '', '', '', '', '', '', '', '', '', '', '', '', '', '', '', '', '', '', '', '', '', '', '', '', '', '', '', '', '', '', '', '', '', '', '', '', '', '', '', '', ''], ['', '', 'Destination', '', '', '', '', '', '', '', '', '', '', '', '', '', '', '', '', '', '', '', '', '', '', '', '', '', '', '', '', '', '', '', '', '', '', '', '', '', '', '', '', '', '', '', '', '', '', '', '', '', '', '', '', '', '', '', '', '', '', '', '', '', '', '', '', '', '', '', '', '', '', '', ''], ['', '', '', 'Destination', '', '', '', '', '', '', '', '', '', '', '', '', '', '', '', '', '', '', '', '', '', '', '', '', '', '', '', '', '', '', '', '', '', '', '', '', '', '', '', '', '', '', '', '', '', '', '', '', '', '', '', '', '', '', '', '', '', '', '', '', '', '', '', '', '', '', '', '', '', '', ''], ['', '', 'Destination', '', '', '', '', '', '', '', '', '', '', '', '', '', '', '', '', '', '', '', '', '', '', '', '', '', '', '', '', '', '', '', '', '', '', '', '', '', '', '', '', '', '', '', '', '', '', '', '', '', '', '', '', '', '', '', '', '', '', '', '', '', '', '', '', '', '', '', '', '', '', '', ''], ['', '', '', '', 'Destination', '', '', '', '', '', '', '', '', '', '', '', '', '', '', '', '', '', '', '', '', '', '', '', '', '', '', '', '', '', '', '', '', '', '', '', '', '', '', '', '', '', '', '', '', '', '', '', '', '', '', '', '', '', '', '', '', '', '', '', '', '', '', '', '', '', '', '', '', '', ''], ['', '', '', '', '', '', '', '', '', '', '', '', '', '', '', '', '', '', '', '', '', '', '', '', '', '', '', '', '', '', '', '', '', '', '', '', '', '', '', '', '', '', '', '', '', '', '', '', '', '', '', '', '', '', '', '', '', '', '', '', '', '', '', '', '', '', '', '', '', '', '', '', '', '', ''], ['', '', 'Destination', '', '', '', '', '', '', '', '', '', '', '', '', '', '', '', '', '', '', '', '', '', '', '', '', '', '', '', '', '', '', '', '', '', '', '', '', '', '', '', '', '', '', '', '', '', '', '', '', '', '', '', '', '', '', '', '', '', '', '', '', '', '', '', '', '', '', '', '', '', '', '', '']]\n"
     ]
    },
    {
     "ename": "IndexError",
     "evalue": "string index out of range",
     "output_type": "error",
     "traceback": [
      "\u001b[0;31m---------------------------------------------------------------------------\u001b[0m",
      "\u001b[0;31mIndexError\u001b[0m                                Traceback (most recent call last)",
      "\u001b[0;32m<ipython-input-250-db14ca7cb1a6>\u001b[0m in \u001b[0;36m<module>\u001b[0;34m\u001b[0m\n\u001b[1;32m      2\u001b[0m \u001b[0mprint\u001b[0m\u001b[0;34m(\u001b[0m\u001b[0;34m\"-----\"\u001b[0m\u001b[0;34m)\u001b[0m\u001b[0;34m\u001b[0m\u001b[0;34m\u001b[0m\u001b[0m\n\u001b[1;32m      3\u001b[0m \u001b[0mprint\u001b[0m\u001b[0;34m(\u001b[0m\u001b[0mpred_labels\u001b[0m\u001b[0;34m)\u001b[0m\u001b[0;34m\u001b[0m\u001b[0;34m\u001b[0m\u001b[0m\n\u001b[0;32m----> 4\u001b[0;31m \u001b[0mprint\u001b[0m\u001b[0;34m(\u001b[0m\u001b[0;34m\"F1-score: {:.1%}\"\u001b[0m\u001b[0;34m.\u001b[0m\u001b[0mformat\u001b[0m\u001b[0;34m(\u001b[0m\u001b[0mf1_score\u001b[0m\u001b[0;34m(\u001b[0m\u001b[0mtest_labels\u001b[0m\u001b[0;34m,\u001b[0m \u001b[0mpred_labels\u001b[0m\u001b[0;34m)\u001b[0m\u001b[0;34m)\u001b[0m\u001b[0;34m)\u001b[0m\u001b[0;34m\u001b[0m\u001b[0;34m\u001b[0m\u001b[0m\n\u001b[0m",
      "\u001b[0;32m~/anaconda3/lib/python3.7/site-packages/seqeval/metrics/sequence_labeling.py\u001b[0m in \u001b[0;36mf1_score\u001b[0;34m(y_true, y_pred, average, suffix)\u001b[0m\n\u001b[1;32m    138\u001b[0m         \u001b[0;36m0.50\u001b[0m\u001b[0;34m\u001b[0m\u001b[0;34m\u001b[0m\u001b[0m\n\u001b[1;32m    139\u001b[0m     \"\"\"\n\u001b[0;32m--> 140\u001b[0;31m     \u001b[0mtrue_entities\u001b[0m \u001b[0;34m=\u001b[0m \u001b[0mset\u001b[0m\u001b[0;34m(\u001b[0m\u001b[0mget_entities\u001b[0m\u001b[0;34m(\u001b[0m\u001b[0my_true\u001b[0m\u001b[0;34m,\u001b[0m \u001b[0msuffix\u001b[0m\u001b[0;34m)\u001b[0m\u001b[0;34m)\u001b[0m\u001b[0;34m\u001b[0m\u001b[0;34m\u001b[0m\u001b[0m\n\u001b[0m\u001b[1;32m    141\u001b[0m     \u001b[0mpred_entities\u001b[0m \u001b[0;34m=\u001b[0m \u001b[0mset\u001b[0m\u001b[0;34m(\u001b[0m\u001b[0mget_entities\u001b[0m\u001b[0;34m(\u001b[0m\u001b[0my_pred\u001b[0m\u001b[0;34m,\u001b[0m \u001b[0msuffix\u001b[0m\u001b[0;34m)\u001b[0m\u001b[0;34m)\u001b[0m\u001b[0;34m\u001b[0m\u001b[0;34m\u001b[0m\u001b[0m\n\u001b[1;32m    142\u001b[0m \u001b[0;34m\u001b[0m\u001b[0m\n",
      "\u001b[0;32m~/anaconda3/lib/python3.7/site-packages/seqeval/metrics/sequence_labeling.py\u001b[0m in \u001b[0;36mget_entities\u001b[0;34m(seq, suffix)\u001b[0m\n\u001b[1;32m     41\u001b[0m             \u001b[0mtype_\u001b[0m \u001b[0;34m=\u001b[0m \u001b[0mchunk\u001b[0m\u001b[0;34m.\u001b[0m\u001b[0msplit\u001b[0m\u001b[0;34m(\u001b[0m\u001b[0;34m'-'\u001b[0m\u001b[0;34m)\u001b[0m\u001b[0;34m[\u001b[0m\u001b[0;36m0\u001b[0m\u001b[0;34m]\u001b[0m\u001b[0;34m\u001b[0m\u001b[0;34m\u001b[0m\u001b[0m\n\u001b[1;32m     42\u001b[0m         \u001b[0;32melse\u001b[0m\u001b[0;34m:\u001b[0m\u001b[0;34m\u001b[0m\u001b[0;34m\u001b[0m\u001b[0m\n\u001b[0;32m---> 43\u001b[0;31m             \u001b[0mtag\u001b[0m \u001b[0;34m=\u001b[0m \u001b[0mchunk\u001b[0m\u001b[0;34m[\u001b[0m\u001b[0;36m0\u001b[0m\u001b[0;34m]\u001b[0m\u001b[0;34m\u001b[0m\u001b[0;34m\u001b[0m\u001b[0m\n\u001b[0m\u001b[1;32m     44\u001b[0m             \u001b[0mtype_\u001b[0m \u001b[0;34m=\u001b[0m \u001b[0mchunk\u001b[0m\u001b[0;34m.\u001b[0m\u001b[0msplit\u001b[0m\u001b[0;34m(\u001b[0m\u001b[0;34m'-'\u001b[0m\u001b[0;34m)\u001b[0m\u001b[0;34m[\u001b[0m\u001b[0;34m-\u001b[0m\u001b[0;36m1\u001b[0m\u001b[0;34m]\u001b[0m\u001b[0;34m\u001b[0m\u001b[0;34m\u001b[0m\u001b[0m\n\u001b[1;32m     45\u001b[0m \u001b[0;34m\u001b[0m\u001b[0m\n",
      "\u001b[0;31mIndexError\u001b[0m: string index out of range"
     ]
    }
   ],
   "source": [
    "print(test_labels)\n",
    "print(\"-----\")\n",
    "print(pred_labels)\n",
    "print(\"F1-score: {:.1%}\".format(f1_score(test_labels, pred_labels)))"
   ]
  },
  {
   "cell_type": "code",
   "execution_count": 291,
   "metadata": {
    "scrolled": true
   },
   "outputs": [
    {
     "name": "stdout",
     "output_type": "stream",
     "text": [
      "Take\n",
      "me\n",
      "quickly\n",
      "to\n",
      "police\n",
      "station\n",
      "[('Take', 'VERB', ''), ('me', 'PRON', ''), ('quickly', 'ADV', ''), ('to', 'ADP', ''), ('police', 'NOUN', 'Destination'), ('station', 'NOUN', 'Destination')]\n",
      "[[133, 108, 133, 99, 133, 133]]\n",
      "1/1 [==============================] - 0s 22ms/step\n",
      "[['', '', '', '', 'Destination', 'Destination', '', '', '', '', '', '', '', '', '', '', '', '', '', '', '', '', '', '', '', '', '', '', '', '', '', '', '', '', '', '', '', '', '', '', '', '', '', '', '', '', '', '', '', '', '', '', '', '', '', '', '', '', '', '', '', '', '', '', '', '', '', '', '', '', '', '', '', '', '']] [['Destination', '', 'Destination', '', 'Destination', 'Destination', '', '', '', '', '', '', '', '', '', '', '', '', '', '', '', '', '', '', '', '', '', '', '', '', '', '', '', '', '', '', '', '', '', '', '', '', '', '', '', '', '', '', '', '', '', '', '', '', '', '', '', '', '', '', '', '', '', '', '', '', '', '', '', '', '', '', '', '', '']]\n"
     ]
    }
   ],
   "source": [
    "sentence = \"Take me quickly to police station\"\n",
    "entities_words = [\"police\",\"station\"]\n",
    "array = []\n",
    "doc = nlp(sentence)\n",
    "for token in doc:\n",
    "    text = token.text\n",
    "    print(text)\n",
    "    if token.text in entities_words:\n",
    "        tag = \"Destination\"\n",
    "    else:\n",
    "        tag = \"\"\n",
    "\n",
    "    array.append(tuple([token.text,token.pos_,tag]))\n",
    "print(array)\n",
    "X = [[word2idx.get(w[0],word2idx[\"Unknown\"]) for w in s] for s in [array]]\n",
    "print(X)\n",
    "X = pad_sequences(maxlen=max_len, sequences=X, padding=\"post\", value=n_words-1)\n",
    "y = [[tag2idx[w[2]] for w in s] for s in [array]]\n",
    "y = pad_sequences(maxlen=max_len, sequences=y, padding=\"post\", value=tag2idx[\"\"])\n",
    "y = [to_categorical(i, num_classes=n_tags) for i in y]\n",
    "#print(y)\n",
    "test_pred = model.predict(X, verbose=1)\n",
    "pred_labels = pred2label(test_pred)\n",
    "test_labels = pred2label(y)\n",
    "print(test_labels,pred_labels)\n",
    "#print(pred_labels)"
   ]
  },
  {
   "cell_type": "code",
   "execution_count": 290,
   "metadata": {},
   "outputs": [
    {
     "name": "stdout",
     "output_type": "stream",
     "text": [
      "{'nearest': 8, 'have': 10, 'go': 11, 'want': 12, 'closest': 15, \"'s\": 23, 'kids': 26, 'parents': 28, 'kid': 31, 'let': 32, 'I': 39, 'get': 42, 'work': 53, \"'\": 54, 'my': 62, 'a': 64, 'one': 65, 'drive': 72, 'need': 76, 'children': 78, ',': 81, 'the': 82, 'school': 88, 'to': 99, 'place': 103, 'me': 108, 'home': 111, 'XYYZlet': 115, 'navigate': 119, 'got': 120, 'directions': 121, 'office': 127, 'ENDPAD': 132, 'Unknown': 133}\n"
     ]
    }
   ],
   "source": [
    "print(word2idx)"
   ]
  },
  {
   "cell_type": "code",
   "execution_count": null,
   "metadata": {},
   "outputs": [],
   "source": []
  }
 ],
 "metadata": {
  "kernelspec": {
   "display_name": "Python 3",
   "language": "python",
   "name": "python3"
  },
  "language_info": {
   "codemirror_mode": {
    "name": "ipython",
    "version": 3
   },
   "file_extension": ".py",
   "mimetype": "text/x-python",
   "name": "python",
   "nbconvert_exporter": "python",
   "pygments_lexer": "ipython3",
   "version": "3.7.3"
  }
 },
 "nbformat": 4,
 "nbformat_minor": 2
}
