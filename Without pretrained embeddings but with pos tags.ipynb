{
 "cells": [
  {
   "cell_type": "code",
   "execution_count": 117,
   "metadata": {},
   "outputs": [
    {
     "name": "stdout",
     "output_type": "stream",
     "text": [
      "['36Vv', 'FLhM', 'SZ']\n"
     ]
    }
   ],
   "source": [
    "import pandas as pd\n",
    "import numpy as np\n",
    "import random\n",
    "import string\n",
    "\n",
    "def chunks(l, n):\n",
    "    \"\"\"Yield successive n-sized chunks from l.\"\"\"\n",
    "    for i in range(0, len(l), n):\n",
    "        yield l[i:i + n]\n",
    "\n",
    "def randomString(stringLength=10):\n",
    "    \"\"\"Generate a random string of fixed length \"\"\"\n",
    "    letters = string.ascii_letters+string.digits\n",
    "    rand_int = random.randint(1,4)\n",
    "#     print(rand_int)\n",
    "    string_random = [random.choice(letters) for i in range(stringLength)]\n",
    "    chunk_array = []\n",
    "    for chunk in chunks(string_random,rand_int):\n",
    "        chunk_array.append(\"\".join(chunk))\n",
    "#     for i in range(rand_int+1):\n",
    "    \n",
    "#         string_random = string_random +\" \" + ''.join(random.choice(letters) for i in range(stringLength))\n",
    "    \n",
    "    return chunk_array\n",
    "\n",
    "print(randomString())"
   ]
  },
  {
   "cell_type": "code",
   "execution_count": 118,
   "metadata": {},
   "outputs": [
    {
     "name": "stdout",
     "output_type": "stream",
     "text": [
      "['l', 'q', 'A', 'l', 'x', 's', 'z', 'A', '3', '7']\n"
     ]
    }
   ],
   "source": [
    "print(randomString())"
   ]
  },
  {
   "cell_type": "code",
   "execution_count": 119,
   "metadata": {},
   "outputs": [],
   "source": [
    "data = open(\"dummyData.txt\").readlines()"
   ]
  },
  {
   "cell_type": "code",
   "execution_count": 120,
   "metadata": {},
   "outputs": [],
   "source": [
    "import spacy\n",
    "\n",
    "nlp = spacy.load(\"en_core_web_sm\")\n",
    "\n",
    "words_list, embedding_matrix = utils.load_glove()\n",
    "unword_n = len(words_list)\n"
   ]
  },
  {
   "cell_type": "code",
   "execution_count": 121,
   "metadata": {},
   "outputs": [],
   "source": [
    "array = []\n",
    "\n",
    "\n",
    "for textindex,text in enumerate(data):\n",
    "    doc = nlp(text.strip())\n",
    "    for token in doc:\n",
    "        #print(token.text, token.lemma_, token.pos_, token.tag_, token.dep_,\n",
    "        #        token.shape_, token.is_alpha, token.is_stop)\n",
    "        text_items = [token.text]\n",
    "        if token.text == \"XYYZ\":\n",
    "            tag = \"Destination\"\n",
    "            rand_int = random.randint(1,4)\n",
    "            if rand_int==3:\n",
    "                text_items = [\"Unknown\"]\n",
    "            else:\n",
    "                text_items = randomString()\n",
    "        else:\n",
    "            tag = \"\"\n",
    "            rand_int = random.randint(1,10)\n",
    "            if rand_int==3:\n",
    "                text_items = [\"Unknown\"]\n",
    "        for item in text_items:\n",
    "            array.append(dict(Sentence=textindex,Word=item,POS=token.pos_,Tag=tag))"
   ]
  },
  {
   "cell_type": "code",
   "execution_count": 122,
   "metadata": {},
   "outputs": [],
   "source": [
    "df = pd.DataFrame(array)  "
   ]
  },
  {
   "cell_type": "code",
   "execution_count": 123,
   "metadata": {},
   "outputs": [
    {
     "data": {
      "text/html": [
       "<div>\n",
       "<style scoped>\n",
       "    .dataframe tbody tr th:only-of-type {\n",
       "        vertical-align: middle;\n",
       "    }\n",
       "\n",
       "    .dataframe tbody tr th {\n",
       "        vertical-align: top;\n",
       "    }\n",
       "\n",
       "    .dataframe thead th {\n",
       "        text-align: right;\n",
       "    }\n",
       "</style>\n",
       "<table border=\"1\" class=\"dataframe\">\n",
       "  <thead>\n",
       "    <tr style=\"text-align: right;\">\n",
       "      <th></th>\n",
       "      <th>POS</th>\n",
       "      <th>Sentence</th>\n",
       "      <th>Tag</th>\n",
       "      <th>Word</th>\n",
       "    </tr>\n",
       "  </thead>\n",
       "  <tbody>\n",
       "    <tr>\n",
       "      <th>1091</th>\n",
       "      <td>VERB</td>\n",
       "      <td>122</td>\n",
       "      <td></td>\n",
       "      <td>got</td>\n",
       "    </tr>\n",
       "    <tr>\n",
       "      <th>1092</th>\n",
       "      <td>PART</td>\n",
       "      <td>122</td>\n",
       "      <td></td>\n",
       "      <td>to</td>\n",
       "    </tr>\n",
       "    <tr>\n",
       "      <th>1093</th>\n",
       "      <td>AUX</td>\n",
       "      <td>122</td>\n",
       "      <td></td>\n",
       "      <td>get</td>\n",
       "    </tr>\n",
       "    <tr>\n",
       "      <th>1094</th>\n",
       "      <td>NOUN</td>\n",
       "      <td>122</td>\n",
       "      <td></td>\n",
       "      <td>directions</td>\n",
       "    </tr>\n",
       "    <tr>\n",
       "      <th>1095</th>\n",
       "      <td>ADP</td>\n",
       "      <td>122</td>\n",
       "      <td></td>\n",
       "      <td>to</td>\n",
       "    </tr>\n",
       "    <tr>\n",
       "      <th>1096</th>\n",
       "      <td>PROPN</td>\n",
       "      <td>122</td>\n",
       "      <td>Destination</td>\n",
       "      <td>Jb</td>\n",
       "    </tr>\n",
       "    <tr>\n",
       "      <th>1097</th>\n",
       "      <td>PROPN</td>\n",
       "      <td>122</td>\n",
       "      <td>Destination</td>\n",
       "      <td>0v</td>\n",
       "    </tr>\n",
       "    <tr>\n",
       "      <th>1098</th>\n",
       "      <td>PROPN</td>\n",
       "      <td>122</td>\n",
       "      <td>Destination</td>\n",
       "      <td>R5</td>\n",
       "    </tr>\n",
       "    <tr>\n",
       "      <th>1099</th>\n",
       "      <td>PROPN</td>\n",
       "      <td>122</td>\n",
       "      <td>Destination</td>\n",
       "      <td>fB</td>\n",
       "    </tr>\n",
       "    <tr>\n",
       "      <th>1100</th>\n",
       "      <td>PROPN</td>\n",
       "      <td>122</td>\n",
       "      <td>Destination</td>\n",
       "      <td>sw</td>\n",
       "    </tr>\n",
       "  </tbody>\n",
       "</table>\n",
       "</div>"
      ],
      "text/plain": [
       "        POS  Sentence          Tag        Word\n",
       "1091   VERB       122                      got\n",
       "1092   PART       122                       to\n",
       "1093    AUX       122                      get\n",
       "1094   NOUN       122               directions\n",
       "1095    ADP       122                       to\n",
       "1096  PROPN       122  Destination          Jb\n",
       "1097  PROPN       122  Destination          0v\n",
       "1098  PROPN       122  Destination          R5\n",
       "1099  PROPN       122  Destination          fB\n",
       "1100  PROPN       122  Destination          sw"
      ]
     },
     "execution_count": 123,
     "metadata": {},
     "output_type": "execute_result"
    }
   ],
   "source": [
    "df.tail(10)"
   ]
  },
  {
   "cell_type": "code",
   "execution_count": 124,
   "metadata": {},
   "outputs": [
    {
     "data": {
      "text/plain": [
       "283"
      ]
     },
     "execution_count": 124,
     "metadata": {},
     "output_type": "execute_result"
    }
   ],
   "source": [
    "words = list(set(df[\"Word\"].values))\n",
    "words.append(\"ENDPAD\")\n",
    "words.append(\"Unknown\")\n",
    "n_words = len(words); n_words"
   ]
  },
  {
   "cell_type": "code",
   "execution_count": 125,
   "metadata": {},
   "outputs": [
    {
     "name": "stdout",
     "output_type": "stream",
     "text": [
      "2 13\n"
     ]
    }
   ],
   "source": [
    "tags = list(set(df[\"Tag\"].values))\n",
    "n_tags = len(tags); n_tags\n",
    "\n",
    "pos = list(set(df[\"POS\"].values))\n",
    "pos.append(\"BLANK\")\n",
    "pos_tags = len(pos)\n",
    "print(n_tags,pos_tags)"
   ]
  },
  {
   "cell_type": "code",
   "execution_count": 126,
   "metadata": {},
   "outputs": [],
   "source": [
    "agg_func = lambda s: [(w, p, t) for w, p, t in zip(s[\"Word\"].values.tolist(),\n",
    "                                                   s[\"POS\"].values.tolist(),\n",
    "                                                   s[\"Tag\"].values.tolist())]\n",
    "grouped = df.groupby(\"Sentence\").apply(agg_func)"
   ]
  },
  {
   "cell_type": "code",
   "execution_count": 127,
   "metadata": {},
   "outputs": [],
   "source": [
    "sentences = [s for s in grouped]"
   ]
  },
  {
   "cell_type": "code",
   "execution_count": 128,
   "metadata": {},
   "outputs": [
    {
     "name": "stdout",
     "output_type": "stream",
     "text": [
      "[('directions', 'NOUN', ''), ('to', 'ADP', ''), ('Unknown', 'PROPN', 'Destination')]\n"
     ]
    }
   ],
   "source": [
    "print(sentences[0])"
   ]
  },
  {
   "cell_type": "code",
   "execution_count": 129,
   "metadata": {},
   "outputs": [],
   "source": [
    "def yield_sentence():\n",
    "    for group in grouped:\n",
    "        yield group\n",
    "    yield None"
   ]
  },
  {
   "cell_type": "code",
   "execution_count": 130,
   "metadata": {},
   "outputs": [
    {
     "name": "stdout",
     "output_type": "stream",
     "text": [
      "[('directions', 'NOUN', ''), ('to', 'ADP', ''), ('Unknown', 'PROPN', 'Destination')]\n",
      "-------\n",
      "[('directions', 'NOUN', ''), ('Unknown', 'ADP', ''), ('5y', 'PROPN', 'Destination'), ('xW', 'PROPN', 'Destination'), ('XK', 'PROPN', 'Destination'), ('2l', 'PROPN', 'Destination'), ('xW', 'PROPN', 'Destination'), ('home', 'ADV', '')]\n",
      "-------\n",
      "[('directions', 'NOUN', ''), ('to', 'ADP', ''), ('L', 'PROPN', 'Destination'), ('l', 'PROPN', 'Destination'), ('s', 'PROPN', 'Destination'), ('W', 'PROPN', 'Destination'), ('d', 'PROPN', 'Destination'), ('w', 'PROPN', 'Destination'), ('o', 'PROPN', 'Destination'), ('5', 'PROPN', 'Destination'), ('h', 'PROPN', 'Destination'), ('N', 'PROPN', 'Destination'), ('work', 'NOUN', '')]\n",
      "-------\n",
      "[('directions', 'NOUN', ''), ('to', 'ADP', ''), ('the', 'DET', ''), ('closest', 'ADJ', ''), ('ouVM', 'PROPN', 'Destination'), ('nXel', 'PROPN', 'Destination'), ('xy', 'PROPN', 'Destination')]\n",
      "-------\n",
      "[('directions', 'NOUN', ''), ('to', 'ADP', ''), ('Unknown', 'DET', ''), ('nearest', 'ADJ', ''), ('Uc4h', 'PROPN', 'Destination'), ('apWl', 'PROPN', 'Destination'), ('Yu', 'PROPN', 'Destination')]\n",
      "-------\n",
      "[('directions', 'NOUN', ''), ('to', 'PART', ''), ('go', 'VERB', ''), ('home', 'ADV', '')]\n",
      "-------\n",
      "[('directions', 'NOUN', ''), ('to', 'PART', ''), ('go', 'VERB', ''), ('to', 'ADP', ''), ('5ShV', 'PROPN', 'Destination'), ('M7JR', 'PROPN', 'Destination'), ('zx', 'PROPN', 'Destination')]\n",
      "-------\n",
      "[('directions', 'NOUN', ''), ('to', 'PART', ''), ('go', 'VERB', ''), ('to', 'ADP', ''), ('o', 'PROPN', 'Destination'), ('d', 'PROPN', 'Destination'), ('J', 'PROPN', 'Destination'), ('j', 'PROPN', 'Destination'), ('t', 'PROPN', 'Destination'), ('n', 'PROPN', 'Destination'), ('X', 'PROPN', 'Destination'), ('1', 'PROPN', 'Destination'), ('2', 'PROPN', 'Destination'), ('B', 'PROPN', 'Destination'), ('home', 'ADV', '')]\n",
      "-------\n",
      "[('directions', 'NOUN', ''), ('to', 'PART', ''), ('go', 'VERB', ''), ('to', 'ADP', ''), ('l', 'PROPN', 'Destination'), ('L', 'PROPN', 'Destination'), ('e', 'PROPN', 'Destination'), ('w', 'PROPN', 'Destination'), ('n', 'PROPN', 'Destination'), ('U', 'PROPN', 'Destination'), ('1', 'PROPN', 'Destination'), ('Q', 'PROPN', 'Destination'), ('R', 'PROPN', 'Destination'), ('x', 'PROPN', 'Destination'), ('work', 'NOUN', '')]\n",
      "-------\n",
      "[('Unknown', 'NOUN', ''), ('to', 'PART', ''), ('go', 'VERB', ''), ('to', 'ADP', ''), ('the', 'DET', ''), ('closest', 'ADJ', ''), ('xm', 'PROPN', 'Destination'), ('hH', 'PROPN', 'Destination'), ('Q5', 'PROPN', 'Destination'), ('Yk', 'PROPN', 'Destination'), ('0B', 'PROPN', 'Destination')]\n",
      "-------\n",
      "[('directions', 'NOUN', ''), ('to', 'PART', ''), ('go', 'VERB', ''), ('to', 'ADP', ''), ('the', 'DET', ''), ('nearest', 'ADJ', ''), ('T', 'PROPN', 'Destination'), ('R', 'PROPN', 'Destination'), ('X', 'PROPN', 'Destination'), ('C', 'PROPN', 'Destination'), ('d', 'PROPN', 'Destination'), ('g', 'PROPN', 'Destination'), ('X', 'PROPN', 'Destination'), ('a', 'PROPN', 'Destination'), ('u', 'PROPN', 'Destination'), ('p', 'PROPN', 'Destination')]\n",
      "-------\n",
      "[('Unknown', 'PRON', ''), ('Unknown', 'VERB', ''), ('to', 'PART', ''), ('navigate', 'VERB', ''), ('to', 'ADP', ''), ('Unknown', 'PROPN', 'Destination')]\n",
      "-------\n",
      "[('I', 'PRON', ''), ('got', 'VERB', ''), ('to', 'PART', ''), ('navigate', 'VERB', ''), ('to', 'ADP', ''), ('Unknown', 'PROPN', 'Destination'), ('home', 'ADV', '')]\n",
      "-------\n",
      "[('I', 'PRON', ''), ('Unknown', 'VERB', ''), ('to', 'PART', ''), ('navigate', 'VERB', ''), ('to', 'ADP', ''), ('Unknown', 'PROPN', 'Destination'), ('work', 'NOUN', '')]\n",
      "-------\n",
      "[('I', 'PRON', ''), ('got', 'VERB', ''), ('to', 'PART', ''), ('navigate', 'VERB', ''), ('to', 'ADP', ''), ('the', 'DET', ''), ('nearest', 'ADJ', ''), ('cG', 'PROPN', 'Destination'), ('46', 'PROPN', 'Destination'), ('4N', 'PROPN', 'Destination'), ('XB', 'PROPN', 'Destination'), ('zp', 'PROPN', 'Destination')]\n",
      "-------\n",
      "[('I', 'PRON', ''), ('have', 'AUX', ''), ('to', 'PART', ''), ('navigate', 'VERB', ''), ('to', 'ADP', ''), ('t0y', 'PROPN', 'Destination'), ('N5J', 'PROPN', 'Destination'), ('zF6', 'PROPN', 'Destination'), ('D', 'PROPN', 'Destination')]\n",
      "-------\n",
      "[('I', 'PRON', ''), ('Unknown', 'AUX', ''), ('to', 'PART', ''), ('navigate', 'VERB', ''), ('Unknown', 'ADP', ''), ('W6yw', 'PROPN', 'Destination'), ('Clnk', 'PROPN', 'Destination'), ('DT', 'PROPN', 'Destination'), ('home', 'ADV', '')]\n",
      "-------\n",
      "[('I', 'PRON', ''), ('have', 'AUX', ''), ('to', 'PART', ''), ('Unknown', 'VERB', ''), ('to', 'ADP', ''), ('zIz', 'PROPN', 'Destination'), ('Kos', 'PROPN', 'Destination'), ('OvN', 'PROPN', 'Destination'), ('U', 'PROPN', 'Destination'), ('work', 'NOUN', '')]\n",
      "-------\n",
      "[('I', 'PRON', ''), ('have', 'AUX', ''), ('to', 'PART', ''), ('navigate', 'VERB', ''), ('to', 'ADP', ''), ('the', 'DET', ''), ('nearest', 'ADJ', ''), ('Mj', 'PROPN', 'Destination'), ('9N', 'PROPN', 'Destination'), ('zU', 'PROPN', 'Destination'), ('Hv', 'PROPN', 'Destination'), ('lH', 'PROPN', 'Destination')]\n",
      "-------\n",
      "[('I', 'PRON', ''), ('need', 'VERB', ''), ('to', 'PART', ''), ('navigate', 'VERB', ''), ('to', 'ADP', ''), ('AZWT', 'PROPN', 'Destination'), ('rklk', 'PROPN', 'Destination'), ('Nz', 'PROPN', 'Destination')]\n",
      "-------\n",
      "[('Unknown', 'PRON', ''), ('Unknown', 'VERB', ''), ('to', 'PART', ''), ('navigate', 'VERB', ''), ('to', 'ADP', ''), ('p', 'PROPN', 'Destination'), ('Z', 'PROPN', 'Destination'), ('y', 'PROPN', 'Destination'), ('F', 'PROPN', 'Destination'), ('o', 'PROPN', 'Destination'), ('q', 'PROPN', 'Destination'), ('0', 'PROPN', 'Destination'), ('i', 'PROPN', 'Destination'), ('j', 'PROPN', 'Destination'), ('y', 'PROPN', 'Destination'), ('home', 'ADV', '')]\n",
      "-------\n",
      "[('I', 'PRON', ''), ('need', 'VERB', ''), ('to', 'PART', ''), ('Unknown', 'VERB', ''), ('to', 'ADP', ''), ('oT4', 'PROPN', 'Destination'), ('u58', 'PROPN', 'Destination'), ('yHk', 'PROPN', 'Destination'), ('g', 'PROPN', 'Destination'), ('work', 'NOUN', '')]\n",
      "-------\n",
      "[('Unknown', 'PRON', ''), ('Unknown', 'VERB', ''), ('Unknown', 'PART', ''), ('navigate', 'VERB', ''), ('to', 'ADP', ''), ('the', 'DET', ''), ('nearest', 'ADJ', ''), ('Unknown', 'PROPN', 'Destination')]\n",
      "-------\n",
      "[('I', 'PRON', ''), ('want', 'VERB', ''), ('to', 'PART', ''), ('navigate', 'VERB', ''), ('to', 'ADP', ''), ('tl', 'PROPN', 'Destination'), ('3t', 'PROPN', 'Destination'), ('1D', 'PROPN', 'Destination'), ('B9', 'PROPN', 'Destination'), ('QC', 'PROPN', 'Destination')]\n",
      "-------\n",
      "[('I', 'PRON', ''), ('want', 'VERB', ''), ('to', 'PART', ''), ('Unknown', 'VERB', ''), ('Unknown', 'ADP', ''), ('Unknown', 'PROPN', 'Destination'), ('Unknown', 'ADV', '')]\n",
      "-------\n",
      "[('Unknown', 'PRON', ''), ('want', 'VERB', ''), ('to', 'PART', ''), ('navigate', 'VERB', ''), ('to', 'ADP', ''), ('Unknown', 'PROPN', 'Destination'), ('work', 'NOUN', '')]\n",
      "-------\n",
      "[('I', 'PRON', ''), ('want', 'VERB', ''), ('to', 'PART', ''), ('navigate', 'VERB', ''), ('to', 'ADP', ''), ('the', 'DET', ''), ('Unknown', 'ADJ', ''), ('Unknown', 'PROPN', 'Destination')]\n",
      "-------\n",
      "[('I', 'PRON', ''), ('got', 'VERB', ''), ('to', 'PART', ''), ('navigate', 'VERB', ''), ('home', 'NOUN', '')]\n",
      "-------\n",
      "[('I', 'PRON', ''), ('have', 'AUX', ''), ('to', 'PART', ''), ('navigate', 'VERB', ''), ('Unknown', 'NOUN', '')]\n",
      "-------\n",
      "[('I', 'PRON', ''), ('need', 'VERB', ''), ('to', 'PART', ''), ('Unknown', 'VERB', ''), ('home', 'NOUN', '')]\n",
      "-------\n",
      "[('I', 'PRON', ''), ('want', 'VERB', ''), ('to', 'PART', ''), ('navigate', 'VERB', ''), ('home', 'NOUN', '')]\n",
      "-------\n",
      "[('navigate', 'VERB', ''), ('to', 'ADP', ''), ('tT', 'PROPN', 'Destination'), ('fn', 'PROPN', 'Destination'), ('mN', 'PROPN', 'Destination'), ('Zo', 'PROPN', 'Destination'), ('oY', 'PROPN', 'Destination')]\n",
      "-------\n",
      "[('navigate', 'VERB', ''), ('to', 'ADP', ''), ('M0', 'PROPN', 'Destination'), ('jy', 'PROPN', 'Destination'), ('Fq', 'PROPN', 'Destination'), ('UP', 'PROPN', 'Destination'), ('ld', 'PROPN', 'Destination'), ('home', 'ADV', '')]\n",
      "-------\n",
      "[('navigate', 'VERB', ''), ('to', 'ADP', ''), ('g5B', 'PROPN', 'Destination'), ('COE', 'PROPN', 'Destination'), ('25O', 'PROPN', 'Destination'), ('R', 'PROPN', 'Destination'), ('work', 'NOUN', '')]\n",
      "-------\n",
      "[('Unknown', 'VERB', ''), ('to', 'ADP', ''), ('Unknown', 'DET', ''), ('nearest', 'ADJ', ''), ('5', 'PROPN', 'Destination'), ('s', 'PROPN', 'Destination'), ('y', 'PROPN', 'Destination'), ('k', 'PROPN', 'Destination'), ('W', 'PROPN', 'Destination'), ('N', 'PROPN', 'Destination'), ('k', 'PROPN', 'Destination'), ('O', 'PROPN', 'Destination'), ('s', 'PROPN', 'Destination'), ('g', 'PROPN', 'Destination')]\n",
      "-------\n",
      "[('navigate', 'PROPN', ''), ('home', 'PROPN', '')]\n",
      "-------\n",
      "[('I', 'PRON', ''), ('need', 'VERB', ''), ('to', 'PART', ''), ('go', 'VERB', ''), ('Unknown', 'ADP', ''), ('a', 'DET', ''), ('Ru', 'PROPN', 'Destination'), ('SN', 'PROPN', 'Destination'), ('Pw', 'PROPN', 'Destination'), ('cE', 'PROPN', 'Destination'), ('kH', 'PROPN', 'Destination'), (',', 'PUNCT', ''), ('navigate', 'VERB', ''), ('to', 'ADP', ''), ('Unknown', 'DET', ''), ('nearest', 'ADJ', ''), ('one', 'NUM', '')]\n",
      "-------\n",
      "[('I', 'PRON', ''), ('want', 'VERB', ''), ('to', 'PART', ''), ('go', 'VERB', ''), ('to', 'ADP', ''), ('a', 'DET', ''), ('Unknown', 'PROPN', 'Destination'), (',', 'PUNCT', ''), ('navigate', 'VERB', ''), ('to', 'ADP', ''), ('the', 'DET', ''), ('nearest', 'ADJ', ''), ('one', 'NUM', '')]\n",
      "-------\n",
      "[('I', 'PRON', ''), ('need', 'VERB', ''), ('Unknown', 'PART', ''), ('go', 'VERB', ''), ('Unknown', 'ADP', ''), ('a', 'DET', ''), ('H', 'PROPN', 'Destination'), ('B', 'PROPN', 'Destination'), ('I', 'PROPN', 'Destination'), ('4', 'PROPN', 'Destination'), ('T', 'PROPN', 'Destination'), ('u', 'PROPN', 'Destination'), ('n', 'PROPN', 'Destination'), ('d', 'PROPN', 'Destination'), ('4', 'PROPN', 'Destination'), ('N', 'PROPN', 'Destination'), (',', 'PUNCT', ''), ('go', 'VERB', ''), ('directions', 'NOUN', ''), ('to', 'ADP', ''), ('the', 'DET', ''), ('nearest', 'ADJ', ''), ('one', 'NUM', '')]\n",
      "-------\n",
      "[('I', 'PRON', ''), ('want', 'VERB', ''), ('to', 'PART', ''), ('go', 'VERB', ''), ('to', 'ADP', ''), ('a', 'DET', ''), ('5iu', 'PROPN', 'Destination'), ('RTp', 'PROPN', 'Destination'), ('KRH', 'PROPN', 'Destination'), ('U', 'PROPN', 'Destination'), (',', 'PUNCT', ''), ('go', 'VERB', ''), ('directions', 'NOUN', ''), ('to', 'ADP', ''), ('the', 'DET', ''), ('nearest', 'ADJ', ''), ('one', 'NUM', '')]\n",
      "-------\n",
      "[('I', 'PRON', ''), ('need', 'VERB', ''), ('to', 'PART', ''), ('Unknown', 'VERB', ''), ('to', 'ADP', ''), ('a', 'DET', ''), ('M3qC', 'PROPN', 'Destination'), ('224w', 'PROPN', 'Destination'), ('J0', 'PROPN', 'Destination'), (',', 'PUNCT', ''), ('navigate', 'VERB', ''), ('Unknown', 'ADP', ''), ('the', 'DET', ''), ('closest', 'ADJ', ''), ('one', 'NUM', '')]\n",
      "-------\n",
      "[('Unknown', 'PRON', ''), ('want', 'VERB', ''), ('to', 'PART', ''), ('go', 'VERB', ''), ('to', 'ADP', ''), ('a', 'DET', ''), ('hnmn', 'PROPN', 'Destination'), ('8NrF', 'PROPN', 'Destination'), ('Y8', 'PROPN', 'Destination'), (',', 'PUNCT', ''), ('navigate', 'VERB', ''), ('to', 'ADP', ''), ('the', 'DET', ''), ('closest', 'ADJ', ''), ('one', 'NUM', '')]\n",
      "-------\n",
      "[('I', 'PRON', ''), ('need', 'VERB', ''), ('to', 'PART', ''), ('go', 'VERB', ''), ('to', 'ADP', ''), ('a', 'DET', ''), ('Unknown', 'PROPN', 'Destination'), (',', 'PUNCT', ''), ('Unknown', 'VERB', ''), ('directions', 'NOUN', ''), ('Unknown', 'ADP', ''), ('the', 'DET', ''), ('closest', 'ADJ', ''), ('one', 'NUM', '')]\n",
      "-------\n",
      "[('I', 'PRON', ''), ('want', 'VERB', ''), ('to', 'PART', ''), ('go', 'VERB', ''), ('to', 'ADP', ''), ('a', 'DET', ''), ('I', 'PROPN', 'Destination'), ('Q', 'PROPN', 'Destination'), ('a', 'PROPN', 'Destination'), ('N', 'PROPN', 'Destination'), ('A', 'PROPN', 'Destination'), ('V', 'PROPN', 'Destination'), ('x', 'PROPN', 'Destination'), ('w', 'PROPN', 'Destination'), ('w', 'PROPN', 'Destination'), ('f', 'PROPN', 'Destination'), (',', 'PUNCT', ''), ('go', 'VERB', ''), ('directions', 'NOUN', ''), ('to', 'ADP', ''), ('the', 'DET', ''), ('closest', 'ADJ', ''), ('one', 'NUM', '')]\n",
      "-------\n",
      "[('I', 'PRON', ''), ('need', 'VERB', ''), ('Unknown', 'PART', ''), ('go', 'VERB', ''), ('to', 'ADP', ''), ('a', 'DET', ''), ('Unknown', 'PROPN', 'Destination'), (',', 'PUNCT', ''), ('drive', 'VERB', ''), ('me', 'PRON', ''), ('to', 'ADP', ''), ('Unknown', 'DET', ''), ('closest', 'ADJ', ''), ('one', 'NUM', '')]\n",
      "-------\n",
      "[('I', 'PRON', ''), ('need', 'VERB', ''), ('to', 'PART', ''), ('go', 'VERB', ''), ('to', 'ADP', ''), ('a', 'DET', ''), ('0f', 'PROPN', 'Destination'), ('bO', 'PROPN', 'Destination'), ('hp', 'PROPN', 'Destination'), ('OH', 'PROPN', 'Destination'), ('RC', 'PROPN', 'Destination'), (',', 'PUNCT', ''), ('drive', 'VERB', ''), ('me', 'PRON', ''), ('to', 'ADP', ''), ('the', 'DET', ''), ('nearest', 'ADJ', ''), ('one', 'NUM', '')]\n",
      "-------\n",
      "[('I', 'PRON', ''), ('Unknown', 'VERB', ''), ('to', 'PART', ''), ('go', 'VERB', ''), ('to', 'ADP', ''), ('a', 'DET', ''), ('LPj', 'PROPN', 'Destination'), ('QM9', 'PROPN', 'Destination'), ('KoN', 'PROPN', 'Destination'), ('b', 'PROPN', 'Destination'), (',', 'PUNCT', ''), ('get', 'AUX', ''), ('me', 'PRON', ''), ('Unknown', 'ADP', ''), ('the', 'DET', ''), ('closest', 'ADJ', ''), ('one', 'NUM', '')]\n",
      "-------\n",
      "[('drive', 'VERB', ''), ('to', 'ADP', ''), ('nM', 'PROPN', 'Destination'), ('Jl', 'PROPN', 'Destination'), ('rx', 'PROPN', 'Destination'), ('mD', 'PROPN', 'Destination'), ('z1', 'PROPN', 'Destination')]\n",
      "-------\n",
      "[('drive', 'VERB', ''), ('to', 'ADP', ''), ('0IJz', 'PROPN', 'Destination'), ('teBX', 'PROPN', 'Destination'), ('Z7', 'PROPN', 'Destination'), ('home', 'ADV', '')]\n",
      "-------\n",
      "[('drive', 'VERB', ''), ('to', 'ADP', ''), ('WBS', 'PROPN', 'Destination'), ('9au', 'PROPN', 'Destination'), ('un0', 'PROPN', 'Destination'), ('b', 'PROPN', 'Destination'), ('office', 'NOUN', '')]\n",
      "-------\n",
      "[('drive', 'VERB', ''), ('to', 'ADP', ''), ('Unknown', 'PROPN', 'Destination'), ('work', 'NOUN', '')]\n",
      "-------\n",
      "[('drive', 'VERB', ''), ('to', 'ADP', ''), ('the', 'DET', ''), ('closest', 'ADJ', ''), ('L87', 'PROPN', 'Destination'), ('l7x', 'PROPN', 'Destination'), ('Goa', 'PROPN', 'Destination'), ('w', 'PROPN', 'Destination')]\n",
      "-------\n",
      "[('drive', 'VERB', ''), ('to', 'ADP', ''), ('Unknown', 'DET', ''), ('nearest', 'ADJ', ''), ('Unknown', 'PROPN', 'Destination')]\n",
      "-------\n",
      "[('get', 'AUX', ''), ('to', 'ADP', ''), ('c', 'PROPN', 'Destination'), ('n', 'PROPN', 'Destination'), ('1', 'PROPN', 'Destination'), ('0', 'PROPN', 'Destination'), ('8', 'PROPN', 'Destination'), ('1', 'PROPN', 'Destination'), ('W', 'PROPN', 'Destination'), ('m', 'PROPN', 'Destination'), ('O', 'PROPN', 'Destination'), ('4', 'PROPN', 'Destination')]\n",
      "-------\n",
      "[('get', 'AUX', ''), ('to', 'ADP', ''), ('e', 'PROPN', 'Destination'), ('9', 'PROPN', 'Destination'), ('g', 'PROPN', 'Destination'), ('9', 'PROPN', 'Destination'), ('v', 'PROPN', 'Destination'), ('W', 'PROPN', 'Destination'), ('d', 'PROPN', 'Destination'), ('Y', 'PROPN', 'Destination'), ('0', 'PROPN', 'Destination'), ('6', 'PROPN', 'Destination'), ('home', 'ADV', '')]\n",
      "-------\n",
      "[('get', 'AUX', ''), ('to', 'ADP', ''), ('qazU', 'PROPN', 'Destination'), ('e85V', 'PROPN', 'Destination'), ('xY', 'PROPN', 'Destination'), ('office', 'NOUN', '')]\n",
      "-------\n",
      "[('get', 'AUX', ''), ('to', 'ADP', ''), ('Unknown', 'PROPN', 'Destination'), ('work', 'NOUN', '')]\n",
      "-------\n",
      "[('get', 'AUX', ''), ('to', 'ADP', ''), ('Unknown', 'DET', ''), ('closest', 'ADJ', ''), ('gTH', 'PROPN', 'Destination'), ('mF8', 'PROPN', 'Destination'), ('tGg', 'PROPN', 'Destination'), ('b', 'PROPN', 'Destination')]\n",
      "-------\n",
      "[('get', 'AUX', ''), ('to', 'ADP', ''), ('the', 'DET', ''), ('nearest', 'ADJ', ''), ('EyO', 'NOUN', 'Destination'), ('pII', 'NOUN', 'Destination'), ('iFa', 'NOUN', 'Destination'), ('T', 'NOUN', 'Destination')]\n",
      "-------\n",
      "[('go', 'VERB', ''), ('to', 'ADP', ''), ('wF', 'PROPN', 'Destination'), ('tN', 'PROPN', 'Destination'), ('69', 'PROPN', 'Destination'), ('s3', 'PROPN', 'Destination'), ('n2', 'PROPN', 'Destination')]\n",
      "-------\n",
      "[('go', 'VERB', ''), ('to', 'ADP', ''), ('TT', 'PROPN', 'Destination'), ('AA', 'PROPN', 'Destination'), ('A0', 'PROPN', 'Destination'), ('SD', 'PROPN', 'Destination'), ('Dg', 'PROPN', 'Destination'), ('home', 'ADV', '')]\n",
      "-------\n",
      "[('go', 'VERB', ''), ('to', 'ADP', ''), ('8R0', 'PROPN', 'Destination'), ('cb9', 'PROPN', 'Destination'), ('iBt', 'PROPN', 'Destination'), ('e', 'PROPN', 'Destination'), ('office', 'NOUN', '')]\n",
      "-------\n",
      "[('go', 'VERB', ''), ('to', 'ADP', ''), ('Unknown', 'PROPN', 'Destination'), ('work', 'NOUN', '')]\n",
      "-------\n",
      "[('go', 'VERB', ''), ('to', 'ADP', ''), ('the', 'DET', ''), ('closest', 'ADJ', ''), ('l7B3', 'PROPN', 'Destination'), ('avle', 'PROPN', 'Destination'), ('h0', 'PROPN', 'Destination')]\n",
      "-------\n",
      "[('go', 'VERB', ''), ('to', 'ADP', ''), ('the', 'DET', ''), ('nearest', 'ADJ', ''), ('17Ha', 'PROPN', 'Destination'), ('TjSx', 'PROPN', 'Destination'), ('OQ', 'PROPN', 'Destination')]\n",
      "-------\n",
      "[('let', 'VERB', ''), (\"'s\", 'PRON', ''), ('go', 'VERB', ''), ('to', 'ADP', ''), ('JWHJ', 'PROPN', 'Destination'), ('rb6j', 'PROPN', 'Destination'), ('qZ', 'PROPN', 'Destination')]\n",
      "-------\n",
      "[('let', 'VERB', ''), (\"'s\", 'PRON', ''), ('go', 'VERB', ''), ('to', 'ADP', ''), ('4', 'PROPN', 'Destination'), ('t', 'PROPN', 'Destination'), ('F', 'PROPN', 'Destination'), ('C', 'PROPN', 'Destination'), ('v', 'PROPN', 'Destination'), ('D', 'PROPN', 'Destination'), ('P', 'PROPN', 'Destination'), ('h', 'PROPN', 'Destination'), ('l', 'PROPN', 'Destination'), ('M', 'PROPN', 'Destination'), ('home', 'ADV', '')]\n",
      "-------\n",
      "[('Unknown', 'VERB', ''), (\"'s\", 'PRON', ''), ('go', 'VERB', ''), ('to', 'ADP', ''), ('1uqq', 'PROPN', 'Destination'), ('g6O9', 'PROPN', 'Destination'), ('kq', 'PROPN', 'Destination'), ('office', 'NOUN', '')]\n",
      "-------\n",
      "[('let', 'VERB', ''), (\"'s\", 'PRON', ''), ('go', 'VERB', ''), ('to', 'ADP', ''), ('Unknown', 'PROPN', 'Destination'), ('work', 'NOUN', '')]\n",
      "-------\n",
      "[('let', 'VERB', ''), (\"'s\", 'PRON', ''), ('go', 'VERB', ''), ('to', 'ADP', ''), ('the', 'DET', ''), ('closest', 'ADJ', ''), ('Unknown', 'PROPN', ''), (\"'s\", 'PART', ''), ('go', 'NOUN', ''), ('to', 'ADP', ''), ('the', 'DET', ''), ('nearest', 'ADJ', ''), ('Unknown', 'PROPN', 'Destination')]\n",
      "-------\n",
      "[('navigate', 'VERB', ''), ('to', 'ADP', ''), ('MpJ', 'PROPN', 'Destination'), ('mW2', 'PROPN', 'Destination'), ('SMk', 'PROPN', 'Destination'), ('9', 'PROPN', 'Destination'), ('office', 'NOUN', '')]\n",
      "-------\n",
      "[('get', 'AUX', ''), ('directions', 'NOUN', ''), ('home', 'ADV', '')]\n",
      "-------\n",
      "[('get', 'AUX', ''), ('directions', 'NOUN', ''), ('to', 'ADP', ''), ('Unknown', 'PROPN', 'Destination')]\n",
      "-------\n",
      "[('get', 'AUX', ''), ('directions', 'NOUN', ''), ('to', 'ADP', ''), ('Yz9', 'PROPN', 'Destination'), ('A3V', 'PROPN', 'Destination'), ('rao', 'PROPN', 'Destination'), ('9', 'PROPN', 'Destination'), ('Unknown', 'ADV', '')]\n",
      "-------\n",
      "[('get', 'AUX', ''), ('directions', 'NOUN', ''), ('to', 'ADP', ''), ('epk', 'PROPN', 'Destination'), ('StK', 'PROPN', 'Destination'), ('KhK', 'PROPN', 'Destination'), ('2', 'PROPN', 'Destination'), ('office', 'NOUN', '')]\n",
      "-------\n",
      "[('get', 'AUX', ''), ('directions', 'NOUN', ''), ('Unknown', 'ADP', ''), ('0UDw', 'PROPN', 'Destination'), ('1gjy', 'PROPN', 'Destination'), ('5o', 'PROPN', 'Destination'), ('work', 'NOUN', '')]\n",
      "-------\n",
      "[('get', 'AUX', ''), ('directions', 'NOUN', ''), ('to', 'ADP', ''), ('the', 'DET', ''), ('closest', 'ADJ', ''), ('jgD', 'PROPN', 'Destination'), ('zOQ', 'PROPN', 'Destination'), ('lSB', 'PROPN', 'Destination'), ('F', 'PROPN', 'Destination')]\n",
      "-------\n",
      "[('get', 'AUX', ''), ('directions', 'NOUN', ''), ('to', 'ADP', ''), ('Unknown', 'DET', ''), ('nearest', 'ADJ', ''), ('wm', 'PROPN', 'Destination'), ('wN', 'PROPN', 'Destination'), ('Et', 'PROPN', 'Destination'), ('WE', 'PROPN', 'Destination'), ('aM', 'PROPN', 'Destination')]\n",
      "-------\n",
      "[('Unknown', 'AUX', ''), ('directions', 'NOUN', ''), ('to', 'PART', ''), ('go', 'VERB', ''), ('home', 'ADV', '')]\n",
      "-------\n",
      "[('get', 'AUX', ''), ('directions', 'NOUN', ''), ('to', 'PART', ''), ('go', 'VERB', ''), ('home', 'ADV', '')]\n",
      "-------\n",
      "[('get', 'AUX', ''), ('directions', 'NOUN', ''), ('to', 'PART', ''), ('go', 'VERB', ''), ('to', 'ADP', ''), ('SsSI', 'PROPN', 'Destination'), ('FDkt', 'PROPN', 'Destination'), ('PY', 'PROPN', 'Destination')]\n",
      "-------\n",
      "[('get', 'AUX', ''), ('directions', 'NOUN', ''), ('to', 'PART', ''), ('go', 'VERB', ''), ('to', 'ADP', ''), ('nTl2', 'PROPN', 'Destination'), ('oOg6', 'PROPN', 'Destination'), ('pn', 'PROPN', 'Destination'), ('home', 'ADV', '')]\n",
      "-------\n",
      "[('get', 'AUX', ''), ('directions', 'NOUN', ''), ('to', 'PART', ''), ('go', 'VERB', ''), ('to', 'ADP', ''), ('Unknown', 'PROPN', 'Destination'), ('office', 'NOUN', '')]\n",
      "-------\n",
      "[('get', 'AUX', ''), ('directions', 'NOUN', ''), ('to', 'PART', ''), ('Unknown', 'VERB', ''), ('to', 'ADP', ''), ('Unknown', 'PROPN', 'Destination'), ('work', 'NOUN', '')]\n",
      "-------\n",
      "[('get', 'AUX', ''), ('directions', 'NOUN', ''), ('Unknown', 'PART', ''), ('Unknown', 'VERB', ''), ('to', 'ADP', ''), ('the', 'DET', ''), ('closest', 'ADJ', ''), ('re', 'PROPN', 'Destination'), ('YO', 'PROPN', 'Destination'), ('H8', 'PROPN', 'Destination'), ('lY', 'PROPN', 'Destination'), ('f9', 'PROPN', 'Destination')]\n",
      "-------\n",
      "[('get', 'AUX', ''), ('directions', 'NOUN', ''), ('to', 'PART', ''), ('go', 'VERB', ''), ('to', 'ADP', ''), ('the', 'DET', ''), ('nearest', 'ADJ', ''), ('Unknown', 'PROPN', 'Destination')]\n",
      "-------\n",
      "[('drive', 'VERB', ''), ('home', 'ADV', '')]\n",
      "-------\n",
      "[('get', 'AUX', ''), ('home', 'ADV', '')]\n",
      "-------\n",
      "[('go', 'VERB', ''), ('home', 'ADV', '')]\n",
      "-------\n",
      "[('let', 'VERB', ''), (\"'s\", 'PRON', ''), ('go', 'VERB', ''), ('home', 'ADV', '')]\n",
      "-------\n",
      "[('drive', 'VERB', ''), ('me', 'PRON', ''), ('to', 'ADP', ''), ('Unknown', 'PROPN', 'Destination')]\n",
      "-------\n",
      "[('drive', 'VERB', ''), ('me', 'PRON', ''), ('to', 'ADP', ''), ('l', 'PROPN', 'Destination'), ('b', 'PROPN', 'Destination'), ('y', 'PROPN', 'Destination'), ('i', 'PROPN', 'Destination'), ('1', 'PROPN', 'Destination'), ('c', 'PROPN', 'Destination'), ('u', 'PROPN', 'Destination'), ('h', 'PROPN', 'Destination'), ('t', 'PROPN', 'Destination'), ('d', 'PROPN', 'Destination'), ('home', 'ADV', '')]\n",
      "-------\n",
      "[('drive', 'VERB', ''), ('me', 'PRON', ''), ('to', 'ADP', ''), ('m', 'PROPN', 'Destination'), ('N', 'PROPN', 'Destination'), ('v', 'PROPN', 'Destination'), ('R', 'PROPN', 'Destination'), ('H', 'PROPN', 'Destination'), ('X', 'PROPN', 'Destination'), ('u', 'PROPN', 'Destination'), ('i', 'PROPN', 'Destination'), ('d', 'PROPN', 'Destination'), ('k', 'PROPN', 'Destination'), ('office', 'NOUN', '')]\n",
      "-------\n",
      "[('drive', 'VERB', ''), ('me', 'PRON', ''), ('to', 'ADP', ''), ('75', 'PROPN', 'Destination'), ('rZ', 'PROPN', 'Destination'), ('Rg', 'PROPN', 'Destination'), ('rP', 'PROPN', 'Destination'), ('in', 'PROPN', 'Destination'), ('work', 'NOUN', '')]\n",
      "-------\n",
      "[('drive', 'VERB', ''), ('me', 'PRON', ''), ('to', 'ADP', ''), ('the', 'DET', ''), ('closest', 'ADJ', ''), ('h', 'PROPN', 'Destination'), ('W', 'PROPN', 'Destination'), ('i', 'PROPN', 'Destination'), ('I', 'PROPN', 'Destination'), ('y', 'PROPN', 'Destination'), ('7', 'PROPN', 'Destination'), ('2', 'PROPN', 'Destination'), ('a', 'PROPN', 'Destination'), ('v', 'PROPN', 'Destination'), ('l', 'PROPN', 'Destination')]\n",
      "-------\n",
      "[('drive', 'VERB', ''), ('me', 'PRON', ''), ('to', 'ADP', ''), ('the', 'DET', ''), ('nearest', 'ADJ', ''), ('Unknown', 'PROPN', 'Destination')]\n",
      "-------\n",
      "[('Unknown', 'AUX', ''), ('me', 'PRON', ''), ('to', 'ADP', ''), ('1kr', 'PROPN', 'Destination'), ('iGA', 'PROPN', 'Destination'), ('BFK', 'PROPN', 'Destination'), ('E', 'PROPN', 'Destination')]\n",
      "-------\n",
      "[('Unknown', 'AUX', ''), ('me', 'PRON', ''), ('to', 'ADP', ''), ('9', 'PROPN', 'Destination'), ('1', 'PROPN', 'Destination'), ('Y', 'PROPN', 'Destination'), ('d', 'PROPN', 'Destination'), ('i', 'PROPN', 'Destination'), ('D', 'PROPN', 'Destination'), ('N', 'PROPN', 'Destination'), ('a', 'PROPN', 'Destination'), ('6', 'PROPN', 'Destination'), ('0', 'PROPN', 'Destination'), ('home', 'ADV', '')]\n",
      "-------\n",
      "[('get', 'AUX', ''), ('me', 'PRON', ''), ('to', 'ADP', ''), ('IEu', 'PROPN', 'Destination'), ('YcS', 'PROPN', 'Destination'), ('1CM', 'PROPN', 'Destination'), ('Q', 'PROPN', 'Destination'), ('office', 'NOUN', '')]\n",
      "-------\n",
      "[('get', 'AUX', ''), ('Unknown', 'PRON', ''), ('to', 'ADP', ''), ('W', 'PROPN', 'Destination'), ('m', 'PROPN', 'Destination'), ('g', 'PROPN', 'Destination'), ('s', 'PROPN', 'Destination'), ('2', 'PROPN', 'Destination'), ('1', 'PROPN', 'Destination'), ('L', 'PROPN', 'Destination'), ('Q', 'PROPN', 'Destination'), ('L', 'PROPN', 'Destination'), ('f', 'PROPN', 'Destination'), ('work', 'NOUN', '')]\n",
      "-------\n",
      "[('get', 'AUX', ''), ('me', 'PRON', ''), ('to', 'ADP', ''), ('the', 'DET', ''), ('closest', 'ADJ', ''), ('W267', 'PROPN', 'Destination'), ('li4T', 'PROPN', 'Destination'), ('cf', 'PROPN', 'Destination')]\n",
      "-------\n",
      "[('get', 'AUX', ''), ('me', 'PRON', ''), ('to', 'ADP', ''), ('Unknown', 'DET', ''), ('nearest', 'ADJ', ''), ('CBzR', 'PROPN', 'Destination'), ('24va', 'PROPN', 'Destination'), ('LI', 'PROPN', 'Destination')]\n",
      "-------\n",
      "[('navigate', 'VERB', ''), ('me', 'PRON', ''), ('to', 'ADP', ''), ('gr', 'PROPN', 'Destination'), ('y3', 'PROPN', 'Destination'), ('Ey', 'PROPN', 'Destination'), ('WH', 'PROPN', 'Destination'), ('ij', 'PROPN', 'Destination')]\n",
      "-------\n",
      "[('navigate', 'VERB', ''), ('me', 'PRON', ''), ('to', 'ADP', ''), ('Q', 'PROPN', 'Destination'), ('M', 'PROPN', 'Destination'), ('p', 'PROPN', 'Destination'), ('d', 'PROPN', 'Destination'), ('N', 'PROPN', 'Destination'), ('m', 'PROPN', 'Destination'), ('g', 'PROPN', 'Destination'), ('T', 'PROPN', 'Destination'), ('N', 'PROPN', 'Destination'), ('x', 'PROPN', 'Destination'), ('home', 'ADV', '')]\n",
      "-------\n",
      "[('navigate', 'VERB', ''), ('me', 'PRON', ''), ('to', 'ADP', ''), ('Unknown', 'PROPN', 'Destination'), ('office', 'NOUN', '')]\n",
      "-------\n",
      "[('navigate', 'VERB', ''), ('me', 'PRON', ''), ('to', 'ADP', ''), ('Q', 'PROPN', 'Destination'), ('x', 'PROPN', 'Destination'), ('N', 'PROPN', 'Destination'), ('M', 'PROPN', 'Destination'), ('b', 'PROPN', 'Destination'), ('T', 'PROPN', 'Destination'), ('x', 'PROPN', 'Destination'), ('k', 'PROPN', 'Destination'), ('F', 'PROPN', 'Destination'), ('S', 'PROPN', 'Destination'), ('work', 'NOUN', '')]\n",
      "-------\n",
      "[('I', 'PRON', ''), ('want', 'VERB', ''), ('to', 'PART', ''), ('go', 'VERB', ''), ('to', 'ADP', ''), ('my', 'PRON', ''), ('parents', 'NOUN', ''), (\"'\", 'PART', ''), ('home', 'NOUN', '')]\n",
      "-------\n",
      "[('I', 'PRON', ''), ('want', 'VERB', ''), ('to', 'PART', ''), ('go', 'VERB', ''), ('to', 'ADP', ''), ('my', 'PRON', ''), ('parents', 'NOUN', ''), (\"'\", 'PART', ''), ('place', 'NOUN', '')]\n",
      "-------\n",
      "[('I', 'PRON', ''), ('want', 'VERB', ''), ('to', 'PART', ''), ('go', 'VERB', ''), ('to', 'ADP', ''), ('my', 'PRON', ''), ('place', 'NOUN', '')]\n",
      "-------\n",
      "[('I', 'PRON', ''), ('want', 'VERB', ''), ('to', 'PART', ''), ('go', 'VERB', ''), ('to', 'ADP', ''), ('the', 'DET', ''), ('Unknown', 'ADJ', ''), ('Unknown', 'PROPN', 'Destination')]\n",
      "-------\n",
      "[('I', 'PRON', ''), ('want', 'VERB', ''), ('to', 'PART', ''), ('go', 'VERB', ''), ('to', 'ADP', ''), ('the', 'DET', ''), ('nearest', 'ADJ', ''), ('Bnh9', 'PROPN', 'Destination'), ('AyQd', 'PROPN', 'Destination'), ('UY', 'PROPN', 'Destination')]\n",
      "-------\n",
      "[('I', 'PRON', ''), ('want', 'VERB', ''), ('Unknown', 'PART', ''), ('go', 'VERB', ''), ('to', 'ADP', ''), ('work', 'NOUN', '')]\n",
      "-------\n",
      "[('Unknown', 'PRON', ''), ('want', 'VERB', ''), ('to', 'PART', ''), ('navigate', 'VERB', ''), ('to', 'ADP', ''), ('GXA9', 'PROPN', 'Destination'), ('YYql', 'PROPN', 'Destination'), ('Ca', 'PROPN', 'Destination'), ('office', 'NOUN', '')]\n",
      "-------\n",
      "[('I', 'PRON', ''), ('want', 'VERB', ''), ('to', 'PART', ''), ('navigate', 'VERB', ''), ('to', 'ADP', ''), ('Unknown', 'PROPN', 'Destination')]\n",
      "-------\n",
      "[('I', 'PRON', ''), ('want', 'VERB', ''), ('to', 'PART', ''), ('navigate', 'VERB', ''), ('to', 'ADP', ''), ('my', 'PRON', ''), ('Unknown', 'NOUN', ''), (\"'s\", 'PART', ''), ('school', 'NOUN', '')]\n",
      "-------\n",
      "[('I', 'PRON', ''), ('want', 'VERB', ''), ('to', 'PART', ''), ('navigate', 'VERB', ''), ('to', 'ADP', ''), ('my', 'PRON', ''), ('kid', 'NOUN', ''), (\"'s\", 'PART', ''), ('school', 'NOUN', '')]\n",
      "-------\n",
      "[('I', 'PRON', ''), ('want', 'VERB', ''), ('to', 'PART', ''), ('navigate', 'VERB', ''), ('to', 'ADP', ''), ('my', 'PRON', ''), ('kids', 'NOUN', ''), (\"'\", 'PART', ''), ('Unknown', 'NOUN', '')]\n",
      "-------\n",
      "[('I', 'PRON', ''), ('want', 'VERB', ''), ('to', 'PART', ''), ('navigate', 'VERB', ''), ('to', 'ADP', ''), ('my', 'PRON', ''), ('Unknown', 'NOUN', '')]\n",
      "-------\n",
      "[('Unknown', 'PRON', ''), ('want', 'VERB', ''), ('Unknown', 'PART', ''), ('navigate', 'VERB', ''), ('to', 'ADP', ''), ('my', 'PRON', ''), ('parents', 'NOUN', ''), (\"'\", 'PART', ''), ('place', 'NOUN', '')]\n",
      "-------\n",
      "[('I', 'PRON', ''), ('want', 'VERB', ''), ('to', 'PART', ''), ('navigate', 'VERB', ''), ('to', 'ADP', ''), ('my', 'PRON', ''), ('place', 'NOUN', '')]\n",
      "-------\n",
      "[('I', 'PRON', ''), ('want', 'VERB', ''), ('to', 'PART', ''), ('navigate', 'VERB', ''), ('Unknown', 'ADP', ''), ('the', 'DET', ''), ('Unknown', 'ADJ', ''), ('Unknown', 'PROPN', 'Destination')]\n",
      "-------\n",
      "[('I', 'PRON', ''), ('got', 'VERB', ''), ('to', 'PART', ''), ('get', 'AUX', ''), ('directions', 'NOUN', ''), ('Unknown', 'ADV', '')]\n",
      "-------\n",
      "[('I', 'PRON', ''), ('got', 'VERB', ''), ('to', 'PART', ''), ('get', 'AUX', ''), ('directions', 'NOUN', ''), ('to', 'ADP', ''), ('Jb', 'PROPN', 'Destination'), ('0v', 'PROPN', 'Destination'), ('R5', 'PROPN', 'Destination'), ('fB', 'PROPN', 'Destination'), ('sw', 'PROPN', 'Destination')]\n",
      "-------\n",
      "None\n",
      "-------\n"
     ]
    }
   ],
   "source": [
    "for group in yield_sentence():\n",
    "    print(group)\n",
    "    print(\"-------\")"
   ]
  },
  {
   "cell_type": "code",
   "execution_count": 131,
   "metadata": {},
   "outputs": [],
   "source": [
    "max_len = 75\n",
    "word2idx = {w: i + 1 for i, w in enumerate(words)}\n",
    "tag2idx = {t: i for i, t in enumerate(tags)}\n",
    "pos2idx = {p: i for i, p in enumerate(pos)}\n"
   ]
  },
  {
   "cell_type": "code",
   "execution_count": 132,
   "metadata": {},
   "outputs": [
    {
     "data": {
      "text/plain": [
       "12"
      ]
     },
     "execution_count": 132,
     "metadata": {},
     "output_type": "execute_result"
    }
   ],
   "source": [
    "word2idx[\"directions\"]"
   ]
  },
  {
   "cell_type": "code",
   "execution_count": 133,
   "metadata": {},
   "outputs": [
    {
     "data": {
      "text/plain": [
       "{'VERB': 0,\n",
       " 'PUNCT': 1,\n",
       " 'ADV': 2,\n",
       " 'AUX': 3,\n",
       " 'NUM': 4,\n",
       " 'DET': 5,\n",
       " 'ADP': 6,\n",
       " 'ADJ': 7,\n",
       " 'PRON': 8,\n",
       " 'PART': 9,\n",
       " 'PROPN': 10,\n",
       " 'NOUN': 11,\n",
       " 'BLANK': 12}"
      ]
     },
     "execution_count": 133,
     "metadata": {},
     "output_type": "execute_result"
    }
   ],
   "source": [
    "tag2idx[\"\"]\n",
    "pos2idx"
   ]
  },
  {
   "cell_type": "code",
   "execution_count": 134,
   "metadata": {},
   "outputs": [],
   "source": [
    "from keras.preprocessing.sequence import pad_sequences\n",
    "X = [[word2idx.get(w[0],word2idx[\"Unknown\"]) for w in s] for s in sentences]\n",
    "X_pos = [[pos2idx.get(w[1]) for w in s] for s in sentences]"
   ]
  },
  {
   "cell_type": "code",
   "execution_count": 135,
   "metadata": {},
   "outputs": [],
   "source": [
    "X = pad_sequences(maxlen=max_len, sequences=X, padding=\"post\", value=n_words-1)\n",
    "X_pos = pad_sequences(maxlen=max_len, sequences=X_pos, padding=\"post\", value=pos2idx[\"BLANK\"])\n",
    "# print(X.shape)\n",
    "# print(X_pos.shape)\n",
    "\n",
    "# X = np.stack((X,X_pos))\n",
    "# print(X.shape)\n",
    "# X = np.reshape(X,[123,2,75])\n",
    "# print(X.shape)"
   ]
  },
  {
   "cell_type": "code",
   "execution_count": 136,
   "metadata": {},
   "outputs": [],
   "source": [
    "y = [[tag2idx[w[2]] for w in s] for s in sentences]"
   ]
  },
  {
   "cell_type": "code",
   "execution_count": 137,
   "metadata": {},
   "outputs": [],
   "source": [
    "y = pad_sequences(maxlen=max_len, sequences=y, padding=\"post\", value=tag2idx[\"\"])\n"
   ]
  },
  {
   "cell_type": "code",
   "execution_count": 138,
   "metadata": {},
   "outputs": [],
   "source": [
    "from keras.utils import to_categorical"
   ]
  },
  {
   "cell_type": "code",
   "execution_count": 139,
   "metadata": {},
   "outputs": [],
   "source": [
    "y = [to_categorical(i, num_classes=n_tags) for i in y]"
   ]
  },
  {
   "cell_type": "code",
   "execution_count": 140,
   "metadata": {},
   "outputs": [],
   "source": [
    "from sklearn.model_selection import train_test_split"
   ]
  },
  {
   "cell_type": "code",
   "execution_count": 141,
   "metadata": {},
   "outputs": [],
   "source": [
    "X_tr, X_te, y_tr, y_te, X_pos_tr, X_pos_te = train_test_split(X, y, X_pos, test_size=0.1)"
   ]
  },
  {
   "cell_type": "code",
   "execution_count": 1,
   "metadata": {},
   "outputs": [],
   "source": [
    "import pickle\n",
    "import pandas as pd\n",
    "import numpy as np\n",
    "import random\n",
    "import string\n",
    "pickle_in = open(\"training_and_testing_data.pickle\",\"rb\")\n",
    "\n",
    "data_dict = pickle.load(pickle_in)"
   ]
  },
  {
   "cell_type": "code",
   "execution_count": 5,
   "metadata": {},
   "outputs": [],
   "source": [
    "\n",
    "X_tr = data_dict[\"X_tr\"]\n",
    "X_te = data_dict[\"X_te\"]\n",
    "y_tr = data_dict[\"y_tr\"]\n",
    "y_te = data_dict[\"y_te\"]\n",
    "X_pos_tr = data_dict[\"X_pos_tr\"]\n",
    "X_pos_te = data_dict[\"X_pos_te\"]\n",
    "\n",
    "max_len = 75\n",
    "n_words = data_dict[\"n_words\"]\n",
    "n_tags = data_dict[\"n_tags\"]\n",
    "tag2idx = data_dict[\"tag2idx\"]\n",
    "pos2idx = data_dict[\"pos2idx\"]\n",
    "word2idx = data_dict[\"word2idx\"]\n",
    "pos = data_dict[\"pos\"]"
   ]
  },
  {
   "cell_type": "code",
   "execution_count": 6,
   "metadata": {},
   "outputs": [],
   "source": [
    "from keras.models import Model, Input\n",
    "from keras.layers import LSTM, Embedding, Dense, TimeDistributed, Dropout, Bidirectional\n",
    "from keras_contrib.layers import CRF\n",
    "import keras"
   ]
  },
  {
   "cell_type": "code",
   "execution_count": 7,
   "metadata": {},
   "outputs": [],
   "source": [
    "# input = Input(shape=(max_len,))\n",
    "# model = Embedding(input_dim=n_words + 1, output_dim=20,\n",
    "#                   input_length=max_len)(input)  # 20-dim embedding\n",
    "# model = Bidirectional(LSTM(units=50, return_sequences=True,\n",
    "#                            recurrent_dropout=0.1))(model)  # variational biLSTM\n",
    "# model = TimeDistributed(Dense(50, activation=\"relu\"))(model)  # a dense layer as suggested by neuralNer\n",
    "# crf = CRF(n_tags)  # CRF layer\n",
    "# out = crf(model)  # output\n",
    "\n",
    "\n",
    "big_input = Input(shape=(150,))\n",
    "input = Input(shape=(max_len,))\n",
    "word_emb = Embedding(input_dim=n_words + 1, output_dim=20,\n",
    "input_length=max_len)(input) # 20-dim embedding\n",
    "\n",
    "pos_input = Input(shape=(max_len,))\n",
    "pos_emb = Embedding(input_dim= len(pos) , output_dim=10,\n",
    "input_length=max_len)(pos_input)\n",
    "\n",
    "modified_input = keras.layers.concatenate([word_emb, pos_emb])\n",
    "\n",
    "model_1 = Bidirectional(LSTM(units=50, return_sequences=True,\n",
    "recurrent_dropout=0.1))(modified_input)\n",
    "\n",
    "model = TimeDistributed(Dense(50, activation=\"relu\"))(model_1)  # a dense layer as suggested by neuralNer\n",
    "crf = CRF(n_tags)  # CRF layer\n",
    "out = crf(model)  # output\n",
    "\n"
   ]
  },
  {
   "cell_type": "code",
   "execution_count": 8,
   "metadata": {},
   "outputs": [],
   "source": [
    "model = Model([input,pos_input], out)"
   ]
  },
  {
   "cell_type": "code",
   "execution_count": 9,
   "metadata": {},
   "outputs": [
    {
     "name": "stderr",
     "output_type": "stream",
     "text": [
      "/home/premraj/anaconda3/lib/python3.7/site-packages/keras_contrib/layers/crf.py:346: UserWarning: CRF.loss_function is deprecated and it might be removed in the future. Please use losses.crf_loss instead.\n",
      "  warnings.warn('CRF.loss_function is deprecated '\n",
      "/home/premraj/anaconda3/lib/python3.7/site-packages/keras_contrib/layers/crf.py:353: UserWarning: CRF.accuracy is deprecated and it might be removed in the future. Please use metrics.crf_accuracy\n",
      "  warnings.warn('CRF.accuracy is deprecated and it '\n"
     ]
    }
   ],
   "source": [
    "model.compile(optimizer=\"rmsprop\", loss=crf.loss_function, metrics=[crf.accuracy])"
   ]
  },
  {
   "cell_type": "code",
   "execution_count": 10,
   "metadata": {},
   "outputs": [
    {
     "name": "stdout",
     "output_type": "stream",
     "text": [
      "Model: \"model_1\"\n",
      "__________________________________________________________________________________________________\n",
      "Layer (type)                    Output Shape         Param #     Connected to                     \n",
      "==================================================================================================\n",
      "input_5 (InputLayer)            (None, 75)           0                                            \n",
      "__________________________________________________________________________________________________\n",
      "input_6 (InputLayer)            (None, 75)           0                                            \n",
      "__________________________________________________________________________________________________\n",
      "embedding_2 (Embedding)         (None, 75, 20)       1620        input_5[0][0]                    \n",
      "__________________________________________________________________________________________________\n",
      "embedding_3 (Embedding)         (None, 75, 10)       140         input_6[0][0]                    \n",
      "__________________________________________________________________________________________________\n",
      "concatenate_1 (Concatenate)     (None, 75, 30)       0           embedding_2[0][0]                \n",
      "                                                                 embedding_3[0][0]                \n",
      "__________________________________________________________________________________________________\n",
      "bidirectional_1 (Bidirectional) (None, 75, 100)      32400       concatenate_1[0][0]              \n",
      "__________________________________________________________________________________________________\n",
      "time_distributed_1 (TimeDistrib (None, 75, 50)       5050        bidirectional_1[0][0]            \n",
      "__________________________________________________________________________________________________\n",
      "crf_1 (CRF)                     (None, 75, 2)        110         time_distributed_1[0][0]         \n",
      "==================================================================================================\n",
      "Total params: 39,320\n",
      "Trainable params: 39,320\n",
      "Non-trainable params: 0\n",
      "__________________________________________________________________________________________________\n"
     ]
    }
   ],
   "source": [
    "model.summary()"
   ]
  },
  {
   "cell_type": "code",
   "execution_count": 11,
   "metadata": {},
   "outputs": [
    {
     "name": "stdout",
     "output_type": "stream",
     "text": [
      "(75,)\n"
     ]
    }
   ],
   "source": [
    "print(X_tr[0].shape)"
   ]
  },
  {
   "cell_type": "code",
   "execution_count": 13,
   "metadata": {},
   "outputs": [
    {
     "name": "stdout",
     "output_type": "stream",
     "text": [
      "Train on 137 samples, validate on 16 samples\n",
      "Epoch 1/60\n",
      "137/137 [==============================] - 0s 3ms/step - loss: 0.0132 - crf_viterbi_accuracy: 0.9982 - val_loss: 0.0122 - val_crf_viterbi_accuracy: 0.9983\n",
      "Epoch 2/60\n",
      "137/137 [==============================] - 0s 3ms/step - loss: 0.0116 - crf_viterbi_accuracy: 0.9980 - val_loss: 0.0177 - val_crf_viterbi_accuracy: 0.9950\n",
      "Epoch 3/60\n",
      "137/137 [==============================] - 0s 3ms/step - loss: 0.0115 - crf_viterbi_accuracy: 0.9986 - val_loss: 0.0107 - val_crf_viterbi_accuracy: 0.9983\n",
      "Epoch 4/60\n",
      "137/137 [==============================] - 0s 3ms/step - loss: 0.0097 - crf_viterbi_accuracy: 0.9992 - val_loss: 0.0102 - val_crf_viterbi_accuracy: 0.9983\n",
      "Epoch 5/60\n",
      "137/137 [==============================] - 0s 3ms/step - loss: 0.0084 - crf_viterbi_accuracy: 0.9995 - val_loss: 0.0098 - val_crf_viterbi_accuracy: 0.9992\n",
      "Epoch 6/60\n",
      "137/137 [==============================] - 0s 3ms/step - loss: 0.0079 - crf_viterbi_accuracy: 0.9993 - val_loss: 0.0091 - val_crf_viterbi_accuracy: 0.9983\n",
      "Epoch 7/60\n",
      "137/137 [==============================] - 0s 3ms/step - loss: 0.0074 - crf_viterbi_accuracy: 0.9999 - val_loss: 0.0089 - val_crf_viterbi_accuracy: 0.9983\n",
      "Epoch 8/60\n",
      "137/137 [==============================] - 0s 3ms/step - loss: 0.0070 - crf_viterbi_accuracy: 0.9997 - val_loss: 0.0084 - val_crf_viterbi_accuracy: 0.9992\n",
      "Epoch 9/60\n",
      "137/137 [==============================] - 0s 3ms/step - loss: 0.0064 - crf_viterbi_accuracy: 0.9997 - val_loss: 0.0079 - val_crf_viterbi_accuracy: 0.9983\n",
      "Epoch 10/60\n",
      "137/137 [==============================] - 0s 3ms/step - loss: 0.0062 - crf_viterbi_accuracy: 1.0000 - val_loss: 0.0077 - val_crf_viterbi_accuracy: 0.9992\n",
      "Epoch 11/60\n",
      "137/137 [==============================] - 0s 3ms/step - loss: 0.0057 - crf_viterbi_accuracy: 1.0000 - val_loss: 0.0076 - val_crf_viterbi_accuracy: 0.9992\n",
      "Epoch 12/60\n",
      "137/137 [==============================] - 0s 4ms/step - loss: 0.0056 - crf_viterbi_accuracy: 0.9999 - val_loss: 0.0088 - val_crf_viterbi_accuracy: 0.9992\n",
      "Epoch 13/60\n",
      "137/137 [==============================] - 0s 3ms/step - loss: 0.0054 - crf_viterbi_accuracy: 1.0000 - val_loss: 0.0081 - val_crf_viterbi_accuracy: 0.9992\n",
      "Epoch 14/60\n",
      "137/137 [==============================] - 0s 3ms/step - loss: 0.0053 - crf_viterbi_accuracy: 0.9999 - val_loss: 0.0075 - val_crf_viterbi_accuracy: 0.9992\n",
      "Epoch 15/60\n",
      "137/137 [==============================] - 0s 3ms/step - loss: 0.0051 - crf_viterbi_accuracy: 1.0000 - val_loss: 0.0076 - val_crf_viterbi_accuracy: 0.9992\n",
      "Epoch 16/60\n",
      "137/137 [==============================] - 0s 3ms/step - loss: 0.0050 - crf_viterbi_accuracy: 1.0000 - val_loss: 0.0069 - val_crf_viterbi_accuracy: 0.9992\n",
      "Epoch 17/60\n",
      "137/137 [==============================] - 0s 3ms/step - loss: 0.0048 - crf_viterbi_accuracy: 1.0000 - val_loss: 0.0072 - val_crf_viterbi_accuracy: 0.9992\n",
      "Epoch 18/60\n",
      "137/137 [==============================] - 0s 3ms/step - loss: 0.0047 - crf_viterbi_accuracy: 1.0000 - val_loss: 0.0071 - val_crf_viterbi_accuracy: 0.9992\n",
      "Epoch 19/60\n",
      "137/137 [==============================] - 0s 3ms/step - loss: 0.0046 - crf_viterbi_accuracy: 1.0000 - val_loss: 0.0075 - val_crf_viterbi_accuracy: 0.9992\n",
      "Epoch 20/60\n",
      "137/137 [==============================] - 0s 3ms/step - loss: 0.0045 - crf_viterbi_accuracy: 1.0000 - val_loss: 0.0065 - val_crf_viterbi_accuracy: 0.9992\n",
      "Epoch 21/60\n",
      "137/137 [==============================] - 0s 3ms/step - loss: 0.0044 - crf_viterbi_accuracy: 1.0000 - val_loss: 0.0073 - val_crf_viterbi_accuracy: 0.9992\n",
      "Epoch 22/60\n",
      "137/137 [==============================] - 0s 3ms/step - loss: 0.0043 - crf_viterbi_accuracy: 1.0000 - val_loss: 0.0068 - val_crf_viterbi_accuracy: 0.9992\n",
      "Epoch 23/60\n",
      "137/137 [==============================] - 0s 3ms/step - loss: 0.0044 - crf_viterbi_accuracy: 1.0000 - val_loss: 0.0067 - val_crf_viterbi_accuracy: 0.9992\n",
      "Epoch 24/60\n",
      "137/137 [==============================] - 0s 3ms/step - loss: 0.0042 - crf_viterbi_accuracy: 1.0000 - val_loss: 0.0069 - val_crf_viterbi_accuracy: 0.9992\n",
      "Epoch 25/60\n",
      "137/137 [==============================] - 0s 3ms/step - loss: 0.0041 - crf_viterbi_accuracy: 1.0000 - val_loss: 0.0060 - val_crf_viterbi_accuracy: 0.9992\n",
      "Epoch 26/60\n",
      "137/137 [==============================] - 0s 3ms/step - loss: 0.0040 - crf_viterbi_accuracy: 1.0000 - val_loss: 0.0072 - val_crf_viterbi_accuracy: 0.9992\n",
      "Epoch 27/60\n",
      "137/137 [==============================] - 0s 3ms/step - loss: 0.0040 - crf_viterbi_accuracy: 1.0000 - val_loss: 0.0079 - val_crf_viterbi_accuracy: 0.9992\n",
      "Epoch 28/60\n",
      "137/137 [==============================] - 0s 3ms/step - loss: 0.0039 - crf_viterbi_accuracy: 1.0000 - val_loss: 0.0067 - val_crf_viterbi_accuracy: 0.9992\n",
      "Epoch 29/60\n",
      "137/137 [==============================] - 0s 3ms/step - loss: 0.0038 - crf_viterbi_accuracy: 1.0000 - val_loss: 0.0060 - val_crf_viterbi_accuracy: 0.9992\n",
      "Epoch 30/60\n",
      "137/137 [==============================] - 0s 3ms/step - loss: 0.0037 - crf_viterbi_accuracy: 1.0000 - val_loss: 0.0063 - val_crf_viterbi_accuracy: 0.9992\n",
      "Epoch 31/60\n",
      "137/137 [==============================] - 0s 3ms/step - loss: 0.0037 - crf_viterbi_accuracy: 1.0000 - val_loss: 0.0069 - val_crf_viterbi_accuracy: 0.9992\n",
      "Epoch 32/60\n",
      "137/137 [==============================] - 0s 3ms/step - loss: 0.0036 - crf_viterbi_accuracy: 1.0000 - val_loss: 0.0064 - val_crf_viterbi_accuracy: 0.9992\n",
      "Epoch 33/60\n",
      "137/137 [==============================] - 0s 3ms/step - loss: 0.0035 - crf_viterbi_accuracy: 1.0000 - val_loss: 0.0064 - val_crf_viterbi_accuracy: 0.9992\n",
      "Epoch 34/60\n",
      "137/137 [==============================] - 0s 3ms/step - loss: 0.0035 - crf_viterbi_accuracy: 1.0000 - val_loss: 0.0069 - val_crf_viterbi_accuracy: 0.9992\n",
      "Epoch 35/60\n",
      "137/137 [==============================] - 0s 3ms/step - loss: 0.0034 - crf_viterbi_accuracy: 1.0000 - val_loss: 0.0066 - val_crf_viterbi_accuracy: 0.9992\n",
      "Epoch 36/60\n",
      "137/137 [==============================] - 0s 3ms/step - loss: 0.0033 - crf_viterbi_accuracy: 1.0000 - val_loss: 0.0065 - val_crf_viterbi_accuracy: 0.9992\n",
      "Epoch 37/60\n",
      "137/137 [==============================] - 0s 3ms/step - loss: 0.0033 - crf_viterbi_accuracy: 1.0000 - val_loss: 0.0062 - val_crf_viterbi_accuracy: 0.9992\n",
      "Epoch 38/60\n",
      "137/137 [==============================] - 1s 4ms/step - loss: 0.0032 - crf_viterbi_accuracy: 1.0000 - val_loss: 0.0067 - val_crf_viterbi_accuracy: 0.9992\n",
      "Epoch 39/60\n",
      "137/137 [==============================] - 0s 3ms/step - loss: 0.0031 - crf_viterbi_accuracy: 1.0000 - val_loss: 0.0062 - val_crf_viterbi_accuracy: 0.9992\n",
      "Epoch 40/60\n",
      "137/137 [==============================] - 0s 3ms/step - loss: 0.0031 - crf_viterbi_accuracy: 1.0000 - val_loss: 0.0042 - val_crf_viterbi_accuracy: 0.9992\n",
      "Epoch 41/60\n",
      "137/137 [==============================] - 0s 3ms/step - loss: 0.0030 - crf_viterbi_accuracy: 1.0000 - val_loss: 0.0066 - val_crf_viterbi_accuracy: 0.9992\n",
      "Epoch 42/60\n",
      "137/137 [==============================] - 0s 3ms/step - loss: 0.0029 - crf_viterbi_accuracy: 1.0000 - val_loss: 0.0067 - val_crf_viterbi_accuracy: 0.9992\n",
      "Epoch 43/60\n",
      "137/137 [==============================] - 0s 3ms/step - loss: 0.0028 - crf_viterbi_accuracy: 1.0000 - val_loss: 0.0061 - val_crf_viterbi_accuracy: 0.9992\n",
      "Epoch 44/60\n",
      "137/137 [==============================] - 0s 3ms/step - loss: 0.0028 - crf_viterbi_accuracy: 1.0000 - val_loss: 0.0059 - val_crf_viterbi_accuracy: 0.9992\n",
      "Epoch 45/60\n",
      "137/137 [==============================] - 0s 3ms/step - loss: 0.0027 - crf_viterbi_accuracy: 1.0000 - val_loss: 0.0059 - val_crf_viterbi_accuracy: 0.9992\n",
      "Epoch 46/60\n",
      "137/137 [==============================] - 0s 3ms/step - loss: 0.0027 - crf_viterbi_accuracy: 1.0000 - val_loss: 0.0059 - val_crf_viterbi_accuracy: 0.9992\n",
      "Epoch 47/60\n",
      "137/137 [==============================] - 0s 3ms/step - loss: 0.0026 - crf_viterbi_accuracy: 1.0000 - val_loss: 0.0059 - val_crf_viterbi_accuracy: 0.9992\n",
      "Epoch 48/60\n",
      "137/137 [==============================] - 0s 3ms/step - loss: 0.0025 - crf_viterbi_accuracy: 1.0000 - val_loss: 0.0057 - val_crf_viterbi_accuracy: 0.9992\n",
      "Epoch 49/60\n",
      "137/137 [==============================] - 0s 3ms/step - loss: 0.0024 - crf_viterbi_accuracy: 1.0000 - val_loss: 0.0055 - val_crf_viterbi_accuracy: 0.9992\n"
     ]
    },
    {
     "name": "stdout",
     "output_type": "stream",
     "text": [
      "Epoch 50/60\n",
      "137/137 [==============================] - 0s 3ms/step - loss: 0.0024 - crf_viterbi_accuracy: 1.0000 - val_loss: 0.0054 - val_crf_viterbi_accuracy: 0.9992\n",
      "Epoch 51/60\n",
      "137/137 [==============================] - 0s 3ms/step - loss: 0.0023 - crf_viterbi_accuracy: 1.0000 - val_loss: 0.0063 - val_crf_viterbi_accuracy: 0.9992\n",
      "Epoch 52/60\n",
      "137/137 [==============================] - 0s 4ms/step - loss: 0.0022 - crf_viterbi_accuracy: 1.0000 - val_loss: 0.0062 - val_crf_viterbi_accuracy: 0.9992\n",
      "Epoch 53/60\n",
      "137/137 [==============================] - 0s 4ms/step - loss: 0.0022 - crf_viterbi_accuracy: 1.0000 - val_loss: 0.0060 - val_crf_viterbi_accuracy: 0.9992\n",
      "Epoch 54/60\n",
      "137/137 [==============================] - 0s 3ms/step - loss: 0.0021 - crf_viterbi_accuracy: 1.0000 - val_loss: 0.0062 - val_crf_viterbi_accuracy: 0.9992\n",
      "Epoch 55/60\n",
      "137/137 [==============================] - 0s 3ms/step - loss: 0.0020 - crf_viterbi_accuracy: 1.0000 - val_loss: 0.0060 - val_crf_viterbi_accuracy: 0.9992\n",
      "Epoch 56/60\n",
      "137/137 [==============================] - 0s 3ms/step - loss: 0.0020 - crf_viterbi_accuracy: 1.0000 - val_loss: 0.0054 - val_crf_viterbi_accuracy: 0.9992\n",
      "Epoch 57/60\n",
      "137/137 [==============================] - 0s 3ms/step - loss: 0.0019 - crf_viterbi_accuracy: 1.0000 - val_loss: 0.0062 - val_crf_viterbi_accuracy: 0.9992\n",
      "Epoch 58/60\n",
      "137/137 [==============================] - 0s 3ms/step - loss: 0.0018 - crf_viterbi_accuracy: 1.0000 - val_loss: 0.0060 - val_crf_viterbi_accuracy: 0.9992\n",
      "Epoch 59/60\n",
      "137/137 [==============================] - 0s 3ms/step - loss: 0.0018 - crf_viterbi_accuracy: 1.0000 - val_loss: 0.0063 - val_crf_viterbi_accuracy: 0.9992\n",
      "Epoch 60/60\n",
      "137/137 [==============================] - 0s 3ms/step - loss: 0.0017 - crf_viterbi_accuracy: 1.0000 - val_loss: 0.0051 - val_crf_viterbi_accuracy: 0.9992\n"
     ]
    }
   ],
   "source": [
    "history = model.fit([X_tr,X_pos_tr], np.array(y_tr), batch_size=32, epochs=60,\n",
    "                    validation_split=0.1, verbose=1)"
   ]
  },
  {
   "cell_type": "code",
   "execution_count": null,
   "metadata": {},
   "outputs": [],
   "source": [
    "from seqeval.metrics import precision_score, recall_score, f1_score, classification_report\n"
   ]
  },
  {
   "cell_type": "code",
   "execution_count": 15,
   "metadata": {},
   "outputs": [
    {
     "name": "stdout",
     "output_type": "stream",
     "text": [
      "\r",
      "18/18 [==============================] - 0s 16ms/step\n"
     ]
    }
   ],
   "source": [
    "test_pred = model.predict([X_te,X_pos_te], verbose=1)"
   ]
  },
  {
   "cell_type": "code",
   "execution_count": 16,
   "metadata": {},
   "outputs": [],
   "source": [
    "idx2tag = {i: w for w, i in tag2idx.items()}\n",
    "\n",
    "def pred2label(pred):\n",
    "    out = []\n",
    "    for pred_i in pred:\n",
    "        out_i = []\n",
    "        for p in pred_i:\n",
    "            p_i = np.argmax(p)\n",
    "            out_i.append(idx2tag[p_i].replace(\"PAD\", \"\"))\n",
    "        out.append(out_i)\n",
    "    return out\n",
    "    \n",
    "pred_labels = pred2label(test_pred)\n",
    "test_labels = pred2label(y_te)"
   ]
  },
  {
   "cell_type": "code",
   "execution_count": 17,
   "metadata": {},
   "outputs": [],
   "source": [
    "def getRecallPrecision(test_labels,pred_labels,tag):\n",
    "    flat_test_labels = [item for sublist in test_labels for item in sublist]\n",
    "    flat_pred_labels = [item for sublist in pred_labels for item in sublist]\n",
    "    print(flat_test_labels)\n",
    "    print(flat_pred_labels)\n",
    "    test_indices = set([i for i, x in enumerate(flat_test_labels) if x == tag])\n",
    "    pred_indices = set([i for i, x in enumerate(flat_pred_labels) if x == tag])\n",
    "    recall = len(test_indices.intersection(pred_indices))/len(test_indices)\n",
    "    precision = len(test_indices.intersection(pred_indices))/len(pred_indices)\n",
    "    f_score = 2* precision* recall/(precision + recall)\n",
    "    return recall,precision,f_score"
   ]
  },
  {
   "cell_type": "code",
   "execution_count": 19,
   "metadata": {},
   "outputs": [
    {
     "name": "stdout",
     "output_type": "stream",
     "text": [
      "[['', '', '', '', 'Destination', '', '', '', '', '', '', '', '', '', '', '', '', '', '', '', '', '', '', '', '', '', '', '', '', '', '', '', '', '', '', '', '', '', '', '', '', '', '', '', '', '', '', '', '', '', '', '', '', '', '', '', '', '', '', '', '', '', '', '', '', '', '', '', '', '', '', '', '', '', ''], ['', '', '', '', '', '', '', 'Destination', '', '', '', '', '', '', '', '', '', '', '', '', '', '', '', '', '', '', '', '', '', '', '', '', '', '', '', '', '', '', '', '', '', '', '', '', '', '', '', '', '', '', '', '', '', '', '', '', '', '', '', '', '', '', '', '', '', '', '', '', '', '', '', '', '', '', ''], ['', '', 'Destination', '', '', '', '', '', '', '', '', '', '', '', '', '', '', '', '', '', '', '', '', '', '', '', '', '', '', '', '', '', '', '', '', '', '', '', '', '', '', '', '', '', '', '', '', '', '', '', '', '', '', '', '', '', '', '', '', '', '', '', '', '', '', '', '', '', '', '', '', '', '', '', ''], ['', 'Destination', '', '', 'Destination', 'Destination', '', '', '', '', '', '', '', '', '', '', '', '', '', '', '', '', '', '', '', '', '', '', '', '', '', '', '', '', '', '', '', '', '', '', '', '', '', '', '', '', '', '', '', '', '', '', '', '', '', '', '', '', '', '', '', '', '', '', '', '', '', '', '', '', '', '', '', '', ''], ['', '', '', '', '', 'Destination', '', '', '', '', '', '', '', '', '', '', '', '', '', '', '', '', '', '', '', '', '', '', '', '', '', '', '', '', '', '', '', '', '', '', '', '', '', '', '', '', '', '', '', '', '', '', '', '', '', '', '', '', '', '', '', '', '', '', '', '', '', '', '', '', '', '', '', '', ''], ['', '', 'Destination', 'Destination', '', '', '', '', '', '', '', '', '', '', '', '', '', '', '', '', '', '', '', '', '', '', '', '', '', '', '', '', '', '', '', '', '', '', '', '', '', '', '', '', '', '', '', '', '', '', '', '', '', '', '', '', '', '', '', '', '', '', '', '', '', '', '', '', '', '', '', '', '', '', ''], ['', '', '', 'Destination', '', '', '', '', '', '', '', '', '', '', '', '', '', '', '', '', '', '', '', '', '', '', '', '', '', '', '', '', '', '', '', '', '', '', '', '', '', '', '', '', '', '', '', '', '', '', '', '', '', '', '', '', '', '', '', '', '', '', '', '', '', '', '', '', '', '', '', '', '', '', ''], ['', '', '', '', 'Destination', '', '', '', '', '', '', '', '', '', '', '', '', '', '', '', '', '', '', '', '', '', '', '', '', '', '', '', '', '', '', '', '', '', '', '', '', '', '', '', '', '', '', '', '', '', '', '', '', '', '', '', '', '', '', '', '', '', '', '', '', '', '', '', '', '', '', '', '', '', ''], ['', '', '', '', '', 'Destination', '', '', '', '', '', '', '', '', '', '', '', '', '', '', '', '', '', '', '', '', '', '', '', '', '', '', '', '', '', '', '', '', '', '', '', '', '', '', '', '', '', '', '', '', '', '', '', '', '', '', '', '', '', '', '', '', '', '', '', '', '', '', '', '', '', '', '', '', ''], ['', '', '', '', '', '', 'Destination', '', '', '', '', '', '', '', '', '', '', '', '', '', '', '', '', '', '', '', '', '', '', '', '', '', '', '', '', '', '', '', '', '', '', '', '', '', '', '', '', '', '', '', '', '', '', '', '', '', '', '', '', '', '', '', '', '', '', '', '', '', '', '', '', '', '', '', ''], ['', '', '', 'Destination', 'Destination', '', '', '', '', '', '', '', '', '', '', '', '', '', '', '', '', '', '', '', '', '', '', '', '', '', '', '', '', '', '', '', '', '', '', '', '', '', '', '', '', '', '', '', '', '', '', '', '', '', '', '', '', '', '', '', '', '', '', '', '', '', '', '', '', '', '', '', '', '', ''], ['', '', '', 'Destination', 'Destination', '', '', '', '', '', '', '', '', '', '', '', '', '', '', '', '', '', '', '', '', '', '', '', '', '', '', '', '', '', '', '', '', '', '', '', '', '', '', '', '', '', '', '', '', '', '', '', '', '', '', '', '', '', '', '', '', '', '', '', '', '', '', '', '', '', '', '', '', '', ''], ['', '', 'Destination', '', '', '', '', '', '', '', '', '', '', '', '', '', '', '', '', '', '', '', '', '', '', '', '', '', '', '', '', '', '', '', '', '', '', '', '', '', '', '', '', '', '', '', '', '', '', '', '', '', '', '', '', '', '', '', '', '', '', '', '', '', '', '', '', '', '', '', '', '', '', '', ''], ['', '', '', '', '', '', '', 'Destination', '', '', '', '', '', '', '', '', '', '', '', '', '', '', '', '', '', '', '', '', '', '', '', '', '', '', '', '', '', '', '', '', '', '', '', '', '', '', '', '', '', '', '', '', '', '', '', '', '', '', '', '', '', '', '', '', '', '', '', '', '', '', '', '', '', '', ''], ['', '', '', 'Destination', 'Destination', '', '', '', '', '', '', '', '', '', '', '', '', '', '', '', '', '', '', '', '', '', '', '', '', '', '', '', '', '', '', '', '', '', '', '', '', '', '', '', '', '', '', '', '', '', '', '', '', '', '', '', '', '', '', '', '', '', '', '', '', '', '', '', '', '', '', '', '', '', ''], ['', '', '', '', '', '', 'Destination', '', '', '', '', '', '', '', '', '', '', '', '', '', '', '', '', '', '', '', '', '', '', '', '', '', '', '', '', '', '', '', '', '', '', '', '', '', '', '', '', '', '', '', '', '', '', '', '', '', '', '', '', '', '', '', '', '', '', '', '', '', '', '', '', '', '', '', ''], ['', 'Destination', '', '', '', '', '', '', '', '', '', '', '', '', '', '', '', '', '', '', '', '', '', '', '', '', '', '', '', '', '', '', '', '', '', '', '', '', '', '', '', '', '', '', '', '', '', '', '', '', '', '', '', '', '', '', '', '', '', '', '', '', '', '', '', '', '', '', '', '', '', '', '', '', ''], ['', 'Destination', 'Destination', '', '', '', '', '', '', '', '', '', '', '', '', '', '', '', '', '', '', '', '', '', '', '', '', '', '', '', '', '', '', '', '', '', '', '', '', '', '', '', '', '', '', '', '', '', '', '', '', '', '', '', '', '', '', '', '', '', '', '', '', '', '', '', '', '', '', '', '', '', '', '', '']]\n",
      "-----\n",
      "[['', '', '', '', 'Destination', '', '', '', '', '', '', '', '', '', '', '', '', '', '', '', '', '', '', '', '', '', '', '', '', '', '', '', '', '', '', '', '', '', '', '', '', '', '', '', '', '', '', '', '', '', '', '', '', '', '', '', '', '', '', '', '', '', '', '', '', '', '', '', '', '', '', '', '', '', ''], ['', '', '', '', '', '', '', 'Destination', '', '', '', '', '', '', '', '', '', '', '', '', '', '', '', '', '', '', '', '', '', '', '', '', '', '', '', '', '', '', '', '', '', '', '', '', '', '', '', '', '', '', '', '', '', '', '', '', '', '', '', '', '', '', '', '', '', '', '', '', '', '', '', '', '', '', ''], ['', '', 'Destination', '', '', '', '', '', '', '', '', '', '', '', '', '', '', '', '', '', '', '', '', '', '', '', '', '', '', '', '', '', '', '', '', '', '', '', '', '', '', '', '', '', '', '', '', '', '', '', '', '', '', '', '', '', '', '', '', '', '', '', '', '', '', '', '', '', '', '', '', '', '', '', ''], ['', 'Destination', '', '', 'Destination', 'Destination', '', '', '', '', '', '', '', '', '', '', '', '', '', '', '', '', '', '', '', '', '', '', '', '', '', '', '', '', '', '', '', '', '', '', '', '', '', '', '', '', '', '', '', '', '', '', '', '', '', '', '', '', '', '', '', '', '', '', '', '', '', '', '', '', '', '', '', '', ''], ['', '', '', '', '', 'Destination', '', '', '', '', '', '', '', '', '', '', '', '', '', '', '', '', '', '', '', '', '', '', '', '', '', '', '', '', '', '', '', '', '', '', '', '', '', '', '', '', '', '', '', '', '', '', '', '', '', '', '', '', '', '', '', '', '', '', '', '', '', '', '', '', '', '', '', '', ''], ['', '', 'Destination', 'Destination', '', '', '', '', '', '', '', '', '', '', '', '', '', '', '', '', '', '', '', '', '', '', '', '', '', '', '', '', '', '', '', '', '', '', '', '', '', '', '', '', '', '', '', '', '', '', '', '', '', '', '', '', '', '', '', '', '', '', '', '', '', '', '', '', '', '', '', '', '', '', ''], ['', '', '', 'Destination', '', '', '', '', '', '', '', '', '', '', '', '', '', '', '', '', '', '', '', '', '', '', '', '', '', '', '', '', '', '', '', '', '', '', '', '', '', '', '', '', '', '', '', '', '', '', '', '', '', '', '', '', '', '', '', '', '', '', '', '', '', '', '', '', '', '', '', '', '', '', ''], ['', '', '', '', 'Destination', '', '', '', '', '', '', '', '', '', '', '', '', '', '', '', '', '', '', '', '', '', '', '', '', '', '', '', '', '', '', '', '', '', '', '', '', '', '', '', '', '', '', '', '', '', '', '', '', '', '', '', '', '', '', '', '', '', '', '', '', '', '', '', '', '', '', '', '', '', ''], ['', '', '', '', '', 'Destination', '', '', '', '', '', '', '', '', '', '', '', '', '', '', '', '', '', '', '', '', '', '', '', '', '', '', '', '', '', '', '', '', '', '', '', '', '', '', '', '', '', '', '', '', '', '', '', '', '', '', '', '', '', '', '', '', '', '', '', '', '', '', '', '', '', '', '', '', ''], ['', '', '', '', '', '', 'Destination', '', '', '', '', '', '', '', '', '', '', '', '', '', '', '', '', '', '', '', '', '', '', '', '', '', '', '', '', '', '', '', '', '', '', '', '', '', '', '', '', '', '', '', '', '', '', '', '', '', '', '', '', '', '', '', '', '', '', '', '', '', '', '', '', '', '', '', ''], ['', '', '', 'Destination', 'Destination', '', '', '', '', '', '', '', '', '', '', '', '', '', '', '', '', '', '', '', '', '', '', '', '', '', '', '', '', '', '', '', '', '', '', '', '', '', '', '', '', '', '', '', '', '', '', '', '', '', '', '', '', '', '', '', '', '', '', '', '', '', '', '', '', '', '', '', '', '', ''], ['', '', '', 'Destination', 'Destination', '', '', '', '', '', '', '', '', '', '', '', '', '', '', '', '', '', '', '', '', '', '', '', '', '', '', '', '', '', '', '', '', '', '', '', '', '', '', '', '', '', '', '', '', '', '', '', '', '', '', '', '', '', '', '', '', '', '', '', '', '', '', '', '', '', '', '', '', '', ''], ['', '', 'Destination', '', '', '', '', '', '', '', '', '', '', '', '', '', '', '', '', '', '', '', '', '', '', '', '', '', '', '', '', '', '', '', '', '', '', '', '', '', '', '', '', '', '', '', '', '', '', '', '', '', '', '', '', '', '', '', '', '', '', '', '', '', '', '', '', '', '', '', '', '', '', '', ''], ['', '', '', '', '', '', '', 'Destination', '', '', '', '', '', '', '', '', '', '', '', '', '', '', '', '', '', '', '', '', '', '', '', '', '', '', '', '', '', '', '', '', '', '', '', '', '', '', '', '', '', '', '', '', '', '', '', '', '', '', '', '', '', '', '', '', '', '', '', '', '', '', '', '', '', '', ''], ['', '', '', 'Destination', 'Destination', '', '', '', '', '', '', '', '', '', '', '', '', '', '', '', '', '', '', '', '', '', '', '', '', '', '', '', '', '', '', '', '', '', '', '', '', '', '', '', '', '', '', '', '', '', '', '', '', '', '', '', '', '', '', '', '', '', '', '', '', '', '', '', '', '', '', '', '', '', ''], ['', '', '', '', '', '', 'Destination', '', '', '', '', '', '', '', '', '', '', '', '', '', '', '', '', '', '', '', '', '', '', '', '', '', '', '', '', '', '', '', '', '', '', '', '', '', '', '', '', '', '', '', '', '', '', '', '', '', '', '', '', '', '', '', '', '', '', '', '', '', '', '', '', '', '', '', ''], ['', 'Destination', '', '', '', '', '', '', '', '', '', '', '', '', '', '', '', '', '', '', '', '', '', '', '', '', '', '', '', '', '', '', '', '', '', '', '', '', '', '', '', '', '', '', '', '', '', '', '', '', '', '', '', '', '', '', '', '', '', '', '', '', '', '', '', '', '', '', '', '', '', '', '', '', ''], ['', '', 'Destination', '', '', '', '', '', '', '', '', '', '', '', '', '', '', '', '', '', '', '', '', '', '', '', '', '', '', '', '', '', '', '', '', '', '', '', '', '', '', '', '', '', '', '', '', '', '', '', '', '', '', '', '', '', '', '', '', '', '', '', '', '', '', '', '', '', '', '', '', '', '', '', '']]\n",
      "['', '', '', '', 'Destination', '', '', '', '', '', '', '', '', '', '', '', '', '', '', '', '', '', '', '', '', '', '', '', '', '', '', '', '', '', '', '', '', '', '', '', '', '', '', '', '', '', '', '', '', '', '', '', '', '', '', '', '', '', '', '', '', '', '', '', '', '', '', '', '', '', '', '', '', '', '', '', '', '', '', '', '', '', 'Destination', '', '', '', '', '', '', '', '', '', '', '', '', '', '', '', '', '', '', '', '', '', '', '', '', '', '', '', '', '', '', '', '', '', '', '', '', '', '', '', '', '', '', '', '', '', '', '', '', '', '', '', '', '', '', '', '', '', '', '', '', '', '', '', '', '', '', '', '', '', 'Destination', '', '', '', '', '', '', '', '', '', '', '', '', '', '', '', '', '', '', '', '', '', '', '', '', '', '', '', '', '', '', '', '', '', '', '', '', '', '', '', '', '', '', '', '', '', '', '', '', '', '', '', '', '', '', '', '', '', '', '', '', '', '', '', '', '', '', '', '', '', '', '', '', '', 'Destination', '', '', 'Destination', 'Destination', '', '', '', '', '', '', '', '', '', '', '', '', '', '', '', '', '', '', '', '', '', '', '', '', '', '', '', '', '', '', '', '', '', '', '', '', '', '', '', '', '', '', '', '', '', '', '', '', '', '', '', '', '', '', '', '', '', '', '', '', '', '', '', '', '', '', '', '', '', '', '', '', '', '', 'Destination', '', '', '', '', '', '', '', '', '', '', '', '', '', '', '', '', '', '', '', '', '', '', '', '', '', '', '', '', '', '', '', '', '', '', '', '', '', '', '', '', '', '', '', '', '', '', '', '', '', '', '', '', '', '', '', '', '', '', '', '', '', '', '', '', '', '', '', '', '', '', '', 'Destination', 'Destination', '', '', '', '', '', '', '', '', '', '', '', '', '', '', '', '', '', '', '', '', '', '', '', '', '', '', '', '', '', '', '', '', '', '', '', '', '', '', '', '', '', '', '', '', '', '', '', '', '', '', '', '', '', '', '', '', '', '', '', '', '', '', '', '', '', '', '', '', '', '', '', '', '', '', 'Destination', '', '', '', '', '', '', '', '', '', '', '', '', '', '', '', '', '', '', '', '', '', '', '', '', '', '', '', '', '', '', '', '', '', '', '', '', '', '', '', '', '', '', '', '', '', '', '', '', '', '', '', '', '', '', '', '', '', '', '', '', '', '', '', '', '', '', '', '', '', '', '', '', '', '', '', 'Destination', '', '', '', '', '', '', '', '', '', '', '', '', '', '', '', '', '', '', '', '', '', '', '', '', '', '', '', '', '', '', '', '', '', '', '', '', '', '', '', '', '', '', '', '', '', '', '', '', '', '', '', '', '', '', '', '', '', '', '', '', '', '', '', '', '', '', '', '', '', '', '', '', '', '', '', 'Destination', '', '', '', '', '', '', '', '', '', '', '', '', '', '', '', '', '', '', '', '', '', '', '', '', '', '', '', '', '', '', '', '', '', '', '', '', '', '', '', '', '', '', '', '', '', '', '', '', '', '', '', '', '', '', '', '', '', '', '', '', '', '', '', '', '', '', '', '', '', '', '', '', '', '', '', 'Destination', '', '', '', '', '', '', '', '', '', '', '', '', '', '', '', '', '', '', '', '', '', '', '', '', '', '', '', '', '', '', '', '', '', '', '', '', '', '', '', '', '', '', '', '', '', '', '', '', '', '', '', '', '', '', '', '', '', '', '', '', '', '', '', '', '', '', '', '', '', '', '', 'Destination', 'Destination', '', '', '', '', '', '', '', '', '', '', '', '', '', '', '', '', '', '', '', '', '', '', '', '', '', '', '', '', '', '', '', '', '', '', '', '', '', '', '', '', '', '', '', '', '', '', '', '', '', '', '', '', '', '', '', '', '', '', '', '', '', '', '', '', '', '', '', '', '', '', '', '', '', 'Destination', 'Destination', '', '', '', '', '', '', '', '', '', '', '', '', '', '', '', '', '', '', '', '', '', '', '', '', '', '', '', '', '', '', '', '', '', '', '', '', '', '', '', '', '', '', '', '', '', '', '', '', '', '', '', '', '', '', '', '', '', '', '', '', '', '', '', '', '', '', '', '', '', '', '', '', 'Destination', '', '', '', '', '', '', '', '', '', '', '', '', '', '', '', '', '', '', '', '', '', '', '', '', '', '', '', '', '', '', '', '', '', '', '', '', '', '', '', '', '', '', '', '', '', '', '', '', '', '', '', '', '', '', '', '', '', '', '', '', '', '', '', '', '', '', '', '', '', '', '', '', '', '', '', '', '', '', '', 'Destination', '', '', '', '', '', '', '', '', '', '', '', '', '', '', '', '', '', '', '', '', '', '', '', '', '', '', '', '', '', '', '', '', '', '', '', '', '', '', '', '', '', '', '', '', '', '', '', '', '', '', '', '', '', '', '', '', '', '', '', '', '', '', '', '', '', '', '', '', '', '', 'Destination', 'Destination', '', '', '', '', '', '', '', '', '', '', '', '', '', '', '', '', '', '', '', '', '', '', '', '', '', '', '', '', '', '', '', '', '', '', '', '', '', '', '', '', '', '', '', '', '', '', '', '', '', '', '', '', '', '', '', '', '', '', '', '', '', '', '', '', '', '', '', '', '', '', '', '', '', '', '', '', 'Destination', '', '', '', '', '', '', '', '', '', '', '', '', '', '', '', '', '', '', '', '', '', '', '', '', '', '', '', '', '', '', '', '', '', '', '', '', '', '', '', '', '', '', '', '', '', '', '', '', '', '', '', '', '', '', '', '', '', '', '', '', '', '', '', '', '', '', '', '', '', 'Destination', '', '', '', '', '', '', '', '', '', '', '', '', '', '', '', '', '', '', '', '', '', '', '', '', '', '', '', '', '', '', '', '', '', '', '', '', '', '', '', '', '', '', '', '', '', '', '', '', '', '', '', '', '', '', '', '', '', '', '', '', '', '', '', '', '', '', '', '', '', '', '', '', '', '', 'Destination', 'Destination', '', '', '', '', '', '', '', '', '', '', '', '', '', '', '', '', '', '', '', '', '', '', '', '', '', '', '', '', '', '', '', '', '', '', '', '', '', '', '', '', '', '', '', '', '', '', '', '', '', '', '', '', '', '', '', '', '', '', '', '', '', '', '', '', '', '', '', '', '', '', '', '']\n",
      "['', '', '', '', 'Destination', '', '', '', '', '', '', '', '', '', '', '', '', '', '', '', '', '', '', '', '', '', '', '', '', '', '', '', '', '', '', '', '', '', '', '', '', '', '', '', '', '', '', '', '', '', '', '', '', '', '', '', '', '', '', '', '', '', '', '', '', '', '', '', '', '', '', '', '', '', '', '', '', '', '', '', '', '', 'Destination', '', '', '', '', '', '', '', '', '', '', '', '', '', '', '', '', '', '', '', '', '', '', '', '', '', '', '', '', '', '', '', '', '', '', '', '', '', '', '', '', '', '', '', '', '', '', '', '', '', '', '', '', '', '', '', '', '', '', '', '', '', '', '', '', '', '', '', '', '', 'Destination', '', '', '', '', '', '', '', '', '', '', '', '', '', '', '', '', '', '', '', '', '', '', '', '', '', '', '', '', '', '', '', '', '', '', '', '', '', '', '', '', '', '', '', '', '', '', '', '', '', '', '', '', '', '', '', '', '', '', '', '', '', '', '', '', '', '', '', '', '', '', '', '', '', 'Destination', '', '', 'Destination', 'Destination', '', '', '', '', '', '', '', '', '', '', '', '', '', '', '', '', '', '', '', '', '', '', '', '', '', '', '', '', '', '', '', '', '', '', '', '', '', '', '', '', '', '', '', '', '', '', '', '', '', '', '', '', '', '', '', '', '', '', '', '', '', '', '', '', '', '', '', '', '', '', '', '', '', '', 'Destination', '', '', '', '', '', '', '', '', '', '', '', '', '', '', '', '', '', '', '', '', '', '', '', '', '', '', '', '', '', '', '', '', '', '', '', '', '', '', '', '', '', '', '', '', '', '', '', '', '', '', '', '', '', '', '', '', '', '', '', '', '', '', '', '', '', '', '', '', '', '', '', 'Destination', 'Destination', '', '', '', '', '', '', '', '', '', '', '', '', '', '', '', '', '', '', '', '', '', '', '', '', '', '', '', '', '', '', '', '', '', '', '', '', '', '', '', '', '', '', '', '', '', '', '', '', '', '', '', '', '', '', '', '', '', '', '', '', '', '', '', '', '', '', '', '', '', '', '', '', '', '', 'Destination', '', '', '', '', '', '', '', '', '', '', '', '', '', '', '', '', '', '', '', '', '', '', '', '', '', '', '', '', '', '', '', '', '', '', '', '', '', '', '', '', '', '', '', '', '', '', '', '', '', '', '', '', '', '', '', '', '', '', '', '', '', '', '', '', '', '', '', '', '', '', '', '', '', '', '', 'Destination', '', '', '', '', '', '', '', '', '', '', '', '', '', '', '', '', '', '', '', '', '', '', '', '', '', '', '', '', '', '', '', '', '', '', '', '', '', '', '', '', '', '', '', '', '', '', '', '', '', '', '', '', '', '', '', '', '', '', '', '', '', '', '', '', '', '', '', '', '', '', '', '', '', '', '', 'Destination', '', '', '', '', '', '', '', '', '', '', '', '', '', '', '', '', '', '', '', '', '', '', '', '', '', '', '', '', '', '', '', '', '', '', '', '', '', '', '', '', '', '', '', '', '', '', '', '', '', '', '', '', '', '', '', '', '', '', '', '', '', '', '', '', '', '', '', '', '', '', '', '', '', '', '', 'Destination', '', '', '', '', '', '', '', '', '', '', '', '', '', '', '', '', '', '', '', '', '', '', '', '', '', '', '', '', '', '', '', '', '', '', '', '', '', '', '', '', '', '', '', '', '', '', '', '', '', '', '', '', '', '', '', '', '', '', '', '', '', '', '', '', '', '', '', '', '', '', '', 'Destination', 'Destination', '', '', '', '', '', '', '', '', '', '', '', '', '', '', '', '', '', '', '', '', '', '', '', '', '', '', '', '', '', '', '', '', '', '', '', '', '', '', '', '', '', '', '', '', '', '', '', '', '', '', '', '', '', '', '', '', '', '', '', '', '', '', '', '', '', '', '', '', '', '', '', '', '', 'Destination', 'Destination', '', '', '', '', '', '', '', '', '', '', '', '', '', '', '', '', '', '', '', '', '', '', '', '', '', '', '', '', '', '', '', '', '', '', '', '', '', '', '', '', '', '', '', '', '', '', '', '', '', '', '', '', '', '', '', '', '', '', '', '', '', '', '', '', '', '', '', '', '', '', '', '', 'Destination', '', '', '', '', '', '', '', '', '', '', '', '', '', '', '', '', '', '', '', '', '', '', '', '', '', '', '', '', '', '', '', '', '', '', '', '', '', '', '', '', '', '', '', '', '', '', '', '', '', '', '', '', '', '', '', '', '', '', '', '', '', '', '', '', '', '', '', '', '', '', '', '', '', '', '', '', '', '', '', 'Destination', '', '', '', '', '', '', '', '', '', '', '', '', '', '', '', '', '', '', '', '', '', '', '', '', '', '', '', '', '', '', '', '', '', '', '', '', '', '', '', '', '', '', '', '', '', '', '', '', '', '', '', '', '', '', '', '', '', '', '', '', '', '', '', '', '', '', '', '', '', '', 'Destination', 'Destination', '', '', '', '', '', '', '', '', '', '', '', '', '', '', '', '', '', '', '', '', '', '', '', '', '', '', '', '', '', '', '', '', '', '', '', '', '', '', '', '', '', '', '', '', '', '', '', '', '', '', '', '', '', '', '', '', '', '', '', '', '', '', '', '', '', '', '', '', '', '', '', '', '', '', '', '', 'Destination', '', '', '', '', '', '', '', '', '', '', '', '', '', '', '', '', '', '', '', '', '', '', '', '', '', '', '', '', '', '', '', '', '', '', '', '', '', '', '', '', '', '', '', '', '', '', '', '', '', '', '', '', '', '', '', '', '', '', '', '', '', '', '', '', '', '', '', '', '', 'Destination', '', '', '', '', '', '', '', '', '', '', '', '', '', '', '', '', '', '', '', '', '', '', '', '', '', '', '', '', '', '', '', '', '', '', '', '', '', '', '', '', '', '', '', '', '', '', '', '', '', '', '', '', '', '', '', '', '', '', '', '', '', '', '', '', '', '', '', '', '', '', '', '', '', '', '', 'Destination', '', '', '', '', '', '', '', '', '', '', '', '', '', '', '', '', '', '', '', '', '', '', '', '', '', '', '', '', '', '', '', '', '', '', '', '', '', '', '', '', '', '', '', '', '', '', '', '', '', '', '', '', '', '', '', '', '', '', '', '', '', '', '', '', '', '', '', '', '', '', '', '']\n",
      "(0.96, 1.0, 0.9795918367346939)\n"
     ]
    }
   ],
   "source": [
    "print(test_labels)\n",
    "print(\"-----\")\n",
    "print(pred_labels)\n",
    "print(getRecallPrecision(test_labels,pred_labels,\"Destination\"))"
   ]
  },
  {
   "cell_type": "code",
   "execution_count": 22,
   "metadata": {},
   "outputs": [],
   "source": [
    "import spacy\n",
    "import pandas as pd\n",
    "import numpy as np\n",
    "import random\n",
    "import string\n",
    "import spacy\n",
    "from keras.preprocessing.sequence import pad_sequences\n",
    "from keras.utils import to_categorical\n",
    "from sklearn.model_selection import train_test_split\n",
    "import pickle\n",
    "nlp = spacy.load(\"en_core_web_sm\")"
   ]
  },
  {
   "cell_type": "code",
   "execution_count": 36,
   "metadata": {
    "scrolled": true
   },
   "outputs": [
    {
     "name": "stdout",
     "output_type": "stream",
     "text": [
      "Where\n",
      "do\n",
      "you\n",
      "want\n",
      "to\n",
      "go\n",
      "?\n",
      "Never\n",
      "mind\n",
      "[('Where', 'ADV', ''), ('do', 'AUX', ''), ('you', 'PRON', ''), ('want', 'VERB', ''), ('to', 'PART', ''), ('go', 'VERB', ''), ('?', 'PUNCT', ''), ('Never', 'ADV', ''), ('mind', 'VERB', '')]\n",
      "[[13, 7, 38, 55, 18, 14, 73, 80, 80]]\n",
      "1/1 [==============================] - 0s 22ms/step\n",
      "[['', '', '', '', '', '', '', '', '', '', '', '', '', '', '', '', '', '', '', '', '', '', '', '', '', '', '', '', '', '', '', '', '', '', '', '', '', '', '', '', '', '', '', '', '', '', '', '', '', '', '', '', '', '', '', '', '', '', '', '', '', '', '', '', '', '', '', '', '', '', '', '', '', '', '']] [['', '', '', '', '', '', '', 'Destination', 'Destination', '', '', '', '', '', '', '', '', '', '', '', '', '', '', '', '', '', '', '', '', '', '', '', '', '', '', '', '', '', '', '', '', '', '', '', '', '', '', '', '', '', '', '', '', '', '', '', '', '', '', '', '', '', '', '', '', '', '', '', '', '', '', '', '', '', '']]\n"
     ]
    }
   ],
   "source": [
    "sentence = \"Where do you want to go? Never mind\"\n",
    "entities_words = [\"Neve\"]\n",
    "array = []\n",
    "doc = nlp(sentence)\n",
    "for token in doc:\n",
    "    text = token.text\n",
    "    print(text)\n",
    "    if token.text in entities_words:\n",
    "        tag = \"Destination\"\n",
    "    else:\n",
    "        tag = \"\"\n",
    "\n",
    "    array.append(tuple([token.text,token.pos_,tag]))\n",
    "print(array)\n",
    "X = [[word2idx.get(w[0],word2idx[\"Unknown\"]) for w in s] for s in [array]]\n",
    "X_pos = [[pos2idx.get(w[1]) for w in s] for s in [array]]\n",
    "\n",
    "print(X)\n",
    "X = pad_sequences(maxlen=max_len, sequences=X, padding=\"post\", value=n_words-1)\n",
    "X_pos = pad_sequences(maxlen=max_len, sequences=X_pos, padding=\"post\", value=pos2idx[\"BLANK\"])\n",
    "y = [[tag2idx[w[2]] for w in s] for s in [array]]\n",
    "y = pad_sequences(maxlen=max_len, sequences=y, padding=\"post\", value=tag2idx[\"\"])\n",
    "y = [to_categorical(i, num_classes=n_tags) for i in y]\n",
    "#print(y)\n",
    "test_pred = model.predict([X,X_pos], verbose=1)\n",
    "pred_labels = pred2label(test_pred)\n",
    "test_labels = pred2label(y)\n",
    "print(test_labels,pred_labels)\n",
    "#print(pred_labels)"
   ]
  },
  {
   "cell_type": "code",
   "execution_count": null,
   "metadata": {},
   "outputs": [],
   "source": [
    "print(word2idx)"
   ]
  },
  {
   "cell_type": "code",
   "execution_count": null,
   "metadata": {},
   "outputs": [],
   "source": []
  },
  {
   "cell_type": "code",
   "execution_count": null,
   "metadata": {},
   "outputs": [],
   "source": []
  },
  {
   "cell_type": "code",
   "execution_count": null,
   "metadata": {},
   "outputs": [],
   "source": []
  },
  {
   "cell_type": "code",
   "execution_count": null,
   "metadata": {},
   "outputs": [],
   "source": []
  }
 ],
 "metadata": {
  "kernelspec": {
   "display_name": "Python 3",
   "language": "python",
   "name": "python3"
  },
  "language_info": {
   "codemirror_mode": {
    "name": "ipython",
    "version": 3
   },
   "file_extension": ".py",
   "mimetype": "text/x-python",
   "name": "python",
   "nbconvert_exporter": "python",
   "pygments_lexer": "ipython3",
   "version": "3.7.3"
  }
 },
 "nbformat": 4,
 "nbformat_minor": 2
}
