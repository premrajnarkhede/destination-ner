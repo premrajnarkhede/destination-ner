{
 "cells": [
  {
   "cell_type": "code",
   "execution_count": 1,
   "metadata": {},
   "outputs": [
    {
     "name": "stdout",
     "output_type": "stream",
     "text": [
      "['sQ5', 'FjQ', 'E2g', 'l']\n"
     ]
    }
   ],
   "source": [
    "import pandas as pd\n",
    "import numpy as np\n",
    "import random\n",
    "import string\n",
    "\n",
    "def chunks(l, n):\n",
    "    \"\"\"Yield successive n-sized chunks from l.\"\"\"\n",
    "    for i in range(0, len(l), n):\n",
    "        yield l[i:i + n]\n",
    "\n",
    "def randomString(stringLength=10):\n",
    "    \"\"\"Generate a random string of fixed length \"\"\"\n",
    "    letters = string.ascii_letters+string.digits\n",
    "    rand_int = random.randint(1,4)\n",
    "#     print(rand_int)\n",
    "    string_random = [random.choice(letters) for i in range(stringLength)]\n",
    "    chunk_array = []\n",
    "    for chunk in chunks(string_random,rand_int):\n",
    "        chunk_array.append(\"\".join(chunk))\n",
    "#     for i in range(rand_int+1):\n",
    "    \n",
    "#         string_random = string_random +\" \" + ''.join(random.choice(letters) for i in range(stringLength))\n",
    "    \n",
    "    return chunk_array\n",
    "\n",
    "print(randomString())"
   ]
  },
  {
   "cell_type": "code",
   "execution_count": 2,
   "metadata": {},
   "outputs": [
    {
     "name": "stdout",
     "output_type": "stream",
     "text": [
      "['yx', 'q2', 'd3', 'wj', 'wz']\n"
     ]
    }
   ],
   "source": [
    "print(randomString())"
   ]
  },
  {
   "cell_type": "code",
   "execution_count": 3,
   "metadata": {},
   "outputs": [],
   "source": [
    "data = open(\"dummyData.txt\").readlines()"
   ]
  },
  {
   "cell_type": "code",
   "execution_count": 4,
   "metadata": {},
   "outputs": [],
   "source": [
    "import spacy\n",
    "\n",
    "nlp = spacy.load(\"en_core_web_sm\")\n"
   ]
  },
  {
   "cell_type": "code",
   "execution_count": 5,
   "metadata": {},
   "outputs": [],
   "source": [
    "array = []\n",
    "for textindex,text in enumerate(data):\n",
    "    doc = nlp(text.strip())\n",
    "    for token in doc:\n",
    "        #print(token.text, token.lemma_, token.pos_, token.tag_, token.dep_,\n",
    "        #        token.shape_, token.is_alpha, token.is_stop)\n",
    "        text_items = [token.text]\n",
    "        if token.text == \"XYYZ\":\n",
    "            tag = \"Destination\"\n",
    "            rand_int = random.randint(1,4)\n",
    "            if rand_int==3:\n",
    "                text_items = [\"Unknown\"]\n",
    "            else:\n",
    "                text_items = randomString()\n",
    "        else:\n",
    "            tag = \"\"\n",
    "            rand_int = random.randint(1,10)\n",
    "            if rand_int==3:\n",
    "                text_items = [\"Unknown\"]\n",
    "        for item in text_items:\n",
    "            array.append(dict(Sentence=textindex,Word=item,POS=token.pos_,Tag=tag))"
   ]
  },
  {
   "cell_type": "code",
   "execution_count": 6,
   "metadata": {},
   "outputs": [],
   "source": [
    "df = pd.DataFrame(array)  "
   ]
  },
  {
   "cell_type": "code",
   "execution_count": 7,
   "metadata": {},
   "outputs": [
    {
     "data": {
      "text/html": [
       "<div>\n",
       "<style scoped>\n",
       "    .dataframe tbody tr th:only-of-type {\n",
       "        vertical-align: middle;\n",
       "    }\n",
       "\n",
       "    .dataframe tbody tr th {\n",
       "        vertical-align: top;\n",
       "    }\n",
       "\n",
       "    .dataframe thead th {\n",
       "        text-align: right;\n",
       "    }\n",
       "</style>\n",
       "<table border=\"1\" class=\"dataframe\">\n",
       "  <thead>\n",
       "    <tr style=\"text-align: right;\">\n",
       "      <th></th>\n",
       "      <th>POS</th>\n",
       "      <th>Sentence</th>\n",
       "      <th>Tag</th>\n",
       "      <th>Word</th>\n",
       "    </tr>\n",
       "  </thead>\n",
       "  <tbody>\n",
       "    <tr>\n",
       "      <th>1047</th>\n",
       "      <td>PRON</td>\n",
       "      <td>122</td>\n",
       "      <td></td>\n",
       "      <td>I</td>\n",
       "    </tr>\n",
       "    <tr>\n",
       "      <th>1048</th>\n",
       "      <td>VERB</td>\n",
       "      <td>122</td>\n",
       "      <td></td>\n",
       "      <td>got</td>\n",
       "    </tr>\n",
       "    <tr>\n",
       "      <th>1049</th>\n",
       "      <td>PART</td>\n",
       "      <td>122</td>\n",
       "      <td></td>\n",
       "      <td>to</td>\n",
       "    </tr>\n",
       "    <tr>\n",
       "      <th>1050</th>\n",
       "      <td>AUX</td>\n",
       "      <td>122</td>\n",
       "      <td></td>\n",
       "      <td>get</td>\n",
       "    </tr>\n",
       "    <tr>\n",
       "      <th>1051</th>\n",
       "      <td>NOUN</td>\n",
       "      <td>122</td>\n",
       "      <td></td>\n",
       "      <td>directions</td>\n",
       "    </tr>\n",
       "    <tr>\n",
       "      <th>1052</th>\n",
       "      <td>ADP</td>\n",
       "      <td>122</td>\n",
       "      <td></td>\n",
       "      <td>Unknown</td>\n",
       "    </tr>\n",
       "    <tr>\n",
       "      <th>1053</th>\n",
       "      <td>PROPN</td>\n",
       "      <td>122</td>\n",
       "      <td>Destination</td>\n",
       "      <td>tIn</td>\n",
       "    </tr>\n",
       "    <tr>\n",
       "      <th>1054</th>\n",
       "      <td>PROPN</td>\n",
       "      <td>122</td>\n",
       "      <td>Destination</td>\n",
       "      <td>ydh</td>\n",
       "    </tr>\n",
       "    <tr>\n",
       "      <th>1055</th>\n",
       "      <td>PROPN</td>\n",
       "      <td>122</td>\n",
       "      <td>Destination</td>\n",
       "      <td>um2</td>\n",
       "    </tr>\n",
       "    <tr>\n",
       "      <th>1056</th>\n",
       "      <td>PROPN</td>\n",
       "      <td>122</td>\n",
       "      <td>Destination</td>\n",
       "      <td>p</td>\n",
       "    </tr>\n",
       "  </tbody>\n",
       "</table>\n",
       "</div>"
      ],
      "text/plain": [
       "        POS  Sentence          Tag        Word\n",
       "1047   PRON       122                        I\n",
       "1048   VERB       122                      got\n",
       "1049   PART       122                       to\n",
       "1050    AUX       122                      get\n",
       "1051   NOUN       122               directions\n",
       "1052    ADP       122                  Unknown\n",
       "1053  PROPN       122  Destination         tIn\n",
       "1054  PROPN       122  Destination         ydh\n",
       "1055  PROPN       122  Destination         um2\n",
       "1056  PROPN       122  Destination           p"
      ]
     },
     "execution_count": 7,
     "metadata": {},
     "output_type": "execute_result"
    }
   ],
   "source": [
    "df.tail(10)"
   ]
  },
  {
   "cell_type": "code",
   "execution_count": 8,
   "metadata": {},
   "outputs": [
    {
     "data": {
      "text/plain": [
       "302"
      ]
     },
     "execution_count": 8,
     "metadata": {},
     "output_type": "execute_result"
    }
   ],
   "source": [
    "words = list(set(df[\"Word\"].values))\n",
    "words.append(\"ENDPAD\")\n",
    "words.append(\"Unknown\")\n",
    "n_words = len(words); n_words"
   ]
  },
  {
   "cell_type": "code",
   "execution_count": 9,
   "metadata": {},
   "outputs": [
    {
     "name": "stdout",
     "output_type": "stream",
     "text": [
      "2 12\n"
     ]
    }
   ],
   "source": [
    "tags = list(set(df[\"Tag\"].values))\n",
    "n_tags = len(tags); n_tags\n",
    "\n",
    "pos = list(set(df[\"POS\"].values))\n",
    "post.append(\"BLANK\")\n",
    "pos_tags = len(pos)\n",
    "print(n_tags,pos_tags)"
   ]
  },
  {
   "cell_type": "code",
   "execution_count": 10,
   "metadata": {},
   "outputs": [],
   "source": [
    "agg_func = lambda s: [(w, p, t) for w, p, t in zip(s[\"Word\"].values.tolist(),\n",
    "                                                   s[\"POS\"].values.tolist(),\n",
    "                                                   s[\"Tag\"].values.tolist())]\n",
    "grouped = df.groupby(\"Sentence\").apply(agg_func)"
   ]
  },
  {
   "cell_type": "code",
   "execution_count": 11,
   "metadata": {},
   "outputs": [],
   "source": [
    "sentences = [s for s in grouped]"
   ]
  },
  {
   "cell_type": "code",
   "execution_count": 12,
   "metadata": {},
   "outputs": [
    {
     "name": "stdout",
     "output_type": "stream",
     "text": [
      "[('directions', 'NOUN', ''), ('to', 'ADP', ''), ('E', 'PROPN', 'Destination'), ('4', 'PROPN', 'Destination'), ('1', 'PROPN', 'Destination'), ('y', 'PROPN', 'Destination'), ('5', 'PROPN', 'Destination'), ('h', 'PROPN', 'Destination'), ('t', 'PROPN', 'Destination'), ('X', 'PROPN', 'Destination'), ('h', 'PROPN', 'Destination'), ('R', 'PROPN', 'Destination')]\n"
     ]
    }
   ],
   "source": [
    "print(sentences[0])"
   ]
  },
  {
   "cell_type": "code",
   "execution_count": 13,
   "metadata": {},
   "outputs": [],
   "source": [
    "def yield_sentence():\n",
    "    for group in grouped:\n",
    "        yield group\n",
    "    yield None"
   ]
  },
  {
   "cell_type": "code",
   "execution_count": 14,
   "metadata": {},
   "outputs": [
    {
     "name": "stdout",
     "output_type": "stream",
     "text": [
      "[('directions', 'NOUN', ''), ('to', 'ADP', ''), ('E', 'PROPN', 'Destination'), ('4', 'PROPN', 'Destination'), ('1', 'PROPN', 'Destination'), ('y', 'PROPN', 'Destination'), ('5', 'PROPN', 'Destination'), ('h', 'PROPN', 'Destination'), ('t', 'PROPN', 'Destination'), ('X', 'PROPN', 'Destination'), ('h', 'PROPN', 'Destination'), ('R', 'PROPN', 'Destination')]\n",
      "-------\n",
      "[('directions', 'NOUN', ''), ('to', 'ADP', ''), ('6mIU', 'PROPN', 'Destination'), ('RDVn', 'PROPN', 'Destination'), ('Wm', 'PROPN', 'Destination'), ('home', 'ADV', '')]\n",
      "-------\n",
      "[('directions', 'NOUN', ''), ('Unknown', 'ADP', ''), ('Tw', 'PROPN', 'Destination'), ('KT', 'PROPN', 'Destination'), ('Vy', 'PROPN', 'Destination'), ('dL', 'PROPN', 'Destination'), ('3s', 'PROPN', 'Destination'), ('work', 'NOUN', '')]\n",
      "-------\n",
      "[('directions', 'NOUN', ''), ('to', 'ADP', ''), ('the', 'DET', ''), ('closest', 'ADJ', ''), ('Unknown', 'PROPN', 'Destination')]\n",
      "-------\n",
      "[('directions', 'NOUN', ''), ('to', 'ADP', ''), ('Unknown', 'DET', ''), ('nearest', 'ADJ', ''), ('Unknown', 'PROPN', 'Destination')]\n",
      "-------\n",
      "[('directions', 'NOUN', ''), ('to', 'PART', ''), ('go', 'VERB', ''), ('home', 'ADV', '')]\n",
      "-------\n",
      "[('Unknown', 'NOUN', ''), ('to', 'PART', ''), ('go', 'VERB', ''), ('to', 'ADP', ''), ('US6E', 'PROPN', 'Destination'), ('0jYS', 'PROPN', 'Destination'), ('T0', 'PROPN', 'Destination')]\n",
      "-------\n",
      "[('directions', 'NOUN', ''), ('to', 'PART', ''), ('go', 'VERB', ''), ('Unknown', 'ADP', ''), ('ns', 'PROPN', 'Destination'), ('MD', 'PROPN', 'Destination'), ('CG', 'PROPN', 'Destination'), ('zw', 'PROPN', 'Destination'), ('vf', 'PROPN', 'Destination'), ('home', 'ADV', '')]\n",
      "-------\n",
      "[('directions', 'NOUN', ''), ('to', 'PART', ''), ('go', 'VERB', ''), ('to', 'ADP', ''), ('a8', 'PROPN', 'Destination'), ('Sx', 'PROPN', 'Destination'), ('iW', 'PROPN', 'Destination'), ('a5', 'PROPN', 'Destination'), ('Kf', 'PROPN', 'Destination'), ('work', 'NOUN', '')]\n",
      "-------\n",
      "[('directions', 'NOUN', ''), ('to', 'PART', ''), ('go', 'VERB', ''), ('to', 'ADP', ''), ('the', 'DET', ''), ('closest', 'ADJ', ''), ('t', 'PROPN', 'Destination'), ('Q', 'PROPN', 'Destination'), ('x', 'PROPN', 'Destination'), ('N', 'PROPN', 'Destination'), ('I', 'PROPN', 'Destination'), ('2', 'PROPN', 'Destination'), ('8', 'PROPN', 'Destination'), ('U', 'PROPN', 'Destination'), ('L', 'PROPN', 'Destination'), ('F', 'PROPN', 'Destination')]\n",
      "-------\n",
      "[('directions', 'NOUN', ''), ('to', 'PART', ''), ('Unknown', 'VERB', ''), ('to', 'ADP', ''), ('the', 'DET', ''), ('nearest', 'ADJ', ''), ('Unknown', 'PROPN', 'Destination')]\n",
      "-------\n",
      "[('I', 'PRON', ''), ('got', 'VERB', ''), ('to', 'PART', ''), ('navigate', 'VERB', ''), ('to', 'ADP', ''), ('Unknown', 'PROPN', 'Destination')]\n",
      "-------\n",
      "[('I', 'PRON', ''), ('got', 'VERB', ''), ('to', 'PART', ''), ('navigate', 'VERB', ''), ('to', 'ADP', ''), ('1BIE', 'PROPN', 'Destination'), ('9pGv', 'PROPN', 'Destination'), ('wU', 'PROPN', 'Destination'), ('home', 'ADV', '')]\n",
      "-------\n",
      "[('I', 'PRON', ''), ('Unknown', 'VERB', ''), ('to', 'PART', ''), ('navigate', 'VERB', ''), ('to', 'ADP', ''), ('f', 'PROPN', 'Destination'), ('p', 'PROPN', 'Destination'), ('H', 'PROPN', 'Destination'), ('n', 'PROPN', 'Destination'), ('S', 'PROPN', 'Destination'), ('R', 'PROPN', 'Destination'), ('E', 'PROPN', 'Destination'), ('p', 'PROPN', 'Destination'), ('v', 'PROPN', 'Destination'), ('h', 'PROPN', 'Destination'), ('work', 'NOUN', '')]\n",
      "-------\n",
      "[('I', 'PRON', ''), ('got', 'VERB', ''), ('Unknown', 'PART', ''), ('navigate', 'VERB', ''), ('to', 'ADP', ''), ('the', 'DET', ''), ('nearest', 'ADJ', ''), ('Ja1W', 'PROPN', 'Destination'), ('ubMY', 'PROPN', 'Destination'), ('8g', 'PROPN', 'Destination')]\n",
      "-------\n",
      "[('Unknown', 'PRON', ''), ('have', 'AUX', ''), ('Unknown', 'PART', ''), ('navigate', 'VERB', ''), ('to', 'ADP', ''), ('tUJC', 'PROPN', 'Destination'), ('Zdca', 'PROPN', 'Destination'), ('LW', 'PROPN', 'Destination')]\n",
      "-------\n",
      "[('I', 'PRON', ''), ('have', 'AUX', ''), ('to', 'PART', ''), ('navigate', 'VERB', ''), ('to', 'ADP', ''), ('Unknown', 'PROPN', 'Destination'), ('home', 'ADV', '')]\n",
      "-------\n",
      "[('I', 'PRON', ''), ('have', 'AUX', ''), ('to', 'PART', ''), ('navigate', 'VERB', ''), ('to', 'ADP', ''), ('D', 'PROPN', 'Destination'), ('i', 'PROPN', 'Destination'), ('x', 'PROPN', 'Destination'), ('h', 'PROPN', 'Destination'), ('c', 'PROPN', 'Destination'), ('R', 'PROPN', 'Destination'), ('E', 'PROPN', 'Destination'), ('X', 'PROPN', 'Destination'), ('0', 'PROPN', 'Destination'), ('o', 'PROPN', 'Destination'), ('work', 'NOUN', '')]\n",
      "-------\n",
      "[('I', 'PRON', ''), ('have', 'AUX', ''), ('to', 'PART', ''), ('Unknown', 'VERB', ''), ('to', 'ADP', ''), ('the', 'DET', ''), ('nearest', 'ADJ', ''), ('yJB', 'PROPN', 'Destination'), ('VG0', 'PROPN', 'Destination'), ('SE4', 'PROPN', 'Destination'), ('J', 'PROPN', 'Destination')]\n",
      "-------\n",
      "[('I', 'PRON', ''), ('need', 'VERB', ''), ('to', 'PART', ''), ('navigate', 'VERB', ''), ('to', 'ADP', ''), ('X', 'PROPN', 'Destination'), ('h', 'PROPN', 'Destination'), ('i', 'PROPN', 'Destination'), ('X', 'PROPN', 'Destination'), ('h', 'PROPN', 'Destination'), ('y', 'PROPN', 'Destination'), ('H', 'PROPN', 'Destination'), ('U', 'PROPN', 'Destination'), ('H', 'PROPN', 'Destination'), ('0', 'PROPN', 'Destination')]\n",
      "-------\n",
      "[('I', 'PRON', ''), ('need', 'VERB', ''), ('Unknown', 'PART', ''), ('navigate', 'VERB', ''), ('to', 'ADP', ''), ('K8P8', 'PROPN', 'Destination'), ('xyak', 'PROPN', 'Destination'), ('6v', 'PROPN', 'Destination'), ('home', 'ADV', '')]\n",
      "-------\n",
      "[('I', 'PRON', ''), ('need', 'VERB', ''), ('Unknown', 'PART', ''), ('navigate', 'VERB', ''), ('to', 'ADP', ''), ('Unknown', 'PROPN', 'Destination'), ('work', 'NOUN', '')]\n",
      "-------\n",
      "[('I', 'PRON', ''), ('need', 'VERB', ''), ('to', 'PART', ''), ('navigate', 'VERB', ''), ('to', 'ADP', ''), ('the', 'DET', ''), ('nearest', 'ADJ', ''), ('s6JG', 'PROPN', 'Destination'), ('qJqk', 'PROPN', 'Destination'), ('H9', 'PROPN', 'Destination')]\n",
      "-------\n",
      "[('I', 'PRON', ''), ('want', 'VERB', ''), ('to', 'PART', ''), ('navigate', 'VERB', ''), ('to', 'ADP', ''), ('Unknown', 'PROPN', 'Destination')]\n",
      "-------\n",
      "[('I', 'PRON', ''), ('want', 'VERB', ''), ('to', 'PART', ''), ('navigate', 'VERB', ''), ('to', 'ADP', ''), ('SM', 'PROPN', 'Destination'), ('Zp', 'PROPN', 'Destination'), ('sF', 'PROPN', 'Destination'), ('wh', 'PROPN', 'Destination'), ('Zz', 'PROPN', 'Destination'), ('home', 'ADV', '')]\n",
      "-------\n",
      "[('I', 'PRON', ''), ('want', 'VERB', ''), ('to', 'PART', ''), ('navigate', 'VERB', ''), ('to', 'ADP', ''), ('T', 'PROPN', 'Destination'), ('y', 'PROPN', 'Destination'), ('R', 'PROPN', 'Destination'), ('2', 'PROPN', 'Destination'), ('1', 'PROPN', 'Destination'), ('e', 'PROPN', 'Destination'), ('D', 'PROPN', 'Destination'), ('f', 'PROPN', 'Destination'), ('C', 'PROPN', 'Destination'), ('A', 'PROPN', 'Destination'), ('work', 'NOUN', '')]\n",
      "-------\n",
      "[('I', 'PRON', ''), ('want', 'VERB', ''), ('to', 'PART', ''), ('navigate', 'VERB', ''), ('to', 'ADP', ''), ('Unknown', 'DET', ''), ('nearest', 'ADJ', ''), ('Unknown', 'PROPN', 'Destination')]\n",
      "-------\n",
      "[('I', 'PRON', ''), ('Unknown', 'VERB', ''), ('to', 'PART', ''), ('navigate', 'VERB', ''), ('home', 'NOUN', '')]\n",
      "-------\n",
      "[('Unknown', 'PRON', ''), ('have', 'AUX', ''), ('to', 'PART', ''), ('Unknown', 'VERB', ''), ('home', 'NOUN', '')]\n",
      "-------\n",
      "[('I', 'PRON', ''), ('need', 'VERB', ''), ('to', 'PART', ''), ('navigate', 'VERB', ''), ('home', 'NOUN', '')]\n",
      "-------\n",
      "[('I', 'PRON', ''), ('want', 'VERB', ''), ('to', 'PART', ''), ('navigate', 'VERB', ''), ('home', 'NOUN', '')]\n",
      "-------\n",
      "[('navigate', 'VERB', ''), ('to', 'ADP', ''), ('HMAj', 'PROPN', 'Destination'), ('CITf', 'PROPN', 'Destination'), ('fc', 'PROPN', 'Destination')]\n",
      "-------\n",
      "[('navigate', 'VERB', ''), ('to', 'ADP', ''), ('Unknown', 'PROPN', 'Destination'), ('home', 'ADV', '')]\n",
      "-------\n",
      "[('navigate', 'VERB', ''), ('to', 'ADP', ''), ('zJQ2', 'PROPN', 'Destination'), ('MFUf', 'PROPN', 'Destination'), ('qB', 'PROPN', 'Destination'), ('work', 'NOUN', '')]\n",
      "-------\n",
      "[('navigate', 'VERB', ''), ('to', 'ADP', ''), ('the', 'DET', ''), ('Unknown', 'ADJ', ''), ('UDLn', 'PROPN', 'Destination'), ('vxbH', 'PROPN', 'Destination'), ('ef', 'PROPN', 'Destination')]\n",
      "-------\n",
      "[('navigate', 'PROPN', ''), ('home', 'PROPN', '')]\n",
      "-------\n",
      "[('I', 'PRON', ''), ('Unknown', 'VERB', ''), ('to', 'PART', ''), ('go', 'VERB', ''), ('to', 'ADP', ''), ('a', 'DET', ''), ('Nb', 'PROPN', 'Destination'), ('wn', 'PROPN', 'Destination'), ('3q', 'PROPN', 'Destination'), ('a6', 'PROPN', 'Destination'), ('aA', 'PROPN', 'Destination'), (',', 'PUNCT', ''), ('navigate', 'VERB', ''), ('to', 'ADP', ''), ('the', 'DET', ''), ('Unknown', 'ADJ', ''), ('one', 'NUM', '')]\n",
      "-------\n",
      "[('I', 'PRON', ''), ('want', 'VERB', ''), ('to', 'PART', ''), ('go', 'VERB', ''), ('Unknown', 'ADP', ''), ('a', 'DET', ''), ('Unknown', 'PROPN', 'Destination'), (',', 'PUNCT', ''), ('Unknown', 'VERB', ''), ('to', 'ADP', ''), ('the', 'DET', ''), ('nearest', 'ADJ', ''), ('one', 'NUM', '')]\n",
      "-------\n",
      "[('I', 'PRON', ''), ('need', 'VERB', ''), ('Unknown', 'PART', ''), ('go', 'VERB', ''), ('to', 'ADP', ''), ('a', 'DET', ''), ('8j', 'PROPN', 'Destination'), ('uM', 'PROPN', 'Destination'), ('oG', 'PROPN', 'Destination'), ('dz', 'PROPN', 'Destination'), ('M8', 'PROPN', 'Destination'), (',', 'PUNCT', ''), ('go', 'VERB', ''), ('directions', 'NOUN', ''), ('to', 'ADP', ''), ('the', 'DET', ''), ('nearest', 'ADJ', ''), ('one', 'NUM', '')]\n",
      "-------\n",
      "[('I', 'PRON', ''), ('want', 'VERB', ''), ('to', 'PART', ''), ('go', 'VERB', ''), ('to', 'ADP', ''), ('a', 'DET', ''), ('RcZ', 'PROPN', 'Destination'), ('UrX', 'PROPN', 'Destination'), ('dLI', 'PROPN', 'Destination'), ('d', 'PROPN', 'Destination'), (',', 'PUNCT', ''), ('go', 'VERB', ''), ('directions', 'NOUN', ''), ('to', 'ADP', ''), ('the', 'DET', ''), ('nearest', 'ADJ', ''), ('one', 'NUM', '')]\n",
      "-------\n",
      "[('Unknown', 'PRON', ''), ('need', 'VERB', ''), ('Unknown', 'PART', ''), ('go', 'VERB', ''), ('to', 'ADP', ''), ('a', 'DET', ''), ('3pt9', 'PROPN', 'Destination'), ('Fzs6', 'PROPN', 'Destination'), ('4b', 'PROPN', 'Destination'), (',', 'PUNCT', ''), ('navigate', 'VERB', ''), ('to', 'ADP', ''), ('the', 'DET', ''), ('Unknown', 'ADJ', ''), ('one', 'NUM', '')]\n",
      "-------\n",
      "[('Unknown', 'PRON', ''), ('want', 'VERB', ''), ('to', 'PART', ''), ('go', 'VERB', ''), ('to', 'ADP', ''), ('a', 'DET', ''), ('Unknown', 'PROPN', 'Destination'), (',', 'PUNCT', ''), ('navigate', 'VERB', ''), ('to', 'ADP', ''), ('the', 'DET', ''), ('closest', 'ADJ', ''), ('one', 'NUM', '')]\n",
      "-------\n",
      "[('I', 'PRON', ''), ('need', 'VERB', ''), ('to', 'PART', ''), ('go', 'VERB', ''), ('to', 'ADP', ''), ('a', 'DET', ''), ('0L', 'PROPN', 'Destination'), ('hY', 'PROPN', 'Destination'), ('Lh', 'PROPN', 'Destination'), ('RO', 'PROPN', 'Destination'), ('V8', 'PROPN', 'Destination'), ('Unknown', 'PUNCT', ''), ('go', 'VERB', ''), ('directions', 'NOUN', ''), ('Unknown', 'ADP', ''), ('the', 'DET', ''), ('closest', 'ADJ', ''), ('one', 'NUM', '')]\n",
      "-------\n",
      "[('I', 'PRON', ''), ('want', 'VERB', ''), ('to', 'PART', ''), ('Unknown', 'VERB', ''), ('to', 'ADP', ''), ('a', 'DET', ''), ('Tm6u', 'PROPN', 'Destination'), ('RIkT', 'PROPN', 'Destination'), ('AH', 'PROPN', 'Destination'), (',', 'PUNCT', ''), ('go', 'VERB', ''), ('directions', 'NOUN', ''), ('to', 'ADP', ''), ('the', 'DET', ''), ('closest', 'ADJ', ''), ('one', 'NUM', '')]\n",
      "-------\n",
      "[('I', 'PRON', ''), ('need', 'VERB', ''), ('to', 'PART', ''), ('go', 'VERB', ''), ('to', 'ADP', ''), ('a', 'DET', ''), ('4T', 'PROPN', 'Destination'), ('2V', 'PROPN', 'Destination'), ('wB', 'PROPN', 'Destination'), ('Xd', 'PROPN', 'Destination'), ('UE', 'PROPN', 'Destination'), (',', 'PUNCT', ''), ('drive', 'VERB', ''), ('me', 'PRON', ''), ('to', 'ADP', ''), ('the', 'DET', ''), ('closest', 'ADJ', ''), ('one', 'NUM', '')]\n",
      "-------\n",
      "[('Unknown', 'PRON', ''), ('need', 'VERB', ''), ('to', 'PART', ''), ('go', 'VERB', ''), ('to', 'ADP', ''), ('a', 'DET', ''), ('yUnW', 'PROPN', 'Destination'), ('iN15', 'PROPN', 'Destination'), ('tZ', 'PROPN', 'Destination'), (',', 'PUNCT', ''), ('drive', 'VERB', ''), ('me', 'PRON', ''), ('Unknown', 'ADP', ''), ('the', 'DET', ''), ('nearest', 'ADJ', ''), ('Unknown', 'NUM', '')]\n",
      "-------\n",
      "[('I', 'PRON', ''), ('need', 'VERB', ''), ('to', 'PART', ''), ('go', 'VERB', ''), ('to', 'ADP', ''), ('Unknown', 'DET', ''), ('xr', 'PROPN', 'Destination'), ('kE', 'PROPN', 'Destination'), ('eF', 'PROPN', 'Destination'), ('S2', 'PROPN', 'Destination'), ('iA', 'PROPN', 'Destination'), (',', 'PUNCT', ''), ('get', 'AUX', ''), ('me', 'PRON', ''), ('to', 'ADP', ''), ('the', 'DET', ''), ('closest', 'ADJ', ''), ('one', 'NUM', '')]\n",
      "-------\n",
      "[('Unknown', 'VERB', ''), ('to', 'ADP', ''), ('rSSA', 'PROPN', 'Destination'), ('N20X', 'PROPN', 'Destination'), ('pu', 'PROPN', 'Destination')]\n",
      "-------\n",
      "[('drive', 'VERB', ''), ('to', 'ADP', ''), ('huM', 'PROPN', 'Destination'), ('g9d', 'PROPN', 'Destination'), ('EaN', 'PROPN', 'Destination'), ('a', 'PROPN', 'Destination'), ('home', 'ADV', '')]\n",
      "-------\n",
      "[('drive', 'VERB', ''), ('to', 'ADP', ''), ('Unknown', 'PROPN', 'Destination'), ('office', 'NOUN', '')]\n",
      "-------\n",
      "[('drive', 'VERB', ''), ('to', 'ADP', ''), ('8ynF', 'PROPN', 'Destination'), ('Caey', 'PROPN', 'Destination'), ('Nr', 'PROPN', 'Destination'), ('work', 'NOUN', '')]\n",
      "-------\n",
      "[('drive', 'VERB', ''), ('to', 'ADP', ''), ('the', 'DET', ''), ('closest', 'ADJ', ''), ('Unknown', 'PROPN', 'Destination')]\n",
      "-------\n",
      "[('drive', 'VERB', ''), ('Unknown', 'ADP', ''), ('the', 'DET', ''), ('nearest', 'ADJ', ''), ('E', 'PROPN', 'Destination'), ('T', 'PROPN', 'Destination'), ('2', 'PROPN', 'Destination'), ('k', 'PROPN', 'Destination'), ('g', 'PROPN', 'Destination'), ('h', 'PROPN', 'Destination'), ('i', 'PROPN', 'Destination'), ('0', 'PROPN', 'Destination'), ('E', 'PROPN', 'Destination'), ('P', 'PROPN', 'Destination')]\n",
      "-------\n",
      "[('get', 'AUX', ''), ('to', 'ADP', ''), ('0l6', 'PROPN', 'Destination'), ('Rms', 'PROPN', 'Destination'), ('0Xb', 'PROPN', 'Destination'), ('V', 'PROPN', 'Destination')]\n",
      "-------\n",
      "[('get', 'AUX', ''), ('to', 'ADP', ''), ('7', 'PROPN', 'Destination'), ('l', 'PROPN', 'Destination'), ('G', 'PROPN', 'Destination'), ('Z', 'PROPN', 'Destination'), ('7', 'PROPN', 'Destination'), ('0', 'PROPN', 'Destination'), ('B', 'PROPN', 'Destination'), ('T', 'PROPN', 'Destination'), ('L', 'PROPN', 'Destination'), ('7', 'PROPN', 'Destination'), ('home', 'ADV', '')]\n",
      "-------\n",
      "[('get', 'AUX', ''), ('to', 'ADP', ''), ('wEq', 'PROPN', 'Destination'), ('CMO', 'PROPN', 'Destination'), ('Ts3', 'PROPN', 'Destination'), ('h', 'PROPN', 'Destination'), ('office', 'NOUN', '')]\n",
      "-------\n",
      "[('get', 'AUX', ''), ('to', 'ADP', ''), ('xoi', 'PROPN', 'Destination'), ('Tme', 'PROPN', 'Destination'), ('XaO', 'PROPN', 'Destination'), ('x', 'PROPN', 'Destination'), ('work', 'NOUN', '')]\n",
      "-------\n",
      "[('get', 'AUX', ''), ('to', 'ADP', ''), ('the', 'DET', ''), ('closest', 'ADJ', ''), ('Uwye', 'PROPN', 'Destination'), ('rGDe', 'PROPN', 'Destination'), ('Lc', 'PROPN', 'Destination')]\n",
      "-------\n",
      "[('get', 'AUX', ''), ('to', 'ADP', ''), ('the', 'DET', ''), ('nearest', 'ADJ', ''), ('N', 'NOUN', 'Destination'), ('e', 'NOUN', 'Destination'), ('Y', 'NOUN', 'Destination'), ('d', 'NOUN', 'Destination'), ('X', 'NOUN', 'Destination'), ('z', 'NOUN', 'Destination'), ('B', 'NOUN', 'Destination'), ('Y', 'NOUN', 'Destination'), ('x', 'NOUN', 'Destination'), ('a', 'NOUN', 'Destination')]\n",
      "-------\n",
      "[('go', 'VERB', ''), ('to', 'ADP', ''), ('1qij', 'PROPN', 'Destination'), ('3tg5', 'PROPN', 'Destination'), ('9M', 'PROPN', 'Destination')]\n",
      "-------\n",
      "[('go', 'VERB', ''), ('to', 'ADP', ''), ('Unknown', 'PROPN', 'Destination'), ('home', 'ADV', '')]\n",
      "-------\n",
      "[('go', 'VERB', ''), ('to', 'ADP', ''), ('4s4v', 'PROPN', 'Destination'), ('f8km', 'PROPN', 'Destination'), ('R9', 'PROPN', 'Destination'), ('office', 'NOUN', '')]\n",
      "-------\n",
      "[('go', 'VERB', ''), ('Unknown', 'ADP', ''), ('0D', 'PROPN', 'Destination'), ('gr', 'PROPN', 'Destination'), ('BO', 'PROPN', 'Destination'), ('oQ', 'PROPN', 'Destination'), ('F8', 'PROPN', 'Destination'), ('work', 'NOUN', '')]\n",
      "-------\n",
      "[('go', 'VERB', ''), ('Unknown', 'ADP', ''), ('the', 'DET', ''), ('closest', 'ADJ', ''), ('Ehaw', 'PROPN', 'Destination'), ('88A4', 'PROPN', 'Destination'), ('PU', 'PROPN', 'Destination')]\n",
      "-------\n",
      "[('go', 'VERB', ''), ('to', 'ADP', ''), ('the', 'DET', ''), ('nearest', 'ADJ', ''), ('Unknown', 'PROPN', 'Destination')]\n",
      "-------\n",
      "[('let', 'VERB', ''), (\"'s\", 'PRON', ''), ('go', 'VERB', ''), ('to', 'ADP', ''), ('Unknown', 'PROPN', 'Destination')]\n",
      "-------\n",
      "[('let', 'VERB', ''), (\"'s\", 'PRON', ''), ('go', 'VERB', ''), ('to', 'ADP', ''), ('DV', 'PROPN', 'Destination'), ('hJ', 'PROPN', 'Destination'), ('iI', 'PROPN', 'Destination'), ('xa', 'PROPN', 'Destination'), ('6V', 'PROPN', 'Destination'), ('home', 'ADV', '')]\n",
      "-------\n",
      "[('let', 'VERB', ''), (\"'s\", 'PRON', ''), ('Unknown', 'VERB', ''), ('to', 'ADP', ''), ('Unknown', 'PROPN', 'Destination'), ('office', 'NOUN', '')]\n",
      "-------\n",
      "[('let', 'VERB', ''), (\"'s\", 'PRON', ''), ('go', 'VERB', ''), ('to', 'ADP', ''), ('tkDX', 'PROPN', 'Destination'), ('PLap', 'PROPN', 'Destination'), ('tf', 'PROPN', 'Destination'), ('work', 'NOUN', '')]\n",
      "-------\n",
      "[('let', 'VERB', ''), (\"'s\", 'PRON', ''), ('go', 'VERB', ''), ('to', 'ADP', ''), ('Unknown', 'DET', ''), ('closest', 'ADJ', ''), ('XYYZlet', 'PROPN', ''), ('Unknown', 'PART', ''), ('go', 'NOUN', ''), ('to', 'ADP', ''), ('the', 'DET', ''), ('nearest', 'ADJ', ''), ('fYH', 'PROPN', 'Destination'), ('rxE', 'PROPN', 'Destination'), ('Wit', 'PROPN', 'Destination'), ('e', 'PROPN', 'Destination')]\n",
      "-------\n",
      "[('navigate', 'VERB', ''), ('to', 'ADP', ''), ('kE5j', 'PROPN', 'Destination'), ('0izD', 'PROPN', 'Destination'), ('U7', 'PROPN', 'Destination'), ('office', 'NOUN', '')]\n",
      "-------\n",
      "[('get', 'AUX', ''), ('directions', 'NOUN', ''), ('home', 'ADV', '')]\n",
      "-------\n",
      "[('get', 'AUX', ''), ('directions', 'NOUN', ''), ('to', 'ADP', ''), ('5y', 'PROPN', 'Destination'), ('dO', 'PROPN', 'Destination'), ('Ag', 'PROPN', 'Destination'), ('3L', 'PROPN', 'Destination'), ('AU', 'PROPN', 'Destination')]\n",
      "-------\n",
      "[('get', 'AUX', ''), ('directions', 'NOUN', ''), ('to', 'ADP', ''), ('Gc0y', 'PROPN', 'Destination'), ('WMxx', 'PROPN', 'Destination'), ('zU', 'PROPN', 'Destination'), ('home', 'ADV', '')]\n",
      "-------\n",
      "[('Unknown', 'AUX', ''), ('directions', 'NOUN', ''), ('to', 'ADP', ''), ('Unknown', 'PROPN', 'Destination'), ('office', 'NOUN', '')]\n",
      "-------\n",
      "[('get', 'AUX', ''), ('directions', 'NOUN', ''), ('to', 'ADP', ''), ('Ksm', 'PROPN', 'Destination'), ('vTI', 'PROPN', 'Destination'), ('IHZ', 'PROPN', 'Destination'), ('M', 'PROPN', 'Destination'), ('work', 'NOUN', '')]\n",
      "-------\n",
      "[('get', 'AUX', ''), ('directions', 'NOUN', ''), ('to', 'ADP', ''), ('the', 'DET', ''), ('closest', 'ADJ', ''), ('NX', 'PROPN', 'Destination'), ('K7', 'PROPN', 'Destination'), ('AZ', 'PROPN', 'Destination'), ('7Y', 'PROPN', 'Destination'), ('9a', 'PROPN', 'Destination')]\n",
      "-------\n",
      "[('get', 'AUX', ''), ('directions', 'NOUN', ''), ('to', 'ADP', ''), ('the', 'DET', ''), ('nearest', 'ADJ', ''), ('t6', 'PROPN', 'Destination'), ('9m', 'PROPN', 'Destination'), ('lR', 'PROPN', 'Destination'), ('19', 'PROPN', 'Destination'), ('T1', 'PROPN', 'Destination')]\n",
      "-------\n",
      "[('get', 'AUX', ''), ('Unknown', 'NOUN', ''), ('to', 'PART', ''), ('go', 'VERB', ''), ('home', 'ADV', '')]\n",
      "-------\n",
      "[('get', 'AUX', ''), ('directions', 'NOUN', ''), ('to', 'PART', ''), ('go', 'VERB', ''), ('home', 'ADV', '')]\n",
      "-------\n",
      "[('get', 'AUX', ''), ('directions', 'NOUN', ''), ('to', 'PART', ''), ('go', 'VERB', ''), ('to', 'ADP', ''), ('Unknown', 'PROPN', 'Destination')]\n",
      "-------\n",
      "[('get', 'AUX', ''), ('directions', 'NOUN', ''), ('to', 'PART', ''), ('go', 'VERB', ''), ('to', 'ADP', ''), ('MQo8', 'PROPN', 'Destination'), ('Aas9', 'PROPN', 'Destination'), ('63', 'PROPN', 'Destination'), ('home', 'ADV', '')]\n",
      "-------\n",
      "[('get', 'AUX', ''), ('directions', 'NOUN', ''), ('to', 'PART', ''), ('go', 'VERB', ''), ('to', 'ADP', ''), ('duPD', 'PROPN', 'Destination'), ('kSDo', 'PROPN', 'Destination'), ('cO', 'PROPN', 'Destination'), ('office', 'NOUN', '')]\n",
      "-------\n",
      "[('get', 'AUX', ''), ('directions', 'NOUN', ''), ('to', 'PART', ''), ('go', 'VERB', ''), ('to', 'ADP', ''), ('Unknown', 'PROPN', 'Destination'), ('work', 'NOUN', '')]\n",
      "-------\n",
      "[('get', 'AUX', ''), ('directions', 'NOUN', ''), ('to', 'PART', ''), ('go', 'VERB', ''), ('to', 'ADP', ''), ('the', 'DET', ''), ('closest', 'ADJ', ''), ('Unknown', 'PROPN', 'Destination')]\n",
      "-------\n",
      "[('get', 'AUX', ''), ('directions', 'NOUN', ''), ('to', 'PART', ''), ('go', 'VERB', ''), ('to', 'ADP', ''), ('the', 'DET', ''), ('nearest', 'ADJ', ''), ('eT2s', 'PROPN', 'Destination'), ('WzNy', 'PROPN', 'Destination'), ('7w', 'PROPN', 'Destination')]\n",
      "-------\n",
      "[('drive', 'VERB', ''), ('home', 'ADV', '')]\n",
      "-------\n",
      "[('Unknown', 'AUX', ''), ('Unknown', 'ADV', '')]\n",
      "-------\n",
      "[('go', 'VERB', ''), ('home', 'ADV', '')]\n",
      "-------\n",
      "[('let', 'VERB', ''), (\"'s\", 'PRON', ''), ('go', 'VERB', ''), ('home', 'ADV', '')]\n",
      "-------\n",
      "[('drive', 'VERB', ''), ('me', 'PRON', ''), ('to', 'ADP', ''), ('Ny', 'PROPN', 'Destination'), ('aR', 'PROPN', 'Destination'), ('KH', 'PROPN', 'Destination'), ('e8', 'PROPN', 'Destination'), ('9i', 'PROPN', 'Destination')]\n",
      "-------\n",
      "[('drive', 'VERB', ''), ('me', 'PRON', ''), ('Unknown', 'ADP', ''), ('Unknown', 'PROPN', 'Destination'), ('home', 'ADV', '')]\n",
      "-------\n",
      "[('drive', 'VERB', ''), ('me', 'PRON', ''), ('to', 'ADP', ''), ('esS', 'PROPN', 'Destination'), ('HSW', 'PROPN', 'Destination'), ('JjH', 'PROPN', 'Destination'), ('n', 'PROPN', 'Destination'), ('Unknown', 'NOUN', '')]\n",
      "-------\n",
      "[('Unknown', 'VERB', ''), ('me', 'PRON', ''), ('to', 'ADP', ''), ('i96', 'PROPN', 'Destination'), ('f9V', 'PROPN', 'Destination'), ('YQl', 'PROPN', 'Destination'), ('w', 'PROPN', 'Destination'), ('work', 'NOUN', '')]\n",
      "-------\n",
      "[('drive', 'VERB', ''), ('me', 'PRON', ''), ('to', 'ADP', ''), ('the', 'DET', ''), ('closest', 'ADJ', ''), ('Unknown', 'PROPN', 'Destination')]\n",
      "-------\n",
      "[('drive', 'VERB', ''), ('me', 'PRON', ''), ('to', 'ADP', ''), ('the', 'DET', ''), ('nearest', 'ADJ', ''), ('Unknown', 'PROPN', 'Destination')]\n",
      "-------\n",
      "[('get', 'AUX', ''), ('me', 'PRON', ''), ('to', 'ADP', ''), ('KklV', 'PROPN', 'Destination'), ('TyRx', 'PROPN', 'Destination'), ('lR', 'PROPN', 'Destination')]\n",
      "-------\n",
      "[('get', 'AUX', ''), ('me', 'PRON', ''), ('to', 'ADP', ''), ('Bt', 'PROPN', 'Destination'), ('0L', 'PROPN', 'Destination'), ('Rp', 'PROPN', 'Destination'), ('ar', 'PROPN', 'Destination'), ('tI', 'PROPN', 'Destination'), ('home', 'ADV', '')]\n",
      "-------\n",
      "[('get', 'AUX', ''), ('me', 'PRON', ''), ('to', 'ADP', ''), ('I', 'PROPN', 'Destination'), ('m', 'PROPN', 'Destination'), ('u', 'PROPN', 'Destination'), ('l', 'PROPN', 'Destination'), ('3', 'PROPN', 'Destination'), ('d', 'PROPN', 'Destination'), ('A', 'PROPN', 'Destination'), ('r', 'PROPN', 'Destination'), ('R', 'PROPN', 'Destination'), ('e', 'PROPN', 'Destination'), ('office', 'NOUN', '')]\n",
      "-------\n",
      "[('get', 'AUX', ''), ('me', 'PRON', ''), ('to', 'ADP', ''), ('UQ4U', 'PROPN', 'Destination'), ('CSgx', 'PROPN', 'Destination'), ('on', 'PROPN', 'Destination'), ('work', 'NOUN', '')]\n",
      "-------\n",
      "[('get', 'AUX', ''), ('me', 'PRON', ''), ('to', 'ADP', ''), ('the', 'DET', ''), ('closest', 'ADJ', ''), ('Unknown', 'PROPN', 'Destination')]\n",
      "-------\n",
      "[('get', 'AUX', ''), ('me', 'PRON', ''), ('to', 'ADP', ''), ('Unknown', 'DET', ''), ('nearest', 'ADJ', ''), ('6', 'PROPN', 'Destination'), ('B', 'PROPN', 'Destination'), ('7', 'PROPN', 'Destination'), ('a', 'PROPN', 'Destination'), ('l', 'PROPN', 'Destination'), ('B', 'PROPN', 'Destination'), ('x', 'PROPN', 'Destination'), ('Z', 'PROPN', 'Destination'), ('u', 'PROPN', 'Destination'), ('Y', 'PROPN', 'Destination')]\n",
      "-------\n",
      "[('navigate', 'VERB', ''), ('me', 'PRON', ''), ('to', 'ADP', ''), ('T', 'PROPN', 'Destination'), ('y', 'PROPN', 'Destination'), ('7', 'PROPN', 'Destination'), ('K', 'PROPN', 'Destination'), ('5', 'PROPN', 'Destination'), ('u', 'PROPN', 'Destination'), ('K', 'PROPN', 'Destination'), ('N', 'PROPN', 'Destination'), ('t', 'PROPN', 'Destination'), ('6', 'PROPN', 'Destination')]\n",
      "-------\n",
      "[('navigate', 'VERB', ''), ('me', 'PRON', ''), ('to', 'ADP', ''), ('MaTB', 'PROPN', 'Destination'), ('5kVw', 'PROPN', 'Destination'), ('eX', 'PROPN', 'Destination'), ('home', 'ADV', '')]\n",
      "-------\n",
      "[('navigate', 'VERB', ''), ('me', 'PRON', ''), ('to', 'ADP', ''), ('xkR', 'PROPN', 'Destination'), ('vna', 'PROPN', 'Destination'), ('4Zm', 'PROPN', 'Destination'), ('M', 'PROPN', 'Destination'), ('office', 'NOUN', '')]\n",
      "-------\n",
      "[('navigate', 'VERB', ''), ('me', 'PRON', ''), ('to', 'ADP', ''), ('yp', 'PROPN', 'Destination'), ('4a', 'PROPN', 'Destination'), ('hn', 'PROPN', 'Destination'), ('DQ', 'PROPN', 'Destination'), ('Zp', 'PROPN', 'Destination'), ('work', 'NOUN', '')]\n",
      "-------\n",
      "[('I', 'PRON', ''), ('want', 'VERB', ''), ('to', 'PART', ''), ('go', 'VERB', ''), ('to', 'ADP', ''), ('my', 'PRON', ''), ('parents', 'NOUN', ''), (\"'\", 'PART', ''), ('home', 'NOUN', '')]\n",
      "-------\n",
      "[('I', 'PRON', ''), ('want', 'VERB', ''), ('to', 'PART', ''), ('go', 'VERB', ''), ('to', 'ADP', ''), ('Unknown', 'PRON', ''), ('parents', 'NOUN', ''), (\"'\", 'PART', ''), ('place', 'NOUN', '')]\n",
      "-------\n",
      "[('I', 'PRON', ''), ('want', 'VERB', ''), ('to', 'PART', ''), ('go', 'VERB', ''), ('to', 'ADP', ''), ('Unknown', 'PRON', ''), ('place', 'NOUN', '')]\n",
      "-------\n",
      "[('Unknown', 'PRON', ''), ('want', 'VERB', ''), ('to', 'PART', ''), ('go', 'VERB', ''), ('to', 'ADP', ''), ('the', 'DET', ''), ('Unknown', 'ADJ', ''), ('ZI51', 'PROPN', 'Destination'), ('W4jm', 'PROPN', 'Destination'), ('pI', 'PROPN', 'Destination')]\n",
      "-------\n",
      "[('I', 'PRON', ''), ('want', 'VERB', ''), ('to', 'PART', ''), ('go', 'VERB', ''), ('to', 'ADP', ''), ('the', 'DET', ''), ('nearest', 'ADJ', ''), ('8V9e', 'PROPN', 'Destination'), ('hMOx', 'PROPN', 'Destination'), ('G5', 'PROPN', 'Destination')]\n",
      "-------\n",
      "[('I', 'PRON', ''), ('want', 'VERB', ''), ('to', 'PART', ''), ('go', 'VERB', ''), ('to', 'ADP', ''), ('work', 'NOUN', '')]\n",
      "-------\n",
      "[('I', 'PRON', ''), ('Unknown', 'VERB', ''), ('Unknown', 'PART', ''), ('navigate', 'VERB', ''), ('to', 'ADP', ''), ('9l5', 'PROPN', 'Destination'), ('ygZ', 'PROPN', 'Destination'), ('2j7', 'PROPN', 'Destination'), ('T', 'PROPN', 'Destination'), ('office', 'NOUN', '')]\n",
      "-------\n",
      "[('I', 'PRON', ''), ('want', 'VERB', ''), ('Unknown', 'PART', ''), ('navigate', 'VERB', ''), ('to', 'ADP', ''), ('Unknown', 'PROPN', 'Destination')]\n",
      "-------\n",
      "[('I', 'PRON', ''), ('want', 'VERB', ''), ('to', 'PART', ''), ('navigate', 'VERB', ''), ('to', 'ADP', ''), ('my', 'PRON', ''), ('children', 'NOUN', ''), (\"'s\", 'PART', ''), ('school', 'NOUN', '')]\n",
      "-------\n",
      "[('I', 'PRON', ''), ('want', 'VERB', ''), ('to', 'PART', ''), ('navigate', 'VERB', ''), ('to', 'ADP', ''), ('my', 'PRON', ''), ('kid', 'NOUN', ''), (\"'s\", 'PART', ''), ('Unknown', 'NOUN', '')]\n",
      "-------\n",
      "[('I', 'PRON', ''), ('want', 'VERB', ''), ('to', 'PART', ''), ('navigate', 'VERB', ''), ('to', 'ADP', ''), ('my', 'PRON', ''), ('kids', 'NOUN', ''), (\"'\", 'PART', ''), ('Unknown', 'NOUN', '')]\n",
      "-------\n",
      "[('I', 'PRON', ''), ('want', 'VERB', ''), ('to', 'PART', ''), ('navigate', 'VERB', ''), ('to', 'ADP', ''), ('my', 'PRON', ''), ('office', 'NOUN', '')]\n",
      "-------\n",
      "[('I', 'PRON', ''), ('want', 'VERB', ''), ('to', 'PART', ''), ('navigate', 'VERB', ''), ('to', 'ADP', ''), ('my', 'PRON', ''), ('parents', 'NOUN', ''), (\"'\", 'PART', ''), ('place', 'NOUN', '')]\n",
      "-------\n",
      "[('I', 'PRON', ''), ('want', 'VERB', ''), ('to', 'PART', ''), ('Unknown', 'VERB', ''), ('to', 'ADP', ''), ('my', 'PRON', ''), ('place', 'NOUN', '')]\n",
      "-------\n",
      "[('I', 'PRON', ''), ('want', 'VERB', ''), ('to', 'PART', ''), ('Unknown', 'VERB', ''), ('to', 'ADP', ''), ('the', 'DET', ''), ('closest', 'ADJ', ''), ('6SPV', 'PROPN', 'Destination'), ('T1gw', 'PROPN', 'Destination'), ('De', 'PROPN', 'Destination')]\n",
      "-------\n",
      "[('I', 'PRON', ''), ('got', 'VERB', ''), ('to', 'PART', ''), ('get', 'AUX', ''), ('directions', 'NOUN', ''), ('home', 'ADV', '')]\n",
      "-------\n",
      "[('I', 'PRON', ''), ('got', 'VERB', ''), ('to', 'PART', ''), ('get', 'AUX', ''), ('directions', 'NOUN', ''), ('Unknown', 'ADP', ''), ('tIn', 'PROPN', 'Destination'), ('ydh', 'PROPN', 'Destination'), ('um2', 'PROPN', 'Destination'), ('p', 'PROPN', 'Destination')]\n",
      "-------\n",
      "None\n",
      "-------\n"
     ]
    }
   ],
   "source": [
    "for group in yield_sentence():\n",
    "    print(group)\n",
    "    print(\"-------\")"
   ]
  },
  {
   "cell_type": "code",
   "execution_count": 54,
   "metadata": {},
   "outputs": [],
   "source": [
    "max_len = 75\n",
    "word2idx = {w: i + 1 for i, w in enumerate(words)}\n",
    "tag2idx = {t: i for i, t in enumerate(tags)}\n",
    "pos2idx = {p: i for i, p in enumerate(pos)}\n"
   ]
  },
  {
   "cell_type": "code",
   "execution_count": 55,
   "metadata": {},
   "outputs": [
    {
     "data": {
      "text/plain": [
       "6"
      ]
     },
     "execution_count": 55,
     "metadata": {},
     "output_type": "execute_result"
    }
   ],
   "source": [
    "word2idx[\"directions\"]"
   ]
  },
  {
   "cell_type": "code",
   "execution_count": 72,
   "metadata": {},
   "outputs": [
    {
     "data": {
      "text/plain": [
       "{'VERB': 0,\n",
       " 'PUNCT': 1,\n",
       " 'ADV': 2,\n",
       " 'AUX': 3,\n",
       " 'NUM': 4,\n",
       " 'DET': 5,\n",
       " 'ADP': 6,\n",
       " 'ADJ': 7,\n",
       " 'PRON': 8,\n",
       " 'PART': 9,\n",
       " 'PROPN': 10,\n",
       " 'NOUN': 11}"
      ]
     },
     "execution_count": 72,
     "metadata": {},
     "output_type": "execute_result"
    }
   ],
   "source": [
    "tag2idx[\"\"]\n",
    "pos2idx"
   ]
  },
  {
   "cell_type": "code",
   "execution_count": 57,
   "metadata": {},
   "outputs": [],
   "source": [
    "from keras.preprocessing.sequence import pad_sequences\n",
    "X = [[word2idx.get(w[0],word2idx[\"Unknown\"]) for w in s] for s in sentences]\n",
    "X_pos = [[pos2idx.get(w[1]) for w in s] for s in sentences]"
   ]
  },
  {
   "cell_type": "code",
   "execution_count": 58,
   "metadata": {},
   "outputs": [],
   "source": [
    "X = pad_sequences(maxlen=max_len, sequences=X, padding=\"post\", value=n_words-1)\n",
    "X_pos = pad_sequences(maxlen=max_len, sequences=X_pos, padding=\"post\", value=n_words-1)\n",
    "# print(X.shape)\n",
    "# print(X_pos.shape)\n",
    "\n",
    "# X = np.stack((X,X_pos))\n",
    "# print(X.shape)\n",
    "# X = np.reshape(X,[123,2,75])\n",
    "# print(X.shape)"
   ]
  },
  {
   "cell_type": "code",
   "execution_count": 59,
   "metadata": {},
   "outputs": [],
   "source": [
    "y = [[tag2idx[w[2]] for w in s] for s in sentences]"
   ]
  },
  {
   "cell_type": "code",
   "execution_count": 60,
   "metadata": {},
   "outputs": [],
   "source": [
    "y = pad_sequences(maxlen=max_len, sequences=y, padding=\"post\", value=tag2idx[\"\"])\n"
   ]
  },
  {
   "cell_type": "code",
   "execution_count": 61,
   "metadata": {},
   "outputs": [],
   "source": [
    "from keras.utils import to_categorical"
   ]
  },
  {
   "cell_type": "code",
   "execution_count": 62,
   "metadata": {},
   "outputs": [],
   "source": [
    "y = [to_categorical(i, num_classes=n_tags) for i in y]"
   ]
  },
  {
   "cell_type": "code",
   "execution_count": 63,
   "metadata": {},
   "outputs": [],
   "source": [
    "from sklearn.model_selection import train_test_split"
   ]
  },
  {
   "cell_type": "code",
   "execution_count": 64,
   "metadata": {},
   "outputs": [],
   "source": [
    "#X_tr, X_te, y_tr, y_te = train_test_split(X, y, test_size=0.1)\n",
    "X_tr = X\n",
    "y_tr = y"
   ]
  },
  {
   "cell_type": "code",
   "execution_count": 65,
   "metadata": {},
   "outputs": [],
   "source": [
    "from keras.models import Model, Input\n",
    "from keras.layers import LSTM, Embedding, Dense, TimeDistributed, Dropout, Bidirectional\n",
    "from keras_contrib.layers import CRF\n",
    "import keras"
   ]
  },
  {
   "cell_type": "code",
   "execution_count": 66,
   "metadata": {},
   "outputs": [],
   "source": [
    "# input = Input(shape=(max_len,))\n",
    "# model = Embedding(input_dim=n_words + 1, output_dim=20,\n",
    "#                   input_length=max_len)(input)  # 20-dim embedding\n",
    "# model = Bidirectional(LSTM(units=50, return_sequences=True,\n",
    "#                            recurrent_dropout=0.1))(model)  # variational biLSTM\n",
    "# model = TimeDistributed(Dense(50, activation=\"relu\"))(model)  # a dense layer as suggested by neuralNer\n",
    "# crf = CRF(n_tags)  # CRF layer\n",
    "# out = crf(model)  # output\n",
    "\n",
    "\n",
    "big_input = Input(shape=(150,))\n",
    "input = Input(shape=(max_len,))\n",
    "word_emb = Embedding(input_dim=n_words + 1, output_dim=20,\n",
    "input_length=max_len)(input) # 20-dim embedding\n",
    "\n",
    "pos_input = Input(shape=(max_len,))\n",
    "pos_emb = Embedding(input_dim= len(pos) , output_dim=10,\n",
    "input_length=max_len)(pos_input)\n",
    "\n",
    "modified_input = keras.layers.concatenate([word_emb, pos_emb])\n",
    "\n",
    "model_1 = Bidirectional(LSTM(units=50, return_sequences=True,\n",
    "recurrent_dropout=0.1))(modified_input)\n",
    "\n",
    "model = TimeDistributed(Dense(50, activation=\"relu\"))(model_1)  # a dense layer as suggested by neuralNer\n",
    "crf = CRF(n_tags)  # CRF layer\n",
    "out = crf(model)  # output\n",
    "\n"
   ]
  },
  {
   "cell_type": "code",
   "execution_count": 67,
   "metadata": {},
   "outputs": [],
   "source": [
    "model = Model([input,pos_input], out)"
   ]
  },
  {
   "cell_type": "code",
   "execution_count": 68,
   "metadata": {},
   "outputs": [],
   "source": [
    "model.compile(optimizer=\"rmsprop\", loss=crf.loss_function, metrics=[crf.accuracy])"
   ]
  },
  {
   "cell_type": "code",
   "execution_count": 69,
   "metadata": {},
   "outputs": [
    {
     "name": "stdout",
     "output_type": "stream",
     "text": [
      "Model: \"model_3\"\n",
      "__________________________________________________________________________________________________\n",
      "Layer (type)                    Output Shape         Param #     Connected to                     \n",
      "==================================================================================================\n",
      "input_8 (InputLayer)            (None, 75)           0                                            \n",
      "__________________________________________________________________________________________________\n",
      "input_9 (InputLayer)            (None, 75)           0                                            \n",
      "__________________________________________________________________________________________________\n",
      "embedding_5 (Embedding)         (None, 75, 20)       6060        input_8[0][0]                    \n",
      "__________________________________________________________________________________________________\n",
      "embedding_6 (Embedding)         (None, 75, 10)       120         input_9[0][0]                    \n",
      "__________________________________________________________________________________________________\n",
      "concatenate_3 (Concatenate)     (None, 75, 30)       0           embedding_5[0][0]                \n",
      "                                                                 embedding_6[0][0]                \n",
      "__________________________________________________________________________________________________\n",
      "bidirectional_3 (Bidirectional) (None, 75, 100)      32400       concatenate_3[0][0]              \n",
      "__________________________________________________________________________________________________\n",
      "time_distributed_3 (TimeDistrib (None, 75, 50)       5050        bidirectional_3[0][0]            \n",
      "__________________________________________________________________________________________________\n",
      "crf_3 (CRF)                     (None, 75, 2)        110         time_distributed_3[0][0]         \n",
      "==================================================================================================\n",
      "Total params: 43,740\n",
      "Trainable params: 43,740\n",
      "Non-trainable params: 0\n",
      "__________________________________________________________________________________________________\n"
     ]
    }
   ],
   "source": [
    "model.summary()"
   ]
  },
  {
   "cell_type": "code",
   "execution_count": 70,
   "metadata": {},
   "outputs": [
    {
     "name": "stdout",
     "output_type": "stream",
     "text": [
      "(75,)\n"
     ]
    }
   ],
   "source": [
    "print(X_tr[0].shape)"
   ]
  },
  {
   "cell_type": "code",
   "execution_count": 71,
   "metadata": {},
   "outputs": [
    {
     "name": "stderr",
     "output_type": "stream",
     "text": [
      "/home/premraj/anaconda3/lib/python3.7/site-packages/tensorflow_core/python/framework/indexed_slices.py:424: UserWarning: Converting sparse IndexedSlices to a dense Tensor of unknown shape. This may consume a large amount of memory.\n",
      "  \"Converting sparse IndexedSlices to a dense Tensor of unknown shape. \"\n"
     ]
    },
    {
     "name": "stdout",
     "output_type": "stream",
     "text": [
      "Train on 110 samples, validate on 13 samples\n",
      "Epoch 1/60\n"
     ]
    },
    {
     "ename": "InvalidArgumentError",
     "evalue": " indices[0,10] = 301 is not in [0, 12)\n\t [[node embedding_6/embedding_lookup (defined at /home/premraj/anaconda3/lib/python3.7/site-packages/tensorflow_core/python/framework/ops.py:1751) ]] [Op:__inference_keras_scratch_graph_9105]\n\nFunction call stack:\nkeras_scratch_graph\n",
     "output_type": "error",
     "traceback": [
      "\u001b[0;31m---------------------------------------------------------------------------\u001b[0m",
      "\u001b[0;31mInvalidArgumentError\u001b[0m                      Traceback (most recent call last)",
      "\u001b[0;32m<ipython-input-71-11a1e934c7f1>\u001b[0m in \u001b[0;36m<module>\u001b[0;34m\u001b[0m\n\u001b[1;32m      1\u001b[0m history = model.fit([X_tr,X_pos], np.array(y_tr), batch_size=32, epochs=60,\n\u001b[0;32m----> 2\u001b[0;31m                     validation_split=0.1, verbose=1)\n\u001b[0m",
      "\u001b[0;32m~/anaconda3/lib/python3.7/site-packages/keras/engine/training.py\u001b[0m in \u001b[0;36mfit\u001b[0;34m(self, x, y, batch_size, epochs, verbose, callbacks, validation_split, validation_data, shuffle, class_weight, sample_weight, initial_epoch, steps_per_epoch, validation_steps, validation_freq, max_queue_size, workers, use_multiprocessing, **kwargs)\u001b[0m\n\u001b[1;32m   1237\u001b[0m                                         \u001b[0msteps_per_epoch\u001b[0m\u001b[0;34m=\u001b[0m\u001b[0msteps_per_epoch\u001b[0m\u001b[0;34m,\u001b[0m\u001b[0;34m\u001b[0m\u001b[0;34m\u001b[0m\u001b[0m\n\u001b[1;32m   1238\u001b[0m                                         \u001b[0mvalidation_steps\u001b[0m\u001b[0;34m=\u001b[0m\u001b[0mvalidation_steps\u001b[0m\u001b[0;34m,\u001b[0m\u001b[0;34m\u001b[0m\u001b[0;34m\u001b[0m\u001b[0m\n\u001b[0;32m-> 1239\u001b[0;31m                                         validation_freq=validation_freq)\n\u001b[0m\u001b[1;32m   1240\u001b[0m \u001b[0;34m\u001b[0m\u001b[0m\n\u001b[1;32m   1241\u001b[0m     def evaluate(self,\n",
      "\u001b[0;32m~/anaconda3/lib/python3.7/site-packages/keras/engine/training_arrays.py\u001b[0m in \u001b[0;36mfit_loop\u001b[0;34m(model, fit_function, fit_inputs, out_labels, batch_size, epochs, verbose, callbacks, val_function, val_inputs, shuffle, initial_epoch, steps_per_epoch, validation_steps, validation_freq)\u001b[0m\n\u001b[1;32m    194\u001b[0m                     \u001b[0mins_batch\u001b[0m\u001b[0;34m[\u001b[0m\u001b[0mi\u001b[0m\u001b[0;34m]\u001b[0m \u001b[0;34m=\u001b[0m \u001b[0mins_batch\u001b[0m\u001b[0;34m[\u001b[0m\u001b[0mi\u001b[0m\u001b[0;34m]\u001b[0m\u001b[0;34m.\u001b[0m\u001b[0mtoarray\u001b[0m\u001b[0;34m(\u001b[0m\u001b[0;34m)\u001b[0m\u001b[0;34m\u001b[0m\u001b[0;34m\u001b[0m\u001b[0m\n\u001b[1;32m    195\u001b[0m \u001b[0;34m\u001b[0m\u001b[0m\n\u001b[0;32m--> 196\u001b[0;31m                 \u001b[0mouts\u001b[0m \u001b[0;34m=\u001b[0m \u001b[0mfit_function\u001b[0m\u001b[0;34m(\u001b[0m\u001b[0mins_batch\u001b[0m\u001b[0;34m)\u001b[0m\u001b[0;34m\u001b[0m\u001b[0;34m\u001b[0m\u001b[0m\n\u001b[0m\u001b[1;32m    197\u001b[0m                 \u001b[0mouts\u001b[0m \u001b[0;34m=\u001b[0m \u001b[0mto_list\u001b[0m\u001b[0;34m(\u001b[0m\u001b[0mouts\u001b[0m\u001b[0;34m)\u001b[0m\u001b[0;34m\u001b[0m\u001b[0;34m\u001b[0m\u001b[0m\n\u001b[1;32m    198\u001b[0m                 \u001b[0;32mfor\u001b[0m \u001b[0ml\u001b[0m\u001b[0;34m,\u001b[0m \u001b[0mo\u001b[0m \u001b[0;32min\u001b[0m \u001b[0mzip\u001b[0m\u001b[0;34m(\u001b[0m\u001b[0mout_labels\u001b[0m\u001b[0;34m,\u001b[0m \u001b[0mouts\u001b[0m\u001b[0;34m)\u001b[0m\u001b[0;34m:\u001b[0m\u001b[0;34m\u001b[0m\u001b[0;34m\u001b[0m\u001b[0m\n",
      "\u001b[0;32m~/anaconda3/lib/python3.7/site-packages/tensorflow_core/python/keras/backend.py\u001b[0m in \u001b[0;36m__call__\u001b[0;34m(self, inputs)\u001b[0m\n\u001b[1;32m   3738\u001b[0m         \u001b[0mvalue\u001b[0m \u001b[0;34m=\u001b[0m \u001b[0mmath_ops\u001b[0m\u001b[0;34m.\u001b[0m\u001b[0mcast\u001b[0m\u001b[0;34m(\u001b[0m\u001b[0mvalue\u001b[0m\u001b[0;34m,\u001b[0m \u001b[0mtensor\u001b[0m\u001b[0;34m.\u001b[0m\u001b[0mdtype\u001b[0m\u001b[0;34m)\u001b[0m\u001b[0;34m\u001b[0m\u001b[0;34m\u001b[0m\u001b[0m\n\u001b[1;32m   3739\u001b[0m       \u001b[0mconverted_inputs\u001b[0m\u001b[0;34m.\u001b[0m\u001b[0mappend\u001b[0m\u001b[0;34m(\u001b[0m\u001b[0mvalue\u001b[0m\u001b[0;34m)\u001b[0m\u001b[0;34m\u001b[0m\u001b[0;34m\u001b[0m\u001b[0m\n\u001b[0;32m-> 3740\u001b[0;31m     \u001b[0moutputs\u001b[0m \u001b[0;34m=\u001b[0m \u001b[0mself\u001b[0m\u001b[0;34m.\u001b[0m\u001b[0m_graph_fn\u001b[0m\u001b[0;34m(\u001b[0m\u001b[0;34m*\u001b[0m\u001b[0mconverted_inputs\u001b[0m\u001b[0;34m)\u001b[0m\u001b[0;34m\u001b[0m\u001b[0;34m\u001b[0m\u001b[0m\n\u001b[0m\u001b[1;32m   3741\u001b[0m \u001b[0;34m\u001b[0m\u001b[0m\n\u001b[1;32m   3742\u001b[0m     \u001b[0;31m# EagerTensor.numpy() will often make a copy to ensure memory safety.\u001b[0m\u001b[0;34m\u001b[0m\u001b[0;34m\u001b[0m\u001b[0;34m\u001b[0m\u001b[0m\n",
      "\u001b[0;32m~/anaconda3/lib/python3.7/site-packages/tensorflow_core/python/eager/function.py\u001b[0m in \u001b[0;36m__call__\u001b[0;34m(self, *args, **kwargs)\u001b[0m\n\u001b[1;32m   1079\u001b[0m       \u001b[0mTypeError\u001b[0m\u001b[0;34m:\u001b[0m \u001b[0mFor\u001b[0m \u001b[0minvalid\u001b[0m \u001b[0mpositional\u001b[0m\u001b[0;34m/\u001b[0m\u001b[0mkeyword\u001b[0m \u001b[0margument\u001b[0m \u001b[0mcombinations\u001b[0m\u001b[0;34m.\u001b[0m\u001b[0;34m\u001b[0m\u001b[0;34m\u001b[0m\u001b[0m\n\u001b[1;32m   1080\u001b[0m     \"\"\"\n\u001b[0;32m-> 1081\u001b[0;31m     \u001b[0;32mreturn\u001b[0m \u001b[0mself\u001b[0m\u001b[0;34m.\u001b[0m\u001b[0m_call_impl\u001b[0m\u001b[0;34m(\u001b[0m\u001b[0margs\u001b[0m\u001b[0;34m,\u001b[0m \u001b[0mkwargs\u001b[0m\u001b[0;34m)\u001b[0m\u001b[0;34m\u001b[0m\u001b[0;34m\u001b[0m\u001b[0m\n\u001b[0m\u001b[1;32m   1082\u001b[0m \u001b[0;34m\u001b[0m\u001b[0m\n\u001b[1;32m   1083\u001b[0m   \u001b[0;32mdef\u001b[0m \u001b[0m_call_impl\u001b[0m\u001b[0;34m(\u001b[0m\u001b[0mself\u001b[0m\u001b[0;34m,\u001b[0m \u001b[0margs\u001b[0m\u001b[0;34m,\u001b[0m \u001b[0mkwargs\u001b[0m\u001b[0;34m,\u001b[0m \u001b[0mcancellation_manager\u001b[0m\u001b[0;34m=\u001b[0m\u001b[0;32mNone\u001b[0m\u001b[0;34m)\u001b[0m\u001b[0;34m:\u001b[0m\u001b[0;34m\u001b[0m\u001b[0;34m\u001b[0m\u001b[0m\n",
      "\u001b[0;32m~/anaconda3/lib/python3.7/site-packages/tensorflow_core/python/eager/function.py\u001b[0m in \u001b[0;36m_call_impl\u001b[0;34m(self, args, kwargs, cancellation_manager)\u001b[0m\n\u001b[1;32m   1119\u001b[0m       raise TypeError(\"Keyword arguments {} unknown. Expected {}.\".format(\n\u001b[1;32m   1120\u001b[0m           list(kwargs.keys()), list(self._arg_keywords)))\n\u001b[0;32m-> 1121\u001b[0;31m     \u001b[0;32mreturn\u001b[0m \u001b[0mself\u001b[0m\u001b[0;34m.\u001b[0m\u001b[0m_call_flat\u001b[0m\u001b[0;34m(\u001b[0m\u001b[0margs\u001b[0m\u001b[0;34m,\u001b[0m \u001b[0mself\u001b[0m\u001b[0;34m.\u001b[0m\u001b[0mcaptured_inputs\u001b[0m\u001b[0;34m,\u001b[0m \u001b[0mcancellation_manager\u001b[0m\u001b[0;34m)\u001b[0m\u001b[0;34m\u001b[0m\u001b[0;34m\u001b[0m\u001b[0m\n\u001b[0m\u001b[1;32m   1122\u001b[0m \u001b[0;34m\u001b[0m\u001b[0m\n\u001b[1;32m   1123\u001b[0m   \u001b[0;32mdef\u001b[0m \u001b[0m_filtered_call\u001b[0m\u001b[0;34m(\u001b[0m\u001b[0mself\u001b[0m\u001b[0;34m,\u001b[0m \u001b[0margs\u001b[0m\u001b[0;34m,\u001b[0m \u001b[0mkwargs\u001b[0m\u001b[0;34m)\u001b[0m\u001b[0;34m:\u001b[0m\u001b[0;34m\u001b[0m\u001b[0;34m\u001b[0m\u001b[0m\n",
      "\u001b[0;32m~/anaconda3/lib/python3.7/site-packages/tensorflow_core/python/eager/function.py\u001b[0m in \u001b[0;36m_call_flat\u001b[0;34m(self, args, captured_inputs, cancellation_manager)\u001b[0m\n\u001b[1;32m   1222\u001b[0m     \u001b[0;32mif\u001b[0m \u001b[0mexecuting_eagerly\u001b[0m\u001b[0;34m:\u001b[0m\u001b[0;34m\u001b[0m\u001b[0;34m\u001b[0m\u001b[0m\n\u001b[1;32m   1223\u001b[0m       flat_outputs = forward_function.call(\n\u001b[0;32m-> 1224\u001b[0;31m           ctx, args, cancellation_manager=cancellation_manager)\n\u001b[0m\u001b[1;32m   1225\u001b[0m     \u001b[0;32melse\u001b[0m\u001b[0;34m:\u001b[0m\u001b[0;34m\u001b[0m\u001b[0;34m\u001b[0m\u001b[0m\n\u001b[1;32m   1226\u001b[0m       \u001b[0mgradient_name\u001b[0m \u001b[0;34m=\u001b[0m \u001b[0mself\u001b[0m\u001b[0;34m.\u001b[0m\u001b[0m_delayed_rewrite_functions\u001b[0m\u001b[0;34m.\u001b[0m\u001b[0mregister\u001b[0m\u001b[0;34m(\u001b[0m\u001b[0;34m)\u001b[0m\u001b[0;34m\u001b[0m\u001b[0;34m\u001b[0m\u001b[0m\n",
      "\u001b[0;32m~/anaconda3/lib/python3.7/site-packages/tensorflow_core/python/eager/function.py\u001b[0m in \u001b[0;36mcall\u001b[0;34m(self, ctx, args, cancellation_manager)\u001b[0m\n\u001b[1;32m    509\u001b[0m               \u001b[0minputs\u001b[0m\u001b[0;34m=\u001b[0m\u001b[0margs\u001b[0m\u001b[0;34m,\u001b[0m\u001b[0;34m\u001b[0m\u001b[0;34m\u001b[0m\u001b[0m\n\u001b[1;32m    510\u001b[0m               \u001b[0mattrs\u001b[0m\u001b[0;34m=\u001b[0m\u001b[0;34m(\u001b[0m\u001b[0;34m\"executor_type\"\u001b[0m\u001b[0;34m,\u001b[0m \u001b[0mexecutor_type\u001b[0m\u001b[0;34m,\u001b[0m \u001b[0;34m\"config_proto\"\u001b[0m\u001b[0;34m,\u001b[0m \u001b[0mconfig\u001b[0m\u001b[0;34m)\u001b[0m\u001b[0;34m,\u001b[0m\u001b[0;34m\u001b[0m\u001b[0;34m\u001b[0m\u001b[0m\n\u001b[0;32m--> 511\u001b[0;31m               ctx=ctx)\n\u001b[0m\u001b[1;32m    512\u001b[0m         \u001b[0;32melse\u001b[0m\u001b[0;34m:\u001b[0m\u001b[0;34m\u001b[0m\u001b[0;34m\u001b[0m\u001b[0m\n\u001b[1;32m    513\u001b[0m           outputs = execute.execute_with_cancellation(\n",
      "\u001b[0;32m~/anaconda3/lib/python3.7/site-packages/tensorflow_core/python/eager/execute.py\u001b[0m in \u001b[0;36mquick_execute\u001b[0;34m(op_name, num_outputs, inputs, attrs, ctx, name)\u001b[0m\n\u001b[1;32m     65\u001b[0m     \u001b[0;32melse\u001b[0m\u001b[0;34m:\u001b[0m\u001b[0;34m\u001b[0m\u001b[0;34m\u001b[0m\u001b[0m\n\u001b[1;32m     66\u001b[0m       \u001b[0mmessage\u001b[0m \u001b[0;34m=\u001b[0m \u001b[0me\u001b[0m\u001b[0;34m.\u001b[0m\u001b[0mmessage\u001b[0m\u001b[0;34m\u001b[0m\u001b[0;34m\u001b[0m\u001b[0m\n\u001b[0;32m---> 67\u001b[0;31m     \u001b[0msix\u001b[0m\u001b[0;34m.\u001b[0m\u001b[0mraise_from\u001b[0m\u001b[0;34m(\u001b[0m\u001b[0mcore\u001b[0m\u001b[0;34m.\u001b[0m\u001b[0m_status_to_exception\u001b[0m\u001b[0;34m(\u001b[0m\u001b[0me\u001b[0m\u001b[0;34m.\u001b[0m\u001b[0mcode\u001b[0m\u001b[0;34m,\u001b[0m \u001b[0mmessage\u001b[0m\u001b[0;34m)\u001b[0m\u001b[0;34m,\u001b[0m \u001b[0;32mNone\u001b[0m\u001b[0;34m)\u001b[0m\u001b[0;34m\u001b[0m\u001b[0;34m\u001b[0m\u001b[0m\n\u001b[0m\u001b[1;32m     68\u001b[0m   \u001b[0;32mexcept\u001b[0m \u001b[0mTypeError\u001b[0m \u001b[0;32mas\u001b[0m \u001b[0me\u001b[0m\u001b[0;34m:\u001b[0m\u001b[0;34m\u001b[0m\u001b[0;34m\u001b[0m\u001b[0m\n\u001b[1;32m     69\u001b[0m     keras_symbolic_tensors = [\n",
      "\u001b[0;32m~/anaconda3/lib/python3.7/site-packages/six.py\u001b[0m in \u001b[0;36mraise_from\u001b[0;34m(value, from_value)\u001b[0m\n",
      "\u001b[0;31mInvalidArgumentError\u001b[0m:  indices[0,10] = 301 is not in [0, 12)\n\t [[node embedding_6/embedding_lookup (defined at /home/premraj/anaconda3/lib/python3.7/site-packages/tensorflow_core/python/framework/ops.py:1751) ]] [Op:__inference_keras_scratch_graph_9105]\n\nFunction call stack:\nkeras_scratch_graph\n"
     ]
    }
   ],
   "source": [
    "history = model.fit([X_tr,X_pos], np.array(y_tr), batch_size=32, epochs=60,\n",
    "                    validation_split=0.1, verbose=1)"
   ]
  },
  {
   "cell_type": "code",
   "execution_count": null,
   "metadata": {},
   "outputs": [],
   "source": [
    "from seqeval.metrics import precision_score, recall_score, f1_score, classification_report\n"
   ]
  },
  {
   "cell_type": "code",
   "execution_count": null,
   "metadata": {},
   "outputs": [],
   "source": [
    "test_pred = model.predict(X_te, verbose=1)"
   ]
  },
  {
   "cell_type": "code",
   "execution_count": null,
   "metadata": {},
   "outputs": [],
   "source": [
    "idx2tag = {i: w for w, i in tag2idx.items()}\n",
    "\n",
    "def pred2label(pred):\n",
    "    out = []\n",
    "    for pred_i in pred:\n",
    "        out_i = []\n",
    "        for p in pred_i:\n",
    "            p_i = np.argmax(p)\n",
    "            out_i.append(idx2tag[p_i].replace(\"PAD\", \"\"))\n",
    "        out.append(out_i)\n",
    "    return out\n",
    "    \n",
    "pred_labels = pred2label(test_pred)\n",
    "test_labels = pred2label(y_te)"
   ]
  },
  {
   "cell_type": "code",
   "execution_count": null,
   "metadata": {},
   "outputs": [],
   "source": [
    "print(test_labels)\n",
    "print(\"-----\")\n",
    "print(pred_labels)\n",
    "print(\"F1-score: {:.1%}\".format(f1_score(test_labels, pred_labels)))"
   ]
  },
  {
   "cell_type": "code",
   "execution_count": null,
   "metadata": {
    "scrolled": true
   },
   "outputs": [],
   "source": [
    "sentence = \"Take me to police station, quickly!\"\n",
    "entities_words = [\"police\",\"station\"]\n",
    "array = []\n",
    "doc = nlp(sentence)\n",
    "for token in doc:\n",
    "    text = token.text\n",
    "    print(text)\n",
    "    if token.text in entities_words:\n",
    "        tag = \"Destination\"\n",
    "    else:\n",
    "        tag = \"\"\n",
    "\n",
    "    array.append(tuple([token.text,token.pos_,tag]))\n",
    "print(array)\n",
    "X = [[word2idx.get(w[0],word2idx[\"Unknown\"]) for w in s] for s in [array]]\n",
    "print(X)\n",
    "X = pad_sequences(maxlen=max_len, sequences=X, padding=\"post\", value=n_words-1)\n",
    "y = [[tag2idx[w[2]] for w in s] for s in [array]]\n",
    "y = pad_sequences(maxlen=max_len, sequences=y, padding=\"post\", value=tag2idx[\"\"])\n",
    "y = [to_categorical(i, num_classes=n_tags) for i in y]\n",
    "#print(y)\n",
    "test_pred = model.predict(X, verbose=1)\n",
    "pred_labels = pred2label(test_pred)\n",
    "test_labels = pred2label(y)\n",
    "print(test_labels,pred_labels)\n",
    "#print(pred_labels)"
   ]
  },
  {
   "cell_type": "code",
   "execution_count": null,
   "metadata": {},
   "outputs": [],
   "source": [
    "print(word2idx)"
   ]
  },
  {
   "cell_type": "code",
   "execution_count": null,
   "metadata": {},
   "outputs": [],
   "source": []
  },
  {
   "cell_type": "code",
   "execution_count": null,
   "metadata": {},
   "outputs": [],
   "source": []
  },
  {
   "cell_type": "code",
   "execution_count": null,
   "metadata": {},
   "outputs": [],
   "source": []
  },
  {
   "cell_type": "code",
   "execution_count": null,
   "metadata": {},
   "outputs": [],
   "source": []
  }
 ],
 "metadata": {
  "kernelspec": {
   "display_name": "Python 3",
   "language": "python",
   "name": "python3"
  },
  "language_info": {
   "codemirror_mode": {
    "name": "ipython",
    "version": 3
   },
   "file_extension": ".py",
   "mimetype": "text/x-python",
   "name": "python",
   "nbconvert_exporter": "python",
   "pygments_lexer": "ipython3",
   "version": "3.7.3"
  }
 },
 "nbformat": 4,
 "nbformat_minor": 2
}
