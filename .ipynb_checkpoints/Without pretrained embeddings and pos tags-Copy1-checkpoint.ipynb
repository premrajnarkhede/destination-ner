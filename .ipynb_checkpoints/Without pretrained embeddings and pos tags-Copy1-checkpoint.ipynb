{
 "cells": [
  {
   "cell_type": "code",
   "execution_count": 10,
   "metadata": {},
   "outputs": [
    {
     "name": "stdout",
     "output_type": "stream",
     "text": [
      "Destination_jefcozzdnc\n"
     ]
    }
   ],
   "source": [
    "import pandas as pd\n",
    "import numpy as np\n",
    "import random\n",
    "import string\n",
    "\n",
    "def randomString(stringLength=10):\n",
    "    \"\"\"Generate a random string of fixed length \"\"\"\n",
    "    letters = string.ascii_lowercase\n",
    "    rand_int = random.randint(0,2)\n",
    "#     print(rand_int)\n",
    "    string_random = ''.join(random.choice(letters) for i in range(stringLength))\n",
    "#     for i in range(rand_int+1):\n",
    "    \n",
    "#         string_random = string_random +\" \" + ''.join(random.choice(letters) for i in range(stringLength))\n",
    "    \n",
    "    return \"Destination_\"+string_random\n",
    "\n",
    "print(randomString())"
   ]
  },
  {
   "cell_type": "code",
   "execution_count": 46,
   "metadata": {},
   "outputs": [
    {
     "name": "stdout",
     "output_type": "stream",
     "text": [
      "Destination_rblsiwiytu\n"
     ]
    }
   ],
   "source": [
    "print(randomString())"
   ]
  },
  {
   "cell_type": "code",
   "execution_count": 47,
   "metadata": {},
   "outputs": [],
   "source": [
    "data = open(\"dummyData_augmented.txt\").readlines()"
   ]
  },
  {
   "cell_type": "code",
   "execution_count": 48,
   "metadata": {},
   "outputs": [],
   "source": [
    "import spacy\n",
    "\n",
    "nlp = spacy.load(\"en_core_web_sm\")\n"
   ]
  },
  {
   "cell_type": "code",
   "execution_count": 49,
   "metadata": {},
   "outputs": [],
   "source": [
    "array = []\n",
    "for textindex,text in enumerate(data):\n",
    "    doc = nlp(text.strip())\n",
    "    for token in doc:\n",
    "        #print(token.text, token.lemma_, token.pos_, token.tag_, token.dep_,\n",
    "        #        token.shape_, token.is_alpha, token.is_stop)\n",
    "        text = token.text\n",
    "        if token.text == \"XYYZ\":\n",
    "            tag = \"Destination\"\n",
    "            text = randomString()\n",
    "        else:\n",
    "            tag = \"\"\n",
    "        \n",
    "        array.append(dict(Sentence=textindex,Word=text,POS=token.pos_,Tag=tag))"
   ]
  },
  {
   "cell_type": "code",
   "execution_count": 50,
   "metadata": {},
   "outputs": [],
   "source": [
    "df = pd.DataFrame(array)  "
   ]
  },
  {
   "cell_type": "code",
   "execution_count": 51,
   "metadata": {},
   "outputs": [
    {
     "data": {
      "text/html": [
       "<div>\n",
       "<style scoped>\n",
       "    .dataframe tbody tr th:only-of-type {\n",
       "        vertical-align: middle;\n",
       "    }\n",
       "\n",
       "    .dataframe tbody tr th {\n",
       "        vertical-align: top;\n",
       "    }\n",
       "\n",
       "    .dataframe thead th {\n",
       "        text-align: right;\n",
       "    }\n",
       "</style>\n",
       "<table border=\"1\" class=\"dataframe\">\n",
       "  <thead>\n",
       "    <tr style=\"text-align: right;\">\n",
       "      <th></th>\n",
       "      <th>POS</th>\n",
       "      <th>Sentence</th>\n",
       "      <th>Tag</th>\n",
       "      <th>Word</th>\n",
       "    </tr>\n",
       "  </thead>\n",
       "  <tbody>\n",
       "    <tr>\n",
       "      <th>1021</th>\n",
       "      <td>NOUN</td>\n",
       "      <td>169</td>\n",
       "      <td></td>\n",
       "      <td>grocery</td>\n",
       "    </tr>\n",
       "    <tr>\n",
       "      <th>1022</th>\n",
       "      <td>NOUN</td>\n",
       "      <td>169</td>\n",
       "      <td></td>\n",
       "      <td>store</td>\n",
       "    </tr>\n",
       "    <tr>\n",
       "      <th>1023</th>\n",
       "      <td>PRON</td>\n",
       "      <td>170</td>\n",
       "      <td></td>\n",
       "      <td>What</td>\n",
       "    </tr>\n",
       "    <tr>\n",
       "      <th>1024</th>\n",
       "      <td>AUX</td>\n",
       "      <td>170</td>\n",
       "      <td></td>\n",
       "      <td>do</td>\n",
       "    </tr>\n",
       "    <tr>\n",
       "      <th>1025</th>\n",
       "      <td>PRON</td>\n",
       "      <td>170</td>\n",
       "      <td></td>\n",
       "      <td>I</td>\n",
       "    </tr>\n",
       "    <tr>\n",
       "      <th>1026</th>\n",
       "      <td>VERB</td>\n",
       "      <td>170</td>\n",
       "      <td></td>\n",
       "      <td>look</td>\n",
       "    </tr>\n",
       "    <tr>\n",
       "      <th>1027</th>\n",
       "      <td>ADP</td>\n",
       "      <td>170</td>\n",
       "      <td></td>\n",
       "      <td>for</td>\n",
       "    </tr>\n",
       "    <tr>\n",
       "      <th>1028</th>\n",
       "      <td>PUNCT</td>\n",
       "      <td>170</td>\n",
       "      <td></td>\n",
       "      <td>?</td>\n",
       "    </tr>\n",
       "    <tr>\n",
       "      <th>1029</th>\n",
       "      <td>ADJ</td>\n",
       "      <td>170</td>\n",
       "      <td></td>\n",
       "      <td>nearest</td>\n",
       "    </tr>\n",
       "    <tr>\n",
       "      <th>1030</th>\n",
       "      <td>NOUN</td>\n",
       "      <td>170</td>\n",
       "      <td></td>\n",
       "      <td>starbucks</td>\n",
       "    </tr>\n",
       "  </tbody>\n",
       "</table>\n",
       "</div>"
      ],
      "text/plain": [
       "        POS  Sentence Tag       Word\n",
       "1021   NOUN       169        grocery\n",
       "1022   NOUN       169          store\n",
       "1023   PRON       170           What\n",
       "1024    AUX       170             do\n",
       "1025   PRON       170              I\n",
       "1026   VERB       170           look\n",
       "1027    ADP       170            for\n",
       "1028  PUNCT       170              ?\n",
       "1029    ADJ       170        nearest\n",
       "1030   NOUN       170      starbucks"
      ]
     },
     "execution_count": 51,
     "metadata": {},
     "output_type": "execute_result"
    }
   ],
   "source": [
    "df.tail(10)"
   ]
  },
  {
   "cell_type": "code",
   "execution_count": 52,
   "metadata": {},
   "outputs": [
    {
     "data": {
      "text/plain": [
       "192"
      ]
     },
     "execution_count": 52,
     "metadata": {},
     "output_type": "execute_result"
    }
   ],
   "source": [
    "words = list(set(df[\"Word\"].values))\n",
    "words.append(\"ENDPAD\")\n",
    "words.append(\"Unknown\")\n",
    "n_words = len(words); n_words"
   ]
  },
  {
   "cell_type": "code",
   "execution_count": 53,
   "metadata": {},
   "outputs": [],
   "source": [
    "tags = list(set(df[\"Tag\"].values))\n",
    "n_tags = len(tags); n_tags\n",
    "\n",
    "pos = list(set(df[\"POS\"].values))\n",
    "pos_tags = len(pos)"
   ]
  },
  {
   "cell_type": "code",
   "execution_count": 54,
   "metadata": {},
   "outputs": [],
   "source": [
    "agg_func = lambda s: [(w, p, t) for w, p, t in zip(s[\"Word\"].values.tolist(),\n",
    "                                                   s[\"POS\"].values.tolist(),\n",
    "                                                   s[\"Tag\"].values.tolist())]\n",
    "grouped = df.groupby(\"Sentence\").apply(agg_func)"
   ]
  },
  {
   "cell_type": "code",
   "execution_count": 55,
   "metadata": {},
   "outputs": [],
   "source": [
    "sentences = [s for s in grouped]"
   ]
  },
  {
   "cell_type": "code",
   "execution_count": 56,
   "metadata": {},
   "outputs": [
    {
     "name": "stdout",
     "output_type": "stream",
     "text": [
      "[('directions', 'NOUN', ''), ('to', 'ADP', ''), ('Destination_otajnpqefx', 'PROPN', 'Destination')]\n"
     ]
    }
   ],
   "source": [
    "print(sentences[0])"
   ]
  },
  {
   "cell_type": "code",
   "execution_count": 57,
   "metadata": {},
   "outputs": [],
   "source": [
    "def yield_sentence():\n",
    "    for group in grouped:\n",
    "        yield group\n",
    "    yield None"
   ]
  },
  {
   "cell_type": "code",
   "execution_count": 58,
   "metadata": {},
   "outputs": [
    {
     "name": "stdout",
     "output_type": "stream",
     "text": [
      "[('directions', 'NOUN', ''), ('to', 'ADP', ''), ('Destination_otajnpqefx', 'PROPN', 'Destination')]\n",
      "-------\n",
      "[('directions', 'NOUN', ''), ('to', 'ADP', ''), ('Destination_janjwafhfp', 'PROPN', 'Destination'), ('home', 'ADV', '')]\n",
      "-------\n",
      "[('directions', 'NOUN', ''), ('to', 'ADP', ''), ('Destination_lixwjfkfnc', 'PROPN', 'Destination'), ('work', 'NOUN', '')]\n",
      "-------\n",
      "[('directions', 'NOUN', ''), ('to', 'ADP', ''), ('the', 'DET', ''), ('closest', 'ADJ', ''), ('Destination_xsbwunyncm', 'PROPN', 'Destination')]\n",
      "-------\n",
      "[('directions', 'NOUN', ''), ('to', 'ADP', ''), ('the', 'DET', ''), ('nearest', 'ADJ', ''), ('Destination_tbtylkmxuu', 'PROPN', 'Destination')]\n",
      "-------\n",
      "[('directions', 'NOUN', ''), ('to', 'PART', ''), ('go', 'VERB', ''), ('home', 'ADV', '')]\n",
      "-------\n",
      "[('directions', 'NOUN', ''), ('to', 'PART', ''), ('go', 'VERB', ''), ('to', 'ADP', ''), ('Destination_fgpafiddoy', 'PROPN', 'Destination')]\n",
      "-------\n",
      "[('directions', 'NOUN', ''), ('to', 'PART', ''), ('go', 'VERB', ''), ('to', 'ADP', ''), ('Destination_kqfnqkkwxk', 'PROPN', 'Destination'), ('home', 'ADV', '')]\n",
      "-------\n",
      "[('directions', 'NOUN', ''), ('to', 'PART', ''), ('go', 'VERB', ''), ('to', 'ADP', ''), ('Destination_rxicygbrnf', 'PROPN', 'Destination'), ('work', 'NOUN', '')]\n",
      "-------\n",
      "[('directions', 'NOUN', ''), ('to', 'PART', ''), ('go', 'VERB', ''), ('to', 'ADP', ''), ('the', 'DET', ''), ('closest', 'ADJ', ''), ('Destination_xgdzorrnkg', 'PROPN', 'Destination')]\n",
      "-------\n",
      "[('directions', 'NOUN', ''), ('to', 'PART', ''), ('go', 'VERB', ''), ('to', 'ADP', ''), ('the', 'DET', ''), ('nearest', 'ADJ', ''), ('Destination_kekiyqmdgq', 'PROPN', 'Destination')]\n",
      "-------\n",
      "[('I', 'PRON', ''), ('got', 'VERB', ''), ('to', 'PART', ''), ('navigate', 'VERB', ''), ('to', 'ADP', ''), ('Destination_jxzglruozy', 'PROPN', 'Destination')]\n",
      "-------\n",
      "[('I', 'PRON', ''), ('got', 'VERB', ''), ('to', 'PART', ''), ('navigate', 'VERB', ''), ('to', 'ADP', ''), ('Destination_vzkgwuepur', 'PROPN', 'Destination'), ('home', 'ADV', '')]\n",
      "-------\n",
      "[('I', 'PRON', ''), ('got', 'VERB', ''), ('to', 'PART', ''), ('navigate', 'VERB', ''), ('to', 'ADP', ''), ('Destination_lshflvdotb', 'PROPN', 'Destination'), ('work', 'NOUN', '')]\n",
      "-------\n",
      "[('I', 'PRON', ''), ('got', 'VERB', ''), ('to', 'PART', ''), ('navigate', 'VERB', ''), ('to', 'ADP', ''), ('the', 'DET', ''), ('nearest', 'ADJ', ''), ('Destination_dynjklymdb', 'PROPN', 'Destination')]\n",
      "-------\n",
      "[('I', 'PRON', ''), ('have', 'AUX', ''), ('to', 'PART', ''), ('navigate', 'VERB', ''), ('to', 'ADP', ''), ('Destination_nwidlxavqt', 'PROPN', 'Destination')]\n",
      "-------\n",
      "[('I', 'PRON', ''), ('have', 'AUX', ''), ('to', 'PART', ''), ('navigate', 'VERB', ''), ('to', 'ADP', ''), ('Destination_nhnjpghkil', 'PROPN', 'Destination'), ('home', 'ADV', '')]\n",
      "-------\n",
      "[('I', 'PRON', ''), ('have', 'AUX', ''), ('to', 'PART', ''), ('navigate', 'VERB', ''), ('to', 'ADP', ''), ('Destination_kiaqegmzah', 'PROPN', 'Destination'), ('work', 'NOUN', '')]\n",
      "-------\n",
      "[('I', 'PRON', ''), ('have', 'AUX', ''), ('to', 'PART', ''), ('navigate', 'VERB', ''), ('to', 'ADP', ''), ('the', 'DET', ''), ('nearest', 'ADJ', ''), ('Destination_qjdheibptu', 'PROPN', 'Destination')]\n",
      "-------\n",
      "[('I', 'PRON', ''), ('need', 'VERB', ''), ('to', 'PART', ''), ('navigate', 'VERB', ''), ('to', 'ADP', ''), ('Destination_illceqvffm', 'PROPN', 'Destination')]\n",
      "-------\n",
      "[('I', 'PRON', ''), ('need', 'VERB', ''), ('to', 'PART', ''), ('navigate', 'VERB', ''), ('to', 'ADP', ''), ('Destination_apvpdkzeoq', 'PROPN', 'Destination'), ('home', 'ADV', '')]\n",
      "-------\n",
      "[('I', 'PRON', ''), ('need', 'VERB', ''), ('to', 'PART', ''), ('navigate', 'VERB', ''), ('to', 'ADP', ''), ('Destination_unxtzoxscr', 'PROPN', 'Destination'), ('work', 'NOUN', '')]\n",
      "-------\n",
      "[('I', 'PRON', ''), ('need', 'VERB', ''), ('to', 'PART', ''), ('navigate', 'VERB', ''), ('to', 'ADP', ''), ('the', 'DET', ''), ('nearest', 'ADJ', ''), ('Destination_ndpqpjexsm', 'PROPN', 'Destination')]\n",
      "-------\n",
      "[('I', 'PRON', ''), ('want', 'VERB', ''), ('to', 'PART', ''), ('navigate', 'VERB', ''), ('to', 'ADP', ''), ('Destination_hltvppgvda', 'PROPN', 'Destination')]\n",
      "-------\n",
      "[('I', 'PRON', ''), ('want', 'VERB', ''), ('to', 'PART', ''), ('navigate', 'VERB', ''), ('to', 'ADP', ''), ('Destination_zihdfgrfev', 'PROPN', 'Destination'), ('home', 'ADV', '')]\n",
      "-------\n",
      "[('I', 'PRON', ''), ('want', 'VERB', ''), ('to', 'PART', ''), ('navigate', 'VERB', ''), ('to', 'ADP', ''), ('Destination_vdrfrkrmgp', 'PROPN', 'Destination'), ('work', 'NOUN', '')]\n",
      "-------\n",
      "[('I', 'PRON', ''), ('want', 'VERB', ''), ('to', 'PART', ''), ('navigate', 'VERB', ''), ('to', 'ADP', ''), ('the', 'DET', ''), ('nearest', 'ADJ', ''), ('Destination_smsfjxxrll', 'PROPN', 'Destination')]\n",
      "-------\n",
      "[('I', 'PRON', ''), ('got', 'VERB', ''), ('to', 'PART', ''), ('navigate', 'VERB', ''), ('home', 'NOUN', '')]\n",
      "-------\n",
      "[('I', 'PRON', ''), ('have', 'AUX', ''), ('to', 'PART', ''), ('navigate', 'VERB', ''), ('home', 'NOUN', '')]\n",
      "-------\n",
      "[('I', 'PRON', ''), ('need', 'VERB', ''), ('to', 'PART', ''), ('navigate', 'VERB', ''), ('home', 'NOUN', '')]\n",
      "-------\n",
      "[('I', 'PRON', ''), ('want', 'VERB', ''), ('to', 'PART', ''), ('navigate', 'VERB', ''), ('home', 'NOUN', '')]\n",
      "-------\n",
      "[('navigate', 'VERB', ''), ('to', 'ADP', ''), ('Destination_vttaidmaow', 'PROPN', 'Destination')]\n",
      "-------\n",
      "[('navigate', 'VERB', ''), ('to', 'ADP', ''), ('Destination_xtkbqduhwx', 'PROPN', 'Destination'), ('home', 'ADV', '')]\n",
      "-------\n",
      "[('navigate', 'VERB', ''), ('to', 'ADP', ''), ('Destination_rhgqhwiwsa', 'PROPN', 'Destination'), ('work', 'NOUN', '')]\n",
      "-------\n",
      "[('navigate', 'VERB', ''), ('to', 'ADP', ''), ('the', 'DET', ''), ('nearest', 'ADJ', ''), ('Destination_klqjtvpdwl', 'PROPN', 'Destination')]\n",
      "-------\n",
      "[('navigate', 'PROPN', ''), ('home', 'PROPN', '')]\n",
      "-------\n",
      "[('I', 'PRON', ''), ('need', 'VERB', ''), ('to', 'PART', ''), ('go', 'VERB', ''), ('to', 'ADP', ''), ('a', 'DET', ''), ('Destination_ifxurlehbi', 'PROPN', 'Destination'), (',', 'PUNCT', ''), ('navigate', 'VERB', ''), ('to', 'ADP', ''), ('the', 'DET', ''), ('nearest', 'ADJ', ''), ('one', 'NUM', '')]\n",
      "-------\n",
      "[('I', 'PRON', ''), ('want', 'VERB', ''), ('to', 'PART', ''), ('go', 'VERB', ''), ('to', 'ADP', ''), ('a', 'DET', ''), ('Destination_somialgbjn', 'PROPN', 'Destination'), (',', 'PUNCT', ''), ('navigate', 'VERB', ''), ('to', 'ADP', ''), ('the', 'DET', ''), ('nearest', 'ADJ', ''), ('one', 'NUM', '')]\n",
      "-------\n",
      "[('I', 'PRON', ''), ('need', 'VERB', ''), ('to', 'PART', ''), ('go', 'VERB', ''), ('to', 'ADP', ''), ('a', 'DET', ''), ('Destination_nuompdkspa', 'PROPN', 'Destination'), (',', 'PUNCT', ''), ('go', 'VERB', ''), ('directions', 'NOUN', ''), ('to', 'ADP', ''), ('the', 'DET', ''), ('nearest', 'ADJ', ''), ('one', 'NUM', '')]\n",
      "-------\n",
      "[('I', 'PRON', ''), ('want', 'VERB', ''), ('to', 'PART', ''), ('go', 'VERB', ''), ('to', 'ADP', ''), ('a', 'DET', ''), ('Destination_fazqkpbfrn', 'PROPN', 'Destination'), (',', 'PUNCT', ''), ('go', 'VERB', ''), ('directions', 'NOUN', ''), ('to', 'ADP', ''), ('the', 'DET', ''), ('nearest', 'ADJ', ''), ('one', 'NUM', '')]\n",
      "-------\n",
      "[('I', 'PRON', ''), ('need', 'VERB', ''), ('to', 'PART', ''), ('go', 'VERB', ''), ('to', 'ADP', ''), ('a', 'DET', ''), ('Destination_pljxezxaxf', 'PROPN', 'Destination'), (',', 'PUNCT', ''), ('navigate', 'VERB', ''), ('to', 'ADP', ''), ('the', 'DET', ''), ('closest', 'ADJ', ''), ('one', 'NUM', '')]\n",
      "-------\n",
      "[('I', 'PRON', ''), ('want', 'VERB', ''), ('to', 'PART', ''), ('go', 'VERB', ''), ('to', 'ADP', ''), ('a', 'DET', ''), ('Destination_zqfqogttzt', 'PROPN', 'Destination'), (',', 'PUNCT', ''), ('navigate', 'VERB', ''), ('to', 'ADP', ''), ('the', 'DET', ''), ('closest', 'ADJ', ''), ('one', 'NUM', '')]\n",
      "-------\n",
      "[('I', 'PRON', ''), ('need', 'VERB', ''), ('to', 'PART', ''), ('go', 'VERB', ''), ('to', 'ADP', ''), ('a', 'DET', ''), ('Destination_jzelezknhs', 'PROPN', 'Destination'), (',', 'PUNCT', ''), ('go', 'VERB', ''), ('directions', 'NOUN', ''), ('to', 'ADP', ''), ('the', 'DET', ''), ('closest', 'ADJ', ''), ('one', 'NUM', '')]\n",
      "-------\n",
      "[('I', 'PRON', ''), ('want', 'VERB', ''), ('to', 'PART', ''), ('go', 'VERB', ''), ('to', 'ADP', ''), ('a', 'DET', ''), ('Destination_ytrftxqxtc', 'PROPN', 'Destination'), (',', 'PUNCT', ''), ('go', 'VERB', ''), ('directions', 'NOUN', ''), ('to', 'ADP', ''), ('the', 'DET', ''), ('closest', 'ADJ', ''), ('one', 'NUM', '')]\n",
      "-------\n",
      "[('I', 'PRON', ''), ('need', 'VERB', ''), ('to', 'PART', ''), ('go', 'VERB', ''), ('to', 'ADP', ''), ('a', 'DET', ''), ('Destination_ptonqrqyrt', 'PROPN', 'Destination'), (',', 'PUNCT', ''), ('drive', 'VERB', ''), ('me', 'PRON', ''), ('to', 'ADP', ''), ('the', 'DET', ''), ('closest', 'ADJ', ''), ('one', 'NUM', '')]\n",
      "-------\n",
      "[('I', 'PRON', ''), ('need', 'VERB', ''), ('to', 'PART', ''), ('go', 'VERB', ''), ('to', 'ADP', ''), ('a', 'DET', ''), ('Destination_yfhzhlqxfg', 'PROPN', 'Destination'), (',', 'PUNCT', ''), ('drive', 'VERB', ''), ('me', 'PRON', ''), ('to', 'ADP', ''), ('the', 'DET', ''), ('nearest', 'ADJ', ''), ('one', 'NUM', '')]\n",
      "-------\n",
      "[('I', 'PRON', ''), ('need', 'VERB', ''), ('to', 'PART', ''), ('go', 'VERB', ''), ('to', 'ADP', ''), ('a', 'DET', ''), ('Destination_xscmjntbio', 'PROPN', 'Destination'), (',', 'PUNCT', ''), ('get', 'AUX', ''), ('me', 'PRON', ''), ('to', 'ADP', ''), ('the', 'DET', ''), ('closest', 'ADJ', ''), ('one', 'NUM', '')]\n",
      "-------\n",
      "[('drive', 'VERB', ''), ('to', 'ADP', ''), ('Destination_iwquotuzly', 'PROPN', 'Destination')]\n",
      "-------\n",
      "[('drive', 'VERB', ''), ('to', 'ADP', ''), ('Destination_lhrlbvzbaw', 'PROPN', 'Destination'), ('home', 'ADV', '')]\n",
      "-------\n",
      "[('drive', 'VERB', ''), ('to', 'ADP', ''), ('Destination_zdsdcywcxn', 'PROPN', 'Destination'), ('office', 'NOUN', '')]\n",
      "-------\n",
      "[('drive', 'VERB', ''), ('to', 'ADP', ''), ('Destination_snmmchhmkt', 'PROPN', 'Destination'), ('work', 'NOUN', '')]\n",
      "-------\n",
      "[('drive', 'VERB', ''), ('to', 'ADP', ''), ('the', 'DET', ''), ('closest', 'ADJ', ''), ('Destination_ackmonyfmr', 'PROPN', 'Destination')]\n",
      "-------\n",
      "[('drive', 'VERB', ''), ('to', 'ADP', ''), ('the', 'DET', ''), ('nearest', 'ADJ', ''), ('Destination_swkiaiwfan', 'PROPN', 'Destination')]\n",
      "-------\n",
      "[('get', 'AUX', ''), ('to', 'ADP', ''), ('Destination_ufxknbrdlx', 'PROPN', 'Destination')]\n",
      "-------\n",
      "[('get', 'AUX', ''), ('to', 'ADP', ''), ('Destination_tighwfgbfc', 'PROPN', 'Destination'), ('home', 'ADV', '')]\n",
      "-------\n",
      "[('get', 'AUX', ''), ('to', 'ADP', ''), ('Destination_vgohlvzrbp', 'PROPN', 'Destination'), ('office', 'NOUN', '')]\n",
      "-------\n",
      "[('get', 'AUX', ''), ('to', 'ADP', ''), ('Destination_avefbdhbey', 'PROPN', 'Destination'), ('work', 'NOUN', '')]\n",
      "-------\n",
      "[('get', 'AUX', ''), ('to', 'ADP', ''), ('the', 'DET', ''), ('closest', 'ADJ', ''), ('Destination_uwsibfrflb', 'PROPN', 'Destination')]\n",
      "-------\n",
      "[('get', 'AUX', ''), ('to', 'ADP', ''), ('the', 'DET', ''), ('nearest', 'ADJ', ''), ('Destination_mhfwnpbxiw', 'NOUN', 'Destination')]\n",
      "-------\n",
      "[('go', 'VERB', ''), ('to', 'ADP', ''), ('Destination_pypyjowfzo', 'PROPN', 'Destination')]\n",
      "-------\n",
      "[('go', 'VERB', ''), ('to', 'ADP', ''), ('Destination_dnfrqlsyha', 'PROPN', 'Destination'), ('home', 'ADV', '')]\n",
      "-------\n",
      "[('go', 'VERB', ''), ('to', 'ADP', ''), ('Destination_bgtaqktjiy', 'PROPN', 'Destination'), ('office', 'NOUN', '')]\n",
      "-------\n",
      "[('go', 'VERB', ''), ('to', 'ADP', ''), ('Destination_suofpmntii', 'PROPN', 'Destination'), ('work', 'NOUN', '')]\n",
      "-------\n",
      "[('go', 'VERB', ''), ('to', 'ADP', ''), ('the', 'DET', ''), ('closest', 'ADJ', ''), ('Destination_gdjhztwlno', 'PROPN', 'Destination')]\n",
      "-------\n",
      "[('go', 'VERB', ''), ('to', 'ADP', ''), ('the', 'DET', ''), ('nearest', 'ADJ', ''), ('Destination_zryqbxycam', 'PROPN', 'Destination')]\n",
      "-------\n",
      "[('let', 'VERB', ''), (\"'s\", 'PRON', ''), ('go', 'VERB', ''), ('to', 'ADP', ''), ('Destination_ahdxakxsbj', 'PROPN', 'Destination')]\n",
      "-------\n",
      "[('let', 'VERB', ''), (\"'s\", 'PRON', ''), ('go', 'VERB', ''), ('to', 'ADP', ''), ('Destination_mhstrxhmcr', 'PROPN', 'Destination'), ('home', 'ADV', '')]\n",
      "-------\n",
      "[('let', 'VERB', ''), (\"'s\", 'PRON', ''), ('go', 'VERB', ''), ('to', 'ADP', ''), ('Destination_ogoxfjltkr', 'PROPN', 'Destination'), ('office', 'NOUN', '')]\n",
      "-------\n",
      "[('let', 'VERB', ''), (\"'s\", 'PRON', ''), ('go', 'VERB', ''), ('to', 'ADP', ''), ('Destination_jccwzgcsjm', 'PROPN', 'Destination'), ('work', 'NOUN', '')]\n",
      "-------\n",
      "[('let', 'VERB', ''), (\"'s\", 'PRON', ''), ('go', 'VERB', ''), ('to', 'ADP', ''), ('the', 'DET', ''), ('closest', 'ADJ', ''), ('XYYZlet', 'PROPN', ''), (\"'s\", 'PART', ''), ('go', 'NOUN', ''), ('to', 'ADP', ''), ('the', 'DET', ''), ('nearest', 'ADJ', ''), ('Destination_qpbfvxyadx', 'PROPN', 'Destination')]\n",
      "-------\n",
      "[('navigate', 'VERB', ''), ('to', 'ADP', ''), ('Destination_bqxijkmpoz', 'PROPN', 'Destination'), ('office', 'NOUN', '')]\n",
      "-------\n",
      "[('get', 'AUX', ''), ('directions', 'NOUN', ''), ('home', 'ADV', '')]\n",
      "-------\n",
      "[('get', 'AUX', ''), ('directions', 'NOUN', ''), ('to', 'ADP', ''), ('Destination_bbfstsffcd', 'PROPN', 'Destination')]\n",
      "-------\n",
      "[('get', 'AUX', ''), ('directions', 'NOUN', ''), ('to', 'ADP', ''), ('Destination_xwuixefcgk', 'PROPN', 'Destination'), ('home', 'ADV', '')]\n",
      "-------\n",
      "[('get', 'AUX', ''), ('directions', 'NOUN', ''), ('to', 'ADP', ''), ('Destination_zmqqhbowgn', 'PROPN', 'Destination'), ('office', 'NOUN', '')]\n",
      "-------\n",
      "[('get', 'AUX', ''), ('directions', 'NOUN', ''), ('to', 'ADP', ''), ('Destination_bqjhcgklks', 'PROPN', 'Destination'), ('work', 'NOUN', '')]\n",
      "-------\n",
      "[('get', 'AUX', ''), ('directions', 'NOUN', ''), ('to', 'ADP', ''), ('the', 'DET', ''), ('closest', 'ADJ', ''), ('Destination_dkpvshegsc', 'PROPN', 'Destination')]\n",
      "-------\n",
      "[('get', 'AUX', ''), ('directions', 'NOUN', ''), ('to', 'ADP', ''), ('the', 'DET', ''), ('nearest', 'ADJ', ''), ('Destination_sjhfwoutbm', 'PROPN', 'Destination')]\n",
      "-------\n",
      "[('get', 'AUX', ''), ('directions', 'NOUN', ''), ('to', 'PART', ''), ('go', 'VERB', ''), ('home', 'ADV', '')]\n",
      "-------\n",
      "[('get', 'AUX', ''), ('directions', 'NOUN', ''), ('to', 'PART', ''), ('go', 'VERB', ''), ('home', 'ADV', '')]\n",
      "-------\n",
      "[('get', 'AUX', ''), ('directions', 'NOUN', ''), ('to', 'PART', ''), ('go', 'VERB', ''), ('to', 'ADP', ''), ('Destination_kskiyzrjai', 'PROPN', 'Destination')]\n",
      "-------\n",
      "[('get', 'AUX', ''), ('directions', 'NOUN', ''), ('to', 'PART', ''), ('go', 'VERB', ''), ('to', 'ADP', ''), ('Destination_laobxumpxs', 'PROPN', 'Destination'), ('home', 'ADV', '')]\n",
      "-------\n",
      "[('get', 'AUX', ''), ('directions', 'NOUN', ''), ('to', 'PART', ''), ('go', 'VERB', ''), ('to', 'ADP', ''), ('Destination_muwvwrkqon', 'PROPN', 'Destination'), ('office', 'NOUN', '')]\n",
      "-------\n",
      "[('get', 'AUX', ''), ('directions', 'NOUN', ''), ('to', 'PART', ''), ('go', 'VERB', ''), ('to', 'ADP', ''), ('Destination_tcmnhzzxos', 'PROPN', 'Destination'), ('work', 'NOUN', '')]\n",
      "-------\n",
      "[('get', 'AUX', ''), ('directions', 'NOUN', ''), ('to', 'PART', ''), ('go', 'VERB', ''), ('to', 'ADP', ''), ('the', 'DET', ''), ('closest', 'ADJ', ''), ('Destination_hrsxshqvdz', 'PROPN', 'Destination')]\n",
      "-------\n",
      "[('get', 'AUX', ''), ('directions', 'NOUN', ''), ('to', 'PART', ''), ('go', 'VERB', ''), ('to', 'ADP', ''), ('the', 'DET', ''), ('nearest', 'ADJ', ''), ('Destination_vsifxqqarh', 'PROPN', 'Destination')]\n",
      "-------\n",
      "[('drive', 'VERB', ''), ('home', 'ADV', '')]\n",
      "-------\n",
      "[('get', 'AUX', ''), ('home', 'ADV', '')]\n",
      "-------\n",
      "[('go', 'VERB', ''), ('home', 'ADV', '')]\n",
      "-------\n",
      "[('let', 'VERB', ''), (\"'s\", 'PRON', ''), ('go', 'VERB', ''), ('home', 'ADV', '')]\n",
      "-------\n",
      "[('drive', 'VERB', ''), ('me', 'PRON', ''), ('to', 'ADP', ''), ('Destination_jqwjhltjgp', 'PROPN', 'Destination')]\n",
      "-------\n",
      "[('drive', 'VERB', ''), ('me', 'PRON', ''), ('to', 'ADP', ''), ('Destination_zbgakxshom', 'PROPN', 'Destination'), ('home', 'ADV', '')]\n",
      "-------\n",
      "[('drive', 'VERB', ''), ('me', 'PRON', ''), ('to', 'ADP', ''), ('Destination_jzulzomdce', 'PROPN', 'Destination'), ('office', 'NOUN', '')]\n",
      "-------\n",
      "[('drive', 'VERB', ''), ('me', 'PRON', ''), ('to', 'ADP', ''), ('Destination_bwcboncknz', 'PROPN', 'Destination'), ('work', 'NOUN', '')]\n",
      "-------\n",
      "[('drive', 'VERB', ''), ('me', 'PRON', ''), ('to', 'ADP', ''), ('the', 'DET', ''), ('closest', 'ADJ', ''), ('Destination_zgfisktijs', 'PROPN', 'Destination')]\n",
      "-------\n",
      "[('drive', 'VERB', ''), ('me', 'PRON', ''), ('to', 'ADP', ''), ('the', 'DET', ''), ('nearest', 'ADJ', ''), ('Destination_tijynhjbll', 'PROPN', 'Destination')]\n",
      "-------\n",
      "[('get', 'AUX', ''), ('me', 'PRON', ''), ('to', 'ADP', ''), ('Destination_cycrhceked', 'PROPN', 'Destination')]\n",
      "-------\n",
      "[('get', 'AUX', ''), ('me', 'PRON', ''), ('to', 'ADP', ''), ('Destination_ojxwcuhuaz', 'PROPN', 'Destination'), ('home', 'ADV', '')]\n",
      "-------\n",
      "[('get', 'AUX', ''), ('me', 'PRON', ''), ('to', 'ADP', ''), ('Destination_xwfkocghuq', 'PROPN', 'Destination'), ('office', 'NOUN', '')]\n",
      "-------\n",
      "[('get', 'AUX', ''), ('me', 'PRON', ''), ('to', 'ADP', ''), ('Destination_mvdfoapgyj', 'PROPN', 'Destination'), ('work', 'NOUN', '')]\n",
      "-------\n",
      "[('get', 'AUX', ''), ('me', 'PRON', ''), ('to', 'ADP', ''), ('the', 'DET', ''), ('closest', 'ADJ', ''), ('Destination_eqabxlglyh', 'PROPN', 'Destination')]\n",
      "-------\n",
      "[('get', 'AUX', ''), ('me', 'PRON', ''), ('to', 'ADP', ''), ('the', 'DET', ''), ('nearest', 'ADJ', ''), ('Destination_eobfbfflyh', 'PROPN', 'Destination')]\n",
      "-------\n",
      "[('navigate', 'VERB', ''), ('me', 'PRON', ''), ('to', 'ADP', ''), ('Destination_dqixwocoda', 'PROPN', 'Destination')]\n",
      "-------\n",
      "[('navigate', 'VERB', ''), ('me', 'PRON', ''), ('to', 'ADP', ''), ('Destination_rucgsaqjvo', 'PROPN', 'Destination'), ('home', 'ADV', '')]\n",
      "-------\n",
      "[('navigate', 'VERB', ''), ('me', 'PRON', ''), ('to', 'ADP', ''), ('Destination_cdhocummnc', 'PROPN', 'Destination'), ('office', 'NOUN', '')]\n",
      "-------\n",
      "[('navigate', 'VERB', ''), ('me', 'PRON', ''), ('to', 'ADP', ''), ('Destination_ypmymlvuiy', 'PROPN', 'Destination'), ('work', 'NOUN', '')]\n",
      "-------\n",
      "[('I', 'PRON', ''), ('want', 'VERB', ''), ('to', 'PART', ''), ('go', 'VERB', ''), ('to', 'ADP', ''), ('my', 'PRON', ''), ('parents', 'NOUN', ''), (\"'\", 'PART', ''), ('home', 'NOUN', '')]\n",
      "-------\n",
      "[('I', 'PRON', ''), ('want', 'VERB', ''), ('to', 'PART', ''), ('go', 'VERB', ''), ('to', 'ADP', ''), ('my', 'PRON', ''), ('parents', 'NOUN', ''), (\"'\", 'PART', ''), ('place', 'NOUN', '')]\n",
      "-------\n",
      "[('I', 'PRON', ''), ('want', 'VERB', ''), ('to', 'PART', ''), ('go', 'VERB', ''), ('to', 'ADP', ''), ('my', 'PRON', ''), ('place', 'NOUN', '')]\n",
      "-------\n",
      "[('I', 'PRON', ''), ('want', 'VERB', ''), ('to', 'PART', ''), ('go', 'VERB', ''), ('to', 'ADP', ''), ('the', 'DET', ''), ('closest', 'ADJ', ''), ('Destination_xmsldfflke', 'PROPN', 'Destination')]\n",
      "-------\n",
      "[('I', 'PRON', ''), ('want', 'VERB', ''), ('to', 'PART', ''), ('go', 'VERB', ''), ('to', 'ADP', ''), ('the', 'DET', ''), ('nearest', 'ADJ', ''), ('Destination_ytbvvgjbjc', 'PROPN', 'Destination')]\n",
      "-------\n",
      "[('I', 'PRON', ''), ('want', 'VERB', ''), ('to', 'PART', ''), ('go', 'VERB', ''), ('to', 'ADP', ''), ('work', 'NOUN', '')]\n",
      "-------\n",
      "[('I', 'PRON', ''), ('want', 'VERB', ''), ('to', 'PART', ''), ('navigate', 'VERB', ''), ('to', 'ADP', ''), ('Destination_iikcwzhtxa', 'PROPN', 'Destination'), ('office', 'NOUN', '')]\n",
      "-------\n",
      "[('I', 'PRON', ''), ('want', 'VERB', ''), ('to', 'PART', ''), ('navigate', 'VERB', ''), ('to', 'ADP', ''), ('Destination_fliukvgncf', 'PROPN', 'Destination')]\n",
      "-------\n",
      "[('I', 'PRON', ''), ('want', 'VERB', ''), ('to', 'PART', ''), ('navigate', 'VERB', ''), ('to', 'ADP', ''), ('my', 'PRON', ''), ('children', 'NOUN', ''), (\"'s\", 'PART', ''), ('school', 'NOUN', '')]\n",
      "-------\n",
      "[('I', 'PRON', ''), ('want', 'VERB', ''), ('to', 'PART', ''), ('navigate', 'VERB', ''), ('to', 'ADP', ''), ('my', 'PRON', ''), ('kid', 'NOUN', ''), (\"'s\", 'PART', ''), ('school', 'NOUN', '')]\n",
      "-------\n",
      "[('I', 'PRON', ''), ('want', 'VERB', ''), ('to', 'PART', ''), ('navigate', 'VERB', ''), ('to', 'ADP', ''), ('my', 'PRON', ''), ('kids', 'NOUN', ''), (\"'\", 'PART', ''), ('school', 'NOUN', '')]\n",
      "-------\n",
      "[('I', 'PRON', ''), ('want', 'VERB', ''), ('to', 'PART', ''), ('navigate', 'VERB', ''), ('to', 'ADP', ''), ('my', 'PRON', ''), ('office', 'NOUN', '')]\n",
      "-------\n",
      "[('I', 'PRON', ''), ('want', 'VERB', ''), ('to', 'PART', ''), ('navigate', 'VERB', ''), ('to', 'ADP', ''), ('my', 'PRON', ''), ('parents', 'NOUN', ''), (\"'\", 'PART', ''), ('place', 'NOUN', '')]\n",
      "-------\n",
      "[('I', 'PRON', ''), ('want', 'VERB', ''), ('to', 'PART', ''), ('navigate', 'VERB', ''), ('to', 'ADP', ''), ('my', 'PRON', ''), ('place', 'NOUN', '')]\n",
      "-------\n",
      "[('I', 'PRON', ''), ('want', 'VERB', ''), ('to', 'PART', ''), ('navigate', 'VERB', ''), ('to', 'ADP', ''), ('the', 'DET', ''), ('closest', 'ADJ', ''), ('Destination_jzxuguomrd', 'PROPN', 'Destination')]\n",
      "-------\n",
      "[('I', 'PRON', ''), ('got', 'VERB', ''), ('to', 'PART', ''), ('get', 'AUX', ''), ('directions', 'NOUN', ''), ('home', 'ADV', '')]\n",
      "-------\n",
      "[('I', 'PRON', ''), ('got', 'VERB', ''), ('to', 'PART', ''), ('get', 'AUX', ''), ('directions', 'NOUN', ''), ('to', 'ADP', ''), ('Destination_xbgygwhtuj', 'PROPN', 'Destination')]\n",
      "-------\n",
      "[('get', 'AUX', ''), ('headings', 'NOUN', ''), ('to', 'PART', ''), ('go', 'VERB', ''), ('to', 'ADP', ''), ('Destination_sndbqeedgs', 'PROPN', 'Destination'), ('work', 'NOUN', '')]\n",
      "-------\n",
      "[('get', 'AUX', ''), ('headings', 'NOUN', ''), ('to', 'PART', ''), ('go', 'VERB', ''), ('to', 'ADP', ''), ('home', 'NOUN', '')]\n",
      "-------\n",
      "[('get', 'AUX', ''), ('headings', 'NOUN', ''), ('to', 'PART', ''), ('go', 'VERB', ''), ('to', 'ADP', ''), ('my', 'PRON', ''), ('office', 'NOUN', '')]\n",
      "-------\n",
      "[('get', 'AUX', ''), ('headings', 'NOUN', ''), ('to', 'PART', ''), ('go', 'VERB', ''), ('to', 'ADP', ''), ('closest', 'ADJ', ''), ('grocery', 'NOUN', ''), ('store', 'NOUN', '')]\n",
      "-------\n",
      "[('get', 'AUX', ''), ('headings', 'NOUN', ''), ('to', 'PART', ''), ('go', 'VERB', ''), ('to', 'ADP', ''), ('76', 'NUM', ''), ('Charlottenstrasse', 'NOUN', '')]\n",
      "-------\n",
      "[('give', 'VERB', ''), ('me', 'PRON', ''), ('headings', 'NOUN', ''), ('to', 'ADP', ''), ('coffee', 'NOUN', ''), ('shop', 'NOUN', '')]\n",
      "-------\n",
      "[('give', 'VERB', ''), ('headings', 'NOUN', ''), ('to', 'ADP', ''), ('my', 'PRON', ''), ('kid', 'NOUN', ''), (\"'s\", 'PART', ''), ('school', 'NOUN', '')]\n",
      "-------\n",
      "[('give', 'VERB', ''), ('headings', 'NOUN', ''), ('to', 'ADP', ''), ('Destination_epuzpjszol', 'PROPN', 'Destination')]\n",
      "-------\n",
      "[('headings', 'NOUN', ''), ('to', 'ADP', ''), ('nearest', 'ADJ', ''), ('pizzeria', 'NOUN', '')]\n",
      "-------\n",
      "[('headings', 'NOUN', ''), ('to', 'ADP', ''), ('Destination_uilfhsiqsm', 'PROPN', 'Destination')]\n",
      "-------\n",
      "[('take', 'VERB', ''), ('me', 'PRON', ''), ('to', 'ADP', ''), ('starbucks', 'NOUN', '')]\n",
      "-------\n",
      "[('take', 'VERB', ''), ('me', 'PRON', ''), ('to', 'ADP', ''), ('police', 'NOUN', ''), ('station', 'NOUN', '')]\n",
      "-------\n",
      "[('take', 'VERB', ''), ('me', 'PRON', ''), ('quickly', 'ADV', ''), ('to', 'ADP', ''), ('police', 'NOUN', ''), ('station', 'NOUN', '')]\n",
      "-------\n",
      "[('take', 'VERB', ''), ('me', 'PRON', ''), ('to', 'ADP', ''), ('police', 'NOUN', ''), ('station', 'NOUN', ''), (',', 'PUNCT', ''), ('quickly', 'ADV', ''), ('!', 'PUNCT', '')]\n",
      "-------\n",
      "[('take', 'VERB', ''), ('me', 'PRON', ''), ('to', 'ADP', ''), ('closest', 'ADJ', ''), ('book', 'NOUN', ''), ('store', 'NOUN', '')]\n",
      "-------\n",
      "[('take', 'VERB', ''), ('me', 'PRON', ''), ('to', 'ADP', ''), ('closest', 'ADJ', ''), ('railway', 'NOUN', ''), ('station', 'NOUN', '')]\n",
      "-------\n",
      "[('take', 'VERB', ''), ('me', 'PRON', ''), ('to', 'ADP', ''), ('Destination_waynvggell', 'PROPN', 'Destination')]\n",
      "-------\n",
      "[('find', 'VERB', ''), ('gas', 'NOUN', ''), ('station', 'NOUN', '')]\n",
      "-------\n",
      "[('find', 'VERB', ''), ('cafe', 'PROPN', '')]\n",
      "-------\n",
      "[('find', 'VERB', ''), ('book', 'NOUN', ''), ('store', 'NOUN', '')]\n",
      "-------\n",
      "[('show', 'VERB', ''), ('route', 'NOUN', ''), ('to', 'ADP', ''), ('Jalgaon', 'PROPN', '')]\n",
      "-------\n",
      "[('show', 'VERB', ''), ('route', 'NOUN', ''), ('to', 'ADP', ''), ('45', 'NUM', ''), (',', 'PUNCT', ''), ('schutzenstrasse', 'PROPN', '')]\n",
      "-------\n",
      "[('show', 'VERB', ''), ('route', 'NOUN', ''), ('to', 'ADP', ''), ('my', 'PRON', ''), ('work', 'NOUN', '')]\n",
      "-------\n",
      "[('show', 'VERB', ''), ('route', 'NOUN', ''), ('to', 'ADP', ''), ('Destination_crhszrkwmm', 'PROPN', 'Destination')]\n",
      "-------\n",
      "[('find', 'VERB', ''), ('address', 'NOUN', ''), ('3100', 'NUM', ''), ('North', 'PROPN', ''), ('Main', 'PROPN', ''), ('St.', 'PROPN', ''), (',', 'PUNCT', '')]\n",
      "-------\n",
      "[('find', 'VERB', ''), ('address', 'NOUN', ''), ('23', 'NUM', ''), (',', 'PUNCT', ''), ('Friedrichstrasse', 'PROPN', '')]\n",
      "-------\n",
      "[('find', 'VERB', ''), ('the', 'DET', ''), ('next', 'ADJ', ''), ('KFC', 'PROPN', '')]\n",
      "-------\n",
      "[('show', 'VERB', ''), ('shortest', 'ADJ', ''), ('route', 'NOUN', ''), ('to', 'ADP', ''), ('alexanderplatz', 'NOUN', '')]\n",
      "-------\n",
      "[('show', 'VERB', ''), ('route', 'NOUN', ''), ('to', 'ADP', ''), ('work', 'NOUN', '')]\n",
      "-------\n",
      "[('destination', 'NOUN', ''), ('my', 'PRON', ''), ('home', 'NOUN', '')]\n",
      "-------\n",
      "[('destination', 'NOUN', ''), ('my', 'PRON', ''), ('kids', 'NOUN', ''), (\"'\", 'PART', ''), ('school', 'NOUN', '')]\n",
      "-------\n",
      "[('destination', 'NOUN', ''), ('work', 'PROPN', '')]\n",
      "-------\n",
      "[('destination', 'PROPN', ''), ('home', 'PROPN', '')]\n",
      "-------\n",
      "[('navigate', 'PROPN', ''), ('home', 'PROPN', '')]\n",
      "-------\n",
      "[('navigate', 'VERB', ''), ('to', 'ADP', ''), ('starbucks', 'NOUN', '')]\n",
      "-------\n",
      "[('navigate', 'VERB', ''), ('to', 'ADP', ''), ('Destination_puixnadytd', 'PROPN', 'Destination')]\n",
      "-------\n",
      "[('drive', 'VERB', ''), ('to', 'ADP', ''), ('Destination_vqiygvbeon', 'PROPN', 'Destination')]\n",
      "-------\n",
      "[('drive', 'VERB', ''), ('to', 'ADP', ''), ('Destination_zqpfvswyxc', 'PROPN', 'Destination'), ('home', 'ADV', '')]\n",
      "-------\n",
      "[('drive', 'VERB', ''), ('to', 'ADP', ''), ('Destination_ophzdrzroz', 'PROPN', 'Destination'), ('work', 'NOUN', '')]\n",
      "-------\n",
      "[('drive', 'VERB', ''), ('to', 'ADP', ''), ('the', 'DET', ''), ('closest', 'ADJ', ''), ('Destination_ycakzmmpzi', 'PROPN', 'Destination')]\n",
      "-------\n",
      "[('drive', 'VERB', ''), ('to', 'ADP', ''), ('the', 'DET', ''), ('nearest', 'ADJ', ''), ('Destination_xnjnzcrmmm', 'PROPN', 'Destination')]\n",
      "-------\n",
      "[('Where', 'ADV', ''), ('do', 'AUX', ''), ('you', 'PRON', ''), ('want', 'VERB', ''), ('to', 'PART', ''), ('go', 'VERB', ''), ('?', 'PUNCT', ''), ('Destination_dkzjctfmbi', 'PROPN', 'Destination')]\n",
      "-------\n",
      "[('Where', 'ADV', ''), ('do', 'AUX', ''), ('you', 'PRON', ''), ('want', 'VERB', ''), ('to', 'PART', ''), ('go', 'VERB', ''), ('?', 'PUNCT', ''), ('railway', 'NOUN', ''), ('station', 'NOUN', '')]\n",
      "-------\n",
      "[('Where', 'ADV', ''), ('do', 'AUX', ''), ('you', 'PRON', ''), ('want', 'VERB', ''), ('to', 'PART', ''), ('go', 'VERB', ''), ('?', 'PUNCT', ''), ('alexanderplatz', 'NOUN', '')]\n",
      "-------\n",
      "[('Where', 'ADV', ''), ('do', 'AUX', ''), ('you', 'PRON', ''), ('want', 'VERB', ''), ('to', 'PART', ''), ('go', 'VERB', ''), ('?', 'PUNCT', ''), ('Kid', 'PROPN', ''), (\"'s\", 'PART', ''), ('school', 'NOUN', '')]\n",
      "-------\n",
      "[('Where', 'ADV', ''), ('do', 'AUX', ''), ('I', 'PRON', ''), ('take', 'VERB', ''), ('you', 'PRON', ''), ('?', 'PUNCT', ''), ('my', 'PRON', ''), ('home', 'NOUN', '')]\n",
      "-------\n",
      "[('What', 'PRON', ''), ('do', 'AUX', ''), ('I', 'PRON', ''), ('set', 'VERB', ''), ('as', 'SCONJ', ''), ('destination', 'NOUN', ''), ('?', 'PUNCT', ''), ('grocery', 'NOUN', ''), ('store', 'NOUN', '')]\n",
      "-------\n",
      "[('What', 'PRON', ''), ('do', 'AUX', ''), ('I', 'PRON', ''), ('look', 'VERB', ''), ('for', 'ADP', ''), ('?', 'PUNCT', ''), ('nearest', 'ADJ', ''), ('starbucks', 'NOUN', '')]\n",
      "-------\n",
      "None\n",
      "-------\n"
     ]
    }
   ],
   "source": [
    "for group in yield_sentence():\n",
    "    print(group)\n",
    "    print(\"-------\")"
   ]
  },
  {
   "cell_type": "code",
   "execution_count": 59,
   "metadata": {},
   "outputs": [],
   "source": [
    "max_len = 75\n",
    "word2idx = {w: i + 1 for i, w in enumerate(words) if \"Destination_\" not in w}\n",
    "tag2idx = {t: i for i, t in enumerate(tags)}\n"
   ]
  },
  {
   "cell_type": "code",
   "execution_count": 60,
   "metadata": {},
   "outputs": [
    {
     "data": {
      "text/plain": [
       "55"
      ]
     },
     "execution_count": 60,
     "metadata": {},
     "output_type": "execute_result"
    }
   ],
   "source": [
    "word2idx[\"directions\"]"
   ]
  },
  {
   "cell_type": "code",
   "execution_count": 61,
   "metadata": {},
   "outputs": [
    {
     "data": {
      "text/plain": [
       "0"
      ]
     },
     "execution_count": 61,
     "metadata": {},
     "output_type": "execute_result"
    }
   ],
   "source": [
    "tag2idx[\"\"]"
   ]
  },
  {
   "cell_type": "code",
   "execution_count": 62,
   "metadata": {},
   "outputs": [],
   "source": [
    "from keras.preprocessing.sequence import pad_sequences\n",
    "X = [[word2idx.get(w[0],word2idx[\"Unknown\"]) for w in s] for s in sentences]"
   ]
  },
  {
   "cell_type": "code",
   "execution_count": 63,
   "metadata": {},
   "outputs": [],
   "source": [
    "X = pad_sequences(maxlen=max_len, sequences=X, padding=\"post\", value=n_words-1)\n"
   ]
  },
  {
   "cell_type": "code",
   "execution_count": 64,
   "metadata": {},
   "outputs": [],
   "source": [
    "y = [[tag2idx[w[2]] for w in s] for s in sentences]"
   ]
  },
  {
   "cell_type": "code",
   "execution_count": 65,
   "metadata": {},
   "outputs": [],
   "source": [
    "y = pad_sequences(maxlen=max_len, sequences=y, padding=\"post\", value=tag2idx[\"\"])\n"
   ]
  },
  {
   "cell_type": "code",
   "execution_count": 66,
   "metadata": {},
   "outputs": [],
   "source": [
    "from keras.utils import to_categorical"
   ]
  },
  {
   "cell_type": "code",
   "execution_count": 67,
   "metadata": {},
   "outputs": [],
   "source": [
    "y = [to_categorical(i, num_classes=n_tags) for i in y]"
   ]
  },
  {
   "cell_type": "code",
   "execution_count": 68,
   "metadata": {},
   "outputs": [],
   "source": [
    "from sklearn.model_selection import train_test_split"
   ]
  },
  {
   "cell_type": "code",
   "execution_count": 69,
   "metadata": {},
   "outputs": [],
   "source": [
    "X_tr, X_te, y_tr, y_te = train_test_split(X, y, test_size=0.1)\n",
    "\n"
   ]
  },
  {
   "cell_type": "code",
   "execution_count": 1,
   "metadata": {},
   "outputs": [],
   "source": [
    "import pickle\n",
    "import pandas as pd\n",
    "import numpy as np\n",
    "import random\n",
    "import string\n",
    "pickle_in = open(\"training_and_testing_data.pickle\",\"rb\")\n",
    "\n",
    "data_dict = pickle.load(pickle_in)\n"
   ]
  },
  {
   "cell_type": "code",
   "execution_count": 3,
   "metadata": {},
   "outputs": [],
   "source": [
    "\n",
    "X_tr = data_dict[\"X_tr\"]\n",
    "X_te = data_dict[\"X_te\"]\n",
    "y_tr = data_dict[\"y_tr\"]\n",
    "y_te = data_dict[\"y_te\"]\n",
    "max_len = 75\n",
    "n_words = data_dict[\"n_words\"]\n",
    "n_tags = data_dict[\"n_tags\"]\n",
    "tag2idx = data_dict[\"tag2idx\"]\n",
    "pos2idx = data_dict[\"pos2idx\"]\n",
    "word2idx = data_dict[\"word2idx\"]\n"
   ]
  },
  {
   "cell_type": "code",
   "execution_count": 4,
   "metadata": {},
   "outputs": [
    {
     "name": "stderr",
     "output_type": "stream",
     "text": [
      "Using TensorFlow backend.\n"
     ]
    }
   ],
   "source": [
    "from keras.models import Model, Input\n",
    "from keras.layers import LSTM, Embedding, Dense, TimeDistributed, Dropout, Bidirectional\n",
    "from keras_contrib.layers import CRF\n",
    "import keras"
   ]
  },
  {
   "cell_type": "code",
   "execution_count": 5,
   "metadata": {},
   "outputs": [],
   "source": [
    "input = Input(shape=(max_len,))\n",
    "model = Embedding(input_dim=n_words + 1, output_dim=20,\n",
    "                  input_length=max_len)(input)  # 20-dim embedding\n",
    "model = Bidirectional(LSTM(units=50, return_sequences=True,\n",
    "                           recurrent_dropout=0.1))(model)  # variational biLSTM\n",
    "model = TimeDistributed(Dense(50, activation=\"relu\"))(model)  # a dense layer as suggested by neuralNer\n",
    "crf = CRF(n_tags)  # CRF layer\n",
    "out = crf(model)  # output"
   ]
  },
  {
   "cell_type": "code",
   "execution_count": 6,
   "metadata": {},
   "outputs": [],
   "source": [
    "model = Model(input, out)"
   ]
  },
  {
   "cell_type": "code",
   "execution_count": 7,
   "metadata": {},
   "outputs": [
    {
     "name": "stderr",
     "output_type": "stream",
     "text": [
      "/home/premraj/anaconda3/lib/python3.7/site-packages/keras_contrib/layers/crf.py:346: UserWarning: CRF.loss_function is deprecated and it might be removed in the future. Please use losses.crf_loss instead.\n",
      "  warnings.warn('CRF.loss_function is deprecated '\n",
      "/home/premraj/anaconda3/lib/python3.7/site-packages/keras_contrib/layers/crf.py:353: UserWarning: CRF.accuracy is deprecated and it might be removed in the future. Please use metrics.crf_accuracy\n",
      "  warnings.warn('CRF.accuracy is deprecated and it '\n"
     ]
    }
   ],
   "source": [
    "model.compile(optimizer=\"rmsprop\", loss=crf.loss_function, metrics=[crf.accuracy])"
   ]
  },
  {
   "cell_type": "code",
   "execution_count": 8,
   "metadata": {},
   "outputs": [
    {
     "name": "stdout",
     "output_type": "stream",
     "text": [
      "Model: \"model_1\"\n",
      "_________________________________________________________________\n",
      "Layer (type)                 Output Shape              Param #   \n",
      "=================================================================\n",
      "input_1 (InputLayer)         (None, 75)                0         \n",
      "_________________________________________________________________\n",
      "embedding_1 (Embedding)      (None, 75, 20)            5160      \n",
      "_________________________________________________________________\n",
      "bidirectional_1 (Bidirection (None, 75, 100)           28400     \n",
      "_________________________________________________________________\n",
      "time_distributed_1 (TimeDist (None, 75, 50)            5050      \n",
      "_________________________________________________________________\n",
      "crf_1 (CRF)                  (None, 75, 2)             110       \n",
      "=================================================================\n",
      "Total params: 38,720\n",
      "Trainable params: 38,720\n",
      "Non-trainable params: 0\n",
      "_________________________________________________________________\n"
     ]
    }
   ],
   "source": [
    "model.summary()"
   ]
  },
  {
   "cell_type": "code",
   "execution_count": 11,
   "metadata": {},
   "outputs": [
    {
     "name": "stderr",
     "output_type": "stream",
     "text": [
      "/home/premraj/anaconda3/lib/python3.7/site-packages/tensorflow_core/python/framework/indexed_slices.py:424: UserWarning: Converting sparse IndexedSlices to a dense Tensor of unknown shape. This may consume a large amount of memory.\n",
      "  \"Converting sparse IndexedSlices to a dense Tensor of unknown shape. \"\n"
     ]
    },
    {
     "name": "stdout",
     "output_type": "stream",
     "text": [
      "Train on 137 samples, validate on 16 samples\n",
      "Epoch 1/100\n",
      "137/137 [==============================] - 3s 20ms/step - loss: 0.2102 - crf_viterbi_accuracy: 0.9716 - val_loss: 0.0986 - val_crf_viterbi_accuracy: 0.9792\n",
      "Epoch 2/100\n",
      "137/137 [==============================] - 0s 3ms/step - loss: 0.0948 - crf_viterbi_accuracy: 0.9716 - val_loss: 0.0612 - val_crf_viterbi_accuracy: 0.9792\n",
      "Epoch 3/100\n",
      "137/137 [==============================] - 0s 4ms/step - loss: 0.0723 - crf_viterbi_accuracy: 0.9729 - val_loss: 0.0581 - val_crf_viterbi_accuracy: 0.9792\n",
      "Epoch 4/100\n",
      "137/137 [==============================] - 0s 3ms/step - loss: 0.0687 - crf_viterbi_accuracy: 0.9719 - val_loss: 0.0567 - val_crf_viterbi_accuracy: 0.9792\n",
      "Epoch 5/100\n",
      "137/137 [==============================] - 0s 3ms/step - loss: 0.0667 - crf_viterbi_accuracy: 0.9734 - val_loss: 0.0554 - val_crf_viterbi_accuracy: 0.9792\n",
      "Epoch 6/100\n",
      "137/137 [==============================] - 0s 3ms/step - loss: 0.0652 - crf_viterbi_accuracy: 0.9723 - val_loss: 0.0545 - val_crf_viterbi_accuracy: 0.9792\n",
      "Epoch 7/100\n",
      "137/137 [==============================] - 0s 3ms/step - loss: 0.0638 - crf_viterbi_accuracy: 0.9729 - val_loss: 0.0534 - val_crf_viterbi_accuracy: 0.9792\n",
      "Epoch 8/100\n",
      "137/137 [==============================] - 0s 3ms/step - loss: 0.0622 - crf_viterbi_accuracy: 0.9714 - val_loss: 0.0522 - val_crf_viterbi_accuracy: 0.9792\n",
      "Epoch 9/100\n",
      "137/137 [==============================] - 0s 3ms/step - loss: 0.0602 - crf_viterbi_accuracy: 0.9723 - val_loss: 0.0503 - val_crf_viterbi_accuracy: 0.9792\n",
      "Epoch 10/100\n",
      "137/137 [==============================] - 0s 3ms/step - loss: 0.0579 - crf_viterbi_accuracy: 0.9727 - val_loss: 0.0482 - val_crf_viterbi_accuracy: 0.9792\n",
      "Epoch 11/100\n",
      "137/137 [==============================] - 0s 3ms/step - loss: 0.0553 - crf_viterbi_accuracy: 0.9714 - val_loss: 0.0453 - val_crf_viterbi_accuracy: 0.9792\n",
      "Epoch 12/100\n",
      "137/137 [==============================] - 0s 4ms/step - loss: 0.0520 - crf_viterbi_accuracy: 0.9721 - val_loss: 0.0439 - val_crf_viterbi_accuracy: 0.9792\n",
      "Epoch 13/100\n",
      "137/137 [==============================] - 0s 3ms/step - loss: 0.0489 - crf_viterbi_accuracy: 0.9725 - val_loss: 0.0405 - val_crf_viterbi_accuracy: 0.9792\n",
      "Epoch 14/100\n",
      "137/137 [==============================] - 0s 3ms/step - loss: 0.0461 - crf_viterbi_accuracy: 0.9731 - val_loss: 0.0368 - val_crf_viterbi_accuracy: 0.9792\n",
      "Epoch 15/100\n",
      "137/137 [==============================] - 0s 3ms/step - loss: 0.0430 - crf_viterbi_accuracy: 0.9768 - val_loss: 0.0362 - val_crf_viterbi_accuracy: 0.9792\n",
      "Epoch 16/100\n",
      "137/137 [==============================] - 0s 3ms/step - loss: 0.0391 - crf_viterbi_accuracy: 0.9784 - val_loss: 0.0318 - val_crf_viterbi_accuracy: 0.9850\n",
      "Epoch 17/100\n",
      "137/137 [==============================] - 0s 3ms/step - loss: 0.0370 - crf_viterbi_accuracy: 0.9826 - val_loss: 0.0307 - val_crf_viterbi_accuracy: 0.9792\n",
      "Epoch 18/100\n",
      "137/137 [==============================] - 0s 3ms/step - loss: 0.0320 - crf_viterbi_accuracy: 0.9867 - val_loss: 0.0261 - val_crf_viterbi_accuracy: 0.9883\n",
      "Epoch 19/100\n",
      "137/137 [==============================] - 0s 3ms/step - loss: 0.0315 - crf_viterbi_accuracy: 0.9842 - val_loss: 0.0251 - val_crf_viterbi_accuracy: 0.9883\n",
      "Epoch 20/100\n",
      "137/137 [==============================] - 0s 3ms/step - loss: 0.0253 - crf_viterbi_accuracy: 0.9911 - val_loss: 0.0217 - val_crf_viterbi_accuracy: 0.9908\n",
      "Epoch 21/100\n",
      "137/137 [==============================] - 0s 3ms/step - loss: 0.0249 - crf_viterbi_accuracy: 0.9908 - val_loss: 0.0207 - val_crf_viterbi_accuracy: 0.9892\n",
      "Epoch 22/100\n",
      "137/137 [==============================] - 0s 3ms/step - loss: 0.0205 - crf_viterbi_accuracy: 0.9925 - val_loss: 0.0259 - val_crf_viterbi_accuracy: 0.9875\n",
      "Epoch 23/100\n",
      "137/137 [==============================] - 0s 3ms/step - loss: 0.0196 - crf_viterbi_accuracy: 0.9921 - val_loss: 0.0165 - val_crf_viterbi_accuracy: 0.9942\n",
      "Epoch 24/100\n",
      "137/137 [==============================] - 0s 3ms/step - loss: 0.0157 - crf_viterbi_accuracy: 0.9944 - val_loss: 0.0147 - val_crf_viterbi_accuracy: 0.9933\n",
      "Epoch 25/100\n",
      "137/137 [==============================] - 0s 3ms/step - loss: 0.0163 - crf_viterbi_accuracy: 0.9946 - val_loss: 0.0199 - val_crf_viterbi_accuracy: 0.9900\n",
      "Epoch 26/100\n",
      "137/137 [==============================] - 0s 3ms/step - loss: 0.0128 - crf_viterbi_accuracy: 0.9963 - val_loss: 0.0122 - val_crf_viterbi_accuracy: 0.9942\n",
      "Epoch 27/100\n",
      "137/137 [==============================] - 0s 3ms/step - loss: 0.0103 - crf_viterbi_accuracy: 0.9967 - val_loss: 0.0108 - val_crf_viterbi_accuracy: 0.9967\n",
      "Epoch 28/100\n",
      "137/137 [==============================] - 0s 3ms/step - loss: 0.0099 - crf_viterbi_accuracy: 0.9965 - val_loss: 0.0185 - val_crf_viterbi_accuracy: 0.9892\n",
      "Epoch 29/100\n",
      "137/137 [==============================] - 0s 3ms/step - loss: 0.0083 - crf_viterbi_accuracy: 0.9971 - val_loss: 0.0152 - val_crf_viterbi_accuracy: 0.9900\n",
      "Epoch 30/100\n",
      "137/137 [==============================] - 0s 3ms/step - loss: 0.0065 - crf_viterbi_accuracy: 0.9972 - val_loss: 0.0079 - val_crf_viterbi_accuracy: 0.9975\n",
      "Epoch 31/100\n",
      "137/137 [==============================] - 0s 3ms/step - loss: 0.0058 - crf_viterbi_accuracy: 0.9987 - val_loss: 0.0071 - val_crf_viterbi_accuracy: 0.9975\n",
      "Epoch 32/100\n",
      "137/137 [==============================] - 0s 3ms/step - loss: 0.0045 - crf_viterbi_accuracy: 0.9987 - val_loss: 0.0128 - val_crf_viterbi_accuracy: 0.9917\n",
      "Epoch 33/100\n",
      "137/137 [==============================] - 0s 3ms/step - loss: 0.0047 - crf_viterbi_accuracy: 0.9984 - val_loss: 0.0067 - val_crf_viterbi_accuracy: 0.9975\n",
      "Epoch 34/100\n",
      "137/137 [==============================] - 0s 3ms/step - loss: 0.0028 - crf_viterbi_accuracy: 0.9994 - val_loss: 0.0060 - val_crf_viterbi_accuracy: 0.9967\n",
      "Epoch 35/100\n",
      "137/137 [==============================] - 0s 3ms/step - loss: 0.0028 - crf_viterbi_accuracy: 0.9992 - val_loss: 0.0060 - val_crf_viterbi_accuracy: 0.9975\n",
      "Epoch 36/100\n",
      "137/137 [==============================] - 0s 3ms/step - loss: 0.0018 - crf_viterbi_accuracy: 0.9997 - val_loss: 0.0049 - val_crf_viterbi_accuracy: 0.9975\n",
      "Epoch 37/100\n",
      "137/137 [==============================] - 0s 4ms/step - loss: 0.0016 - crf_viterbi_accuracy: 0.9998 - val_loss: 0.0058 - val_crf_viterbi_accuracy: 0.9983\n",
      "Epoch 38/100\n",
      "137/137 [==============================] - 0s 3ms/step - loss: 0.0017 - crf_viterbi_accuracy: 0.9994 - val_loss: 0.0063 - val_crf_viterbi_accuracy: 0.9967\n",
      "Epoch 39/100\n",
      "137/137 [==============================] - 0s 3ms/step - loss: 8.4665e-04 - crf_viterbi_accuracy: 0.9997 - val_loss: 0.0066 - val_crf_viterbi_accuracy: 0.9983\n",
      "Epoch 40/100\n",
      "137/137 [==============================] - 0s 3ms/step - loss: 5.3431e-04 - crf_viterbi_accuracy: 0.9995 - val_loss: 0.0113 - val_crf_viterbi_accuracy: 0.9933\n",
      "Epoch 41/100\n",
      "137/137 [==============================] - 0s 3ms/step - loss: 7.8945e-04 - crf_viterbi_accuracy: 0.9994 - val_loss: 0.0053 - val_crf_viterbi_accuracy: 0.9975\n",
      "Epoch 42/100\n",
      "137/137 [==============================] - 0s 3ms/step - loss: 2.7684e-04 - crf_viterbi_accuracy: 0.9997 - val_loss: 0.0054 - val_crf_viterbi_accuracy: 0.9975\n",
      "Epoch 43/100\n",
      "137/137 [==============================] - 0s 3ms/step - loss: -9.8583e-05 - crf_viterbi_accuracy: 0.9998 - val_loss: 0.0056 - val_crf_viterbi_accuracy: 0.9975\n",
      "Epoch 44/100\n",
      "137/137 [==============================] - 0s 3ms/step - loss: -1.3389e-05 - crf_viterbi_accuracy: 0.9995 - val_loss: 0.0057 - val_crf_viterbi_accuracy: 0.9975\n",
      "Epoch 45/100\n",
      "137/137 [==============================] - 0s 3ms/step - loss: -3.7570e-04 - crf_viterbi_accuracy: 0.9997 - val_loss: 0.0060 - val_crf_viterbi_accuracy: 0.9975\n",
      "Epoch 46/100\n",
      "137/137 [==============================] - 0s 3ms/step - loss: -2.8538e-04 - crf_viterbi_accuracy: 0.9998 - val_loss: 0.0064 - val_crf_viterbi_accuracy: 0.9967\n",
      "Epoch 47/100\n",
      "137/137 [==============================] - 0s 3ms/step - loss: -5.5283e-04 - crf_viterbi_accuracy: 0.9997 - val_loss: 0.0070 - val_crf_viterbi_accuracy: 0.9967\n",
      "Epoch 48/100\n",
      "137/137 [==============================] - 0s 3ms/step - loss: -9.5821e-04 - crf_viterbi_accuracy: 0.9999 - val_loss: 0.0112 - val_crf_viterbi_accuracy: 0.9967\n",
      "Epoch 49/100\n"
     ]
    },
    {
     "name": "stdout",
     "output_type": "stream",
     "text": [
      "137/137 [==============================] - 0s 3ms/step - loss: 3.4873e-04 - crf_viterbi_accuracy: 0.9995 - val_loss: 0.0088 - val_crf_viterbi_accuracy: 0.9967\n",
      "Epoch 50/100\n",
      "137/137 [==============================] - 0s 3ms/step - loss: -7.4979e-04 - crf_viterbi_accuracy: 0.9997 - val_loss: 0.0068 - val_crf_viterbi_accuracy: 0.9975\n",
      "Epoch 51/100\n",
      "137/137 [==============================] - 0s 3ms/step - loss: -7.6576e-04 - crf_viterbi_accuracy: 0.9995 - val_loss: 0.0059 - val_crf_viterbi_accuracy: 0.9975\n",
      "Epoch 52/100\n",
      "137/137 [==============================] - 0s 3ms/step - loss: -0.0012 - crf_viterbi_accuracy: 0.9998 - val_loss: 0.0057 - val_crf_viterbi_accuracy: 0.9975\n",
      "Epoch 53/100\n",
      "137/137 [==============================] - 0s 3ms/step - loss: -0.0011 - crf_viterbi_accuracy: 0.9997 - val_loss: 0.0062 - val_crf_viterbi_accuracy: 0.9975\n",
      "Epoch 54/100\n",
      "137/137 [==============================] - 0s 3ms/step - loss: -0.0013 - crf_viterbi_accuracy: 0.9998 - val_loss: 0.0079 - val_crf_viterbi_accuracy: 0.9958\n",
      "Epoch 55/100\n",
      "137/137 [==============================] - 0s 3ms/step - loss: -7.0806e-04 - crf_viterbi_accuracy: 0.9994 - val_loss: 0.0060 - val_crf_viterbi_accuracy: 0.9975\n",
      "Epoch 56/100\n",
      "137/137 [==============================] - 0s 3ms/step - loss: -0.0015 - crf_viterbi_accuracy: 0.9999 - val_loss: 0.0059 - val_crf_viterbi_accuracy: 0.9975\n",
      "Epoch 57/100\n",
      "137/137 [==============================] - 0s 3ms/step - loss: -0.0017 - crf_viterbi_accuracy: 0.9998 - val_loss: 0.0063 - val_crf_viterbi_accuracy: 0.9975\n",
      "Epoch 58/100\n",
      "137/137 [==============================] - 0s 3ms/step - loss: -0.0016 - crf_viterbi_accuracy: 0.9998 - val_loss: 0.0062 - val_crf_viterbi_accuracy: 0.9975\n",
      "Epoch 59/100\n",
      "137/137 [==============================] - 0s 3ms/step - loss: -0.0013 - crf_viterbi_accuracy: 0.9997 - val_loss: 0.0063 - val_crf_viterbi_accuracy: 0.9975\n",
      "Epoch 60/100\n",
      "137/137 [==============================] - 0s 3ms/step - loss: -0.0018 - crf_viterbi_accuracy: 0.9998 - val_loss: 0.0041 - val_crf_viterbi_accuracy: 0.9975\n",
      "Epoch 61/100\n",
      "137/137 [==============================] - 0s 3ms/step - loss: -0.0019 - crf_viterbi_accuracy: 0.9998 - val_loss: 0.0056 - val_crf_viterbi_accuracy: 0.9975\n",
      "Epoch 62/100\n",
      "137/137 [==============================] - 0s 3ms/step - loss: -0.0020 - crf_viterbi_accuracy: 0.9998 - val_loss: 0.0052 - val_crf_viterbi_accuracy: 0.9975\n",
      "Epoch 63/100\n",
      "137/137 [==============================] - 0s 3ms/step - loss: -0.0022 - crf_viterbi_accuracy: 0.9999 - val_loss: 0.0064 - val_crf_viterbi_accuracy: 0.9975\n",
      "Epoch 64/100\n",
      "137/137 [==============================] - 0s 3ms/step - loss: -0.0023 - crf_viterbi_accuracy: 0.9999 - val_loss: 0.0078 - val_crf_viterbi_accuracy: 0.9967\n",
      "Epoch 65/100\n",
      "137/137 [==============================] - 0s 3ms/step - loss: -0.0023 - crf_viterbi_accuracy: 0.9998 - val_loss: 0.0052 - val_crf_viterbi_accuracy: 0.9975\n",
      "Epoch 66/100\n",
      "137/137 [==============================] - 0s 3ms/step - loss: -0.0026 - crf_viterbi_accuracy: 1.0000 - val_loss: 0.0068 - val_crf_viterbi_accuracy: 0.9967\n",
      "Epoch 67/100\n",
      "137/137 [==============================] - 0s 4ms/step - loss: -0.0025 - crf_viterbi_accuracy: 0.9998 - val_loss: 0.0079 - val_crf_viterbi_accuracy: 0.9967\n",
      "Epoch 68/100\n",
      "137/137 [==============================] - 0s 3ms/step - loss: -0.0026 - crf_viterbi_accuracy: 0.9999 - val_loss: 0.0078 - val_crf_viterbi_accuracy: 0.9967\n",
      "Epoch 69/100\n",
      "137/137 [==============================] - 0s 3ms/step - loss: -0.0027 - crf_viterbi_accuracy: 0.9999 - val_loss: 0.0065 - val_crf_viterbi_accuracy: 0.9975\n",
      "Epoch 70/100\n",
      "137/137 [==============================] - 0s 3ms/step - loss: -0.0028 - crf_viterbi_accuracy: 0.9999 - val_loss: 0.0078 - val_crf_viterbi_accuracy: 0.9975\n",
      "Epoch 71/100\n",
      "137/137 [==============================] - 0s 3ms/step - loss: -0.0026 - crf_viterbi_accuracy: 0.9998 - val_loss: 0.0098 - val_crf_viterbi_accuracy: 0.9958\n",
      "Epoch 72/100\n",
      "137/137 [==============================] - 0s 3ms/step - loss: -0.0030 - crf_viterbi_accuracy: 1.0000 - val_loss: 0.0089 - val_crf_viterbi_accuracy: 0.9975\n",
      "Epoch 73/100\n",
      "137/137 [==============================] - 0s 3ms/step - loss: -0.0031 - crf_viterbi_accuracy: 1.0000 - val_loss: 0.0079 - val_crf_viterbi_accuracy: 0.9975\n",
      "Epoch 74/100\n",
      "137/137 [==============================] - 0s 3ms/step - loss: -0.0031 - crf_viterbi_accuracy: 1.0000 - val_loss: 0.0165 - val_crf_viterbi_accuracy: 0.9950\n",
      "Epoch 75/100\n",
      "137/137 [==============================] - 0s 3ms/step - loss: -0.0030 - crf_viterbi_accuracy: 0.9999 - val_loss: 0.0097 - val_crf_viterbi_accuracy: 0.9967\n",
      "Epoch 76/100\n",
      "137/137 [==============================] - 0s 3ms/step - loss: -0.0033 - crf_viterbi_accuracy: 1.0000 - val_loss: 0.0079 - val_crf_viterbi_accuracy: 0.9967\n",
      "Epoch 77/100\n",
      "137/137 [==============================] - 0s 3ms/step - loss: -0.0034 - crf_viterbi_accuracy: 1.0000 - val_loss: 0.0101 - val_crf_viterbi_accuracy: 0.9967\n",
      "Epoch 78/100\n",
      "137/137 [==============================] - 0s 3ms/step - loss: -0.0034 - crf_viterbi_accuracy: 1.0000 - val_loss: 0.0105 - val_crf_viterbi_accuracy: 0.9975\n",
      "Epoch 79/100\n",
      "137/137 [==============================] - 0s 3ms/step - loss: -0.0035 - crf_viterbi_accuracy: 1.0000 - val_loss: 0.0132 - val_crf_viterbi_accuracy: 0.9967\n",
      "Epoch 80/100\n",
      "137/137 [==============================] - 0s 3ms/step - loss: -0.0033 - crf_viterbi_accuracy: 0.9999 - val_loss: 0.0098 - val_crf_viterbi_accuracy: 0.9967\n",
      "Epoch 81/100\n",
      "137/137 [==============================] - 0s 3ms/step - loss: -0.0030 - crf_viterbi_accuracy: 0.9998 - val_loss: 0.0125 - val_crf_viterbi_accuracy: 0.9975\n",
      "Epoch 82/100\n",
      "137/137 [==============================] - 0s 3ms/step - loss: -0.0036 - crf_viterbi_accuracy: 1.0000 - val_loss: 0.0077 - val_crf_viterbi_accuracy: 0.9975\n",
      "Epoch 83/100\n",
      "137/137 [==============================] - 0s 3ms/step - loss: -0.0038 - crf_viterbi_accuracy: 1.0000 - val_loss: 0.0076 - val_crf_viterbi_accuracy: 0.9975\n",
      "Epoch 84/100\n",
      "137/137 [==============================] - 0s 3ms/step - loss: -0.0038 - crf_viterbi_accuracy: 1.0000 - val_loss: 0.0080 - val_crf_viterbi_accuracy: 0.9975\n",
      "Epoch 85/100\n",
      "137/137 [==============================] - 0s 3ms/step - loss: -0.0039 - crf_viterbi_accuracy: 1.0000 - val_loss: 0.0083 - val_crf_viterbi_accuracy: 0.9975\n",
      "Epoch 86/100\n",
      "137/137 [==============================] - 0s 3ms/step - loss: -0.0040 - crf_viterbi_accuracy: 1.0000 - val_loss: 0.0076 - val_crf_viterbi_accuracy: 0.9975\n",
      "Epoch 87/100\n",
      "137/137 [==============================] - 0s 3ms/step - loss: -0.0041 - crf_viterbi_accuracy: 1.0000 - val_loss: 0.0070 - val_crf_viterbi_accuracy: 0.9975\n",
      "Epoch 88/100\n",
      "137/137 [==============================] - 0s 3ms/step - loss: -0.0042 - crf_viterbi_accuracy: 1.0000 - val_loss: 0.0086 - val_crf_viterbi_accuracy: 0.9975\n",
      "Epoch 89/100\n",
      "137/137 [==============================] - 0s 3ms/step - loss: -0.0042 - crf_viterbi_accuracy: 1.0000 - val_loss: 0.0082 - val_crf_viterbi_accuracy: 0.9975\n",
      "Epoch 90/100\n",
      "137/137 [==============================] - 0s 3ms/step - loss: -0.0043 - crf_viterbi_accuracy: 1.0000 - val_loss: 0.0083 - val_crf_viterbi_accuracy: 0.9967\n",
      "Epoch 91/100\n",
      "137/137 [==============================] - 0s 3ms/step - loss: -0.0043 - crf_viterbi_accuracy: 1.0000 - val_loss: 0.0117 - val_crf_viterbi_accuracy: 0.9975\n",
      "Epoch 92/100\n",
      "137/137 [==============================] - 0s 3ms/step - loss: -0.0042 - crf_viterbi_accuracy: 0.9999 - val_loss: 0.0145 - val_crf_viterbi_accuracy: 0.9967\n",
      "Epoch 93/100\n",
      "137/137 [==============================] - 0s 3ms/step - loss: -0.0045 - crf_viterbi_accuracy: 1.0000 - val_loss: 0.0131 - val_crf_viterbi_accuracy: 0.9967\n",
      "Epoch 94/100\n",
      "137/137 [==============================] - 0s 3ms/step - loss: -0.0046 - crf_viterbi_accuracy: 1.0000 - val_loss: 0.0134 - val_crf_viterbi_accuracy: 0.9967\n",
      "Epoch 95/100\n",
      "137/137 [==============================] - 0s 3ms/step - loss: -0.0046 - crf_viterbi_accuracy: 1.0000 - val_loss: 0.0140 - val_crf_viterbi_accuracy: 0.9967\n",
      "Epoch 96/100\n",
      "137/137 [==============================] - 0s 3ms/step - loss: -0.0047 - crf_viterbi_accuracy: 1.0000 - val_loss: 0.0149 - val_crf_viterbi_accuracy: 0.9967\n",
      "Epoch 97/100\n"
     ]
    },
    {
     "name": "stdout",
     "output_type": "stream",
     "text": [
      "137/137 [==============================] - 0s 3ms/step - loss: -0.0048 - crf_viterbi_accuracy: 1.0000 - val_loss: 0.0147 - val_crf_viterbi_accuracy: 0.9967\n",
      "Epoch 98/100\n",
      "137/137 [==============================] - 0s 3ms/step - loss: -0.0048 - crf_viterbi_accuracy: 1.0000 - val_loss: 0.0164 - val_crf_viterbi_accuracy: 0.9967\n",
      "Epoch 99/100\n",
      "137/137 [==============================] - 0s 3ms/step - loss: -0.0048 - crf_viterbi_accuracy: 1.0000 - val_loss: 0.0181 - val_crf_viterbi_accuracy: 0.9967\n",
      "Epoch 100/100\n",
      "137/137 [==============================] - 0s 3ms/step - loss: -0.0049 - crf_viterbi_accuracy: 1.0000 - val_loss: 0.0138 - val_crf_viterbi_accuracy: 0.9967\n"
     ]
    }
   ],
   "source": [
    "history = model.fit(X_tr, np.array(y_tr), batch_size=32, epochs=100,\n",
    "                    validation_split=0.1, verbose=1)"
   ]
  },
  {
   "cell_type": "code",
   "execution_count": 12,
   "metadata": {},
   "outputs": [],
   "source": [
    "from seqeval.metrics import precision_score, recall_score, f1_score, classification_report\n"
   ]
  },
  {
   "cell_type": "code",
   "execution_count": 13,
   "metadata": {},
   "outputs": [
    {
     "name": "stdout",
     "output_type": "stream",
     "text": [
      "\r",
      "18/18 [==============================] - 0s 16ms/step\n"
     ]
    }
   ],
   "source": [
    "test_pred = model.predict(X_te, verbose=1)"
   ]
  },
  {
   "cell_type": "code",
   "execution_count": 14,
   "metadata": {},
   "outputs": [
    {
     "ename": "NameError",
     "evalue": "name 'tag2idx' is not defined",
     "output_type": "error",
     "traceback": [
      "\u001b[0;31m---------------------------------------------------------------------------\u001b[0m",
      "\u001b[0;31mNameError\u001b[0m                                 Traceback (most recent call last)",
      "\u001b[0;32m<ipython-input-14-59d4f02eea43>\u001b[0m in \u001b[0;36m<module>\u001b[0;34m\u001b[0m\n\u001b[0;32m----> 1\u001b[0;31m \u001b[0midx2tag\u001b[0m \u001b[0;34m=\u001b[0m \u001b[0;34m{\u001b[0m\u001b[0mi\u001b[0m\u001b[0;34m:\u001b[0m \u001b[0mw\u001b[0m \u001b[0;32mfor\u001b[0m \u001b[0mw\u001b[0m\u001b[0;34m,\u001b[0m \u001b[0mi\u001b[0m \u001b[0;32min\u001b[0m \u001b[0mtag2idx\u001b[0m\u001b[0;34m.\u001b[0m\u001b[0mitems\u001b[0m\u001b[0;34m(\u001b[0m\u001b[0;34m)\u001b[0m\u001b[0;34m}\u001b[0m\u001b[0;34m\u001b[0m\u001b[0;34m\u001b[0m\u001b[0m\n\u001b[0m\u001b[1;32m      2\u001b[0m \u001b[0;34m\u001b[0m\u001b[0m\n\u001b[1;32m      3\u001b[0m \u001b[0;32mdef\u001b[0m \u001b[0mpred2label\u001b[0m\u001b[0;34m(\u001b[0m\u001b[0mpred\u001b[0m\u001b[0;34m)\u001b[0m\u001b[0;34m:\u001b[0m\u001b[0;34m\u001b[0m\u001b[0;34m\u001b[0m\u001b[0m\n\u001b[1;32m      4\u001b[0m     \u001b[0mout\u001b[0m \u001b[0;34m=\u001b[0m \u001b[0;34m[\u001b[0m\u001b[0;34m]\u001b[0m\u001b[0;34m\u001b[0m\u001b[0;34m\u001b[0m\u001b[0m\n\u001b[1;32m      5\u001b[0m     \u001b[0;32mfor\u001b[0m \u001b[0mpred_i\u001b[0m \u001b[0;32min\u001b[0m \u001b[0mpred\u001b[0m\u001b[0;34m:\u001b[0m\u001b[0;34m\u001b[0m\u001b[0;34m\u001b[0m\u001b[0m\n",
      "\u001b[0;31mNameError\u001b[0m: name 'tag2idx' is not defined"
     ]
    }
   ],
   "source": [
    "idx2tag = {i: w for w, i in tag2idx.items()}\n",
    "\n",
    "def pred2label(pred):\n",
    "    out = []\n",
    "    for pred_i in pred:\n",
    "        out_i = []\n",
    "        for p in pred_i:\n",
    "            p_i = np.argmax(p)\n",
    "            out_i.append(idx2tag[p_i].replace(\"PAD\", \"\"))\n",
    "        out.append(out_i)\n",
    "    return out\n",
    "    \n",
    "pred_labels = pred2label(test_pred)\n",
    "test_labels = pred2label(y_te)"
   ]
  },
  {
   "cell_type": "code",
   "execution_count": null,
   "metadata": {},
   "outputs": [],
   "source": [
    "def getRecallPrecision(test_labels,pred_labels,tag):\n",
    "    flat_test_labels = [item for sublist in test_labels for item in sublist]\n",
    "    flat_pred_labels = [item for sublist in pred_labels for item in sublist]\n",
    "    \n",
    "    test_indices = set([i for i, x in enumerate(flat_test_labels) if x == tag])\n",
    "    pred_indices = set([i for i, x in enumerate(flat_test_labels) if x == tag])\n",
    "    recall = len(test_indices.intersection(pred_indices))/len(test_indices)\n",
    "    precision = len(test_indices.intersection(pred_indices))/len(pred_indices)\n",
    "    f_score = 2* precision* recall/(precision + recall)\n",
    "    return recall,precision,f_score\n",
    "\n",
    "    "
   ]
  },
  {
   "cell_type": "code",
   "execution_count": null,
   "metadata": {},
   "outputs": [],
   "source": [
    "print(len(test_labels))\n",
    "print([len(t) for t in test_labels])\n",
    "print(\"-----\")\n",
    "print(len(pred_labels))\n",
    "print([len(t) for t in pred_labels])\n",
    "print(getRecallPrecision(test_labels,pred_labels,\"Destination\"))"
   ]
  },
  {
   "cell_type": "code",
   "execution_count": null,
   "metadata": {
    "scrolled": true
   },
   "outputs": [],
   "source": [
    "sentence = \"drive me to police station\"\n",
    "entities_words = [\"police\",\"station\"]\n",
    "array = []\n",
    "doc = nlp(sentence)\n",
    "for token in doc:\n",
    "    text = token.text\n",
    "    print(text)\n",
    "    if token.text in entities_words:\n",
    "        tag = \"Destination\"\n",
    "    else:\n",
    "        tag = \"\"\n",
    "\n",
    "    array.append(tuple([token.text,token.pos_,tag]))\n",
    "print(array)\n",
    "X = [[word2idx.get(w[0],word2idx[\"Unknown\"]) for w in s] for s in [array]]\n",
    "print(X)\n",
    "X = pad_sequences(maxlen=max_len, sequences=X, padding=\"post\", value=n_words-1)\n",
    "y = [[tag2idx[w[2]] for w in s] for s in [array]]\n",
    "y = pad_sequences(maxlen=max_len, sequences=y, padding=\"post\", value=tag2idx[\"\"])\n",
    "y = [to_categorical(i, num_classes=n_tags) for i in y]\n",
    "#print(y)\n",
    "test_pred = model.predict(X, verbose=1)\n",
    "pred_labels = pred2label(test_pred)\n",
    "test_labels = pred2label(y)\n",
    "print(test_labels,pred_labels)\n",
    "#print(pred_labels)"
   ]
  },
  {
   "cell_type": "code",
   "execution_count": null,
   "metadata": {},
   "outputs": [],
   "source": [
    "print(word2idx)"
   ]
  },
  {
   "cell_type": "code",
   "execution_count": null,
   "metadata": {},
   "outputs": [],
   "source": []
  },
  {
   "cell_type": "code",
   "execution_count": null,
   "metadata": {},
   "outputs": [],
   "source": []
  },
  {
   "cell_type": "code",
   "execution_count": null,
   "metadata": {},
   "outputs": [],
   "source": []
  }
 ],
 "metadata": {
  "kernelspec": {
   "display_name": "Python 3",
   "language": "python",
   "name": "python3"
  },
  "language_info": {
   "codemirror_mode": {
    "name": "ipython",
    "version": 3
   },
   "file_extension": ".py",
   "mimetype": "text/x-python",
   "name": "python",
   "nbconvert_exporter": "python",
   "pygments_lexer": "ipython3",
   "version": "3.7.3"
  }
 },
 "nbformat": 4,
 "nbformat_minor": 2
}
