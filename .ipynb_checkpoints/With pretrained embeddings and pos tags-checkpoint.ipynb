{
 "cells": [
  {
   "cell_type": "code",
   "execution_count": 117,
   "metadata": {},
   "outputs": [
    {
     "name": "stdout",
     "output_type": "stream",
     "text": [
      "['36Vv', 'FLhM', 'SZ']\n"
     ]
    }
   ],
   "source": [
    "import pandas as pd\n",
    "import numpy as np\n",
    "import random\n",
    "import string\n",
    "\n",
    "def chunks(l, n):\n",
    "    \"\"\"Yield successive n-sized chunks from l.\"\"\"\n",
    "    for i in range(0, len(l), n):\n",
    "        yield l[i:i + n]\n",
    "\n",
    "def randomString(stringLength=10):\n",
    "    \"\"\"Generate a random string of fixed length \"\"\"\n",
    "    letters = string.ascii_letters+string.digits\n",
    "    rand_int = random.randint(1,4)\n",
    "#     print(rand_int)\n",
    "    string_random = [random.choice(letters) for i in range(stringLength)]\n",
    "    chunk_array = []\n",
    "    for chunk in chunks(string_random,rand_int):\n",
    "        chunk_array.append(\"\".join(chunk))\n",
    "#     for i in range(rand_int+1):\n",
    "    \n",
    "#         string_random = string_random +\" \" + ''.join(random.choice(letters) for i in range(stringLength))\n",
    "    \n",
    "    return chunk_array\n",
    "\n",
    "print(randomString())"
   ]
  },
  {
   "cell_type": "code",
   "execution_count": 118,
   "metadata": {},
   "outputs": [
    {
     "name": "stdout",
     "output_type": "stream",
     "text": [
      "['l', 'q', 'A', 'l', 'x', 's', 'z', 'A', '3', '7']\n"
     ]
    }
   ],
   "source": [
    "print(randomString())"
   ]
  },
  {
   "cell_type": "code",
   "execution_count": 119,
   "metadata": {},
   "outputs": [],
   "source": [
    "data = open(\"dummyData.txt\").readlines()"
   ]
  },
  {
   "cell_type": "code",
   "execution_count": 120,
   "metadata": {},
   "outputs": [],
   "source": [
    "import spacy\n",
    "\n",
    "nlp = spacy.load(\"en_core_web_sm\")\n"
   ]
  },
  {
   "cell_type": "code",
   "execution_count": 121,
   "metadata": {},
   "outputs": [],
   "source": [
    "array = []\n",
    "for textindex,text in enumerate(data):\n",
    "    doc = nlp(text.strip())\n",
    "    for token in doc:\n",
    "        #print(token.text, token.lemma_, token.pos_, token.tag_, token.dep_,\n",
    "        #        token.shape_, token.is_alpha, token.is_stop)\n",
    "        text_items = [token.text]\n",
    "        if token.text == \"XYYZ\":\n",
    "            tag = \"Destination\"\n",
    "            rand_int = random.randint(1,4)\n",
    "            if rand_int==3:\n",
    "                text_items = [\"Unknown\"]\n",
    "            else:\n",
    "                text_items = randomString()\n",
    "        else:\n",
    "            tag = \"\"\n",
    "            rand_int = random.randint(1,10)\n",
    "            if rand_int==3:\n",
    "                text_items = [\"Unknown\"]\n",
    "        for item in text_items:\n",
    "            array.append(dict(Sentence=textindex,Word=item,POS=token.pos_,Tag=tag))"
   ]
  },
  {
   "cell_type": "code",
   "execution_count": 122,
   "metadata": {},
   "outputs": [],
   "source": [
    "df = pd.DataFrame(array)  "
   ]
  },
  {
   "cell_type": "code",
   "execution_count": 123,
   "metadata": {},
   "outputs": [
    {
     "data": {
      "text/html": [
       "<div>\n",
       "<style scoped>\n",
       "    .dataframe tbody tr th:only-of-type {\n",
       "        vertical-align: middle;\n",
       "    }\n",
       "\n",
       "    .dataframe tbody tr th {\n",
       "        vertical-align: top;\n",
       "    }\n",
       "\n",
       "    .dataframe thead th {\n",
       "        text-align: right;\n",
       "    }\n",
       "</style>\n",
       "<table border=\"1\" class=\"dataframe\">\n",
       "  <thead>\n",
       "    <tr style=\"text-align: right;\">\n",
       "      <th></th>\n",
       "      <th>POS</th>\n",
       "      <th>Sentence</th>\n",
       "      <th>Tag</th>\n",
       "      <th>Word</th>\n",
       "    </tr>\n",
       "  </thead>\n",
       "  <tbody>\n",
       "    <tr>\n",
       "      <th>1091</th>\n",
       "      <td>VERB</td>\n",
       "      <td>122</td>\n",
       "      <td></td>\n",
       "      <td>got</td>\n",
       "    </tr>\n",
       "    <tr>\n",
       "      <th>1092</th>\n",
       "      <td>PART</td>\n",
       "      <td>122</td>\n",
       "      <td></td>\n",
       "      <td>to</td>\n",
       "    </tr>\n",
       "    <tr>\n",
       "      <th>1093</th>\n",
       "      <td>AUX</td>\n",
       "      <td>122</td>\n",
       "      <td></td>\n",
       "      <td>get</td>\n",
       "    </tr>\n",
       "    <tr>\n",
       "      <th>1094</th>\n",
       "      <td>NOUN</td>\n",
       "      <td>122</td>\n",
       "      <td></td>\n",
       "      <td>directions</td>\n",
       "    </tr>\n",
       "    <tr>\n",
       "      <th>1095</th>\n",
       "      <td>ADP</td>\n",
       "      <td>122</td>\n",
       "      <td></td>\n",
       "      <td>to</td>\n",
       "    </tr>\n",
       "    <tr>\n",
       "      <th>1096</th>\n",
       "      <td>PROPN</td>\n",
       "      <td>122</td>\n",
       "      <td>Destination</td>\n",
       "      <td>Jb</td>\n",
       "    </tr>\n",
       "    <tr>\n",
       "      <th>1097</th>\n",
       "      <td>PROPN</td>\n",
       "      <td>122</td>\n",
       "      <td>Destination</td>\n",
       "      <td>0v</td>\n",
       "    </tr>\n",
       "    <tr>\n",
       "      <th>1098</th>\n",
       "      <td>PROPN</td>\n",
       "      <td>122</td>\n",
       "      <td>Destination</td>\n",
       "      <td>R5</td>\n",
       "    </tr>\n",
       "    <tr>\n",
       "      <th>1099</th>\n",
       "      <td>PROPN</td>\n",
       "      <td>122</td>\n",
       "      <td>Destination</td>\n",
       "      <td>fB</td>\n",
       "    </tr>\n",
       "    <tr>\n",
       "      <th>1100</th>\n",
       "      <td>PROPN</td>\n",
       "      <td>122</td>\n",
       "      <td>Destination</td>\n",
       "      <td>sw</td>\n",
       "    </tr>\n",
       "  </tbody>\n",
       "</table>\n",
       "</div>"
      ],
      "text/plain": [
       "        POS  Sentence          Tag        Word\n",
       "1091   VERB       122                      got\n",
       "1092   PART       122                       to\n",
       "1093    AUX       122                      get\n",
       "1094   NOUN       122               directions\n",
       "1095    ADP       122                       to\n",
       "1096  PROPN       122  Destination          Jb\n",
       "1097  PROPN       122  Destination          0v\n",
       "1098  PROPN       122  Destination          R5\n",
       "1099  PROPN       122  Destination          fB\n",
       "1100  PROPN       122  Destination          sw"
      ]
     },
     "execution_count": 123,
     "metadata": {},
     "output_type": "execute_result"
    }
   ],
   "source": [
    "df.tail(10)"
   ]
  },
  {
   "cell_type": "code",
   "execution_count": 124,
   "metadata": {},
   "outputs": [
    {
     "data": {
      "text/plain": [
       "283"
      ]
     },
     "execution_count": 124,
     "metadata": {},
     "output_type": "execute_result"
    }
   ],
   "source": [
    "words = list(set(df[\"Word\"].values))\n",
    "words.append(\"ENDPAD\")\n",
    "words.append(\"Unknown\")\n",
    "n_words = len(words); n_words"
   ]
  },
  {
   "cell_type": "code",
   "execution_count": 125,
   "metadata": {},
   "outputs": [
    {
     "name": "stdout",
     "output_type": "stream",
     "text": [
      "2 13\n"
     ]
    }
   ],
   "source": [
    "tags = list(set(df[\"Tag\"].values))\n",
    "n_tags = len(tags); n_tags\n",
    "\n",
    "pos = list(set(df[\"POS\"].values))\n",
    "pos.append(\"BLANK\")\n",
    "pos_tags = len(pos)\n",
    "print(n_tags,pos_tags)"
   ]
  },
  {
   "cell_type": "code",
   "execution_count": 126,
   "metadata": {},
   "outputs": [],
   "source": [
    "agg_func = lambda s: [(w, p, t) for w, p, t in zip(s[\"Word\"].values.tolist(),\n",
    "                                                   s[\"POS\"].values.tolist(),\n",
    "                                                   s[\"Tag\"].values.tolist())]\n",
    "grouped = df.groupby(\"Sentence\").apply(agg_func)"
   ]
  },
  {
   "cell_type": "code",
   "execution_count": 127,
   "metadata": {},
   "outputs": [],
   "source": [
    "sentences = [s for s in grouped]"
   ]
  },
  {
   "cell_type": "code",
   "execution_count": 128,
   "metadata": {},
   "outputs": [
    {
     "name": "stdout",
     "output_type": "stream",
     "text": [
      "[('directions', 'NOUN', ''), ('to', 'ADP', ''), ('Unknown', 'PROPN', 'Destination')]\n"
     ]
    }
   ],
   "source": [
    "print(sentences[0])"
   ]
  },
  {
   "cell_type": "code",
   "execution_count": 129,
   "metadata": {},
   "outputs": [],
   "source": [
    "def yield_sentence():\n",
    "    for group in grouped:\n",
    "        yield group\n",
    "    yield None"
   ]
  },
  {
   "cell_type": "code",
   "execution_count": 130,
   "metadata": {},
   "outputs": [
    {
     "name": "stdout",
     "output_type": "stream",
     "text": [
      "[('directions', 'NOUN', ''), ('to', 'ADP', ''), ('Unknown', 'PROPN', 'Destination')]\n",
      "-------\n",
      "[('directions', 'NOUN', ''), ('Unknown', 'ADP', ''), ('5y', 'PROPN', 'Destination'), ('xW', 'PROPN', 'Destination'), ('XK', 'PROPN', 'Destination'), ('2l', 'PROPN', 'Destination'), ('xW', 'PROPN', 'Destination'), ('home', 'ADV', '')]\n",
      "-------\n",
      "[('directions', 'NOUN', ''), ('to', 'ADP', ''), ('L', 'PROPN', 'Destination'), ('l', 'PROPN', 'Destination'), ('s', 'PROPN', 'Destination'), ('W', 'PROPN', 'Destination'), ('d', 'PROPN', 'Destination'), ('w', 'PROPN', 'Destination'), ('o', 'PROPN', 'Destination'), ('5', 'PROPN', 'Destination'), ('h', 'PROPN', 'Destination'), ('N', 'PROPN', 'Destination'), ('work', 'NOUN', '')]\n",
      "-------\n",
      "[('directions', 'NOUN', ''), ('to', 'ADP', ''), ('the', 'DET', ''), ('closest', 'ADJ', ''), ('ouVM', 'PROPN', 'Destination'), ('nXel', 'PROPN', 'Destination'), ('xy', 'PROPN', 'Destination')]\n",
      "-------\n",
      "[('directions', 'NOUN', ''), ('to', 'ADP', ''), ('Unknown', 'DET', ''), ('nearest', 'ADJ', ''), ('Uc4h', 'PROPN', 'Destination'), ('apWl', 'PROPN', 'Destination'), ('Yu', 'PROPN', 'Destination')]\n",
      "-------\n",
      "[('directions', 'NOUN', ''), ('to', 'PART', ''), ('go', 'VERB', ''), ('home', 'ADV', '')]\n",
      "-------\n",
      "[('directions', 'NOUN', ''), ('to', 'PART', ''), ('go', 'VERB', ''), ('to', 'ADP', ''), ('5ShV', 'PROPN', 'Destination'), ('M7JR', 'PROPN', 'Destination'), ('zx', 'PROPN', 'Destination')]\n",
      "-------\n",
      "[('directions', 'NOUN', ''), ('to', 'PART', ''), ('go', 'VERB', ''), ('to', 'ADP', ''), ('o', 'PROPN', 'Destination'), ('d', 'PROPN', 'Destination'), ('J', 'PROPN', 'Destination'), ('j', 'PROPN', 'Destination'), ('t', 'PROPN', 'Destination'), ('n', 'PROPN', 'Destination'), ('X', 'PROPN', 'Destination'), ('1', 'PROPN', 'Destination'), ('2', 'PROPN', 'Destination'), ('B', 'PROPN', 'Destination'), ('home', 'ADV', '')]\n",
      "-------\n",
      "[('directions', 'NOUN', ''), ('to', 'PART', ''), ('go', 'VERB', ''), ('to', 'ADP', ''), ('l', 'PROPN', 'Destination'), ('L', 'PROPN', 'Destination'), ('e', 'PROPN', 'Destination'), ('w', 'PROPN', 'Destination'), ('n', 'PROPN', 'Destination'), ('U', 'PROPN', 'Destination'), ('1', 'PROPN', 'Destination'), ('Q', 'PROPN', 'Destination'), ('R', 'PROPN', 'Destination'), ('x', 'PROPN', 'Destination'), ('work', 'NOUN', '')]\n",
      "-------\n",
      "[('Unknown', 'NOUN', ''), ('to', 'PART', ''), ('go', 'VERB', ''), ('to', 'ADP', ''), ('the', 'DET', ''), ('closest', 'ADJ', ''), ('xm', 'PROPN', 'Destination'), ('hH', 'PROPN', 'Destination'), ('Q5', 'PROPN', 'Destination'), ('Yk', 'PROPN', 'Destination'), ('0B', 'PROPN', 'Destination')]\n",
      "-------\n",
      "[('directions', 'NOUN', ''), ('to', 'PART', ''), ('go', 'VERB', ''), ('to', 'ADP', ''), ('the', 'DET', ''), ('nearest', 'ADJ', ''), ('T', 'PROPN', 'Destination'), ('R', 'PROPN', 'Destination'), ('X', 'PROPN', 'Destination'), ('C', 'PROPN', 'Destination'), ('d', 'PROPN', 'Destination'), ('g', 'PROPN', 'Destination'), ('X', 'PROPN', 'Destination'), ('a', 'PROPN', 'Destination'), ('u', 'PROPN', 'Destination'), ('p', 'PROPN', 'Destination')]\n",
      "-------\n",
      "[('Unknown', 'PRON', ''), ('Unknown', 'VERB', ''), ('to', 'PART', ''), ('navigate', 'VERB', ''), ('to', 'ADP', ''), ('Unknown', 'PROPN', 'Destination')]\n",
      "-------\n",
      "[('I', 'PRON', ''), ('got', 'VERB', ''), ('to', 'PART', ''), ('navigate', 'VERB', ''), ('to', 'ADP', ''), ('Unknown', 'PROPN', 'Destination'), ('home', 'ADV', '')]\n",
      "-------\n",
      "[('I', 'PRON', ''), ('Unknown', 'VERB', ''), ('to', 'PART', ''), ('navigate', 'VERB', ''), ('to', 'ADP', ''), ('Unknown', 'PROPN', 'Destination'), ('work', 'NOUN', '')]\n",
      "-------\n",
      "[('I', 'PRON', ''), ('got', 'VERB', ''), ('to', 'PART', ''), ('navigate', 'VERB', ''), ('to', 'ADP', ''), ('the', 'DET', ''), ('nearest', 'ADJ', ''), ('cG', 'PROPN', 'Destination'), ('46', 'PROPN', 'Destination'), ('4N', 'PROPN', 'Destination'), ('XB', 'PROPN', 'Destination'), ('zp', 'PROPN', 'Destination')]\n",
      "-------\n",
      "[('I', 'PRON', ''), ('have', 'AUX', ''), ('to', 'PART', ''), ('navigate', 'VERB', ''), ('to', 'ADP', ''), ('t0y', 'PROPN', 'Destination'), ('N5J', 'PROPN', 'Destination'), ('zF6', 'PROPN', 'Destination'), ('D', 'PROPN', 'Destination')]\n",
      "-------\n",
      "[('I', 'PRON', ''), ('Unknown', 'AUX', ''), ('to', 'PART', ''), ('navigate', 'VERB', ''), ('Unknown', 'ADP', ''), ('W6yw', 'PROPN', 'Destination'), ('Clnk', 'PROPN', 'Destination'), ('DT', 'PROPN', 'Destination'), ('home', 'ADV', '')]\n",
      "-------\n",
      "[('I', 'PRON', ''), ('have', 'AUX', ''), ('to', 'PART', ''), ('Unknown', 'VERB', ''), ('to', 'ADP', ''), ('zIz', 'PROPN', 'Destination'), ('Kos', 'PROPN', 'Destination'), ('OvN', 'PROPN', 'Destination'), ('U', 'PROPN', 'Destination'), ('work', 'NOUN', '')]\n",
      "-------\n",
      "[('I', 'PRON', ''), ('have', 'AUX', ''), ('to', 'PART', ''), ('navigate', 'VERB', ''), ('to', 'ADP', ''), ('the', 'DET', ''), ('nearest', 'ADJ', ''), ('Mj', 'PROPN', 'Destination'), ('9N', 'PROPN', 'Destination'), ('zU', 'PROPN', 'Destination'), ('Hv', 'PROPN', 'Destination'), ('lH', 'PROPN', 'Destination')]\n",
      "-------\n",
      "[('I', 'PRON', ''), ('need', 'VERB', ''), ('to', 'PART', ''), ('navigate', 'VERB', ''), ('to', 'ADP', ''), ('AZWT', 'PROPN', 'Destination'), ('rklk', 'PROPN', 'Destination'), ('Nz', 'PROPN', 'Destination')]\n",
      "-------\n",
      "[('Unknown', 'PRON', ''), ('Unknown', 'VERB', ''), ('to', 'PART', ''), ('navigate', 'VERB', ''), ('to', 'ADP', ''), ('p', 'PROPN', 'Destination'), ('Z', 'PROPN', 'Destination'), ('y', 'PROPN', 'Destination'), ('F', 'PROPN', 'Destination'), ('o', 'PROPN', 'Destination'), ('q', 'PROPN', 'Destination'), ('0', 'PROPN', 'Destination'), ('i', 'PROPN', 'Destination'), ('j', 'PROPN', 'Destination'), ('y', 'PROPN', 'Destination'), ('home', 'ADV', '')]\n",
      "-------\n",
      "[('I', 'PRON', ''), ('need', 'VERB', ''), ('to', 'PART', ''), ('Unknown', 'VERB', ''), ('to', 'ADP', ''), ('oT4', 'PROPN', 'Destination'), ('u58', 'PROPN', 'Destination'), ('yHk', 'PROPN', 'Destination'), ('g', 'PROPN', 'Destination'), ('work', 'NOUN', '')]\n",
      "-------\n",
      "[('Unknown', 'PRON', ''), ('Unknown', 'VERB', ''), ('Unknown', 'PART', ''), ('navigate', 'VERB', ''), ('to', 'ADP', ''), ('the', 'DET', ''), ('nearest', 'ADJ', ''), ('Unknown', 'PROPN', 'Destination')]\n",
      "-------\n",
      "[('I', 'PRON', ''), ('want', 'VERB', ''), ('to', 'PART', ''), ('navigate', 'VERB', ''), ('to', 'ADP', ''), ('tl', 'PROPN', 'Destination'), ('3t', 'PROPN', 'Destination'), ('1D', 'PROPN', 'Destination'), ('B9', 'PROPN', 'Destination'), ('QC', 'PROPN', 'Destination')]\n",
      "-------\n",
      "[('I', 'PRON', ''), ('want', 'VERB', ''), ('to', 'PART', ''), ('Unknown', 'VERB', ''), ('Unknown', 'ADP', ''), ('Unknown', 'PROPN', 'Destination'), ('Unknown', 'ADV', '')]\n",
      "-------\n",
      "[('Unknown', 'PRON', ''), ('want', 'VERB', ''), ('to', 'PART', ''), ('navigate', 'VERB', ''), ('to', 'ADP', ''), ('Unknown', 'PROPN', 'Destination'), ('work', 'NOUN', '')]\n",
      "-------\n",
      "[('I', 'PRON', ''), ('want', 'VERB', ''), ('to', 'PART', ''), ('navigate', 'VERB', ''), ('to', 'ADP', ''), ('the', 'DET', ''), ('Unknown', 'ADJ', ''), ('Unknown', 'PROPN', 'Destination')]\n",
      "-------\n",
      "[('I', 'PRON', ''), ('got', 'VERB', ''), ('to', 'PART', ''), ('navigate', 'VERB', ''), ('home', 'NOUN', '')]\n",
      "-------\n",
      "[('I', 'PRON', ''), ('have', 'AUX', ''), ('to', 'PART', ''), ('navigate', 'VERB', ''), ('Unknown', 'NOUN', '')]\n",
      "-------\n",
      "[('I', 'PRON', ''), ('need', 'VERB', ''), ('to', 'PART', ''), ('Unknown', 'VERB', ''), ('home', 'NOUN', '')]\n",
      "-------\n",
      "[('I', 'PRON', ''), ('want', 'VERB', ''), ('to', 'PART', ''), ('navigate', 'VERB', ''), ('home', 'NOUN', '')]\n",
      "-------\n",
      "[('navigate', 'VERB', ''), ('to', 'ADP', ''), ('tT', 'PROPN', 'Destination'), ('fn', 'PROPN', 'Destination'), ('mN', 'PROPN', 'Destination'), ('Zo', 'PROPN', 'Destination'), ('oY', 'PROPN', 'Destination')]\n",
      "-------\n",
      "[('navigate', 'VERB', ''), ('to', 'ADP', ''), ('M0', 'PROPN', 'Destination'), ('jy', 'PROPN', 'Destination'), ('Fq', 'PROPN', 'Destination'), ('UP', 'PROPN', 'Destination'), ('ld', 'PROPN', 'Destination'), ('home', 'ADV', '')]\n",
      "-------\n",
      "[('navigate', 'VERB', ''), ('to', 'ADP', ''), ('g5B', 'PROPN', 'Destination'), ('COE', 'PROPN', 'Destination'), ('25O', 'PROPN', 'Destination'), ('R', 'PROPN', 'Destination'), ('work', 'NOUN', '')]\n",
      "-------\n",
      "[('Unknown', 'VERB', ''), ('to', 'ADP', ''), ('Unknown', 'DET', ''), ('nearest', 'ADJ', ''), ('5', 'PROPN', 'Destination'), ('s', 'PROPN', 'Destination'), ('y', 'PROPN', 'Destination'), ('k', 'PROPN', 'Destination'), ('W', 'PROPN', 'Destination'), ('N', 'PROPN', 'Destination'), ('k', 'PROPN', 'Destination'), ('O', 'PROPN', 'Destination'), ('s', 'PROPN', 'Destination'), ('g', 'PROPN', 'Destination')]\n",
      "-------\n",
      "[('navigate', 'PROPN', ''), ('home', 'PROPN', '')]\n",
      "-------\n",
      "[('I', 'PRON', ''), ('need', 'VERB', ''), ('to', 'PART', ''), ('go', 'VERB', ''), ('Unknown', 'ADP', ''), ('a', 'DET', ''), ('Ru', 'PROPN', 'Destination'), ('SN', 'PROPN', 'Destination'), ('Pw', 'PROPN', 'Destination'), ('cE', 'PROPN', 'Destination'), ('kH', 'PROPN', 'Destination'), (',', 'PUNCT', ''), ('navigate', 'VERB', ''), ('to', 'ADP', ''), ('Unknown', 'DET', ''), ('nearest', 'ADJ', ''), ('one', 'NUM', '')]\n",
      "-------\n",
      "[('I', 'PRON', ''), ('want', 'VERB', ''), ('to', 'PART', ''), ('go', 'VERB', ''), ('to', 'ADP', ''), ('a', 'DET', ''), ('Unknown', 'PROPN', 'Destination'), (',', 'PUNCT', ''), ('navigate', 'VERB', ''), ('to', 'ADP', ''), ('the', 'DET', ''), ('nearest', 'ADJ', ''), ('one', 'NUM', '')]\n",
      "-------\n",
      "[('I', 'PRON', ''), ('need', 'VERB', ''), ('Unknown', 'PART', ''), ('go', 'VERB', ''), ('Unknown', 'ADP', ''), ('a', 'DET', ''), ('H', 'PROPN', 'Destination'), ('B', 'PROPN', 'Destination'), ('I', 'PROPN', 'Destination'), ('4', 'PROPN', 'Destination'), ('T', 'PROPN', 'Destination'), ('u', 'PROPN', 'Destination'), ('n', 'PROPN', 'Destination'), ('d', 'PROPN', 'Destination'), ('4', 'PROPN', 'Destination'), ('N', 'PROPN', 'Destination'), (',', 'PUNCT', ''), ('go', 'VERB', ''), ('directions', 'NOUN', ''), ('to', 'ADP', ''), ('the', 'DET', ''), ('nearest', 'ADJ', ''), ('one', 'NUM', '')]\n",
      "-------\n",
      "[('I', 'PRON', ''), ('want', 'VERB', ''), ('to', 'PART', ''), ('go', 'VERB', ''), ('to', 'ADP', ''), ('a', 'DET', ''), ('5iu', 'PROPN', 'Destination'), ('RTp', 'PROPN', 'Destination'), ('KRH', 'PROPN', 'Destination'), ('U', 'PROPN', 'Destination'), (',', 'PUNCT', ''), ('go', 'VERB', ''), ('directions', 'NOUN', ''), ('to', 'ADP', ''), ('the', 'DET', ''), ('nearest', 'ADJ', ''), ('one', 'NUM', '')]\n",
      "-------\n",
      "[('I', 'PRON', ''), ('need', 'VERB', ''), ('to', 'PART', ''), ('Unknown', 'VERB', ''), ('to', 'ADP', ''), ('a', 'DET', ''), ('M3qC', 'PROPN', 'Destination'), ('224w', 'PROPN', 'Destination'), ('J0', 'PROPN', 'Destination'), (',', 'PUNCT', ''), ('navigate', 'VERB', ''), ('Unknown', 'ADP', ''), ('the', 'DET', ''), ('closest', 'ADJ', ''), ('one', 'NUM', '')]\n",
      "-------\n",
      "[('Unknown', 'PRON', ''), ('want', 'VERB', ''), ('to', 'PART', ''), ('go', 'VERB', ''), ('to', 'ADP', ''), ('a', 'DET', ''), ('hnmn', 'PROPN', 'Destination'), ('8NrF', 'PROPN', 'Destination'), ('Y8', 'PROPN', 'Destination'), (',', 'PUNCT', ''), ('navigate', 'VERB', ''), ('to', 'ADP', ''), ('the', 'DET', ''), ('closest', 'ADJ', ''), ('one', 'NUM', '')]\n",
      "-------\n",
      "[('I', 'PRON', ''), ('need', 'VERB', ''), ('to', 'PART', ''), ('go', 'VERB', ''), ('to', 'ADP', ''), ('a', 'DET', ''), ('Unknown', 'PROPN', 'Destination'), (',', 'PUNCT', ''), ('Unknown', 'VERB', ''), ('directions', 'NOUN', ''), ('Unknown', 'ADP', ''), ('the', 'DET', ''), ('closest', 'ADJ', ''), ('one', 'NUM', '')]\n",
      "-------\n",
      "[('I', 'PRON', ''), ('want', 'VERB', ''), ('to', 'PART', ''), ('go', 'VERB', ''), ('to', 'ADP', ''), ('a', 'DET', ''), ('I', 'PROPN', 'Destination'), ('Q', 'PROPN', 'Destination'), ('a', 'PROPN', 'Destination'), ('N', 'PROPN', 'Destination'), ('A', 'PROPN', 'Destination'), ('V', 'PROPN', 'Destination'), ('x', 'PROPN', 'Destination'), ('w', 'PROPN', 'Destination'), ('w', 'PROPN', 'Destination'), ('f', 'PROPN', 'Destination'), (',', 'PUNCT', ''), ('go', 'VERB', ''), ('directions', 'NOUN', ''), ('to', 'ADP', ''), ('the', 'DET', ''), ('closest', 'ADJ', ''), ('one', 'NUM', '')]\n",
      "-------\n",
      "[('I', 'PRON', ''), ('need', 'VERB', ''), ('Unknown', 'PART', ''), ('go', 'VERB', ''), ('to', 'ADP', ''), ('a', 'DET', ''), ('Unknown', 'PROPN', 'Destination'), (',', 'PUNCT', ''), ('drive', 'VERB', ''), ('me', 'PRON', ''), ('to', 'ADP', ''), ('Unknown', 'DET', ''), ('closest', 'ADJ', ''), ('one', 'NUM', '')]\n",
      "-------\n",
      "[('I', 'PRON', ''), ('need', 'VERB', ''), ('to', 'PART', ''), ('go', 'VERB', ''), ('to', 'ADP', ''), ('a', 'DET', ''), ('0f', 'PROPN', 'Destination'), ('bO', 'PROPN', 'Destination'), ('hp', 'PROPN', 'Destination'), ('OH', 'PROPN', 'Destination'), ('RC', 'PROPN', 'Destination'), (',', 'PUNCT', ''), ('drive', 'VERB', ''), ('me', 'PRON', ''), ('to', 'ADP', ''), ('the', 'DET', ''), ('nearest', 'ADJ', ''), ('one', 'NUM', '')]\n",
      "-------\n",
      "[('I', 'PRON', ''), ('Unknown', 'VERB', ''), ('to', 'PART', ''), ('go', 'VERB', ''), ('to', 'ADP', ''), ('a', 'DET', ''), ('LPj', 'PROPN', 'Destination'), ('QM9', 'PROPN', 'Destination'), ('KoN', 'PROPN', 'Destination'), ('b', 'PROPN', 'Destination'), (',', 'PUNCT', ''), ('get', 'AUX', ''), ('me', 'PRON', ''), ('Unknown', 'ADP', ''), ('the', 'DET', ''), ('closest', 'ADJ', ''), ('one', 'NUM', '')]\n",
      "-------\n",
      "[('drive', 'VERB', ''), ('to', 'ADP', ''), ('nM', 'PROPN', 'Destination'), ('Jl', 'PROPN', 'Destination'), ('rx', 'PROPN', 'Destination'), ('mD', 'PROPN', 'Destination'), ('z1', 'PROPN', 'Destination')]\n",
      "-------\n",
      "[('drive', 'VERB', ''), ('to', 'ADP', ''), ('0IJz', 'PROPN', 'Destination'), ('teBX', 'PROPN', 'Destination'), ('Z7', 'PROPN', 'Destination'), ('home', 'ADV', '')]\n",
      "-------\n",
      "[('drive', 'VERB', ''), ('to', 'ADP', ''), ('WBS', 'PROPN', 'Destination'), ('9au', 'PROPN', 'Destination'), ('un0', 'PROPN', 'Destination'), ('b', 'PROPN', 'Destination'), ('office', 'NOUN', '')]\n",
      "-------\n",
      "[('drive', 'VERB', ''), ('to', 'ADP', ''), ('Unknown', 'PROPN', 'Destination'), ('work', 'NOUN', '')]\n",
      "-------\n",
      "[('drive', 'VERB', ''), ('to', 'ADP', ''), ('the', 'DET', ''), ('closest', 'ADJ', ''), ('L87', 'PROPN', 'Destination'), ('l7x', 'PROPN', 'Destination'), ('Goa', 'PROPN', 'Destination'), ('w', 'PROPN', 'Destination')]\n",
      "-------\n",
      "[('drive', 'VERB', ''), ('to', 'ADP', ''), ('Unknown', 'DET', ''), ('nearest', 'ADJ', ''), ('Unknown', 'PROPN', 'Destination')]\n",
      "-------\n",
      "[('get', 'AUX', ''), ('to', 'ADP', ''), ('c', 'PROPN', 'Destination'), ('n', 'PROPN', 'Destination'), ('1', 'PROPN', 'Destination'), ('0', 'PROPN', 'Destination'), ('8', 'PROPN', 'Destination'), ('1', 'PROPN', 'Destination'), ('W', 'PROPN', 'Destination'), ('m', 'PROPN', 'Destination'), ('O', 'PROPN', 'Destination'), ('4', 'PROPN', 'Destination')]\n",
      "-------\n",
      "[('get', 'AUX', ''), ('to', 'ADP', ''), ('e', 'PROPN', 'Destination'), ('9', 'PROPN', 'Destination'), ('g', 'PROPN', 'Destination'), ('9', 'PROPN', 'Destination'), ('v', 'PROPN', 'Destination'), ('W', 'PROPN', 'Destination'), ('d', 'PROPN', 'Destination'), ('Y', 'PROPN', 'Destination'), ('0', 'PROPN', 'Destination'), ('6', 'PROPN', 'Destination'), ('home', 'ADV', '')]\n",
      "-------\n",
      "[('get', 'AUX', ''), ('to', 'ADP', ''), ('qazU', 'PROPN', 'Destination'), ('e85V', 'PROPN', 'Destination'), ('xY', 'PROPN', 'Destination'), ('office', 'NOUN', '')]\n",
      "-------\n",
      "[('get', 'AUX', ''), ('to', 'ADP', ''), ('Unknown', 'PROPN', 'Destination'), ('work', 'NOUN', '')]\n",
      "-------\n",
      "[('get', 'AUX', ''), ('to', 'ADP', ''), ('Unknown', 'DET', ''), ('closest', 'ADJ', ''), ('gTH', 'PROPN', 'Destination'), ('mF8', 'PROPN', 'Destination'), ('tGg', 'PROPN', 'Destination'), ('b', 'PROPN', 'Destination')]\n",
      "-------\n",
      "[('get', 'AUX', ''), ('to', 'ADP', ''), ('the', 'DET', ''), ('nearest', 'ADJ', ''), ('EyO', 'NOUN', 'Destination'), ('pII', 'NOUN', 'Destination'), ('iFa', 'NOUN', 'Destination'), ('T', 'NOUN', 'Destination')]\n",
      "-------\n",
      "[('go', 'VERB', ''), ('to', 'ADP', ''), ('wF', 'PROPN', 'Destination'), ('tN', 'PROPN', 'Destination'), ('69', 'PROPN', 'Destination'), ('s3', 'PROPN', 'Destination'), ('n2', 'PROPN', 'Destination')]\n",
      "-------\n",
      "[('go', 'VERB', ''), ('to', 'ADP', ''), ('TT', 'PROPN', 'Destination'), ('AA', 'PROPN', 'Destination'), ('A0', 'PROPN', 'Destination'), ('SD', 'PROPN', 'Destination'), ('Dg', 'PROPN', 'Destination'), ('home', 'ADV', '')]\n",
      "-------\n",
      "[('go', 'VERB', ''), ('to', 'ADP', ''), ('8R0', 'PROPN', 'Destination'), ('cb9', 'PROPN', 'Destination'), ('iBt', 'PROPN', 'Destination'), ('e', 'PROPN', 'Destination'), ('office', 'NOUN', '')]\n",
      "-------\n",
      "[('go', 'VERB', ''), ('to', 'ADP', ''), ('Unknown', 'PROPN', 'Destination'), ('work', 'NOUN', '')]\n",
      "-------\n",
      "[('go', 'VERB', ''), ('to', 'ADP', ''), ('the', 'DET', ''), ('closest', 'ADJ', ''), ('l7B3', 'PROPN', 'Destination'), ('avle', 'PROPN', 'Destination'), ('h0', 'PROPN', 'Destination')]\n",
      "-------\n",
      "[('go', 'VERB', ''), ('to', 'ADP', ''), ('the', 'DET', ''), ('nearest', 'ADJ', ''), ('17Ha', 'PROPN', 'Destination'), ('TjSx', 'PROPN', 'Destination'), ('OQ', 'PROPN', 'Destination')]\n",
      "-------\n",
      "[('let', 'VERB', ''), (\"'s\", 'PRON', ''), ('go', 'VERB', ''), ('to', 'ADP', ''), ('JWHJ', 'PROPN', 'Destination'), ('rb6j', 'PROPN', 'Destination'), ('qZ', 'PROPN', 'Destination')]\n",
      "-------\n",
      "[('let', 'VERB', ''), (\"'s\", 'PRON', ''), ('go', 'VERB', ''), ('to', 'ADP', ''), ('4', 'PROPN', 'Destination'), ('t', 'PROPN', 'Destination'), ('F', 'PROPN', 'Destination'), ('C', 'PROPN', 'Destination'), ('v', 'PROPN', 'Destination'), ('D', 'PROPN', 'Destination'), ('P', 'PROPN', 'Destination'), ('h', 'PROPN', 'Destination'), ('l', 'PROPN', 'Destination'), ('M', 'PROPN', 'Destination'), ('home', 'ADV', '')]\n",
      "-------\n",
      "[('Unknown', 'VERB', ''), (\"'s\", 'PRON', ''), ('go', 'VERB', ''), ('to', 'ADP', ''), ('1uqq', 'PROPN', 'Destination'), ('g6O9', 'PROPN', 'Destination'), ('kq', 'PROPN', 'Destination'), ('office', 'NOUN', '')]\n",
      "-------\n",
      "[('let', 'VERB', ''), (\"'s\", 'PRON', ''), ('go', 'VERB', ''), ('to', 'ADP', ''), ('Unknown', 'PROPN', 'Destination'), ('work', 'NOUN', '')]\n",
      "-------\n",
      "[('let', 'VERB', ''), (\"'s\", 'PRON', ''), ('go', 'VERB', ''), ('to', 'ADP', ''), ('the', 'DET', ''), ('closest', 'ADJ', ''), ('Unknown', 'PROPN', ''), (\"'s\", 'PART', ''), ('go', 'NOUN', ''), ('to', 'ADP', ''), ('the', 'DET', ''), ('nearest', 'ADJ', ''), ('Unknown', 'PROPN', 'Destination')]\n",
      "-------\n",
      "[('navigate', 'VERB', ''), ('to', 'ADP', ''), ('MpJ', 'PROPN', 'Destination'), ('mW2', 'PROPN', 'Destination'), ('SMk', 'PROPN', 'Destination'), ('9', 'PROPN', 'Destination'), ('office', 'NOUN', '')]\n",
      "-------\n",
      "[('get', 'AUX', ''), ('directions', 'NOUN', ''), ('home', 'ADV', '')]\n",
      "-------\n",
      "[('get', 'AUX', ''), ('directions', 'NOUN', ''), ('to', 'ADP', ''), ('Unknown', 'PROPN', 'Destination')]\n",
      "-------\n",
      "[('get', 'AUX', ''), ('directions', 'NOUN', ''), ('to', 'ADP', ''), ('Yz9', 'PROPN', 'Destination'), ('A3V', 'PROPN', 'Destination'), ('rao', 'PROPN', 'Destination'), ('9', 'PROPN', 'Destination'), ('Unknown', 'ADV', '')]\n",
      "-------\n",
      "[('get', 'AUX', ''), ('directions', 'NOUN', ''), ('to', 'ADP', ''), ('epk', 'PROPN', 'Destination'), ('StK', 'PROPN', 'Destination'), ('KhK', 'PROPN', 'Destination'), ('2', 'PROPN', 'Destination'), ('office', 'NOUN', '')]\n",
      "-------\n",
      "[('get', 'AUX', ''), ('directions', 'NOUN', ''), ('Unknown', 'ADP', ''), ('0UDw', 'PROPN', 'Destination'), ('1gjy', 'PROPN', 'Destination'), ('5o', 'PROPN', 'Destination'), ('work', 'NOUN', '')]\n",
      "-------\n",
      "[('get', 'AUX', ''), ('directions', 'NOUN', ''), ('to', 'ADP', ''), ('the', 'DET', ''), ('closest', 'ADJ', ''), ('jgD', 'PROPN', 'Destination'), ('zOQ', 'PROPN', 'Destination'), ('lSB', 'PROPN', 'Destination'), ('F', 'PROPN', 'Destination')]\n",
      "-------\n",
      "[('get', 'AUX', ''), ('directions', 'NOUN', ''), ('to', 'ADP', ''), ('Unknown', 'DET', ''), ('nearest', 'ADJ', ''), ('wm', 'PROPN', 'Destination'), ('wN', 'PROPN', 'Destination'), ('Et', 'PROPN', 'Destination'), ('WE', 'PROPN', 'Destination'), ('aM', 'PROPN', 'Destination')]\n",
      "-------\n",
      "[('Unknown', 'AUX', ''), ('directions', 'NOUN', ''), ('to', 'PART', ''), ('go', 'VERB', ''), ('home', 'ADV', '')]\n",
      "-------\n",
      "[('get', 'AUX', ''), ('directions', 'NOUN', ''), ('to', 'PART', ''), ('go', 'VERB', ''), ('home', 'ADV', '')]\n",
      "-------\n",
      "[('get', 'AUX', ''), ('directions', 'NOUN', ''), ('to', 'PART', ''), ('go', 'VERB', ''), ('to', 'ADP', ''), ('SsSI', 'PROPN', 'Destination'), ('FDkt', 'PROPN', 'Destination'), ('PY', 'PROPN', 'Destination')]\n",
      "-------\n",
      "[('get', 'AUX', ''), ('directions', 'NOUN', ''), ('to', 'PART', ''), ('go', 'VERB', ''), ('to', 'ADP', ''), ('nTl2', 'PROPN', 'Destination'), ('oOg6', 'PROPN', 'Destination'), ('pn', 'PROPN', 'Destination'), ('home', 'ADV', '')]\n",
      "-------\n",
      "[('get', 'AUX', ''), ('directions', 'NOUN', ''), ('to', 'PART', ''), ('go', 'VERB', ''), ('to', 'ADP', ''), ('Unknown', 'PROPN', 'Destination'), ('office', 'NOUN', '')]\n",
      "-------\n",
      "[('get', 'AUX', ''), ('directions', 'NOUN', ''), ('to', 'PART', ''), ('Unknown', 'VERB', ''), ('to', 'ADP', ''), ('Unknown', 'PROPN', 'Destination'), ('work', 'NOUN', '')]\n",
      "-------\n",
      "[('get', 'AUX', ''), ('directions', 'NOUN', ''), ('Unknown', 'PART', ''), ('Unknown', 'VERB', ''), ('to', 'ADP', ''), ('the', 'DET', ''), ('closest', 'ADJ', ''), ('re', 'PROPN', 'Destination'), ('YO', 'PROPN', 'Destination'), ('H8', 'PROPN', 'Destination'), ('lY', 'PROPN', 'Destination'), ('f9', 'PROPN', 'Destination')]\n",
      "-------\n",
      "[('get', 'AUX', ''), ('directions', 'NOUN', ''), ('to', 'PART', ''), ('go', 'VERB', ''), ('to', 'ADP', ''), ('the', 'DET', ''), ('nearest', 'ADJ', ''), ('Unknown', 'PROPN', 'Destination')]\n",
      "-------\n",
      "[('drive', 'VERB', ''), ('home', 'ADV', '')]\n",
      "-------\n",
      "[('get', 'AUX', ''), ('home', 'ADV', '')]\n",
      "-------\n",
      "[('go', 'VERB', ''), ('home', 'ADV', '')]\n",
      "-------\n",
      "[('let', 'VERB', ''), (\"'s\", 'PRON', ''), ('go', 'VERB', ''), ('home', 'ADV', '')]\n",
      "-------\n",
      "[('drive', 'VERB', ''), ('me', 'PRON', ''), ('to', 'ADP', ''), ('Unknown', 'PROPN', 'Destination')]\n",
      "-------\n",
      "[('drive', 'VERB', ''), ('me', 'PRON', ''), ('to', 'ADP', ''), ('l', 'PROPN', 'Destination'), ('b', 'PROPN', 'Destination'), ('y', 'PROPN', 'Destination'), ('i', 'PROPN', 'Destination'), ('1', 'PROPN', 'Destination'), ('c', 'PROPN', 'Destination'), ('u', 'PROPN', 'Destination'), ('h', 'PROPN', 'Destination'), ('t', 'PROPN', 'Destination'), ('d', 'PROPN', 'Destination'), ('home', 'ADV', '')]\n",
      "-------\n",
      "[('drive', 'VERB', ''), ('me', 'PRON', ''), ('to', 'ADP', ''), ('m', 'PROPN', 'Destination'), ('N', 'PROPN', 'Destination'), ('v', 'PROPN', 'Destination'), ('R', 'PROPN', 'Destination'), ('H', 'PROPN', 'Destination'), ('X', 'PROPN', 'Destination'), ('u', 'PROPN', 'Destination'), ('i', 'PROPN', 'Destination'), ('d', 'PROPN', 'Destination'), ('k', 'PROPN', 'Destination'), ('office', 'NOUN', '')]\n",
      "-------\n",
      "[('drive', 'VERB', ''), ('me', 'PRON', ''), ('to', 'ADP', ''), ('75', 'PROPN', 'Destination'), ('rZ', 'PROPN', 'Destination'), ('Rg', 'PROPN', 'Destination'), ('rP', 'PROPN', 'Destination'), ('in', 'PROPN', 'Destination'), ('work', 'NOUN', '')]\n",
      "-------\n",
      "[('drive', 'VERB', ''), ('me', 'PRON', ''), ('to', 'ADP', ''), ('the', 'DET', ''), ('closest', 'ADJ', ''), ('h', 'PROPN', 'Destination'), ('W', 'PROPN', 'Destination'), ('i', 'PROPN', 'Destination'), ('I', 'PROPN', 'Destination'), ('y', 'PROPN', 'Destination'), ('7', 'PROPN', 'Destination'), ('2', 'PROPN', 'Destination'), ('a', 'PROPN', 'Destination'), ('v', 'PROPN', 'Destination'), ('l', 'PROPN', 'Destination')]\n",
      "-------\n",
      "[('drive', 'VERB', ''), ('me', 'PRON', ''), ('to', 'ADP', ''), ('the', 'DET', ''), ('nearest', 'ADJ', ''), ('Unknown', 'PROPN', 'Destination')]\n",
      "-------\n",
      "[('Unknown', 'AUX', ''), ('me', 'PRON', ''), ('to', 'ADP', ''), ('1kr', 'PROPN', 'Destination'), ('iGA', 'PROPN', 'Destination'), ('BFK', 'PROPN', 'Destination'), ('E', 'PROPN', 'Destination')]\n",
      "-------\n",
      "[('Unknown', 'AUX', ''), ('me', 'PRON', ''), ('to', 'ADP', ''), ('9', 'PROPN', 'Destination'), ('1', 'PROPN', 'Destination'), ('Y', 'PROPN', 'Destination'), ('d', 'PROPN', 'Destination'), ('i', 'PROPN', 'Destination'), ('D', 'PROPN', 'Destination'), ('N', 'PROPN', 'Destination'), ('a', 'PROPN', 'Destination'), ('6', 'PROPN', 'Destination'), ('0', 'PROPN', 'Destination'), ('home', 'ADV', '')]\n",
      "-------\n",
      "[('get', 'AUX', ''), ('me', 'PRON', ''), ('to', 'ADP', ''), ('IEu', 'PROPN', 'Destination'), ('YcS', 'PROPN', 'Destination'), ('1CM', 'PROPN', 'Destination'), ('Q', 'PROPN', 'Destination'), ('office', 'NOUN', '')]\n",
      "-------\n",
      "[('get', 'AUX', ''), ('Unknown', 'PRON', ''), ('to', 'ADP', ''), ('W', 'PROPN', 'Destination'), ('m', 'PROPN', 'Destination'), ('g', 'PROPN', 'Destination'), ('s', 'PROPN', 'Destination'), ('2', 'PROPN', 'Destination'), ('1', 'PROPN', 'Destination'), ('L', 'PROPN', 'Destination'), ('Q', 'PROPN', 'Destination'), ('L', 'PROPN', 'Destination'), ('f', 'PROPN', 'Destination'), ('work', 'NOUN', '')]\n",
      "-------\n",
      "[('get', 'AUX', ''), ('me', 'PRON', ''), ('to', 'ADP', ''), ('the', 'DET', ''), ('closest', 'ADJ', ''), ('W267', 'PROPN', 'Destination'), ('li4T', 'PROPN', 'Destination'), ('cf', 'PROPN', 'Destination')]\n",
      "-------\n",
      "[('get', 'AUX', ''), ('me', 'PRON', ''), ('to', 'ADP', ''), ('Unknown', 'DET', ''), ('nearest', 'ADJ', ''), ('CBzR', 'PROPN', 'Destination'), ('24va', 'PROPN', 'Destination'), ('LI', 'PROPN', 'Destination')]\n",
      "-------\n",
      "[('navigate', 'VERB', ''), ('me', 'PRON', ''), ('to', 'ADP', ''), ('gr', 'PROPN', 'Destination'), ('y3', 'PROPN', 'Destination'), ('Ey', 'PROPN', 'Destination'), ('WH', 'PROPN', 'Destination'), ('ij', 'PROPN', 'Destination')]\n",
      "-------\n",
      "[('navigate', 'VERB', ''), ('me', 'PRON', ''), ('to', 'ADP', ''), ('Q', 'PROPN', 'Destination'), ('M', 'PROPN', 'Destination'), ('p', 'PROPN', 'Destination'), ('d', 'PROPN', 'Destination'), ('N', 'PROPN', 'Destination'), ('m', 'PROPN', 'Destination'), ('g', 'PROPN', 'Destination'), ('T', 'PROPN', 'Destination'), ('N', 'PROPN', 'Destination'), ('x', 'PROPN', 'Destination'), ('home', 'ADV', '')]\n",
      "-------\n",
      "[('navigate', 'VERB', ''), ('me', 'PRON', ''), ('to', 'ADP', ''), ('Unknown', 'PROPN', 'Destination'), ('office', 'NOUN', '')]\n",
      "-------\n",
      "[('navigate', 'VERB', ''), ('me', 'PRON', ''), ('to', 'ADP', ''), ('Q', 'PROPN', 'Destination'), ('x', 'PROPN', 'Destination'), ('N', 'PROPN', 'Destination'), ('M', 'PROPN', 'Destination'), ('b', 'PROPN', 'Destination'), ('T', 'PROPN', 'Destination'), ('x', 'PROPN', 'Destination'), ('k', 'PROPN', 'Destination'), ('F', 'PROPN', 'Destination'), ('S', 'PROPN', 'Destination'), ('work', 'NOUN', '')]\n",
      "-------\n",
      "[('I', 'PRON', ''), ('want', 'VERB', ''), ('to', 'PART', ''), ('go', 'VERB', ''), ('to', 'ADP', ''), ('my', 'PRON', ''), ('parents', 'NOUN', ''), (\"'\", 'PART', ''), ('home', 'NOUN', '')]\n",
      "-------\n",
      "[('I', 'PRON', ''), ('want', 'VERB', ''), ('to', 'PART', ''), ('go', 'VERB', ''), ('to', 'ADP', ''), ('my', 'PRON', ''), ('parents', 'NOUN', ''), (\"'\", 'PART', ''), ('place', 'NOUN', '')]\n",
      "-------\n",
      "[('I', 'PRON', ''), ('want', 'VERB', ''), ('to', 'PART', ''), ('go', 'VERB', ''), ('to', 'ADP', ''), ('my', 'PRON', ''), ('place', 'NOUN', '')]\n",
      "-------\n",
      "[('I', 'PRON', ''), ('want', 'VERB', ''), ('to', 'PART', ''), ('go', 'VERB', ''), ('to', 'ADP', ''), ('the', 'DET', ''), ('Unknown', 'ADJ', ''), ('Unknown', 'PROPN', 'Destination')]\n",
      "-------\n",
      "[('I', 'PRON', ''), ('want', 'VERB', ''), ('to', 'PART', ''), ('go', 'VERB', ''), ('to', 'ADP', ''), ('the', 'DET', ''), ('nearest', 'ADJ', ''), ('Bnh9', 'PROPN', 'Destination'), ('AyQd', 'PROPN', 'Destination'), ('UY', 'PROPN', 'Destination')]\n",
      "-------\n",
      "[('I', 'PRON', ''), ('want', 'VERB', ''), ('Unknown', 'PART', ''), ('go', 'VERB', ''), ('to', 'ADP', ''), ('work', 'NOUN', '')]\n",
      "-------\n",
      "[('Unknown', 'PRON', ''), ('want', 'VERB', ''), ('to', 'PART', ''), ('navigate', 'VERB', ''), ('to', 'ADP', ''), ('GXA9', 'PROPN', 'Destination'), ('YYql', 'PROPN', 'Destination'), ('Ca', 'PROPN', 'Destination'), ('office', 'NOUN', '')]\n",
      "-------\n",
      "[('I', 'PRON', ''), ('want', 'VERB', ''), ('to', 'PART', ''), ('navigate', 'VERB', ''), ('to', 'ADP', ''), ('Unknown', 'PROPN', 'Destination')]\n",
      "-------\n",
      "[('I', 'PRON', ''), ('want', 'VERB', ''), ('to', 'PART', ''), ('navigate', 'VERB', ''), ('to', 'ADP', ''), ('my', 'PRON', ''), ('Unknown', 'NOUN', ''), (\"'s\", 'PART', ''), ('school', 'NOUN', '')]\n",
      "-------\n",
      "[('I', 'PRON', ''), ('want', 'VERB', ''), ('to', 'PART', ''), ('navigate', 'VERB', ''), ('to', 'ADP', ''), ('my', 'PRON', ''), ('kid', 'NOUN', ''), (\"'s\", 'PART', ''), ('school', 'NOUN', '')]\n",
      "-------\n",
      "[('I', 'PRON', ''), ('want', 'VERB', ''), ('to', 'PART', ''), ('navigate', 'VERB', ''), ('to', 'ADP', ''), ('my', 'PRON', ''), ('kids', 'NOUN', ''), (\"'\", 'PART', ''), ('Unknown', 'NOUN', '')]\n",
      "-------\n",
      "[('I', 'PRON', ''), ('want', 'VERB', ''), ('to', 'PART', ''), ('navigate', 'VERB', ''), ('to', 'ADP', ''), ('my', 'PRON', ''), ('Unknown', 'NOUN', '')]\n",
      "-------\n",
      "[('Unknown', 'PRON', ''), ('want', 'VERB', ''), ('Unknown', 'PART', ''), ('navigate', 'VERB', ''), ('to', 'ADP', ''), ('my', 'PRON', ''), ('parents', 'NOUN', ''), (\"'\", 'PART', ''), ('place', 'NOUN', '')]\n",
      "-------\n",
      "[('I', 'PRON', ''), ('want', 'VERB', ''), ('to', 'PART', ''), ('navigate', 'VERB', ''), ('to', 'ADP', ''), ('my', 'PRON', ''), ('place', 'NOUN', '')]\n",
      "-------\n",
      "[('I', 'PRON', ''), ('want', 'VERB', ''), ('to', 'PART', ''), ('navigate', 'VERB', ''), ('Unknown', 'ADP', ''), ('the', 'DET', ''), ('Unknown', 'ADJ', ''), ('Unknown', 'PROPN', 'Destination')]\n",
      "-------\n",
      "[('I', 'PRON', ''), ('got', 'VERB', ''), ('to', 'PART', ''), ('get', 'AUX', ''), ('directions', 'NOUN', ''), ('Unknown', 'ADV', '')]\n",
      "-------\n",
      "[('I', 'PRON', ''), ('got', 'VERB', ''), ('to', 'PART', ''), ('get', 'AUX', ''), ('directions', 'NOUN', ''), ('to', 'ADP', ''), ('Jb', 'PROPN', 'Destination'), ('0v', 'PROPN', 'Destination'), ('R5', 'PROPN', 'Destination'), ('fB', 'PROPN', 'Destination'), ('sw', 'PROPN', 'Destination')]\n",
      "-------\n",
      "None\n",
      "-------\n"
     ]
    }
   ],
   "source": [
    "for group in yield_sentence():\n",
    "    print(group)\n",
    "    print(\"-------\")"
   ]
  },
  {
   "cell_type": "code",
   "execution_count": 131,
   "metadata": {},
   "outputs": [],
   "source": [
    "max_len = 75\n",
    "word2idx = {w: i + 1 for i, w in enumerate(words)}\n",
    "tag2idx = {t: i for i, t in enumerate(tags)}\n",
    "pos2idx = {p: i for i, p in enumerate(pos)}\n"
   ]
  },
  {
   "cell_type": "code",
   "execution_count": 132,
   "metadata": {},
   "outputs": [
    {
     "data": {
      "text/plain": [
       "12"
      ]
     },
     "execution_count": 132,
     "metadata": {},
     "output_type": "execute_result"
    }
   ],
   "source": [
    "word2idx[\"directions\"]"
   ]
  },
  {
   "cell_type": "code",
   "execution_count": 133,
   "metadata": {},
   "outputs": [
    {
     "data": {
      "text/plain": [
       "{'VERB': 0,\n",
       " 'PUNCT': 1,\n",
       " 'ADV': 2,\n",
       " 'AUX': 3,\n",
       " 'NUM': 4,\n",
       " 'DET': 5,\n",
       " 'ADP': 6,\n",
       " 'ADJ': 7,\n",
       " 'PRON': 8,\n",
       " 'PART': 9,\n",
       " 'PROPN': 10,\n",
       " 'NOUN': 11,\n",
       " 'BLANK': 12}"
      ]
     },
     "execution_count": 133,
     "metadata": {},
     "output_type": "execute_result"
    }
   ],
   "source": [
    "tag2idx[\"\"]\n",
    "pos2idx"
   ]
  },
  {
   "cell_type": "code",
   "execution_count": 134,
   "metadata": {},
   "outputs": [],
   "source": [
    "from keras.preprocessing.sequence import pad_sequences\n",
    "X = [[word2idx.get(w[0],word2idx[\"Unknown\"]) for w in s] for s in sentences]\n",
    "X_pos = [[pos2idx.get(w[1]) for w in s] for s in sentences]"
   ]
  },
  {
   "cell_type": "code",
   "execution_count": 135,
   "metadata": {},
   "outputs": [],
   "source": [
    "X = pad_sequences(maxlen=max_len, sequences=X, padding=\"post\", value=n_words-1)\n",
    "X_pos = pad_sequences(maxlen=max_len, sequences=X_pos, padding=\"post\", value=pos2idx[\"BLANK\"])\n",
    "# print(X.shape)\n",
    "# print(X_pos.shape)\n",
    "\n",
    "# X = np.stack((X,X_pos))\n",
    "# print(X.shape)\n",
    "# X = np.reshape(X,[123,2,75])\n",
    "# print(X.shape)"
   ]
  },
  {
   "cell_type": "code",
   "execution_count": 136,
   "metadata": {},
   "outputs": [],
   "source": [
    "y = [[tag2idx[w[2]] for w in s] for s in sentences]"
   ]
  },
  {
   "cell_type": "code",
   "execution_count": 137,
   "metadata": {},
   "outputs": [],
   "source": [
    "y = pad_sequences(maxlen=max_len, sequences=y, padding=\"post\", value=tag2idx[\"\"])\n"
   ]
  },
  {
   "cell_type": "code",
   "execution_count": 138,
   "metadata": {},
   "outputs": [],
   "source": [
    "from keras.utils import to_categorical"
   ]
  },
  {
   "cell_type": "code",
   "execution_count": 139,
   "metadata": {},
   "outputs": [],
   "source": [
    "y = [to_categorical(i, num_classes=n_tags) for i in y]"
   ]
  },
  {
   "cell_type": "code",
   "execution_count": 140,
   "metadata": {},
   "outputs": [],
   "source": [
    "from sklearn.model_selection import train_test_split"
   ]
  },
  {
   "cell_type": "code",
   "execution_count": 141,
   "metadata": {},
   "outputs": [],
   "source": [
    "X_tr, X_te, y_tr, y_te, X_pos_tr, X_pos_te = train_test_split(X, y, X_pos, test_size=0.1)"
   ]
  },
  {
   "cell_type": "code",
   "execution_count": 142,
   "metadata": {},
   "outputs": [],
   "source": [
    "from keras.models import Model, Input\n",
    "from keras.layers import LSTM, Embedding, Dense, TimeDistributed, Dropout, Bidirectional\n",
    "from keras_contrib.layers import CRF\n",
    "import keras"
   ]
  },
  {
   "cell_type": "code",
   "execution_count": null,
   "metadata": {},
   "outputs": [],
   "source": [
    "GLOVE_DIR = \"\"\n",
    "def load_glove():\n",
    "    # load the whole embedding into memory\n",
    "    embeddings_index = dict()\n",
    "    f = open(self.GLOVE_DIR, encoding=\"utf8\")\n",
    "    words = []\n",
    "    for line in f:\n",
    "        values = line.split()\n",
    "        word = values[0]\n",
    "        words.append(word)\n",
    "        coefs = asarray(values[1:], dtype='float32')\n",
    "        embeddings_index[word] = coefs\n",
    "    f.close()\n",
    "\n",
    "    # create a weight matrix for words\n",
    "    embedding_matrix = np.zeros((len(embeddings_index)+1, 200))\n",
    "    for i in range(len(words)):\n",
    "        embedding_vector = embeddings_index.get(words[i])\n",
    "        if embedding_vector is not None:\n",
    "            embedding_matrix[i] = embedding_vector\n",
    "\n",
    "\n",
    "    print('Loaded %s word vectors.' % len(embedding_matrix))\n",
    "    return words, embedding_matrix\n",
    "\n",
    "words, embedding_matrix = load_glove()"
   ]
  },
  {
   "cell_type": "code",
   "execution_count": 143,
   "metadata": {},
   "outputs": [],
   "source": [
    "# input = Input(shape=(max_len,))\n",
    "# model = Embedding(input_dim=n_words + 1, output_dim=20,\n",
    "#                   input_length=max_len)(input)  # 20-dim embedding\n",
    "# model = Bidirectional(LSTM(units=50, return_sequences=True,\n",
    "#                            recurrent_dropout=0.1))(model)  # variational biLSTM\n",
    "# model = TimeDistributed(Dense(50, activation=\"relu\"))(model)  # a dense layer as suggested by neuralNer\n",
    "# crf = CRF(n_tags)  # CRF layer\n",
    "# out = crf(model)  # output\n",
    "\n",
    "\n",
    "input = Input(shape=(None,))\n",
    "glove_emb = Embedding(len(words_list) + 1, 200, weights=[embedding_matrix], trainable=False)(input)\n",
    "\n",
    "\n",
    "# input = Input(shape=(max_len,))\n",
    "# word_emb = Embedding(input_dim=n_words + 1, output_dim=20,\n",
    "# input_length=max_len)(input) # 20-dim embedding\n",
    "\n",
    "pos_input = Input(shape=(max_len,))\n",
    "pos_emb = Embedding(input_dim= len(pos) , output_dim=10,\n",
    "input_length=max_len)(pos_input)\n",
    "\n",
    "modified_input = keras.layers.concatenate([glove_emb, pos_emb])\n",
    "\n",
    "model_1 = Bidirectional(LSTM(units=50, return_sequences=True,\n",
    "recurrent_dropout=0.1))(modified_input)\n",
    "\n",
    "model = TimeDistributed(Dense(50, activation=\"relu\"))(model_1)  # a dense layer as suggested by neuralNer\n",
    "crf = CRF(n_tags)  # CRF layer\n",
    "out = crf(model)  # output\n",
    "\n"
   ]
  },
  {
   "cell_type": "code",
   "execution_count": 144,
   "metadata": {},
   "outputs": [],
   "source": [
    "model = Model([input,pos_input], out)"
   ]
  },
  {
   "cell_type": "code",
   "execution_count": 145,
   "metadata": {},
   "outputs": [
    {
     "name": "stderr",
     "output_type": "stream",
     "text": [
      "/home/premraj/anaconda3/lib/python3.7/site-packages/keras_contrib/layers/crf.py:346: UserWarning: CRF.loss_function is deprecated and it might be removed in the future. Please use losses.crf_loss instead.\n",
      "  warnings.warn('CRF.loss_function is deprecated '\n",
      "/home/premraj/anaconda3/lib/python3.7/site-packages/keras_contrib/layers/crf.py:353: UserWarning: CRF.accuracy is deprecated and it might be removed in the future. Please use metrics.crf_accuracy\n",
      "  warnings.warn('CRF.accuracy is deprecated and it '\n"
     ]
    }
   ],
   "source": [
    "model.compile(optimizer=\"rmsprop\", loss=crf.loss_function, metrics=[crf.accuracy])"
   ]
  },
  {
   "cell_type": "code",
   "execution_count": 146,
   "metadata": {},
   "outputs": [
    {
     "name": "stdout",
     "output_type": "stream",
     "text": [
      "Model: \"model_5\"\n",
      "__________________________________________________________________________________________________\n",
      "Layer (type)                    Output Shape         Param #     Connected to                     \n",
      "==================================================================================================\n",
      "input_14 (InputLayer)           (None, 75)           0                                            \n",
      "__________________________________________________________________________________________________\n",
      "input_15 (InputLayer)           (None, 75)           0                                            \n",
      "__________________________________________________________________________________________________\n",
      "embedding_9 (Embedding)         (None, 75, 20)       5680        input_14[0][0]                   \n",
      "__________________________________________________________________________________________________\n",
      "embedding_10 (Embedding)        (None, 75, 10)       130         input_15[0][0]                   \n",
      "__________________________________________________________________________________________________\n",
      "concatenate_5 (Concatenate)     (None, 75, 30)       0           embedding_9[0][0]                \n",
      "                                                                 embedding_10[0][0]               \n",
      "__________________________________________________________________________________________________\n",
      "bidirectional_5 (Bidirectional) (None, 75, 100)      32400       concatenate_5[0][0]              \n",
      "__________________________________________________________________________________________________\n",
      "time_distributed_5 (TimeDistrib (None, 75, 50)       5050        bidirectional_5[0][0]            \n",
      "__________________________________________________________________________________________________\n",
      "crf_5 (CRF)                     (None, 75, 2)        110         time_distributed_5[0][0]         \n",
      "==================================================================================================\n",
      "Total params: 43,370\n",
      "Trainable params: 43,370\n",
      "Non-trainable params: 0\n",
      "__________________________________________________________________________________________________\n"
     ]
    }
   ],
   "source": [
    "model.summary()"
   ]
  },
  {
   "cell_type": "code",
   "execution_count": 147,
   "metadata": {},
   "outputs": [
    {
     "name": "stdout",
     "output_type": "stream",
     "text": [
      "(75,)\n"
     ]
    }
   ],
   "source": [
    "print(X_tr[0].shape)"
   ]
  },
  {
   "cell_type": "code",
   "execution_count": 149,
   "metadata": {},
   "outputs": [
    {
     "name": "stderr",
     "output_type": "stream",
     "text": [
      "/home/premraj/anaconda3/lib/python3.7/site-packages/tensorflow_core/python/framework/indexed_slices.py:424: UserWarning: Converting sparse IndexedSlices to a dense Tensor of unknown shape. This may consume a large amount of memory.\n",
      "  \"Converting sparse IndexedSlices to a dense Tensor of unknown shape. \"\n"
     ]
    },
    {
     "name": "stdout",
     "output_type": "stream",
     "text": [
      "Train on 99 samples, validate on 11 samples\n",
      "Epoch 1/60\n",
      "99/99 [==============================] - 2s 25ms/step - loss: 0.5908 - crf_viterbi_accuracy: 0.2332 - val_loss: 0.1997 - val_crf_viterbi_accuracy: 0.9418\n",
      "Epoch 2/60\n",
      "99/99 [==============================] - 0s 4ms/step - loss: 0.1333 - crf_viterbi_accuracy: 0.9567 - val_loss: 0.0906 - val_crf_viterbi_accuracy: 0.9455\n",
      "Epoch 3/60\n",
      "99/99 [==============================] - 0s 3ms/step - loss: 0.0750 - crf_viterbi_accuracy: 0.9613 - val_loss: 0.0836 - val_crf_viterbi_accuracy: 0.9455\n",
      "Epoch 4/60\n",
      "99/99 [==============================] - 0s 4ms/step - loss: 0.0685 - crf_viterbi_accuracy: 0.9603 - val_loss: 0.0769 - val_crf_viterbi_accuracy: 0.9455\n",
      "Epoch 5/60\n",
      "99/99 [==============================] - 0s 3ms/step - loss: 0.0653 - crf_viterbi_accuracy: 0.9573 - val_loss: 0.0753 - val_crf_viterbi_accuracy: 0.9455\n",
      "Epoch 6/60\n",
      "99/99 [==============================] - 0s 4ms/step - loss: 0.0625 - crf_viterbi_accuracy: 0.9583 - val_loss: 0.0715 - val_crf_viterbi_accuracy: 0.9455\n",
      "Epoch 7/60\n",
      "99/99 [==============================] - 0s 4ms/step - loss: 0.0600 - crf_viterbi_accuracy: 0.9576 - val_loss: 0.0702 - val_crf_viterbi_accuracy: 0.9455\n",
      "Epoch 8/60\n",
      "99/99 [==============================] - 0s 3ms/step - loss: 0.0579 - crf_viterbi_accuracy: 0.9634 - val_loss: 0.0698 - val_crf_viterbi_accuracy: 0.9455\n",
      "Epoch 9/60\n",
      "99/99 [==============================] - 0s 3ms/step - loss: 0.0556 - crf_viterbi_accuracy: 0.9597 - val_loss: 0.0654 - val_crf_viterbi_accuracy: 0.9455\n",
      "Epoch 10/60\n",
      "99/99 [==============================] - 0s 4ms/step - loss: 0.0528 - crf_viterbi_accuracy: 0.9650 - val_loss: 0.0628 - val_crf_viterbi_accuracy: 0.9455\n",
      "Epoch 11/60\n",
      "99/99 [==============================] - 0s 3ms/step - loss: 0.0503 - crf_viterbi_accuracy: 0.9634 - val_loss: 0.0594 - val_crf_viterbi_accuracy: 0.9527\n",
      "Epoch 12/60\n",
      "99/99 [==============================] - 0s 3ms/step - loss: 0.0477 - crf_viterbi_accuracy: 0.9696 - val_loss: 0.0604 - val_crf_viterbi_accuracy: 0.9455\n",
      "Epoch 13/60\n",
      "99/99 [==============================] - 0s 3ms/step - loss: 0.0439 - crf_viterbi_accuracy: 0.9635 - val_loss: 0.0544 - val_crf_viterbi_accuracy: 0.9588\n",
      "Epoch 14/60\n",
      "99/99 [==============================] - 0s 4ms/step - loss: 0.0420 - crf_viterbi_accuracy: 0.9726 - val_loss: 0.0509 - val_crf_viterbi_accuracy: 0.9576\n",
      "Epoch 15/60\n",
      "99/99 [==============================] - 0s 4ms/step - loss: 0.0367 - crf_viterbi_accuracy: 0.9723 - val_loss: 0.0446 - val_crf_viterbi_accuracy: 0.9612\n",
      "Epoch 16/60\n",
      "99/99 [==============================] - 0s 3ms/step - loss: 0.0335 - crf_viterbi_accuracy: 0.9787 - val_loss: 0.0468 - val_crf_viterbi_accuracy: 0.9576\n",
      "Epoch 17/60\n",
      "99/99 [==============================] - 0s 3ms/step - loss: 0.0302 - crf_viterbi_accuracy: 0.9833 - val_loss: 0.0420 - val_crf_viterbi_accuracy: 0.9576\n",
      "Epoch 18/60\n",
      "99/99 [==============================] - 0s 4ms/step - loss: 0.0265 - crf_viterbi_accuracy: 0.9885 - val_loss: 0.0405 - val_crf_viterbi_accuracy: 0.9576\n",
      "Epoch 19/60\n",
      "99/99 [==============================] - 0s 3ms/step - loss: 0.0237 - crf_viterbi_accuracy: 0.9879 - val_loss: 0.0341 - val_crf_viterbi_accuracy: 0.9636\n",
      "Epoch 20/60\n",
      "99/99 [==============================] - 0s 3ms/step - loss: 0.0200 - crf_viterbi_accuracy: 0.9917 - val_loss: 0.0361 - val_crf_viterbi_accuracy: 0.9576\n",
      "Epoch 21/60\n",
      "99/99 [==============================] - 0s 4ms/step - loss: 0.0184 - crf_viterbi_accuracy: 0.9931 - val_loss: 0.0267 - val_crf_viterbi_accuracy: 0.9794\n",
      "Epoch 22/60\n",
      "99/99 [==============================] - 0s 3ms/step - loss: 0.0153 - crf_viterbi_accuracy: 0.9957 - val_loss: 0.0189 - val_crf_viterbi_accuracy: 0.9964\n",
      "Epoch 23/60\n",
      "99/99 [==============================] - 0s 3ms/step - loss: 0.0130 - crf_viterbi_accuracy: 0.9968 - val_loss: 0.0198 - val_crf_viterbi_accuracy: 0.9927\n",
      "Epoch 24/60\n",
      "99/99 [==============================] - 0s 4ms/step - loss: 0.0106 - crf_viterbi_accuracy: 0.9970 - val_loss: 0.0178 - val_crf_viterbi_accuracy: 0.9927\n",
      "Epoch 25/60\n",
      "99/99 [==============================] - 0s 4ms/step - loss: 0.0085 - crf_viterbi_accuracy: 0.9977 - val_loss: 0.0127 - val_crf_viterbi_accuracy: 0.9976\n",
      "Epoch 26/60\n",
      "99/99 [==============================] - 0s 4ms/step - loss: 0.0068 - crf_viterbi_accuracy: 0.9955 - val_loss: 0.0236 - val_crf_viterbi_accuracy: 0.9806\n",
      "Epoch 27/60\n",
      "99/99 [==============================] - 0s 3ms/step - loss: 0.0073 - crf_viterbi_accuracy: 0.9965 - val_loss: 0.0063 - val_crf_viterbi_accuracy: 0.9976\n",
      "Epoch 28/60\n",
      "99/99 [==============================] - 0s 3ms/step - loss: 0.0036 - crf_viterbi_accuracy: 0.9968 - val_loss: 0.0050 - val_crf_viterbi_accuracy: 0.9976\n",
      "Epoch 29/60\n",
      "99/99 [==============================] - 0s 4ms/step - loss: 0.0033 - crf_viterbi_accuracy: 0.9976 - val_loss: 0.0062 - val_crf_viterbi_accuracy: 0.9976\n",
      "Epoch 30/60\n",
      "99/99 [==============================] - 0s 3ms/step - loss: 0.0022 - crf_viterbi_accuracy: 0.9982 - val_loss: 0.0026 - val_crf_viterbi_accuracy: 0.9988\n",
      "Epoch 31/60\n",
      "99/99 [==============================] - 0s 3ms/step - loss: 4.9312e-04 - crf_viterbi_accuracy: 0.9985 - val_loss: 0.0013 - val_crf_viterbi_accuracy: 0.9988\n",
      "Epoch 32/60\n",
      "99/99 [==============================] - 0s 3ms/step - loss: -4.9232e-04 - crf_viterbi_accuracy: 0.9990 - val_loss: 7.8125e-05 - val_crf_viterbi_accuracy: 1.0000\n",
      "Epoch 33/60\n",
      "99/99 [==============================] - 0s 4ms/step - loss: -0.0014 - crf_viterbi_accuracy: 0.9986 - val_loss: 3.9003e-04 - val_crf_viterbi_accuracy: 0.9988\n",
      "Epoch 34/60\n",
      "99/99 [==============================] - 0s 4ms/step - loss: -9.7253e-04 - crf_viterbi_accuracy: 0.9992 - val_loss: 7.1444e-04 - val_crf_viterbi_accuracy: 0.9988\n",
      "Epoch 35/60\n",
      "99/99 [==============================] - 0s 3ms/step - loss: -0.0013 - crf_viterbi_accuracy: 0.9992 - val_loss: -0.0024 - val_crf_viterbi_accuracy: 1.0000\n",
      "Epoch 36/60\n",
      "99/99 [==============================] - 0s 4ms/step - loss: -0.0032 - crf_viterbi_accuracy: 0.9998 - val_loss: -0.0028 - val_crf_viterbi_accuracy: 1.0000\n",
      "Epoch 37/60\n",
      "99/99 [==============================] - 0s 4ms/step - loss: -0.0033 - crf_viterbi_accuracy: 0.9997 - val_loss: -0.0031 - val_crf_viterbi_accuracy: 1.0000\n",
      "Epoch 38/60\n",
      "99/99 [==============================] - 0s 4ms/step - loss: -0.0035 - crf_viterbi_accuracy: 0.9998 - val_loss: -0.0033 - val_crf_viterbi_accuracy: 1.0000\n",
      "Epoch 39/60\n",
      "99/99 [==============================] - 0s 4ms/step - loss: -0.0037 - crf_viterbi_accuracy: 0.9999 - val_loss: -0.0036 - val_crf_viterbi_accuracy: 1.0000\n",
      "Epoch 40/60\n",
      "99/99 [==============================] - 0s 4ms/step - loss: -0.0040 - crf_viterbi_accuracy: 0.9999 - val_loss: -0.0039 - val_crf_viterbi_accuracy: 1.0000\n",
      "Epoch 41/60\n",
      "99/99 [==============================] - 0s 4ms/step - loss: -0.0043 - crf_viterbi_accuracy: 0.9999 - val_loss: -0.0038 - val_crf_viterbi_accuracy: 0.9988\n",
      "Epoch 42/60\n",
      "99/99 [==============================] - 0s 4ms/step - loss: -0.0038 - crf_viterbi_accuracy: 0.9996 - val_loss: -0.0025 - val_crf_viterbi_accuracy: 1.0000\n",
      "Epoch 43/60\n",
      "99/99 [==============================] - 0s 3ms/step - loss: -0.0040 - crf_viterbi_accuracy: 0.9985 - val_loss: -7.6423e-05 - val_crf_viterbi_accuracy: 1.0000\n",
      "Epoch 44/60\n",
      "99/99 [==============================] - 0s 3ms/step - loss: -0.0042 - crf_viterbi_accuracy: 0.9999 - val_loss: -0.0047 - val_crf_viterbi_accuracy: 1.0000\n",
      "Epoch 45/60\n",
      "99/99 [==============================] - 0s 4ms/step - loss: -0.0049 - crf_viterbi_accuracy: 1.0000 - val_loss: -0.0048 - val_crf_viterbi_accuracy: 1.0000\n",
      "Epoch 46/60\n",
      "99/99 [==============================] - 0s 4ms/step - loss: -0.0051 - crf_viterbi_accuracy: 0.9999 - val_loss: -0.0048 - val_crf_viterbi_accuracy: 1.0000\n",
      "Epoch 47/60\n",
      "99/99 [==============================] - 0s 4ms/step - loss: -0.0051 - crf_viterbi_accuracy: 0.9999 - val_loss: -0.0026 - val_crf_viterbi_accuracy: 1.0000\n",
      "Epoch 48/60\n",
      "99/99 [==============================] - 0s 4ms/step - loss: -0.0046 - crf_viterbi_accuracy: 0.9998 - val_loss: -0.0053 - val_crf_viterbi_accuracy: 1.0000\n",
      "Epoch 49/60\n",
      "99/99 [==============================] - 0s 4ms/step - loss: -0.0054 - crf_viterbi_accuracy: 0.9999 - val_loss: -0.0055 - val_crf_viterbi_accuracy: 1.0000\n",
      "Epoch 50/60\n"
     ]
    },
    {
     "name": "stdout",
     "output_type": "stream",
     "text": [
      "99/99 [==============================] - 0s 4ms/step - loss: -0.0054 - crf_viterbi_accuracy: 0.9999 - val_loss: -0.0054 - val_crf_viterbi_accuracy: 1.0000\n",
      "Epoch 51/60\n",
      "99/99 [==============================] - 0s 4ms/step - loss: -0.0055 - crf_viterbi_accuracy: 0.9999 - val_loss: -0.0056 - val_crf_viterbi_accuracy: 1.0000\n",
      "Epoch 52/60\n",
      "99/99 [==============================] - 0s 4ms/step - loss: -0.0054 - crf_viterbi_accuracy: 0.9999 - val_loss: -0.0057 - val_crf_viterbi_accuracy: 1.0000\n",
      "Epoch 53/60\n",
      "99/99 [==============================] - 0s 4ms/step - loss: -0.0056 - crf_viterbi_accuracy: 0.9999 - val_loss: -0.0055 - val_crf_viterbi_accuracy: 1.0000\n",
      "Epoch 54/60\n",
      "99/99 [==============================] - 0s 4ms/step - loss: -0.0058 - crf_viterbi_accuracy: 0.9999 - val_loss: -0.0057 - val_crf_viterbi_accuracy: 1.0000\n",
      "Epoch 55/60\n",
      "99/99 [==============================] - 0s 3ms/step - loss: -0.0059 - crf_viterbi_accuracy: 1.0000 - val_loss: -0.0022 - val_crf_viterbi_accuracy: 0.9988\n",
      "Epoch 56/60\n",
      "99/99 [==============================] - 0s 4ms/step - loss: -0.0056 - crf_viterbi_accuracy: 0.9999 - val_loss: -0.0060 - val_crf_viterbi_accuracy: 1.0000\n",
      "Epoch 57/60\n",
      "99/99 [==============================] - 0s 4ms/step - loss: -0.0058 - crf_viterbi_accuracy: 0.9999 - val_loss: -0.0061 - val_crf_viterbi_accuracy: 1.0000\n",
      "Epoch 58/60\n",
      "99/99 [==============================] - 0s 4ms/step - loss: -0.0060 - crf_viterbi_accuracy: 0.9999 - val_loss: -0.0060 - val_crf_viterbi_accuracy: 1.0000\n",
      "Epoch 59/60\n",
      "99/99 [==============================] - 0s 4ms/step - loss: -0.0062 - crf_viterbi_accuracy: 1.0000 - val_loss: -0.0061 - val_crf_viterbi_accuracy: 1.0000\n",
      "Epoch 60/60\n",
      "99/99 [==============================] - 0s 4ms/step - loss: -0.0062 - crf_viterbi_accuracy: 1.0000 - val_loss: -0.0062 - val_crf_viterbi_accuracy: 1.0000\n"
     ]
    }
   ],
   "source": [
    "history = model.fit([X_tr,X_pos_tr], np.array(y_tr), batch_size=32, epochs=60,\n",
    "                    validation_split=0.1, verbose=1)"
   ]
  },
  {
   "cell_type": "code",
   "execution_count": null,
   "metadata": {},
   "outputs": [],
   "source": [
    "from seqeval.metrics import precision_score, recall_score, f1_score, classification_report\n"
   ]
  },
  {
   "cell_type": "code",
   "execution_count": 116,
   "metadata": {},
   "outputs": [
    {
     "ename": "NameError",
     "evalue": "name 'X_te' is not defined",
     "output_type": "error",
     "traceback": [
      "\u001b[0;31m---------------------------------------------------------------------------\u001b[0m",
      "\u001b[0;31mNameError\u001b[0m                                 Traceback (most recent call last)",
      "\u001b[0;32m<ipython-input-116-7bdf1de780c3>\u001b[0m in \u001b[0;36m<module>\u001b[0;34m\u001b[0m\n\u001b[0;32m----> 1\u001b[0;31m \u001b[0mtest_pred\u001b[0m \u001b[0;34m=\u001b[0m \u001b[0mmodel\u001b[0m\u001b[0;34m.\u001b[0m\u001b[0mpredict\u001b[0m\u001b[0;34m(\u001b[0m\u001b[0mX_te\u001b[0m\u001b[0;34m,\u001b[0m \u001b[0mverbose\u001b[0m\u001b[0;34m=\u001b[0m\u001b[0;36m1\u001b[0m\u001b[0;34m)\u001b[0m\u001b[0;34m\u001b[0m\u001b[0;34m\u001b[0m\u001b[0m\n\u001b[0m",
      "\u001b[0;31mNameError\u001b[0m: name 'X_te' is not defined"
     ]
    }
   ],
   "source": [
    "test_pred = model.predict(X_te, verbose=1)"
   ]
  },
  {
   "cell_type": "code",
   "execution_count": null,
   "metadata": {},
   "outputs": [],
   "source": [
    "idx2tag = {i: w for w, i in tag2idx.items()}\n",
    "\n",
    "def pred2label(pred):\n",
    "    out = []\n",
    "    for pred_i in pred:\n",
    "        out_i = []\n",
    "        for p in pred_i:\n",
    "            p_i = np.argmax(p)\n",
    "            out_i.append(idx2tag[p_i].replace(\"PAD\", \"\"))\n",
    "        out.append(out_i)\n",
    "    return out\n",
    "    \n",
    "pred_labels = pred2label(test_pred)\n",
    "test_labels = pred2label(y_te)"
   ]
  },
  {
   "cell_type": "code",
   "execution_count": null,
   "metadata": {},
   "outputs": [],
   "source": [
    "print(test_labels)\n",
    "print(\"-----\")\n",
    "print(pred_labels)\n",
    "print(\"F1-score: {:.1%}\".format(f1_score(test_labels, pred_labels)))"
   ]
  },
  {
   "cell_type": "code",
   "execution_count": null,
   "metadata": {
    "scrolled": true
   },
   "outputs": [],
   "source": [
    "sentence = \"Take me to police station, quickly!\"\n",
    "entities_words = [\"police\",\"station\"]\n",
    "array = []\n",
    "doc = nlp(sentence)\n",
    "for token in doc:\n",
    "    text = token.text\n",
    "    print(text)\n",
    "    if token.text in entities_words:\n",
    "        tag = \"Destination\"\n",
    "    else:\n",
    "        tag = \"\"\n",
    "\n",
    "    array.append(tuple([token.text,token.pos_,tag]))\n",
    "print(array)\n",
    "X = [[word2idx.get(w[0],word2idx[\"Unknown\"]) for w in s] for s in [array]]\n",
    "print(X)\n",
    "X = pad_sequences(maxlen=max_len, sequences=X, padding=\"post\", value=n_words-1)\n",
    "y = [[tag2idx[w[2]] for w in s] for s in [array]]\n",
    "y = pad_sequences(maxlen=max_len, sequences=y, padding=\"post\", value=tag2idx[\"\"])\n",
    "y = [to_categorical(i, num_classes=n_tags) for i in y]\n",
    "#print(y)\n",
    "test_pred = model.predict(X, verbose=1)\n",
    "pred_labels = pred2label(test_pred)\n",
    "test_labels = pred2label(y)\n",
    "print(test_labels,pred_labels)\n",
    "#print(pred_labels)"
   ]
  },
  {
   "cell_type": "code",
   "execution_count": null,
   "metadata": {},
   "outputs": [],
   "source": [
    "print(word2idx)"
   ]
  },
  {
   "cell_type": "code",
   "execution_count": null,
   "metadata": {},
   "outputs": [],
   "source": []
  },
  {
   "cell_type": "code",
   "execution_count": null,
   "metadata": {},
   "outputs": [],
   "source": []
  },
  {
   "cell_type": "code",
   "execution_count": null,
   "metadata": {},
   "outputs": [],
   "source": []
  },
  {
   "cell_type": "code",
   "execution_count": null,
   "metadata": {},
   "outputs": [],
   "source": []
  }
 ],
 "metadata": {
  "kernelspec": {
   "display_name": "Python 3",
   "language": "python",
   "name": "python3"
  },
  "language_info": {
   "codemirror_mode": {
    "name": "ipython",
    "version": 3
   },
   "file_extension": ".py",
   "mimetype": "text/x-python",
   "name": "python",
   "nbconvert_exporter": "python",
   "pygments_lexer": "ipython3",
   "version": "3.7.3"
  }
 },
 "nbformat": 4,
 "nbformat_minor": 2
}
